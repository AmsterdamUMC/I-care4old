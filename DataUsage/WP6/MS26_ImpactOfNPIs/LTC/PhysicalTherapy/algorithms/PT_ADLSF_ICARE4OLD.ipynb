{
 "cells": [
  {
   "cell_type": "markdown",
   "id": "022a2832",
   "metadata": {},
   "source": [
    "# Causal Machine Learning for Treatment Effect Estimation"
   ]
  },
  {
   "cell_type": "code",
   "execution_count": 1,
   "id": "6d9749f9",
   "metadata": {},
   "outputs": [],
   "source": [
    "# import necessary libraries\n",
    "import pandas as pd\n",
    "import numpy as np\n",
    "import seaborn as sns\n",
    "import matplotlib.pyplot as plt\n",
    "import scipy.stats as stats\n",
    "\n",
    "#from sklearn.impute import KNNImputer\n",
    "from sklearn.model_selection import train_test_split, cross_val_score\n",
    "from sklearn.metrics import mean_squared_error, mean_absolute_error, r2_score\n",
    "from sklearn.cluster import KMeans\n",
    "\n",
    "from sklearn.preprocessing import Normalizer\n",
    "\n",
    "# get standard models\n",
    "from sklearn.linear_model import LogisticRegression\n",
    "from sklearn.linear_model import LinearRegression\n",
    "from sklearn.linear_model import Ridge\n",
    "from sklearn.linear_model import Lasso\n",
    "from sklearn.tree import DecisionTreeRegressor\n",
    "from sklearn.ensemble import RandomForestRegressor\n",
    "from sklearn.ensemble import GradientBoostingRegressor\n",
    "from sklearn.ensemble import AdaBoostRegressor\n",
    "from sklearn.ensemble import ExtraTreesRegressor\n",
    "from sklearn.ensemble import BaggingRegressor\n",
    "from sklearn.ensemble import VotingRegressor\n",
    "from sklearn.ensemble import RandomForestClassifier\n",
    "from sklearn.neural_network import MLPRegressor\n",
    "\n",
    "from sources.doubly_robust import doubly_robust\n",
    "from sources.models.TARNet import TARnetICFR\n",
    "from significance import *\n",
    "\n",
    "import pickle\n",
    "import torch\n",
    "import torch.nn as nn\n",
    "import torch.optim as optim\n",
    "from auxiliary_propensity_on_outcomet0_without_print import data_processing, doubly_robust, visualise, visualise_ites, impute_missing_values_knn, run_model, undersample, full_contra_indications_tracker, value_based_contra_indications_tracker, period_decomposition\n",
    "\n",
    "from icodes import encoding\n",
    "\n",
    "# from datetime import timedelta\n",
    "import warnings \n",
    "warnings.filterwarnings('ignore')"
   ]
  },
  {
   "cell_type": "markdown",
   "id": "cf6bccc9",
   "metadata": {},
   "source": [
    "## 1. Introduction\n",
    "\n",
    "The purpose of this notebook is to provide and end-to-end description of the treatment effect estimation process. This notebook consists of three parts:\n",
    "\n",
    "1. **Data processing**: The first part is the data processing part. Here we basically prepare the data for the ML models.\n",
    "2. **Causal ML Models**: The second part of the notebook consists of a series of causal ML learning models. In particular, we use the causal meta-learning framework. \n",
    "3. **Adadptive Model**: The third part of the notebook is also a machine learning model. However, contrary to the models before, this one was developed by the VU team and allows for more control over the estimation proces. \n",
    "\n",
    "Please find below an overview of the steps we will go through. Note that the boxes do not correspond one-to-one to sections in the notebook, but the general flow is the same. "
   ]
  },
  {
   "cell_type": "markdown",
   "id": "32f80659",
   "metadata": {},
   "source": [
    "![alt text](images\\ModellingOverview.jpg)"
   ]
  },
  {
   "cell_type": "markdown",
   "id": "c3702ec1",
   "metadata": {},
   "source": [
    "## 1.a. Preliminaries \\& Design Choices\n",
    "\n",
    "We first want to get some preliminaries out of the way. In particular, we would like to make some specific **design choices** explicit. Below, we can set the following parameters, thereby modifying specific choices:\n",
    "\n",
    "- ``EXPOSURE_THRESHOLD``: The treatment is binary. However, how much treatment is provided can be changed with this variable. In essence, it determines the cut-off value. For instance, we can set it to 60 minutes in the case of physical therapy (in mins.). Then, patients with more then 60 minutes of PT will be assigned T=1, those below will be T=0.\n",
    "- ``PERIOD_MIN``: Minimal time period between baseline measurement and followup measurement. N.B. If this is set too low, the effect may not yet register. Too high and the effect may have faded out. \n",
    "- ``PERIOD_MAX``: Maximal time period between baseline measurement and followup measurement. N.B. If this is set too low, effect may not yet register. Too high and the effect may have faded out.  \n",
    "- ``REMOVE_MULTI_COL``: Whether or not to remove multicollinear columns. \n",
    "- ``CORRELATION_THRESHOLD``: Threshold for removing collinear columns. \n",
    "- ``UNDERSAMPLE``: Some models perform better when undersampling the minority class. For instance, if there are 1000 cases of patients with PT (T=0) and only 150 with PT (T=1), setting this to ``True`` ensures that 150 patients are sampled from PT (T=0), resulting in 300 observations in total.\n",
    "- ``IMPUTE``: Whether or not to impute missing *covariate* values.\n",
    "- ``PROPENSITY``: Whether or not to add a propensity score to the model.\n",
    "- ``CLEAN_COMPARE``: By default (when this is set to ``False``), the data processing script assigns any observations below ``EXPOSURE_THRESHOLD`` to the control group and  any observation above ``EXPOSURE_THRESHOLD`` to treated. Setting this parameter to ``True`` creates a scenario where *only* observation that did not get any treatment are assigned to the control group. For instance, in the case of PT, we would have a control group of patients getting only 0 mins. of PT and a treated group of patients with, say, more than 60 mins. of PT.\n",
    "- ``TREATMENT``: Name of the treatment variable.\n",
    "- ``TARGET``: Name of the target variable."
   ]
  },
  {
   "cell_type": "code",
   "execution_count": 2,
   "id": "90862091",
   "metadata": {},
   "outputs": [],
   "source": [
    "# set seed\n",
    "np.random.seed(42)\n",
    "\n",
    "# set the exposure threshold for binary dichtomization. In the case of PT, 60 minutes of PT at least. \n",
    "EXPOSURE_THRESHOLD = 30#30 # SET TO 30\n",
    "\n",
    "# set the period between observations. We only consider the effects between 120 and 240 days after exposure. \n",
    "PERIOD_MIN = 90 # /MAYBE CHECK WITH 60? 160\n",
    "PERIOD_MAX = 210 # CHECK WITH 120 DAYS 380\n",
    "\n",
    "# if we want to move multicollinear columns, set to True\n",
    "REMOVE_MULTI_COL = True\n",
    "\n",
    "# set the threshold for multicollinearity drops \n",
    "CORRELATION_THRESHOLD = 0.6\n",
    "\n",
    "# set to True if we want to undersample\n",
    "UNDERSAMPLE = False #False #True\n",
    "\n",
    "# set to True if we want to impute missing values\n",
    "IMPUTE = True\n",
    "\n",
    "PROPENSITY = True\n",
    "\n",
    "# clean compare (to be used if only > threshold AND treatment = 0)\n",
    "CLEAN_COMPARE = True\n",
    "\n",
    "TREATMENT = 'in3eb' # (minutes or days of physical therapy)\n",
    "OUTCOME = 'sADLSF' "
   ]
  },
  {
   "cell_type": "markdown",
   "id": "1f092037",
   "metadata": {},
   "source": [
    "Having set the desired parameters, we will now read in the data."
   ]
  },
  {
   "cell_type": "code",
   "execution_count": 3,
   "id": "d77ac00e",
   "metadata": {},
   "outputs": [
    {
     "name": "stdout",
     "output_type": "stream",
     "text": [
      "Treatment before processing 1293\n"
     ]
    }
   ],
   "source": [
    "# file = \"data/dutch_LTCF_all.csv\"\n",
    "\n",
    "\n",
    "import pyreadstat\n",
    "# df,meta = pyreadstat.read_sav(\"C:/Users/Paulina.Wisniewska/Desktop/LTCF BE NL meds and icd codes 05022024.sav\")\n",
    "# read data\n",
    "df = pd.read_csv(\"C:/Users/Paulina.Wisniewska/Desktop/df.csv\",engine=\"python\", encoding = 'cp1252')\n",
    "print(f\"Treatment before processing {len(df[df[TREATMENT]>EXPOSURE_THRESHOLD])}\")\n"
   ]
  },
  {
   "cell_type": "markdown",
   "id": "2f5c38f8",
   "metadata": {},
   "source": [
    "## Part 2. Data Processing\n",
    "\n",
    "In this first part, we will carry out the data processsing. In particular, we would like to select the relevant covariates, make a pre-selection based on patient characteristics (e.g. whether or not contra-indications are present), select the relevant period of observation, impute missing *coviariate* values and, lastly, handle any multi-collinearity. "
   ]
  },
  {
   "cell_type": "markdown",
   "id": "2dbdc92a",
   "metadata": {},
   "source": [
    "Next, we define the lists of covariates, clinical indications and contra-indications"
   ]
  },
  {
   "cell_type": "code",
   "execution_count": 4,
   "id": "67efc02e",
   "metadata": {},
   "outputs": [],
   "source": [
    "df= df[df['sAGE_cat']>=60]\n"
   ]
  },
  {
   "cell_type": "code",
   "execution_count": 5,
   "id": "5d20aa51",
   "metadata": {},
   "outputs": [],
   "source": [
    "\n",
    "clinical_contra = ['ij6c','ij6a', 'ij6b' , 'ij2r', 'ij2d','ij2c','ij2a','ij2b', 'ii1e', \n",
    "                       'ii1h' ] \n",
    "\n",
    "\n",
    "confounders = ['sAGE_cat','sDRS','sCPS','ih1', 'ih3', 'il7','ig2b', 'ig2f', 'ig2j', 'ig2h'] #  \n",
    "\n",
    "relevant_vars = ['A3', 'ID', TREATMENT, OUTCOME, 'iA2']\n",
    "\n",
    "\n"
   ]
  },
  {
   "cell_type": "code",
   "execution_count": 6,
   "id": "97ff7b0c",
   "metadata": {},
   "outputs": [],
   "source": [
    "def recode(value):\n",
    "    if value  == 0:\n",
    "        return 0 \n",
    "    elif 1<= value<=2 :\n",
    "        return 1\n",
    "    elif 3<= value<=4 :\n",
    "        return 2\n",
    "    elif pd.isna(value):\n",
    "        return np.nan\n",
    "    else:\n",
    "        return 3\n",
    "    \n",
    "df[['sCPS']] = df[['sCPS']].applymap(recode)\n"
   ]
  },
  {
   "cell_type": "code",
   "execution_count": 7,
   "id": "615a8a27",
   "metadata": {},
   "outputs": [
    {
     "name": "stdout",
     "output_type": "stream",
     "text": [
      "(6926, 675)\n"
     ]
    }
   ],
   "source": [
    "df = df.dropna(subset=['ij2a'])\n",
    "print(df.shape)\n",
    "to_discrete = lambda x: 1 if x >= 1 else 0\n",
    "df['ij2a'] = df['ij2a'].apply(to_discrete)"
   ]
  },
  {
   "cell_type": "code",
   "execution_count": 8,
   "id": "7faa8730",
   "metadata": {},
   "outputs": [],
   "source": [
    "to_discrete = lambda x: 1 if 60<=x <=79  else 2 if 80<=x <=89 else 3 if x>=90 else None\n",
    "df['sAGE_cat'] = df['sAGE_cat'].apply(to_discrete)"
   ]
  },
  {
   "cell_type": "markdown",
   "id": "9547c109",
   "metadata": {},
   "source": [
    "Please note that you can get the meaning of the icodes by running the ``encoding``-function below. You only need to change the name of the ``code`` variable."
   ]
  },
  {
   "cell_type": "code",
   "execution_count": 9,
   "id": "27880938",
   "metadata": {},
   "outputs": [
    {
     "name": "stdout",
     "output_type": "stream",
     "text": [
      "Bowel continence\n"
     ]
    }
   ],
   "source": [
    "code = 'ih3'\n",
    "print(encoding[(code).lower()])"
   ]
  },
  {
   "cell_type": "markdown",
   "id": "72a19605",
   "metadata": {},
   "source": [
    "### 2.a. Indications"
   ]
  },
  {
   "cell_type": "markdown",
   "id": "da0f77f4",
   "metadata": {},
   "source": [
    "### 2a. Contra-indications\n",
    "\n",
    "Next, the first thing we want to do is to drop patients that have a contra-indication for the treatment in questions. In the code below, we specify the contra-indications. "
   ]
  },
  {
   "cell_type": "markdown",
   "id": "1de53fd0",
   "metadata": {},
   "source": [
    "Finally, for some contra-indications we want to exclude based on particular values only. We can do this by running the script below. "
   ]
  },
  {
   "cell_type": "markdown",
   "id": "4137c386",
   "metadata": {},
   "source": [
    "Having processed the contra-indications, we can now select the necessary columns in the data."
   ]
  },
  {
   "cell_type": "code",
   "execution_count": 10,
   "id": "586b484e",
   "metadata": {},
   "outputs": [],
   "source": [
    "\n",
    "df = df[confounders+ clinical_contra+relevant_vars ]   #list(clinical_indications.keys())+\n"
   ]
  },
  {
   "cell_type": "markdown",
   "id": "aa1cdf9c",
   "metadata": {},
   "source": [
    "### 2.b. Baseline-Followup Selection\n",
    "\n",
    "Important to note here is that in this particular setup, our goal is to **estimate the outcome value at follow up from the covariates *and* outcome variable at baseline**. \n",
    "\n",
    "Below you find a schematic depiction of how we want to process the data. As you can see, there are two timelines:\n",
    "\n",
    "1. **Timeline 1**: Naturally processes from baseline to follow up over time, without any intervention in the meantme.\n",
    "2. **Timeline 2**: Same as before, but with the difference that not an intervention has take place at some point in time between baseline and follow up. "
   ]
  },
  {
   "cell_type": "markdown",
   "id": "3a5c28d1",
   "metadata": {},
   "source": [
    "![alt text](TimelineModels.jpg)"
   ]
  },
  {
   "cell_type": "markdown",
   "id": "76f61916",
   "metadata": {},
   "source": [
    "Our goal is therefore to, *for each observation*, take the values (**pre-treatment** covariates, outcome on baseline $y_{t}$) of baseline, and the  values at follow up (outcome on follow up $y_{t+1}$) and store it in a convenient manner. Important to note is that as patient may have *several* of these baseline-followup recors where sometimes an intervention may have occured and sometimes not. We decided to do this to, again, safe as much data as possible. \n",
    "\n",
    "Let us begin by first counting the number of assesments. We do this, because it is not possible to include patients without followup. "
   ]
  },
  {
   "cell_type": "code",
   "execution_count": 11,
   "id": "6297ed64",
   "metadata": {},
   "outputs": [],
   "source": [
    "# get number of assesments\n",
    "counter = lambda x: len(df[df['ID']==x])\n",
    "\n",
    "# count number of items\n",
    "df['num_assesments1'] =df['ID'].apply(counter)"
   ]
  },
  {
   "cell_type": "code",
   "execution_count": 12,
   "id": "e7c50c1f",
   "metadata": {},
   "outputs": [
    {
     "name": "stdout",
     "output_type": "stream",
     "text": [
      "6920 observations remaining.\n"
     ]
    }
   ],
   "source": [
    "# get number of assesments higher than 1\n",
    "df = df[df['num_assesments1']>=2]\n",
    "\n",
    "\n",
    "print(f'{len(df)} observations remaining.')\n",
    "# print(f\"Treatment after selecting on number of assesments {len(df[df[TREATMENT]>EXPOSURE_THRESHOLD])}\")"
   ]
  },
  {
   "cell_type": "markdown",
   "id": "72f30a38",
   "metadata": {},
   "source": [
    "In the code below, we want to process the data a bit further. First, we want to make sure that the date columns (``iA9``) is in the correct format. Then we want to order based on ID and date. Also, we want to drop missing dates (if there are any) and drop any duplicated observations. Lastly, we want to make sure that the outcome is in the right format (i.e. a ``float``)."
   ]
  },
  {
   "cell_type": "code",
   "execution_count": 13,
   "id": "69f4be75",
   "metadata": {},
   "outputs": [],
   "source": [
    "# convert column to datetime \n",
    "df['A3'] = pd.to_datetime(df['A3']) \n",
    "# sort values by ID and date\n",
    "df = df.sort_values(by = ['ID', 'A3'])\n",
    "# drop nans on dates of assesment\n",
    "df = df[df['A3'].isna()==False]\n",
    "# drop duplicated values\n",
    "df = df.drop_duplicates()\n",
    "df[OUTCOME] = df[OUTCOME].astype(float)"
   ]
  },
  {
   "cell_type": "markdown",
   "id": "43866522",
   "metadata": {},
   "source": [
    "### 2.c Drop Duplicated Values\n",
    "\n",
    "Next, because there may be two assesments on the same date, we also want to drop those (regardless of the reason as inspecting that is beyond the scope of this project notebook). "
   ]
  },
  {
   "cell_type": "code",
   "execution_count": 14,
   "id": "46d2ab96",
   "metadata": {},
   "outputs": [],
   "source": [
    "# Group by 'Clientid' and then apply the duplicate check on 'iA9' within each group\n",
    "duplicated_indices = df.groupby('ID').apply(\n",
    "    lambda x: x[x['A3'].duplicated()].index).explode()\n",
    "\n",
    "# Drop NaN values from the index list if they exist\n",
    "duplicated_indices = duplicated_indices.dropna()\n",
    "\n",
    "# Convert the result into a list if it's not empty\n",
    "if not duplicated_indices.empty:\n",
    "    duplicated_indices = duplicated_indices.tolist()\n",
    "\n",
    "    # Drop the duplicates using the list of indices\n",
    "    df = df.drop(index=duplicated_indices)"
   ]
  },
  {
   "cell_type": "markdown",
   "id": "ac32c7d6",
   "metadata": {},
   "source": [
    "### 2.d. Clean Compare\n",
    "If we want to only compare between those patients that receive either 0 treatment or a treatment above the threshold value, we run this code."
   ]
  },
  {
   "cell_type": "code",
   "execution_count": 15,
   "id": "b68930d7",
   "metadata": {},
   "outputs": [],
   "source": [
    "if CLEAN_COMPARE:\n",
    "    df = df[(df[TREATMENT] <= 0) | (df[TREATMENT] >= EXPOSURE_THRESHOLD)]"
   ]
  },
  {
   "cell_type": "markdown",
   "id": "221ddb34",
   "metadata": {},
   "source": [
    "### 2.e Period Decomposition"
   ]
  },
  {
   "cell_type": "markdown",
   "id": "0f0a67a3",
   "metadata": {},
   "source": [
    "The piece of code (i.e. the function ``period_decomposition``) below is a loop that basically does the following:\n",
    "\n",
    "1. Create a temporary dataframe ``temp_df``. We do this to make sure that there is an empty entity (i.e. data storage) to which we can append new, cleaned and processed observations.\n",
    "2. Then, for each patient we do the following:\n",
    "3. Look at all the observation dates.\n",
    "4. Select the target outcome at follow up and at baseline.\n",
    "5. Append each period to the ``temp_df`` *until running out of dates*. \n",
    "6. Move to the next patient. "
   ]
  },
  {
   "cell_type": "code",
   "execution_count": 16,
   "id": "0e300f07",
   "metadata": {},
   "outputs": [],
   "source": [
    "def period_decomposition(df, target):\n",
    "    # List to store the rows of the new DataFrame\n",
    "    rows = []\n",
    "\n",
    "    # Unique client IDs\n",
    "    client_ids = df['ID'].unique()\n",
    "    total = len(client_ids)\n",
    "\n",
    "    for count, client_id in enumerate(client_ids, start=1):\n",
    "        # Inform the user about the progress\n",
    "        if count % 1000 == 0 or count == total:\n",
    "            print(f'{count} of {total} items completed...')\n",
    "\n",
    "        # Extract rows for the current client\n",
    "        client_rows = df[df['ID'] == client_id].sort_values('A3')\n",
    "        client_dates = client_rows['A3'].tolist()\n",
    "\n",
    "        for i in range(len(client_dates) - 1):\n",
    "            baseline_date = client_dates[i]\n",
    "            followup_date = client_dates[i + 1]\n",
    "\n",
    "            # Extract the rows for baseline and follow-up\n",
    "            baseline_row = client_rows[client_rows['A3'] == baseline_date]\n",
    "            followup_row = client_rows[client_rows['A3'] == followup_date]\n",
    "\n",
    "            # Calculate the outcomes\n",
    "            outcome_t0 = float(baseline_row[target])\n",
    "            outcome_t1 = float(followup_row[target])\n",
    "\n",
    "            # Prepare a new row with all necessary information\n",
    "            new_row = baseline_row.iloc[0].to_dict()\n",
    "            new_row['OutcomeT0'] = outcome_t0\n",
    "            new_row['OutcomeT1'] = outcome_t1\n",
    "            new_row['OutcomeT0Date'] = baseline_date\n",
    "            new_row['OutcomeT1Date'] = followup_date\n",
    "            rows.append(new_row)\n",
    "\n",
    "    # Create a new DataFrame from the list of new rows\n",
    "    temp_df = pd.DataFrame(rows)\n",
    "    print(\"Completed.\")\n",
    "    return temp_df\n"
   ]
  },
  {
   "cell_type": "code",
   "execution_count": 17,
   "id": "4aa46020",
   "metadata": {},
   "outputs": [
    {
     "name": "stdout",
     "output_type": "stream",
     "text": [
      "1000 of 3243 items completed...\n",
      "2000 of 3243 items completed...\n",
      "3000 of 3243 items completed...\n",
      "3243 of 3243 items completed...\n",
      "Completed.\n",
      "Treatment after processing 611\n"
     ]
    }
   ],
   "source": [
    "df = period_decomposition(df, target = OUTCOME)\n",
    "print(f\"Treatment after processing {len(df[df[TREATMENT]>EXPOSURE_THRESHOLD])}\")"
   ]
  },
  {
   "cell_type": "code",
   "execution_count": 18,
   "id": "0c86608f",
   "metadata": {},
   "outputs": [],
   "source": [
    "\n",
    "clinical_indications = {'ij2d':[1,2,3,4,5,6,7,8], 'ij2c':[1,2,3,4,5,6,7,8], \n",
    "                        'ij2a':[1,2,3,4,5,6,7,8], 'ij2b':[1,2,3,4,5,6,7,8] , \n",
    "                        'ii1e':[1,2],\n",
    "                        \n",
    "                       'ii1h':[1,2]\n",
    "                     }    # 'ii1k':[1,2],'ii1l':[1,2]\n",
    "\n",
    "contra_indications = { 'ij6c': [1,2,3,4,5,6,7,8], 'ij6a': [1,2,3,4,5,6,7,8], 'ij6b':[1,2,3,4,5,6,7,8],\n",
    "                      'ij2r':[1,2,3,4,5,6,7,8]}\n",
    "           "
   ]
  },
  {
   "cell_type": "code",
   "execution_count": 19,
   "id": "341eeff7",
   "metadata": {},
   "outputs": [],
   "source": [
    "df= df[df['ig2b'] <8]\n",
    "df= df[df['ig2f'] <8]\n",
    "df= df[df['ig2h'] <8]\n",
    "df= df[df['ig2j'] <8]\n",
    "\n"
   ]
  },
  {
   "cell_type": "code",
   "execution_count": 20,
   "id": "f3140b92",
   "metadata": {},
   "outputs": [],
   "source": [
    "mask = pd.Series(False, index = df.index)\n",
    "\n",
    "for column, good_values in clinical_indications.items():\n",
    "    mask |= df[column].isin(good_values)\n",
    "    \n",
    "df_included = df[mask]\n",
    "df = df_included\n",
    "\n",
    "# wypisanie co sie dzieje\n",
    "# for column, good_values in clinical_indications.items():\n",
    "#     x = df[column].isin(good_values)\n",
    "#     print(x)\n",
    "#     mask |=x\n",
    "    \n",
    "df_included = df[mask]\n",
    "df = df_included\n",
    "\n"
   ]
  },
  {
   "cell_type": "code",
   "execution_count": 21,
   "id": "5852453b",
   "metadata": {},
   "outputs": [],
   "source": [
    "for column, bad_values in contra_indications.items():\n",
    "    df = df[~df[column].isin(bad_values)]"
   ]
  },
  {
   "cell_type": "code",
   "execution_count": 22,
   "id": "064e4b2a",
   "metadata": {},
   "outputs": [],
   "source": [
    "df=df[df['OutcomeT0']<16]"
   ]
  },
  {
   "cell_type": "markdown",
   "id": "5d2ffe04",
   "metadata": {},
   "source": [
    "### 2.f Dichotomize Treatment Variable\n",
    "\n",
    "Because our model can only deal with binary treatments, we need to convert the continuous treatments into binary ones. We will do that using a simple fuctions. Recall that the threshold has been set using the ``EXPOSURE_THRESHOLD`` variable above."
   ]
  },
  {
   "cell_type": "code",
   "execution_count": 23,
   "id": "baea95fb",
   "metadata": {},
   "outputs": [],
   "source": [
    "binary = lambda x: 1 if x >= EXPOSURE_THRESHOLD else 0\n",
    "# convert treatment to binary\n",
    "df['treatment'] = df[TREATMENT].apply(binary)  \n",
    "df = df.drop(columns = [TREATMENT])"
   ]
  },
  {
   "cell_type": "code",
   "execution_count": 24,
   "id": "3b5068ac",
   "metadata": {},
   "outputs": [],
   "source": [
    "# drop rows with missing outcome or treatment \n",
    "df = df.dropna(subset = ['OutcomeT0', 'OutcomeT1', 'treatment'])"
   ]
  },
  {
   "cell_type": "markdown",
   "id": "13ffd723",
   "metadata": {},
   "source": [
    "### 2.g Select Relevant Period\n",
    "\n",
    "Because the base data is too crude (the time periods between follow-up and baseline may be too far apart), we want to select a suitable period between observations. In essence, we aim to select a time window which is, on the one hand, determined by the minimum time (``PERIOD_MIN``) between baseline measurement and follow-up measurement and the maximum of that time window (``PERIOD_MAX``)."
   ]
  },
  {
   "cell_type": "code",
   "execution_count": 25,
   "id": "2feba781",
   "metadata": {},
   "outputs": [],
   "source": [
    "# get difference between dates\n",
    "df['date_diff'] = df['OutcomeT1Date'] - df['OutcomeT0Date'] \n",
    "df['date_diff'] = df['date_diff'].dt.days \n",
    "\n",
    "# select relevant period\n",
    "df = df[df['date_diff'] <= PERIOD_MAX]\n",
    "df = df[df['date_diff'] >= PERIOD_MIN]\n",
    "\n",
    "# df = df.drop_duplicates(subset='Clientid')\n",
    "\n",
    "\n",
    "df = df.drop(columns = ['OutcomeT1Date', 'OutcomeT0Date', 'date_diff', 'A3', OUTCOME, 'ID'])\n",
    "# examine how many treatment observations are left\n"
   ]
  },
  {
   "cell_type": "markdown",
   "id": "479d5175",
   "metadata": {},
   "source": [
    "### 2.h Impute Missing Values\n",
    "\n",
    "In this part, we impute missing values. We use a standard KNN-imputer. If desired, it is possible to change the number of neighbours. Keep in mind that we can set this to ``False`` if we do not want to run it,"
   ]
  },
  {
   "cell_type": "code",
   "execution_count": 26,
   "id": "05fea014",
   "metadata": {},
   "outputs": [],
   "source": [
    "#imputing = IMPUTE\n",
    "if IMPUTE:\n",
    "    df = impute_missing_values_knn(df, n_neighbors=5)\n",
    "else:\n",
    "    df = df.dropna()\n",
    "    print(len(df[df['treatment']==1]))"
   ]
  },
  {
   "cell_type": "code",
   "execution_count": 27,
   "id": "cd94c0d5",
   "metadata": {},
   "outputs": [],
   "source": [
    "def recode(value):\n",
    "    if value <= 0.5:\n",
    "        return 0 \n",
    "    elif 0.5<= value<=1.5 :\n",
    "        return 1\n",
    "    elif 1.5<= value<=2.5 :\n",
    "        return 2\n",
    "    elif 2.5<= value<=3.5 :\n",
    "        return 3\n",
    "    elif pd.isna(value):\n",
    "        return np.nan\n",
    "\n",
    "    \n",
    "df[['sCPS']] = df[['sCPS']].applymap(recode)\n"
   ]
  },
  {
   "cell_type": "markdown",
   "id": "f1a768ca",
   "metadata": {},
   "source": [
    "### 2.i Handle Multicollinearity\n",
    "\n",
    "Here we will handle multi-collinear columns. Keep in mind that we can set this to ``False`` if we do not want to run it,"
   ]
  },
  {
   "cell_type": "markdown",
   "id": "0c01027c",
   "metadata": {},
   "source": [
    "### 2.j Handle Empty Columns\n",
    "\n",
    "In the process, it may be that we end up with columns that contain only $0$ values. We want to drop these columns, as they are not informative."
   ]
  },
  {
   "cell_type": "code",
   "execution_count": 28,
   "id": "b6579421",
   "metadata": {},
   "outputs": [
    {
     "name": "stdout",
     "output_type": "stream",
     "text": [
      "ij6c - End-stage disease, 6 or fewer months to live dropped.\n",
      "ij6a - Conditions diseases make cognitive, ADL, mood, or behavior patterns unstable dropped.\n",
      "ij6b - Experiencing an acute episode, or a flare-up of a recurrent or chronic problem dropped.\n",
      "ij2r - GI or GU bleeding dropped.\n"
     ]
    }
   ],
   "source": [
    "# drop num_assesment column, not relevant anymore\n",
    "df = df.drop(columns = ['num_assesments1'])\n",
    "# get a list of coviariate columns\n",
    "X = df.drop(columns = ['OutcomeT1', 'treatment']).columns\n",
    "\n",
    "# drop columns that only have 0 values\n",
    "for col in X:\n",
    "    if len(df[df[col]==0]) == len(df):\n",
    "        print(f\"{col} - {encoding[col.lower()]} dropped.\" )\n",
    "        df = df.drop(columns = [col])"
   ]
  },
  {
   "cell_type": "markdown",
   "id": "391772f0",
   "metadata": {},
   "source": [
    "### 2.k Store CSV\n",
    "\n",
    "In the last part of this notebook, we will store that data."
   ]
  },
  {
   "cell_type": "code",
   "execution_count": 29,
   "id": "98b6e9b6",
   "metadata": {},
   "outputs": [],
   "source": [
    "# treatment = TREATMENT#'in3eb' # (minutes or days of physical therapy)\n",
    "# target = #'sADLSF' \n",
    "\n",
    "#df = df.drop(columns = 'num_assesments')\n",
    "df.to_csv(f\"Z:/Paulina Wiśniewska/03-10-2023-Dutch_LTCF_cleaned_data_with_selected_covar_{TREATMENT}-{OUTCOME}.csv\", index = False)"
   ]
  },
  {
   "cell_type": "code",
   "execution_count": 30,
   "id": "3f5390d1",
   "metadata": {},
   "outputs": [
    {
     "data": {
      "text/plain": [
       "['sAGE_cat',\n",
       " 'sDRS depression rating scale (0-14)',\n",
       " 'sCPS Cognitive Performance Scale 0-6 range-Morris 1991',\n",
       " 'Bladder continence',\n",
       " 'Bowel continence',\n",
       " 'Foot problems, eg bunions, hammertoes, overlapping toes, structural problems, infections, ulcers',\n",
       " 'ADL: Personal hygiene',\n",
       " 'ADL: Locomotion',\n",
       " 'ADL: Eating',\n",
       " 'ADL: Toilet use',\n",
       " 'Unsteady gait',\n",
       " 'Dizziness',\n",
       " 'Difficult or unable to move self to standing position unassisted',\n",
       " 'Difficult or unable to turn self around and face the opposite direction when standing',\n",
       " 'Hemiplegia',\n",
       " 'Parkinsons disease',\n",
       " 'Gender',\n",
       " 'OutcomeT0']"
      ]
     },
     "execution_count": 30,
     "metadata": {},
     "output_type": "execute_result"
    }
   ],
   "source": [
    "# ADD SKIP FOR TREATMENT AND OUTCOME T1\n",
    "covars = [str(i) for i in df.columns]\n",
    "covar_names = []\n",
    "\n",
    "#print(encoding[(code).lower()])\n",
    "\n",
    "for covar in covars:\n",
    "    if (covar != 'treatment') and (covar != 'OutcomeT1'):\n",
    "        try:\n",
    "            covar_names.append(encoding[(covar).lower()])\n",
    "        except:\n",
    "            covar_names.append(covar)\n",
    "            \n",
    "covar_names"
   ]
  },
  {
   "cell_type": "code",
   "execution_count": 31,
   "id": "c85aa1b0",
   "metadata": {},
   "outputs": [
    {
     "data": {
      "text/plain": [
       "['sAGE_cat',\n",
       " 'sDRS depression rating scale (0-14)',\n",
       " 'sCPS Cognitive Performance Scale 0-6 range-Morris 1991',\n",
       " 'Bladder continence',\n",
       " 'Bowel continence',\n",
       " 'Foot problems, eg bunions, hammertoes, overlapping toes, structural problems, infections, ulcers',\n",
       " 'ADL: Personal hygiene',\n",
       " 'ADL: Locomotion',\n",
       " 'ADL: Eating',\n",
       " 'ADL: Toilet use',\n",
       " 'Unsteady gait',\n",
       " 'Dizziness',\n",
       " 'Difficult or unable to move self to standing position unassisted',\n",
       " 'Difficult or unable to turn self around and face the opposite direction when standing',\n",
       " 'Hemiplegia',\n",
       " 'Parkinsons disease',\n",
       " 'Gender',\n",
       " 'OutcomeT0']"
      ]
     },
     "execution_count": 31,
     "metadata": {},
     "output_type": "execute_result"
    }
   ],
   "source": [
    "covar_names"
   ]
  },
  {
   "cell_type": "code",
   "execution_count": 32,
   "id": "659b26b9",
   "metadata": {},
   "outputs": [],
   "source": [
    "# ADD SKIP FOR TREATMENT AND OUTCOME T1\n",
    "covars = [str(i) for i in df.columns]\n",
    "covar_names = []\n",
    "\n",
    "#print(encoding[(code).lower()])\n",
    "\n",
    "for covar in covars:\n",
    "    if (covar != 'treatment') and (covar != 'OutcomeT1'):\n",
    "\n",
    "        try:\n",
    "            covar_names.append(covar)\n",
    "        except:\n",
    "            covar_names.append(covar)"
   ]
  },
  {
   "cell_type": "code",
   "execution_count": 33,
   "id": "3ee604d2",
   "metadata": {},
   "outputs": [
    {
     "data": {
      "text/plain": [
       "['sAGE_cat',\n",
       " 'sDRS',\n",
       " 'sCPS',\n",
       " 'ih1',\n",
       " 'ih3',\n",
       " 'il7',\n",
       " 'ig2b',\n",
       " 'ig2f',\n",
       " 'ig2j',\n",
       " 'ig2h',\n",
       " 'ij2d',\n",
       " 'ij2c',\n",
       " 'ij2a',\n",
       " 'ij2b',\n",
       " 'ii1e',\n",
       " 'ii1h',\n",
       " 'iA2',\n",
       " 'OutcomeT0']"
      ]
     },
     "execution_count": 33,
     "metadata": {},
     "output_type": "execute_result"
    }
   ],
   "source": [
    "covar_names"
   ]
  },
  {
   "cell_type": "code",
   "execution_count": 34,
   "id": "03d7a6cb",
   "metadata": {},
   "outputs": [
    {
     "data": {
      "text/plain": [
       "sAGE_cat     float64\n",
       "sDRS         float64\n",
       "sCPS           int64\n",
       "ih1          float64\n",
       "ih3          float64\n",
       "il7          float64\n",
       "ig2b         float64\n",
       "ig2f         float64\n",
       "ig2j         float64\n",
       "ig2h         float64\n",
       "ij2d         float64\n",
       "ij2c         float64\n",
       "ij2a         float64\n",
       "ij2b         float64\n",
       "ii1e         float64\n",
       "ii1h         float64\n",
       "iA2          float64\n",
       "OutcomeT0    float64\n",
       "OutcomeT1    float64\n",
       "treatment    float64\n",
       "dtype: object"
      ]
     },
     "execution_count": 34,
     "metadata": {},
     "output_type": "execute_result"
    }
   ],
   "source": [
    "df1=df\n",
    "df.dtypes"
   ]
  },
  {
   "cell_type": "code",
   "execution_count": 35,
   "id": "ee31452c",
   "metadata": {},
   "outputs": [],
   "source": [
    "\n",
    "def recode(value):\n",
    "    if 0<=value  <= 0.5:\n",
    "        return 0 \n",
    "    elif value >0.5:\n",
    "        return 1\n",
    "    else:\n",
    "        return value\n",
    "    \n",
    "df[['ii1e',  'ii1h']] = df[['ii1e',  'ii1h']].applymap(recode)\n",
    "# 'ii1k', 'ii1l'"
   ]
  },
  {
   "cell_type": "code",
   "execution_count": 36,
   "id": "7522a290",
   "metadata": {},
   "outputs": [],
   "source": [
    "\n",
    "def recode(value):\n",
    "    if value == 0:\n",
    "        return 0 \n",
    "    elif value ==8:\n",
    "        return 8\n",
    "    elif value >0:\n",
    "        return 1\n",
    "    else:\n",
    "        return value\n",
    "    \n",
    "df[['ih1', 'ih3']] = df[['ih1', 'ih3']].applymap(recode)\n"
   ]
  },
  {
   "cell_type": "code",
   "execution_count": 37,
   "id": "54183f9b",
   "metadata": {},
   "outputs": [],
   "source": [
    "def recode(value):\n",
    "    if value == 0:\n",
    "        return 0 \n",
    "    elif value >1:\n",
    "        return 1\n",
    "    else:\n",
    "        return value\n",
    "    \n",
    "df[['il7']] = df[['il7']].applymap(recode)\n"
   ]
  },
  {
   "cell_type": "code",
   "execution_count": 38,
   "id": "d32bfb4f",
   "metadata": {},
   "outputs": [
    {
     "data": {
      "text/plain": [
       "0.0    759\n",
       "1.0    215\n",
       "Name: il7, dtype: int64"
      ]
     },
     "execution_count": 38,
     "metadata": {},
     "output_type": "execute_result"
    }
   ],
   "source": [
    "df['il7'].value_counts()    "
   ]
  },
  {
   "cell_type": "code",
   "execution_count": 39,
   "id": "d3d68a7b",
   "metadata": {},
   "outputs": [],
   "source": [
    "df= df[(df['ih1'] != 8) & (df['ih3'] != 8)]"
   ]
  },
  {
   "cell_type": "code",
   "execution_count": 40,
   "id": "add7de74",
   "metadata": {},
   "outputs": [],
   "source": [
    "def recode1(value):\n",
    "    if 0<= value<= 0.5:\n",
    "        return 0 \n",
    "    elif value >1:\n",
    "        return 1\n",
    "    else:\n",
    "        return value\n",
    "    \n",
    "df[['ij2d','ij2c','ij2b' ]] = df[['ij2d','ij2c','ij2b' ]].applymap(recode1)\n",
    "\n"
   ]
  },
  {
   "cell_type": "code",
   "execution_count": 41,
   "id": "d9f5be36",
   "metadata": {},
   "outputs": [],
   "source": [
    "def recode2(value):\n",
    "    if 0<= value<= 1:\n",
    "        return 0 \n",
    "    elif 2<=value <=3:\n",
    "        return 1\n",
    "    elif 4<=value <=6:\n",
    "        return 2\n",
    "    else:\n",
    "        return value\n",
    "    \n",
    "df[['ig2b', 'ig2f', 'ig2j', 'ig2h' ]] = df[['ig2b', 'ig2f', 'ig2j', 'ig2h']].applymap(recode2)\n",
    "\n"
   ]
  },
  {
   "cell_type": "code",
   "execution_count": 42,
   "id": "0ef59d81",
   "metadata": {},
   "outputs": [],
   "source": [
    "df = pd.get_dummies(df , columns = ['ig2b', 'ig2f', 'ig2j', 'ig2h'], dtype =int, drop_first =True)    "
   ]
  },
  {
   "cell_type": "code",
   "execution_count": 43,
   "id": "18ebc61f",
   "metadata": {},
   "outputs": [
    {
     "name": "stdout",
     "output_type": "stream",
     "text": [
      "sDRS            float64\n",
      "ih1               int64\n",
      "ih3               int64\n",
      "il7             float64\n",
      "ij2d            float64\n",
      "ij2c            float64\n",
      "ij2a            float64\n",
      "ij2b            float64\n",
      "ii1e              int64\n",
      "ii1h              int64\n",
      "iA2             float64\n",
      "OutcomeT0       float64\n",
      "OutcomeT1       float64\n",
      "treatment       float64\n",
      "ig2b_1            int32\n",
      "ig2b_2            int32\n",
      "ig2f_1            int32\n",
      "ig2f_2            int32\n",
      "ig2j_1            int32\n",
      "ig2j_2            int32\n",
      "ig2h_1            int32\n",
      "ig2h_2            int32\n",
      "sCPS_1            int32\n",
      "sCPS_2            int32\n",
      "sCPS_3            int32\n",
      "sAGE_cat_2.0      int32\n",
      "sAGE_cat_3.0      int32\n",
      "dtype: object\n"
     ]
    }
   ],
   "source": [
    "df = pd.get_dummies(df , columns = ['sCPS', 'sAGE_cat'], dtype =int, drop_first =True)\n",
    "# df = pd.get_dummies(df , columns = ['sADLH', 'sAGE_cat'], dtype =int, drop_first =True)\n",
    "\n",
    "print(df.dtypes)\n",
    "    "
   ]
  },
  {
   "cell_type": "code",
   "execution_count": 44,
   "id": "61136b1a",
   "metadata": {},
   "outputs": [],
   "source": [
    "zmienne = ['OutcomeT0']"
   ]
  },
  {
   "cell_type": "code",
   "execution_count": 45,
   "id": "ac511a98",
   "metadata": {},
   "outputs": [],
   "source": [
    "df.to_csv(f\"Z:/Paulina Wiśniewska/03-10-2023-Dutch_LTCF_cleaned_data_with_selected_covar_{TREATMENT}-{OUTCOME}.csv\", index = False)"
   ]
  },
  {
   "cell_type": "markdown",
   "id": "a9e28108",
   "metadata": {},
   "source": [
    "### Note to Teams: Please Start Here\n",
    "\n",
    "**MAKE SURE THAT THE DATA IS IN THE EXACT FORMAT AS BELOW.**\n",
    "\n",
    "Checklist:\n",
    "\n",
    "1. The covariates must come first.\n",
    "2. Then, there must be the outcome at baseline called ``OutcomeT0``.\n",
    "3. There must be an outcome at followup called ``OutcomeT1``.\n",
    "4. You may have a propensity score columns (``ps``), but this is not required. Same for clusters.\n",
    "5. There must be a treatment column *at the end* called ``treatment``. \n",
    "\n",
    "Good luck!"
   ]
  },
  {
   "cell_type": "markdown",
   "id": "2d09e493",
   "metadata": {},
   "source": [
    "## Part 3. Machine Learning\n",
    "\n",
    "Having processed the data, we can now move on the the machine learning (ML) part. Recall that we model using the meta-learning paradigm. Below is a schematic depiction of the process."
   ]
  },
  {
   "cell_type": "markdown",
   "id": "f21542a9",
   "metadata": {},
   "source": [
    "![alt text](images\\ModelGoal.jpg)"
   ]
  },
  {
   "cell_type": "markdown",
   "id": "fa5e0980",
   "metadata": {},
   "source": [
    "As can be seen, for a given patient, we can - *after training* - provide the details of that patient. These details are the outcome at baseline (``OutcomeT0``), the covariates and whether or not we include treatment. This allows us to compute the **individual treatment effect** (ITE), the predicted effect unter treatment minus the predicted effect under control.\n",
    "\n",
    "However, before we are able to estimate the ITE for a patient, we need to train the model. In meta-learning we always train two models. The first model is trained on the control group and the second model is trained on the treated group. Let us now first state what the ``outcome`` and ``intervention`` variables are.  "
   ]
  },
  {
   "cell_type": "markdown",
   "id": "a271a03a",
   "metadata": {},
   "source": [
    "![alt text](images\\GeneralPlotTrajectoryInterpretation.jpg)"
   ]
  },
  {
   "cell_type": "markdown",
   "id": "0b4a4fab",
   "metadata": {},
   "source": [
    "Next, we want to select the models. Here we will use ``RandomForestRegressor()``."
   ]
  },
  {
   "cell_type": "code",
   "execution_count": 46,
   "id": "3c0f03e0",
   "metadata": {},
   "outputs": [],
   "source": [
    "model0 = RandomForestRegressor()\n",
    "model1 = RandomForestRegressor()"
   ]
  },
  {
   "cell_type": "code",
   "execution_count": 47,
   "id": "e42b2079",
   "metadata": {},
   "outputs": [],
   "source": [
    "model = model0"
   ]
  },
  {
   "cell_type": "code",
   "execution_count": 48,
   "id": "67e795bd",
   "metadata": {},
   "outputs": [
    {
     "name": "stdout",
     "output_type": "stream",
     "text": [
      "Hyperparameters of models have been saved to 'model_hyperparameters.xlsx'.\n"
     ]
    }
   ],
   "source": [
    "# File path for the Excel file\n",
    "excel_file = f'C:/Users/Paulina.Wisniewska/Desktop/Do_wyslania/hyperparameters/model_hyperparameters_RandomForest.xlsx'\n",
    "\n",
    "# Create a Pandas Excel writer using XlsxWriter as the engine\n",
    "with pd.ExcelWriter(excel_file, engine='xlsxwriter') as writer:\n",
    "    # Get hyperparameters\n",
    "    hyperparameters = model.get_params()\n",
    "\n",
    "    # Convert to DataFrame\n",
    "    df = pd.DataFrame([hyperparameters])\n",
    "\n",
    "    # Write each model's hyperparameters to a different sheet\n",
    "    df.to_excel(writer, sheet_name=\"RandomForest\")\n",
    "\n",
    "print(\"Hyperparameters of models have been saved to 'model_hyperparameters.xlsx'.\")"
   ]
  },
  {
   "cell_type": "markdown",
   "id": "f5363a98",
   "metadata": {},
   "source": [
    "Then, we want to retrieve the data. We can use the data from above, but here we will read the file. "
   ]
  },
  {
   "cell_type": "code",
   "execution_count": 49,
   "id": "45337bf7",
   "metadata": {},
   "outputs": [],
   "source": [
    "# call your data file here\n",
    "FILE = f\"Z:/Paulina Wiśniewska/03-10-2023-Dutch_LTCF_cleaned_data_with_selected_covar_{TREATMENT}-{OUTCOME}.csv\""
   ]
  },
  {
   "cell_type": "markdown",
   "id": "c9a30e82",
   "metadata": {},
   "source": [
    "?????????????????????????????????????????????????????????\n",
    "?????????????????????????????????????????????????????????\n",
    "?????????????????????????????????????????????????????????\n",
    "?????????????????????????????????????????????????????????\n"
   ]
  },
  {
   "cell_type": "code",
   "execution_count": 50,
   "id": "c728447f",
   "metadata": {},
   "outputs": [],
   "source": [
    "all_data = pd.read_csv(FILE)"
   ]
  },
  {
   "cell_type": "markdown",
   "id": "f3ac62fe",
   "metadata": {},
   "source": [
    "Afterwards, we can run the model. The only thing to do is to run the ``run_model``-function below. "
   ]
  },
  {
   "cell_type": "code",
   "execution_count": 51,
   "id": "c87d1784",
   "metadata": {
    "scrolled": false
   },
   "outputs": [
    {
     "name": "stdout",
     "output_type": "stream",
     "text": [
      "{'bootstrap': True, 'ccp_alpha': 0.0, 'criterion': 'squared_error', 'max_depth': None, 'max_features': 'auto', 'max_leaf_nodes': None, 'max_samples': None, 'min_impurity_decrease': 0.0, 'min_samples_leaf': 1, 'min_samples_split': 2, 'min_weight_fraction_leaf': 0.0, 'n_estimators': 100, 'n_jobs': None, 'oob_score': False, 'random_state': None, 'verbose': 0, 'warm_start': False}\n",
      "(Test) ATE -0.4741475694444439.\n",
      "ATE: -0.31, 95% CI: [nan, nan]\n"
     ]
    }
   ],
   "source": [
    "machine = \"RandomForest\"\n",
    "\n",
    "metrics, predictions_t, predictions_c, y_test_t, y_test_c, ites_test, ites_train, X_test_t, X_test_c, X_train_c, X_train_t,y_train_t, y_train_c, X_combined_c,X_combined_t= run_model(n_bootstraps = 1, file = FILE, model0 = model0, model1 = model1, undersampled = UNDERSAMPLE, include_propensity = PROPENSITY, intervention = TREATMENT, outcome = OUTCOME, machine = \"RandomForest\", num_iter = 1, zmienne=zmienne)\n"
   ]
  },
  {
   "cell_type": "markdown",
   "id": "8cada1e4",
   "metadata": {},
   "source": [
    "We can first compute the confidence interval."
   ]
  },
  {
   "cell_type": "code",
   "execution_count": 52,
   "id": "d8545312",
   "metadata": {},
   "outputs": [
    {
     "name": "stdout",
     "output_type": "stream",
     "text": [
      "(-0.7053323328751608, -0.24296280601372802)\n"
     ]
    }
   ],
   "source": [
    "confidence_interval(data=ites_test)"
   ]
  },
  {
   "cell_type": "code",
   "execution_count": 53,
   "id": "0c72ce33",
   "metadata": {},
   "outputs": [
    {
     "name": "stdout",
     "output_type": "stream",
     "text": [
      "(-0.7053323328751608, -0.24296280601372802)\n"
     ]
    }
   ],
   "source": [
    "confidence_interval(data=ites_test)"
   ]
  },
  {
   "cell_type": "markdown",
   "id": "59144fd5",
   "metadata": {},
   "source": [
    "We can now examine the performance of the model by calling ``metrics``."
   ]
  },
  {
   "cell_type": "markdown",
   "id": "9644e60d",
   "metadata": {},
   "source": [
    "We can also visualise the model's *factual* predicted performance by calling the ``visualise`` function."
   ]
  },
  {
   "cell_type": "code",
   "execution_count": 54,
   "id": "61c67a82",
   "metadata": {},
   "outputs": [
    {
     "data": {
      "image/png": "[encoded data removed]",
      "text/plain": [
       "<Figure size 1200x600 with 1 Axes>"
      ]
     },
     "metadata": {},
     "output_type": "display_data"
    }
   ],
   "source": [
    "machine = \"RandomForest\"\n",
    "visualise(predictions_t, predictions_c, y_test_t, y_test_c, machine=machine, target=OUTCOME, intervention=TREATMENT)"
   ]
  },
  {
   "cell_type": "markdown",
   "id": "2f8c4e25",
   "metadata": {},
   "source": [
    "Also, if we want to visualize the ITES, we can run the following function (``visualise_ites``):"
   ]
  },
  {
   "cell_type": "code",
   "execution_count": 55,
   "id": "5367029e",
   "metadata": {},
   "outputs": [
    {
     "name": "stdout",
     "output_type": "stream",
     "text": [
      "ATE -0.34338325825825844\n"
     ]
    },
    {
     "data": {
      "image/png": "[encoded data removed]",
      "text/plain": [
       "<Figure size 1200x600 with 1 Axes>"
      ]
     },
     "metadata": {},
     "output_type": "display_data"
    }
   ],
   "source": [
    "visualise_ites(ites_train, machine = machine, intervention = TREATMENT, target = OUTCOME)"
   ]
  },
  {
   "cell_type": "markdown",
   "id": "76538fdb",
   "metadata": {},
   "source": [
    "### 3.b Run More Models\n",
    "\n",
    "These models can be run also. Feel free to remove some of the models, but please run at least:\n",
    "\n",
    "- ``RandomForestRegressor()``\n",
    "- ``GradientBoostingRegressor()``\n",
    "- ``LinearRegression()``"
   ]
  },
  {
   "cell_type": "code",
   "execution_count": 56,
   "id": "f86ece50",
   "metadata": {},
   "outputs": [],
   "source": [
    "def visualise_ites1(ites, machine, target, intervention, split=\"test\"): \n",
    "    ites = [i[0] for i in ites.reshape(-1,1)]\n",
    "    ites = sorted(list(ites))\n",
    "\n",
    "    x_values = range(1, len(ites) + 1)\n",
    "    stdev = np.std(ites)\n",
    "    upper_bound = [val + stdev for val in ites]\n",
    "    lower_bound = [val - stdev for val in ites]\n",
    "\n",
    "    sns.set(style=\"whitegrid\")\n",
    "\n",
    "    #plt.figure(figsize=(8,4))\n",
    "    plt.figure(figsize=(12,6))\n",
    "\n",
    "    plt.fill_between(x_values, lower_bound, upper_bound, color='gray', alpha=0.2, label=\"standard deviation\")\n",
    "    plt.axhline(y=np.mean(ites), color='darkred', linestyle='--', label='ATE estimate')\n",
    "    plt.xlabel(\"Ordered Patient Indices\")\n",
    "    plt.ylabel(f\"Individual Treatment Effect\")\n",
    "    plt.title(f\"Physical therapy, 45 minutes physical therapy per week\")\n",
    "    \n",
    "    print(f\"ATE {np.mean(ites)}\")\n",
    "\n",
    "    sns.lineplot(x=x_values, y=ites, marker='o', color='black', label='predicted ITE values', ci=stdev)\n",
    "    plt.savefig(f\"plots/{machine}-{intervention}-{target}.png\", dpi=300)\n",
    "\n",
    "    plt.show()\n",
    "    "
   ]
  },
  {
   "cell_type": "code",
   "execution_count": 57,
   "id": "18b530bf",
   "metadata": {
    "scrolled": false
   },
   "outputs": [
    {
     "name": "stdout",
     "output_type": "stream",
     "text": [
      "LinearRegression()\n",
      "{'copy_X': True, 'fit_intercept': True, 'n_jobs': None, 'normalize': 'deprecated', 'positive': False}\n",
      "(Test) ATE -0.3334405952756878.\n",
      "ATE: -0.15, 95% CI: [nan, nan]\n",
      "ATE -0.33344059527568787\n"
     ]
    },
    {
     "data": {
      "image/png": "[encoded data removed]",
      "text/plain": [
       "<Figure size 1200x600 with 1 Axes>"
      ]
     },
     "metadata": {},
     "output_type": "display_data"
    },
    {
     "name": "stdout",
     "output_type": "stream",
     "text": [
      "(-0.5444798610768332, -0.12240132947454241)\n",
      "T-statistic: -3.1164764411444\n",
      "P-value: 0.002112775237043749\n",
      "Result is statistically significant\n",
      "               LinearRegression()\n",
      "MAE_C (test)             1.341953\n",
      "MAE_T (test)             1.352936\n",
      "MSE_C (test)             3.777568\n",
      "MSE_T (test)             2.922939\n",
      "R2_C (test)              0.796835\n",
      "R2_T (test)              0.808064\n",
      "MAE_C (train)            0.530405\n",
      "MAE_T (train)            1.434232\n",
      "MSE_C (train)            0.553395\n",
      "MSE_T (train)            4.680545\n",
      "R2_C (train)             0.970989\n",
      "R2_T (train)             0.690369\n",
      "\n",
      "\n",
      "\n"
     ]
    }
   ],
   "source": [
    "model_lst = [\n",
    "            (LinearRegression(), LinearRegression())]\n",
    "\n",
    "for model1, model2 in model_lst:\n",
    "    print(str(model1))\n",
    "    np.random.seed(42)\n",
    "    metrics, predictions_t, predictions_c, y_test_t, y_test_c, ites_test, ites_train, X_test_t, X_test_c, X_train_c, X_train_t,y_train_t, y_train_c,X_combined_c,X_combined_t = run_model(n_bootstraps = 1, file = FILE, include_propensity = PROPENSITY, outcome=OUTCOME, intervention=TREATMENT, undersampled = UNDERSAMPLE, model0 = model0, model1 = model1, machine = str(model1), num_iter = 1, zmienne=zmienne)\n",
    "    #visualise(predictions_t, predictions_c, y_test_t, y_test_c, machine=machine, target=target, intervention=intervention)\n",
    "    visualise_ites1(ites_test, machine = str(model1), intervention = TREATMENT, target = OUTCOME)\n",
    "    confidence_interval(data=ites_test)\n",
    "    significance(data=ites_test)\n",
    "    print(metrics)\n",
    "    print(\"\")\n",
    "    print(\"\")\n",
    "    print(\"\")"
   ]
  },
  {
   "cell_type": "code",
   "execution_count": 58,
   "id": "9a80bdbc",
   "metadata": {},
   "outputs": [],
   "source": [
    "from sklearn.utils import resample\n",
    "def get_confidence(X_train, y_train, model, n_bootstraps= 1000, alpha =0.05):\n",
    "    coefs =np.zeros((n_bootstraps, X_train.shape[1]))\n",
    "    for i in range(n_bootstraps):\n",
    "        X_resmpled, y_resampled =resample(X_train, y_train)\n",
    "        model.fit(X_resmpled, y_resampled)\n",
    "        coefs[i,:] = model.coef_\n",
    "    lower = np.percentile(coefs, 100*alpha/2, axis =0)\n",
    "    \n",
    "    upper = np.percentile(coefs, 100*(1-alpha/2), axis =0)\n",
    "    return lower, upper"
   ]
  },
  {
   "cell_type": "code",
   "execution_count": 59,
   "id": "ca17e10b",
   "metadata": {},
   "outputs": [],
   "source": [
    "from sklearn.preprocessing import add_dummy_feature\n",
    "def run_model_reg(n_bootstraps, file, model0, model1, machine, intervention, outcome, include_propensity, undersampled = False, num_iter = 1, zmienne =None):\n",
    "    # if more iterations are necessary\n",
    "    maec, maet, msec, mset, rtc, rtt = [], [], [], [], [], []\n",
    "    tr_maec, tr_maet, tr_msec, tr_mset, tr_rtc, tr_rtt = [], [], [], [], [], []\n",
    "    \n",
    "    X_train_c, X_test_c, y_train_c, y_test_c, X_train_t, X_test_t, y_train_t, y_test_t, X_combined_c,X_combined_t= data_processing(file, undersampled,\n",
    "                                                                                                         include_propensity, machine,\n",
    "                                                                                                         intervention, outcome,\n",
    "                                                                                                         target='OutcomeT1',\n",
    "                                                                                                         treatment='treatment', caliper=0.2,\n",
    "                                                                                                       zmienne =zmienne )\n",
    "   \n",
    "   \n",
    "    \n",
    "#     X_train_c =add_dummy_feature(X_train_c)\n",
    "#     X_train_t =add_dummy_feature(X_train_t)\n",
    "#     X_test_c =add_dummy_feature(X_test_c)\n",
    "#     X_test_t =add_dummy_feature(X_test_t)\n",
    "    \n",
    "#     X_train_t.columns =['intercept'] +list(X_train_t.columns[1:])\n",
    "#     X_train_c.columns =['intercept'] +list(X_train_c.columns[1:])\n",
    "#     X_test_t.columns =['intercept'] +list(X_test_t.columns[1:])\n",
    "#     X_test_c.columns =['intercept'] +list(X_test_c.columns[1:])\n",
    "    f_c = model0\n",
    "    f_c.fit(X_train_c, y_train_c)\n",
    "    predictions_c = f_c.predict(X_test_c)\n",
    "    # treated\n",
    "    f_t = model1\n",
    "    f_t.fit(X_train_t, y_train_t)\n",
    "\n",
    "    predictions_t = f_t.predict(X_test_t)\n",
    "\n",
    "    maec.append(mean_absolute_error(predictions_c, y_test_c))\n",
    "    maet.append(mean_absolute_error(predictions_t, y_test_t))\n",
    "    msec.append(mean_squared_error(predictions_c, y_test_c))\n",
    "    mset.append(mean_squared_error(predictions_t, y_test_t))\n",
    "    rtc.append(r2_score(y_test_c, predictions_c))\n",
    "    rtt.append(r2_score(y_test_t, predictions_t))\n",
    "    \n",
    "    predictions_t_train = f_t.predict(X_train_t)\n",
    "    predictions_c_train = f_c.predict(X_train_c)\n",
    "    \n",
    "\n",
    "    tr_maec.append(mean_absolute_error(predictions_c_train, y_train_c))\n",
    "    tr_maet.append(mean_absolute_error(predictions_t_train, y_train_t))\n",
    "    tr_msec.append(mean_squared_error(predictions_c_train, y_train_c))\n",
    "    tr_mset.append(mean_squared_error(predictions_t_train, y_train_t))\n",
    "    tr_rtc.append(r2_score(y_train_c, predictions_c_train))\n",
    "    tr_rtt.append(r2_score(y_train_t, predictions_t_train))\n",
    "\n",
    "    # compute ITEs for test\n",
    "    ites_t_test = f_t.predict(X_test_t) - f_c.predict(X_test_t)\n",
    "    ites_c_test = f_t.predict(X_test_c) - f_c.predict(X_test_c)\n",
    "    # compute Individual treatment effects\n",
    "    ites_test = np.append(ites_t_test, ites_c_test)\n",
    "\n",
    "    # compute ITEs for train\n",
    "    ites_t_train = f_t.predict(X_train_t) - f_c.predict(X_train_t)\n",
    "    ites_c_train = f_t.predict(X_train_c) - f_c.predict(X_train_c)\n",
    "    # compute Individual treatment effects\n",
    "    ites_train = np.append(ites_t_train, ites_c_train)\n",
    "    \n",
    "    \n",
    "    itest_treatment = np.append(ites_t_train,ites_t_test)\n",
    "    \n",
    "    # compute relevant errors and record \n",
    "    results = {'MAE_C (test)': np.mean(maec),\n",
    "               'MAE_T (test)': np.mean(maet),\n",
    "                'MSE_C (test)': np.mean(msec),\n",
    "                'MSE_T (test)': np.mean(mset),\n",
    "                 'R2_C (test)': np.mean(rtc),\n",
    "                 'R2_T (test)': np.mean(rtt),\n",
    "              'MAE_C (train)': np.mean(tr_maec),\n",
    "               'MAE_T (train)': np.mean(tr_maet),\n",
    "                'MSE_C (train)': np.mean(tr_msec),\n",
    "                'MSE_T (train)': np.mean(tr_mset),\n",
    "                 'R2_C (train)': np.mean(tr_rtc),\n",
    "                 'R2_T (train)': np.mean(tr_rtt)}\n",
    "\n",
    "    hyperparameters = f_t.get_params()\n",
    "    print(hyperparameters)\n",
    "\n",
    "    # Convert to DataFrame\n",
    "    df = pd.DataFrame([hyperparameters])\n",
    "    df.to_csv(f'C:/Users/Paulina.Wisniewska/Desktop/Do_wyslania/hyperparameters/model_hyperparameters_{machine}.csv')\n",
    "\n",
    "    metrics = pd.DataFrame.from_dict(results, orient = 'index', columns = [machine])\n",
    "    metrics.to_csv(f\"C:/Users/Paulina.Wisniewska/Desktop/Do_wyslania/results/model_results_{machine}_{intervention}-{outcome}.csv\")\n",
    "    \n",
    "    filename_t = f\"C:/Users/Paulina.Wisniewska/Desktop/Do_wyslania/storage/model_t_{machine}_{intervention}-{outcome}.sav\"\n",
    "    filename_c = f\"C:/Users/Paulina.Wisniewska/Desktop/Do_wyslania/storage/model_c_{machine}_{intervention}-{outcome}.sav\"\n",
    "\n",
    "    # save models\n",
    "    pickle.dump(f_t, open(filename_t, 'wb'))\n",
    "    pickle.dump(f_c, open(filename_c, 'wb'))\n",
    "\n",
    "    # Compute ITEs for test\n",
    "    ites_t = f_t.predict(X_test_t) - f_c.predict(X_test_t)\n",
    "    ites_c = f_t.predict(X_test_c) - f_c.predict(X_test_c)\n",
    "    \n",
    "    outcome_under_treatment = np.concatenate([f_t.predict(X_test_t), f_t.predict(X_test_c)])\n",
    "    outcome_under_treatment = np.mean(outcome_under_treatment)\n",
    "    \n",
    "    outcome_under_control = np.concatenate([f_c.predict(X_test_t), f_c.predict(X_test_c)])\n",
    "    outcome_under_control = np.mean(outcome_under_control)\n",
    "    \n",
    "    print(f\"(Test) ATE {outcome_under_treatment - outcome_under_control}.\")\n",
    "    \n",
    "    \n",
    "\n",
    "    # Compute individual treatment effects\n",
    "    ites_test = np.concatenate([ites_t, ites_c])\n",
    "    \n",
    "#     ate_confidence(model0, model1, machine, X_train_c, X_test_c, y_train_c, y_test_c, X_train_t, X_test_t, y_train_t, y_test_t, n_bootstraps = n_bootstraps)\n",
    "    \n",
    "        \n",
    "    return metrics, predictions_t, predictions_c, y_test_t, y_test_c, ites_test, ites_train,itest_treatment, X_test_t, X_test_c, X_train_c, X_train_t, y_train_c, y_train_t\n"
   ]
  },
  {
   "cell_type": "code",
   "execution_count": null,
   "id": "d1196220",
   "metadata": {},
   "outputs": [],
   "source": []
  },
  {
   "cell_type": "code",
   "execution_count": 60,
   "id": "6c909b60",
   "metadata": {
    "scrolled": false
   },
   "outputs": [
    {
     "name": "stdout",
     "output_type": "stream",
     "text": [
      "LinearRegression()\n",
      "LinearRegression()\n",
      "{'copy_X': True, 'fit_intercept': True, 'n_jobs': None, 'normalize': 'deprecated', 'positive': False}\n",
      "(Test) ATE -0.22853411260508238.\n"
     ]
    }
   ],
   "source": [
    "\n",
    "model = [(LinearRegression(), LinearRegression())]\n",
    "\n",
    "for model0, model1 in model:\n",
    "    np.random.seed(42)\n",
    "    print(str(model0))\n",
    "    print(str(model1))\n",
    "    metrics, predictions_t, predictions_c, y_test_t, y_test_c, ites_test, ites_train,itest_treatment, X_test_t, X_test_c, X_train_c, X_train_t, y_train_t, y_train_c = run_model_reg(n_bootstraps = 1, file = FILE, include_propensity = PROPENSITY, outcome=OUTCOME, intervention=TREATMENT, undersampled = UNDERSAMPLE, model0 = model0, model1 = model1, machine = str(model1), num_iter = 1, zmienne=zmienne)\n",
    "    np.random.seed(42)\n",
    "    coefficients_c = pd.DataFrame({\n",
    "        'Feature': X_test_c.columns,\n",
    "        'Coefficient': model0.coef_ })\n",
    "    \n",
    "    coefficients_t = pd.DataFrame({\n",
    "        'Feature': X_test_t.columns,\n",
    "        'Coefficient': model1.coef_\n",
    "    })\n",
    "\n",
    "#     lower, upper = get_confidence(X_train_c, y_train_c, model0)\n",
    "#     coefficients_c['CI_Lower']=lower\n",
    "#     coefficients_c['CI_Upper']=upper\n",
    "    \n",
    "#     lower, upper = get_confidence(X_train_t, y_train_t, model1)\n",
    "#     coefficients_t['CI_Lower']=lower\n",
    "#     coefficients_t['CI_Upper']=upper\n",
    "    \n",
    "\n"
   ]
  },
  {
   "cell_type": "code",
   "execution_count": 61,
   "id": "8874fe8c",
   "metadata": {},
   "outputs": [],
   "source": [
    "def ite_classification_for_test_training_treatment(x):\n",
    "    if  -0.05 <= x <= 0.05:\n",
    "        return \"the same\"\n",
    "    elif x < -0.05:\n",
    "        return \"benefit\"\n",
    "    elif x > 0.05:\n",
    "        return \"worsening\"\n",
    "    "
   ]
  },
  {
   "cell_type": "code",
   "execution_count": 62,
   "id": "c572c3be",
   "metadata": {},
   "outputs": [],
   "source": [
    "X_TEST_T = X_test_t\n",
    "X_TEST_C = X_test_c\n",
    "X_TRAIN_T = X_train_t\n",
    "X_TRAIN_C = X_train_c\n",
    "\n",
    "\n",
    "\n",
    "X_TEST_T['predictions'] = predictions_t\n",
    "X_TEST_C['predictions'] = predictions_c\n",
    "\n",
    "X_TEST_TRAIN = pd.concat([ X_TRAIN_T,X_TEST_T])\n",
    "# y_test = pd.concat([y_test_t, y_test_c])\n",
    "# X_TEST['OutcomeT1'] =y_test\n",
    "X_TEST_TRAIN['ITES'] =itest_treatment"
   ]
  },
  {
   "cell_type": "code",
   "execution_count": 63,
   "id": "a21ba1d9",
   "metadata": {},
   "outputs": [],
   "source": [
    "X_TEST_TRAIN['benefit']= X_TEST_TRAIN['ITES'].apply(ite_classification_for_test_training_treatment)"
   ]
  },
  {
   "cell_type": "code",
   "execution_count": 64,
   "id": "e5f9887c",
   "metadata": {
    "scrolled": false
   },
   "outputs": [],
   "source": [
    "# for x in X_TEST_TRAIN.columns:\n",
    "#     print(pd.crosstab(X_TEST_TRAIN[x], X_TEST_TRAIN['benefit'], normalize ='index')*100)\n"
   ]
  },
  {
   "cell_type": "code",
   "execution_count": 65,
   "id": "dc992f12",
   "metadata": {
    "scrolled": false
   },
   "outputs": [],
   "source": [
    "# for x in X_TEST_TRAIN.columns:\n",
    "#     print(pd.crosstab(X_TEST_TRAIN[x], X_TEST_TRAIN['benefit']))"
   ]
  },
  {
   "cell_type": "code",
   "execution_count": 66,
   "id": "d9cfc4bc",
   "metadata": {},
   "outputs": [],
   "source": [
    "from statsmodels.stats.outliers_influence import variance_inflation_factor\n",
    "# from statsmodels.robust import RLM\n",
    "\n",
    "\n",
    "\n",
    "def run_model1(n_bootstraps, file, model0, model1, machine, intervention, outcome, include_propensity, undersampled = False, num_iter = 1, zmienne =None):\n",
    "    # if more iterations are necessary\n",
    "    maec, maet, msec, mset, rtc, rtt = [], [], [], [], [], []\n",
    "    tr_maec, tr_maet, tr_msec, tr_mset, tr_rtc, tr_rtt = [], [], [], [], [], []\n",
    "    \n",
    "    X_train_c, X_test_c, y_train_c, y_test_c, X_train_t, X_test_t, y_train_t, y_test_t,X_combined_c,X_combined_t= data_processing(file, undersampled,\n",
    "                                                                                                         include_propensity, machine,\n",
    "                                                                                                         intervention, outcome,\n",
    "                                                                                                         target='OutcomeT1',\n",
    "                                                                                                         treatment='treatment', caliper=0.2,\n",
    "                                                                                                       zmienne =zmienne )\n",
    "    \n",
    "\n",
    "    np.random.seed(42)\n",
    "    X_c = sm.add_constant(X_train_c)   \n",
    "    X_t = sm.add_constant(X_train_t)\n",
    "    model0 =sm.OLS(y_train_c, X_c)\n",
    "    model1 =sm.OLS(y_train_t, X_t)\n",
    "#     model0 =sm.OLS(y_train_c, X_train_c)\n",
    "#     model1 =sm.OLS(y_train_t, X_train_t)\n",
    "    result0 =model0.fit()\n",
    "    result1 = model1.fit()  \n",
    "#     y_pred_c =result0.predict( sm.add_constant(X_train_c))\n",
    "#     print(y_pred_c)\n",
    "    \n",
    "#     y_pred_t =result1.predict(sm.add_constant(X_train_t))\n",
    "#     print(y_pred_t)\n",
    "#     print(result0.summary())\n",
    "#     print(result1.summary())\n",
    "    \n",
    "    \n",
    "\n",
    "                       \n",
    "    \n",
    "    vif_c =pd.DataFrame()\n",
    "    vif_c['Variable_c'] = X_c.columns\n",
    "    vif_t =pd.DataFrame()\n",
    "\n",
    "    vif_t['Variable_t'] = X_t.columns\n",
    "    vif_c['VIF_c'] = [variance_inflation_factor(X_c, i) for i in range(X_c.shape[1])]\n",
    "#     print(vif_c)\n",
    "    vif_t['VIF_t'] = [variance_inflation_factor(X_t, i) for i in range(X_t.shape[1])]\n",
    "#     print(vif_t)\n",
    "    \n",
    "    vif_c['Tolerance'] =1/vif_c['VIF_c']\n",
    "#     print(f\"TOLERANCE Control:\")\n",
    "#     print(vif_c)\n",
    "    vif_t['Tolerance'] =1/vif_t['VIF_t']\n",
    "#     print(f\"TOLERANCE Treatment:\")\n",
    "#     print(vif_t)\n",
    "\n",
    "\n",
    "    return y_test_t, y_test_c, X_test_t, X_test_c, X_train_c, X_train_t, y_train_c, y_train_t,X_combined_c,X_combined_t\n",
    "\n"
   ]
  },
  {
   "cell_type": "code",
   "execution_count": 67,
   "id": "35ea6868",
   "metadata": {
    "scrolled": false
   },
   "outputs": [],
   "source": [
    "import statsmodels.api as sm\n",
    "\n",
    "#\n",
    "np.random.seed(42)\n",
    "#     print(str(model0))\n",
    "#     print(str(model1))\n",
    "y_test_t, y_test_c, X_test_t, X_test_c, X_train_c, X_train_t, y_train_t, y_train_c,X_combined_c,X_combined_t = run_model1(n_bootstraps = 1, file = FILE, include_propensity = PROPENSITY, outcome=OUTCOME, intervention=TREATMENT, undersampled = UNDERSAMPLE, model0 = model0, model1 = model1, machine = str(model1), num_iter = 1, zmienne=zmienne)\n",
    "\n",
    "    \n",
    "      "
   ]
  },
  {
   "cell_type": "code",
   "execution_count": null,
   "id": "9b6510fe",
   "metadata": {},
   "outputs": [],
   "source": []
  },
  {
   "cell_type": "code",
   "execution_count": 68,
   "id": "65224a3d",
   "metadata": {
    "scrolled": false
   },
   "outputs": [
    {
     "name": "stdout",
     "output_type": "stream",
     "text": [
      "RandomForestRegressor()\n",
      "RandomForestRegressor()\n",
      "{'bootstrap': True, 'ccp_alpha': 0.0, 'criterion': 'squared_error', 'max_depth': None, 'max_features': 'auto', 'max_leaf_nodes': None, 'max_samples': None, 'min_impurity_decrease': 0.0, 'min_samples_leaf': 1, 'min_samples_split': 2, 'min_weight_fraction_leaf': 0.0, 'n_estimators': 100, 'n_jobs': None, 'oob_score': False, 'random_state': None, 'verbose': 0, 'warm_start': False}\n",
      "(Test) ATE -0.4741475694444439.\n",
      "ATE: -0.31, 95% CI: [nan, nan]\n",
      "ATE -0.4741475694444444\n"
     ]
    },
    {
     "data": {
      "image/png": "[encoded data removed]",
      "text/plain": [
       "<Figure size 1200x600 with 1 Axes>"
      ]
     },
     "metadata": {},
     "output_type": "display_data"
    },
    {
     "name": "stdout",
     "output_type": "stream",
     "text": [
      "(-0.7053323328751608, -0.24296280601372802)\n",
      "T-statistic: -4.045413912187095\n",
      "P-value: 7.576533785249482e-05\n",
      "Result is statistically significant\n"
     ]
    }
   ],
   "source": [
    "model = [(RandomForestRegressor(), RandomForestRegressor())]\n",
    "\n",
    "import shap\n",
    "\n",
    "\n",
    "for model0, model1 in model:\n",
    "    np.random.seed(42)\n",
    "    print(str(model0))\n",
    "    print(str(model1))\n",
    "    metrics, predictions_t, predictions_c, y_test_t, y_test_c, ites_test, ites_train, X_test_t, X_test_c, X_train_c, X_train_t ,y_train_t, y_train_c,X_combined_c,X_combined_t= run_model(n_bootstraps = 1, file = FILE, include_propensity = PROPENSITY, outcome=OUTCOME, intervention=TREATMENT, undersampled = UNDERSAMPLE, model0 = model0, model1 = model1, machine = str(model1), num_iter = 1, zmienne=zmienne)\n",
    "    \n",
    "#     feature_rename_map={\n",
    "#     \"ig2h_2\": \"Toilet use_severe\",\n",
    "#     \"ig2f_2\": \"Locomotion_severe\",\n",
    "#     \"ig2b_2\": \"Personal hygiene_severe\",\n",
    "#     \"ih1\": \"Bladder continence\",\n",
    "#     \"ig2h_1\": \"Toilet use_moderate\",\n",
    "#     \"ig2j_1\": \"Eating_moderate\",\n",
    "#     \"ig2f_1\": \"Locomotion_moderate\",      \n",
    "#     \"ig2b_1\": \"Personal hygiene_moderate\",\n",
    "#     \"ij2a\": \"Difficulty standing\",\n",
    "        \n",
    "#     \"ij2b\": \"Difficulty turning around\",\n",
    "#     \"sCPS_2\": \"CPS_moderate\",\n",
    "#     \"sAGE_cat_2.0\": \"Age_80_89\",\n",
    "#     \"sCPS_1\": \"CPS_mild\",\n",
    "#     \"sCPS_3\": \"CPS_severe\",\n",
    "#     \"ig2j_2\": \"Eating_severe\",\n",
    "#     \"sAGE_cat_3.0\": \"Age_90_more\",\n",
    "        \n",
    "#     \"ij2d\": \"Unsteady gait\",\n",
    "#     \"ij2c\": \"Dizziness\",\n",
    "        \n",
    "#     \"ih3\": \"Bowel continence\",\n",
    "#     \"il7\": \"Foot problems\",\n",
    "#     \"iA2\": \"Sex\" ,\n",
    "#     \"ii1h\": \"Parkinson's disease\",\n",
    "#     \"ii1e\": \"Hemiplegia\",\n",
    "#     \"sADLH_2.0\": \"ADL_severe\",\n",
    "#     \"sADLH_1.0\": \"ADL_moderate\"\n",
    "\n",
    "\n",
    "#     }\n",
    "\n",
    "#     X_combined_c =X_combined_c.rename(columns=feature_rename_map)\n",
    "#     X_combined_t =X_combined_t.rename(columns=feature_rename_map)\n",
    "\n",
    "\n",
    "#     print(\"CONTROL\")\n",
    "    \n",
    "#     explainer = shap.TreeExplainer(model0)\n",
    "#     shap_values_c =explainer.shap_values(X_combined_c)\n",
    "#     shap.summary_plot(shap_values_c, X_combined_c, max_display =30)\n",
    "# #     print(\"TREATMENT\")\n",
    "\n",
    "#     explainer_t =shap.TreeExplainer(model1)\n",
    "#     shap_values_t =explainer_t.shap_values(X_combined_t)\n",
    "#     shap.summary_plot(shap_values_t, X_combined_t,  max_display =30)\n",
    "    \n",
    "\n",
    "    visualise_ites1(ites_test, machine =str(model1), intervention =TREATMENT, target =OUTCOME)\n",
    "    confidence_interval(data=ites_test)\n",
    "    significance(data=ites_test)\n",
    "#     print(metrics)"
   ]
  },
  {
   "cell_type": "code",
   "execution_count": 69,
   "id": "be60b652",
   "metadata": {},
   "outputs": [],
   "source": [
    "X_TEST_T = X_test_t\n",
    "X_TEST_C = X_test_c\n",
    "X_TEST_T['predictions'] = predictions_t\n",
    "X_TEST_C['predictions'] = predictions_c\n",
    "X_TEST = pd.concat([X_TEST_T, X_TEST_C])\n",
    "y_test = pd.concat([y_test_t, y_test_c])\n",
    "X_TEST['OutcomeT1'] =y_test\n",
    "X_TEST['ITES'] =ites_test"
   ]
  },
  {
   "cell_type": "code",
   "execution_count": 70,
   "id": "c4f1e679",
   "metadata": {},
   "outputs": [],
   "source": [
    "def ite_classification(x):\n",
    "    if  -0.05 <= x <= 0.05:\n",
    "        return \"the same\"\n",
    "    elif x < -0.05:\n",
    "        return \"worsening\"\n",
    "    elif x > 0.05:\n",
    "        return \"benefit\"\n",
    "    "
   ]
  },
  {
   "cell_type": "code",
   "execution_count": 71,
   "id": "781adef9",
   "metadata": {},
   "outputs": [],
   "source": [
    "X_TEST['benefit']= X_TEST['ITES'].apply(ite_classification)"
   ]
  },
  {
   "cell_type": "code",
   "execution_count": 72,
   "id": "1bd07a3f",
   "metadata": {},
   "outputs": [],
   "source": [
    "X_TEST.to_csv(f\"Z:/Paulina Wiśniewska/data_frame_po_modelach.csv\")"
   ]
  },
  {
   "cell_type": "code",
   "execution_count": 73,
   "id": "1934b600",
   "metadata": {},
   "outputs": [],
   "source": [
    "df = pd.read_csv(f\"Z:/Paulina Wiśniewska/data_frame_po_modelach.csv\")"
   ]
  },
  {
   "cell_type": "code",
   "execution_count": 74,
   "id": "cf753a09",
   "metadata": {},
   "outputs": [],
   "source": [
    "X_TEST =df"
   ]
  },
  {
   "cell_type": "code",
   "execution_count": 75,
   "id": "cfa419db",
   "metadata": {},
   "outputs": [],
   "source": [
    "def zmiana_class(x):\n",
    "    if 0 <= x < 0.5:\n",
    "        return 0\n",
    "    elif 0.5 <= x < 1.5:\n",
    "        return 1\n",
    "    elif 1.5 <= x< 2.5:\n",
    "        return 2\n",
    "    elif 2.5 <= x < 3.5:\n",
    "        return 3\n",
    "    elif 3.5 <= x < 4.5:\n",
    "        return 4\n",
    "    elif 4.5 <= x< 5.5:\n",
    "        return 5\n",
    "    elif 5.5 <= x< 6.5:\n",
    "        return 6\n",
    "    elif 6.5 <= x<7.5:\n",
    "        return 7\n",
    "    elif 7.5 <= x< 8.5:\n",
    "        return 8\n",
    "    elif 8.5 <=x< 9.5:\n",
    "        return 9\n",
    "    elif 9.5 <= x< 10.5:\n",
    "        return 10\n",
    "    elif 10.5 <= x< 11.5:\n",
    "        return 11\n",
    "    elif 11.5 <= x< 12.5:\n",
    "        return 12\n",
    "    elif 12.5 <= x< 13.5:\n",
    "        return 13\n",
    "    elif 13.5 <= x< 14.5:\n",
    "        return 14\n",
    "    elif 14.5 <= x< 15.5: \n",
    "        return 15\n",
    "    elif 15.5 <= x< 16.5:\n",
    "        return 16\n",
    "    \n",
    "X_TEST['predictions'] = X_TEST['predictions'].apply(zmiana_class)"
   ]
  },
  {
   "cell_type": "code",
   "execution_count": 76,
   "id": "85f3d023",
   "metadata": {},
   "outputs": [],
   "source": [
    "cross_tab = pd.crosstab(pd.Series(X_TEST['OutcomeT1']), pd.Series(X_TEST['predictions']))"
   ]
  },
  {
   "cell_type": "code",
   "execution_count": 77,
   "id": "b0f41f9c",
   "metadata": {},
   "outputs": [],
   "source": [
    "cross_tab = pd.crosstab(pd.Series(X_TEST['OutcomeT1']), pd.Series(X_TEST['predictions']))"
   ]
  },
  {
   "cell_type": "code",
   "execution_count": 78,
   "id": "eb097ef4",
   "metadata": {},
   "outputs": [
    {
     "data": {
      "text/html": [
       "<div>\n",
       "<style scoped>\n",
       "    .dataframe tbody tr th:only-of-type {\n",
       "        vertical-align: middle;\n",
       "    }\n",
       "\n",
       "    .dataframe tbody tr th {\n",
       "        vertical-align: top;\n",
       "    }\n",
       "\n",
       "    .dataframe thead th {\n",
       "        text-align: right;\n",
       "    }\n",
       "</style>\n",
       "<table border=\"1\" class=\"dataframe\">\n",
       "  <thead>\n",
       "    <tr style=\"text-align: right;\">\n",
       "      <th></th>\n",
       "      <th>RandomForestRegressor()</th>\n",
       "    </tr>\n",
       "  </thead>\n",
       "  <tbody>\n",
       "    <tr>\n",
       "      <th>MAE_C (test)</th>\n",
       "      <td>1.341953</td>\n",
       "    </tr>\n",
       "    <tr>\n",
       "      <th>MAE_T (test)</th>\n",
       "      <td>1.519479</td>\n",
       "    </tr>\n",
       "    <tr>\n",
       "      <th>MSE_C (test)</th>\n",
       "      <td>3.777568</td>\n",
       "    </tr>\n",
       "    <tr>\n",
       "      <th>MSE_T (test)</th>\n",
       "      <td>4.260657</td>\n",
       "    </tr>\n",
       "    <tr>\n",
       "      <th>R2_C (test)</th>\n",
       "      <td>0.796835</td>\n",
       "    </tr>\n",
       "    <tr>\n",
       "      <th>R2_T (test)</th>\n",
       "      <td>0.720222</td>\n",
       "    </tr>\n",
       "    <tr>\n",
       "      <th>MAE_C (train)</th>\n",
       "      <td>0.530405</td>\n",
       "    </tr>\n",
       "    <tr>\n",
       "      <th>MAE_T (train)</th>\n",
       "      <td>0.700315</td>\n",
       "    </tr>\n",
       "    <tr>\n",
       "      <th>MSE_C (train)</th>\n",
       "      <td>0.553395</td>\n",
       "    </tr>\n",
       "    <tr>\n",
       "      <th>MSE_T (train)</th>\n",
       "      <td>1.085026</td>\n",
       "    </tr>\n",
       "    <tr>\n",
       "      <th>R2_C (train)</th>\n",
       "      <td>0.970989</td>\n",
       "    </tr>\n",
       "    <tr>\n",
       "      <th>R2_T (train)</th>\n",
       "      <td>0.928223</td>\n",
       "    </tr>\n",
       "  </tbody>\n",
       "</table>\n",
       "</div>"
      ],
      "text/plain": [
       "               RandomForestRegressor()\n",
       "MAE_C (test)                  1.341953\n",
       "MAE_T (test)                  1.519479\n",
       "MSE_C (test)                  3.777568\n",
       "MSE_T (test)                  4.260657\n",
       "R2_C (test)                   0.796835\n",
       "R2_T (test)                   0.720222\n",
       "MAE_C (train)                 0.530405\n",
       "MAE_T (train)                 0.700315\n",
       "MSE_C (train)                 0.553395\n",
       "MSE_T (train)                 1.085026\n",
       "R2_C (train)                  0.970989\n",
       "R2_T (train)                  0.928223"
      ]
     },
     "execution_count": 78,
     "metadata": {},
     "output_type": "execute_result"
    }
   ],
   "source": [
    "metrics"
   ]
  },
  {
   "cell_type": "markdown",
   "id": "daadef90",
   "metadata": {},
   "source": [
    "## 3.c IDs for Evaluation"
   ]
  },
  {
   "cell_type": "markdown",
   "id": "55e356b6",
   "metadata": {},
   "source": [
    "## Part 4. Adaptive Model\n",
    "\n",
    "In this last part, we will predict the treatment effect using an adaptive model. This model was developed by us. As can be seen, there is a bit more coding involved, but the benefit is that it is easier to adapt this model to our preferences. "
   ]
  },
  {
   "cell_type": "markdown",
   "id": "1d1d8a6e",
   "metadata": {},
   "source": [
    "The first step is to make sure that our model runs on the proper device. "
   ]
  },
  {
   "cell_type": "code",
   "execution_count": 79,
   "id": "4126a786",
   "metadata": {},
   "outputs": [],
   "source": [
    "device = torch.device(\"cpu\")"
   ]
  },
  {
   "cell_type": "markdown",
   "id": "61593339",
   "metadata": {},
   "source": [
    "It is useful to have a small function that easily converts arrays to the correct ``torch``-objects: tensors."
   ]
  },
  {
   "cell_type": "code",
   "execution_count": 80,
   "id": "1f1eb063",
   "metadata": {},
   "outputs": [],
   "source": [
    "to_tensor = lambda x: torch.tensor(np.array(x), dtype = torch.float32).to(device)"
   ]
  },
  {
   "cell_type": "code",
   "execution_count": 81,
   "id": "598f600a",
   "metadata": {},
   "outputs": [],
   "source": [
    "FILE = f\"Z:/Paulina Wiśniewska/03-10-2023-Dutch_LTCF_cleaned_data_with_selected_covar_{TREATMENT}-{OUTCOME}.csv\"\n",
    "df = pd.read_csv(FILE)"
   ]
  },
  {
   "cell_type": "markdown",
   "id": "992a3401",
   "metadata": {},
   "source": [
    "### Uplift Model"
   ]
  },
  {
   "cell_type": "code",
   "execution_count": 82,
   "id": "2c88d1bc",
   "metadata": {},
   "outputs": [],
   "source": [
    "# # Split into features and target\n",
    "# X = df.drop('OutcomeT1', axis=1)\n",
    "# y = df['OutcomeT1']\n",
    "\n",
    "# # Splitting the dataset into training and testing sets\n",
    "# X_train, X_test, y_train, y_test = train_test_split(X, y, test_size=0.3, random_state=42)\n",
    "\n",
    "# # Train model on treatment group\n",
    "# model_treatment = LogisticRegression()\n",
    "# model_treatment.fit(X_train[X_train['treatment'] == 1].drop('treatment', axis=1), y_train[X_train['treatment'] == 1])\n",
    "\n",
    "# # Train model on control group\n",
    "# model_control = LogisticRegression()\n",
    "# model_control.fit(X_train[X_train['treatment'] == 0].drop('treatment', axis=1), y_train[X_train['treatment'] == 0])\n",
    "\n",
    "# # Predict probabilities\n",
    "# prob_treatment = model_treatment.predict_proba(X_test.drop('treatment', axis=1))[:, 1]\n",
    "# prob_control = model_control.predict_proba(X_test.drop('treatment', axis=1))[:, 1]\n",
    "\n",
    "# # Calculate uplift\n",
    "# uplift = prob_treatment - prob_control\n",
    "\n",
    "# # Sorting the individuals by predicted uplift\n",
    "# order = np.argsort(uplift)[::-1]\n",
    "# sorted_uplift = uplift[order]\n",
    "\n",
    "# # Calculating cumulative uplift\n",
    "# cumulative_uplift = np.cumsum(sorted_uplift) / len(y_test)\n",
    "\n",
    "# # Plotting\n",
    "# plt.figure(figsize=(10, 6))\n",
    "# plt.xlim(0,100)\n",
    "# plt.plot(cumulative_uplift, label='Uplift Curve')\n",
    "# plt.xlabel('Proportion Targeted')\n",
    "# plt.ylabel('Cumulative Uplift')\n",
    "# plt.title('Uplift Curve')\n",
    "# plt.legend()\n",
    "# plt.show()"
   ]
  },
  {
   "cell_type": "code",
   "execution_count": 83,
   "id": "242bd866",
   "metadata": {},
   "outputs": [],
   "source": [
    "# apply min-max normalisation\n",
    "#X = df.drop(columns = ['treatment', 'OutcomeT1']).columns\n",
    "#df[X] = (df[X] - df[X].min()) / (df[X].max() - df[X].min())"
   ]
  },
  {
   "cell_type": "code",
   "execution_count": 84,
   "id": "09da61a4",
   "metadata": {},
   "outputs": [],
   "source": [
    "X = df.drop(columns = ['treatment', 'OutcomeT1']).columns\n",
    "\n",
    "normalizer = Normalizer(norm=\"l2\")\n",
    "normalizer.fit(df[X])\n",
    "\n",
    "df[X] = normalizer.fit_transform(df[X])\n",
    "\n",
    "with open(f'C:/Users/Paulina.Wisniewska/Desktop/Do_wyslania/storage/normalizer_{TREATMENT}-{OUTCOME}.pkl', 'wb') as f:\n",
    "    pickle.dump(normalizer, f)"
   ]
  },
  {
   "cell_type": "markdown",
   "id": "d0436003",
   "metadata": {},
   "source": [
    "### 4 a. Perform Undersampling Procedure"
   ]
  },
  {
   "cell_type": "code",
   "execution_count": 85,
   "id": "b592fb3c",
   "metadata": {},
   "outputs": [],
   "source": [
    "if UNDERSAMPLE:\n",
    "    freq_treated = len(df[df['treatment']==1])\n",
    "    control = df[df['treatment']==0].sample(freq_treated)\n",
    "    treated = df[df['treatment']==1]\n",
    "    df = pd.concat((control, treated))\n",
    "    \n",
    "# print(f'DF lenght after undersampling: {len(df)}')"
   ]
  },
  {
   "cell_type": "markdown",
   "id": "82db0f23",
   "metadata": {},
   "source": [
    "Because the model is a neural-network based architecture, it is usually helpful to apply min-max normalisation which converts the column values to \\[0,1\\] ranges."
   ]
  },
  {
   "cell_type": "markdown",
   "id": "7edac5f6",
   "metadata": {},
   "source": [
    "### 4.b Train-Test Splitting\n",
    "\n",
    "In the cell below, we perform train-test split. Note that we also split the train and test data into two groups: a control group and a treated group. Even though we do not explicItely use for train, it will be useful for the (sub-)group evaluation later on."
   ]
  },
  {
   "cell_type": "code",
   "execution_count": 86,
   "id": "7b5fb31d",
   "metadata": {},
   "outputs": [],
   "source": [
    "# variable setting for treatment\n",
    "t = 'treatment'\n",
    "# select the relevant outcome\n",
    "y = \"OutcomeT1\" \n",
    "# specify test size\n",
    "test_size = 0.2\n",
    "\n",
    "# Split groups into train and test\n",
    "X_train, X_test, y_train, y_test = train_test_split(df.drop(columns = [y]), df[['treatment', y]], test_size=test_size, random_state=42)"
   ]
  },
  {
   "cell_type": "markdown",
   "id": "0f8ce86e",
   "metadata": {},
   "source": [
    "### 4.c Propensity Score Computation"
   ]
  },
  {
   "cell_type": "code",
   "execution_count": 87,
   "id": "49b94b4d",
   "metadata": {},
   "outputs": [],
   "source": [
    "# predict the propensity score\n",
    "if PROPENSITY:\n",
    "    X_train[\"OutcomeT1\"] = y_train[\"OutcomeT1\"]\n",
    "    X_test[\"OutcomeT1\"] = y_test[\"OutcomeT1\"]\n",
    "    X = X_train.drop(columns = ['treatment']).columns\n",
    "    X = X_test.drop(columns = ['treatment']).columns\n",
    "    ps_model = LogisticRegression(C=1e2, max_iter=10000).fit(X_train[X], y_train['treatment'])\n",
    "    X_train['ps'] = ps_model.predict_proba(X_train[X])[:, 1]\n",
    "    X_test['ps'] = ps_model.predict_proba(X_test[X])[:, 1]\n",
    "    \n",
    "    # ensure that treatment is last column\n",
    "    X_train['treatment_new'] =  X_train['treatment']\n",
    "    X_train = X_train.drop(columns = ['treatment'])\n",
    "    X_train = X_train.rename(columns = {'treatment_new': 'treatment'})\n",
    "    \n",
    "    X_test['treatment_new'] =  X_test['treatment']\n",
    "    X_test = X_test.drop(columns = ['treatment'])\n",
    "    X_test = X_test.rename(columns = {'treatment_new': 'treatment'})\n",
    "    \n",
    "    #X_train = X_train.drop(columns = [\"OutcomeT1\"])\n",
    "else:\n",
    "    X_train[\"OutcomeT1\"] = y_train[\"OutcomeT1\"]"
   ]
  },
  {
   "cell_type": "code",
   "execution_count": 88,
   "id": "84e6cda5",
   "metadata": {},
   "outputs": [
    {
     "name": "stdout",
     "output_type": "stream",
     "text": [
      "Estimated outcome under control 5.431093345021811.\n",
      "Estimated outcome under treatment 5.299734009365961.\n"
     ]
    }
   ],
   "source": [
    "X = df.drop(columns = ['OutcomeT1', 'treatment']).columns\n",
    "\n",
    "#X_train = X_train.drop(columns = [\"ps\"])\n",
    "\n",
    "# Estimate the average treatment effect (group level)\n",
    "tau_est = doubly_robust(X_train, X=X, T='treatment', Y='OutcomeT1')\n",
    "tau_est = torch.tensor(tau_est, dtype = torch.float32).to(device)\n",
    "# print(tau_est)\n",
    "\n",
    "# drop columns\n",
    "X_train = X_train.drop(columns = [\"OutcomeT1\"])\n",
    "\n",
    "if PROPENSITY == True:\n",
    "    X_test = X_test.drop(columns = [\"OutcomeT1\"])"
   ]
  },
  {
   "cell_type": "markdown",
   "id": "b357dffa",
   "metadata": {},
   "source": [
    "We also want to make sure that the data stuctures are in the right format. For this, we use ``to_tensor``."
   ]
  },
  {
   "cell_type": "code",
   "execution_count": 89,
   "id": "1daaae95",
   "metadata": {},
   "outputs": [],
   "source": [
    "y_t = y_train[y_train['treatment']==1][y]\n",
    "y_c = y_train[y_train['treatment']==0][y]\n",
    "\n",
    "y_test_t = y_test[y_test['treatment']==1][y]\n",
    "y_test_c = y_test[y_test['treatment']==0][y]"
   ]
  },
  {
   "cell_type": "code",
   "execution_count": 90,
   "id": "fb3d2ea9",
   "metadata": {},
   "outputs": [],
   "source": [
    "# convert output to tensors\n",
    "x, y, y_t, y_c, x_test = to_tensor(X_train), to_tensor(y_train), to_tensor(y_t), to_tensor(y_c), to_tensor(X_test)"
   ]
  },
  {
   "cell_type": "markdown",
   "id": "5076a548",
   "metadata": {},
   "source": [
    "### 4.d Model Training\n",
    "\n",
    "The next step is to train the actual model. The code below sets some preliminary configurations."
   ]
  },
  {
   "cell_type": "code",
   "execution_count": 91,
   "id": "a118eb57",
   "metadata": {},
   "outputs": [],
   "source": [
    "# Configurations\n",
    "lr = 0.001\n",
    "epochs = 1000\n",
    "gamma = 2\n",
    "\n",
    "model = TARnetICFR(x.shape[1], 0.01, hidden_dim = 32*4).to(device)\n",
    "\n",
    "# Define the loss functions\n",
    "head_loss = nn.L1Loss() #nn.MSELoss()#nn.L1Loss() #torch.nn.HuberLoss(reduction = 'mean', delta = 1) #nn.MSELoss() # nn.L1Loss() #nn.MSELoss() \n",
    "\n",
    "# initialise optimiser\n",
    "optimizer = optim.Adam(model.parameters(), lr)\n",
    "\n",
    "u = len(y_t)  / (len(y_t)  + len(y_c))"
   ]
  },
  {
   "cell_type": "markdown",
   "id": "47eb592f",
   "metadata": {},
   "source": [
    "The code below is the training loop. On each loop, the model passes the data through the models, examines its performance and adjust the weights. Note that this model has four loss components:\n",
    "\n",
    "1. Component 1 (``loss1``) is to loss on the treated segment of the data.\n",
    "2. Component 2 (``loss2``) is to loss on the control segment of the data.\n",
    "3. Component 2 (``loss_cf_3``) is to loss on the counterfactual control segment of the data.\n",
    "4. Component 2 (``loss_cf_4``) is to loss on the counterfactual treated segment of the data."
   ]
  },
  {
   "cell_type": "code",
   "execution_count": 92,
   "id": "aba813bb",
   "metadata": {
    "scrolled": false
   },
   "outputs": [
    {
     "name": "stdout",
     "output_type": "stream",
     "text": [
      "Epoch 100/1000 | Loss: 6.7562\n",
      "RMSE for factual treated 7.821965426270467\n",
      "MAE for factual treated 1.903556759590688\n",
      "RMSE for factual control 4.719657235750399\n",
      "MAE for factual treated 1.1669835726320743\n",
      "Epoch 200/1000 | Loss: 5.5597\n",
      "RMSE for factual treated 6.841574997614931\n",
      "MAE for factual treated 1.5955221277216207\n",
      "RMSE for factual control 4.782761377712657\n",
      "MAE for factual treated 1.0610059261322022\n",
      "Epoch 300/1000 | Loss: 5.1535\n",
      "RMSE for factual treated 6.899437472447091\n",
      "MAE for factual treated 1.5568107435668723\n",
      "RMSE for factual control 5.034674101484303\n",
      "MAE for factual treated 1.070976370856166\n",
      "Epoch 400/1000 | Loss: 4.8398\n",
      "RMSE for factual treated 5.930697946375477\n",
      "MAE for factual treated 1.3888005739536837\n",
      "RMSE for factual control 4.808255100616001\n",
      "MAE for factual treated 1.0505122268497944\n",
      "Epoch 500/1000 | Loss: 4.7340\n",
      "RMSE for factual treated 6.558220971185862\n",
      "MAE for factual treated 1.6238749094199443\n",
      "RMSE for factual control 4.4367799693812255\n",
      "MAE for factual treated 0.9830863558799028\n",
      "Epoch 600/1000 | Loss: 4.3044\n",
      "RMSE for factual treated 6.485846488760274\n",
      "MAE for factual treated 1.5994362134648406\n",
      "RMSE for factual control 4.374516722206656\n",
      "MAE for factual treated 0.9832046072483063\n",
      "Epoch 700/1000 | Loss: 3.6019\n",
      "RMSE for factual treated 5.353013892431558\n",
      "MAE for factual treated 1.3676430131646171\n",
      "RMSE for factual control 4.312641552521189\n",
      "MAE for factual treated 1.0135619811415673\n",
      "Epoch 800/1000 | Loss: 3.6616\n",
      "RMSE for factual treated 4.831092970588817\n",
      "MAE for factual treated 1.2314469056284947\n",
      "RMSE for factual control 3.9192824757574214\n",
      "MAE for factual treated 1.0375003544390202\n",
      "Epoch 900/1000 | Loss: 3.0186\n",
      "RMSE for factual treated 4.330624456306521\n",
      "MAE for factual treated 1.2114415641712106\n",
      "RMSE for factual control 3.690875177413794\n",
      "MAE for factual treated 0.9112651361823082\n",
      "Epoch 1000/1000 | Loss: 2.9352\n",
      "RMSE for factual treated 3.972049510645484\n",
      "MAE for factual treated 1.1277643759613452\n",
      "RMSE for factual control 3.591228660960235\n",
      "MAE for factual treated 0.9317695707082748\n"
     ]
    }
   ],
   "source": [
    "# Define loss lists\n",
    "loss1_lst, loss2_lst, loss3_lst = [], [], []\n",
    "\n",
    "for epoch in range(epochs):\n",
    "    # Forward pass\n",
    "    output_t, output_c, _ = model(x)\n",
    "    \n",
    "    # Compute total loss and update the model's parameters\n",
    "    loss1, loss2 = head_loss(torch.squeeze(output_t), y_t), head_loss(torch.squeeze(output_c), y_c)\n",
    "    \n",
    "    pred_c_cf = model.forward_treated(x[x[:,-1]==0])\n",
    "    loss_cf_3 = (1 - u) * torch.mean((torch.squeeze(pred_c_cf) - (y_c + tau_est))**2)\n",
    "                 \n",
    "    pred_t_cf = model.forward_control(x[x[:,-1]==1])\n",
    "    loss_cf_4 = u * torch.mean((torch.squeeze(pred_t_cf) - (y_t - tau_est))**2)\n",
    "    \n",
    "    # losses added\n",
    "    loss = loss1 + (loss2) + loss_cf_3 + loss_cf_4 #+ (gamma * loss3)\n",
    "    # Backward pass and optimization\n",
    "    optimizer.zero_grad()\n",
    "    loss.backward()\n",
    "    optimizer.step()\n",
    "\n",
    "    # Print the loss every 10000 epochs\n",
    "    if (epoch + 1) % 100 == 0:\n",
    "        print(f'Epoch {epoch+1}/{epochs} | Loss: {loss.item():.4f}')\n",
    "        \n",
    "        # print intermediate results on test\n",
    "        x_test_t = x_test[x_test[:,-1]==1] \n",
    "        x_test_c = x_test[x_test[:,-1]==0] \n",
    "\n",
    "        # # examine intermediate factual test performance\n",
    "        y_t_pred = model.forward_treated(x_test_t).cpu().detach().numpy().reshape(len(x_test_t),)\n",
    "        y_c_pred = model.forward_control(x_test_c).cpu().detach().numpy().reshape(len(x_test_c),)\n",
    "\n",
    "        print(f\"RMSE for factual treated {mean_squared_error(y_t_pred, y_test_t)}\") \n",
    "        print(f\"MAE for factual treated {mean_absolute_error(y_t_pred, y_test_t)}\") \n",
    "        print(f\"RMSE for factual control {mean_squared_error(y_c_pred, y_test_c)}\") \n",
    "        print(f\"MAE for factual treated {mean_absolute_error(y_c_pred, y_test_c)}\") "
   ]
  },
  {
   "cell_type": "markdown",
   "id": "39e36c19",
   "metadata": {},
   "source": [
    "### 4.e Model Evaluation\n",
    "Having trained the model, we can no examine the performance on the test set. We first get the predictions for the treated and control groups. Then we visualise the predicted predicted vs. true values. "
   ]
  },
  {
   "cell_type": "code",
   "execution_count": 93,
   "id": "5eb28295",
   "metadata": {},
   "outputs": [
    {
     "data": {
      "image/png": "[encoded data removed]",
      "text/plain": [
       "<Figure size 1200x600 with 1 Axes>"
      ]
     },
     "metadata": {},
     "output_type": "display_data"
    }
   ],
   "source": [
    "y_t_pred = model.forward_treated(x_test[x_test[:,-1]==1] ).cpu().detach().numpy()\n",
    "y_c_pred = model.forward_control(x_test[x_test[:,-1]==0] ).cpu().detach().numpy()\n",
    "\n",
    "machine = \"TARNet\"\n",
    "visualise(np.squeeze(y_t_pred), np.squeeze(y_c_pred), y_test_t, y_test_c, machine=machine, target=OUTCOME, intervention=TREATMENT)"
   ]
  },
  {
   "cell_type": "markdown",
   "id": "3fbb4c9b",
   "metadata": {},
   "source": [
    "Next, we want to estimate the model's predictions of the individual treatment effect. We plot this in an ordered fashion (from most beneficial to least beneficial). The blue dots depict patients. On the y-axis, we find the effect size as predicted by the model. "
   ]
  },
  {
   "cell_type": "code",
   "execution_count": 94,
   "id": "17d7e756",
   "metadata": {
    "scrolled": false
   },
   "outputs": [
    {
     "name": "stdout",
     "output_type": "stream",
     "text": [
      "ATE_est = 5.007778644561768 - 4.959611892700195 = 0.04816688969731331.\n",
      "ATE 0.04816684499382973\n"
     ]
    },
    {
     "data": {
      "image/png": "[encoded data removed]",
      "text/plain": [
       "<Figure size 1200x600 with 1 Axes>"
      ]
     },
     "metadata": {},
     "output_type": "display_data"
    }
   ],
   "source": [
    "# isolate and disconnect predicted values\n",
    "y_c_predt1 = model.forward_treated(x_test_c).cpu().detach().numpy()\n",
    "y_t_predt1 = model.forward_treated(x_test_t).cpu().detach().numpy()\n",
    "y_t_pred = np.concatenate((y_c_predt1, y_t_predt1))\n",
    "\n",
    "# isolate and disconnect predicted values\n",
    "y_c_predt0 = model.forward_control(x_test_c).cpu().detach().numpy() #np.array(y_test_c).reshape(-1,1) #model.forward_control(x_test_c).cpu().detach().numpy()\n",
    "y_t_predt0 = model.forward_control(x_test_t).cpu().detach().numpy()\n",
    "\n",
    "y_c_pred = np.concatenate((y_c_predt0, y_t_predt0))\n",
    "\n",
    "# compute the ites and sort\n",
    "ites = y_t_pred - y_c_pred\n",
    "ites = [i[0] for i in ites]\n",
    "ites = sorted(list(ites))\n",
    "\n",
    "ate_model_est = np.mean(y_t_pred - y_c_pred)\n",
    "\n",
    "print(f\"ATE_est = {np.mean(y_t_pred)} - {np.mean(y_c_pred)} = {ate_model_est}.\")\n",
    "\n",
    "visualise_ites(np.array(ites), machine = machine, intervention = TREATMENT, target = OUTCOME)"
   ]
  },
  {
   "cell_type": "code",
   "execution_count": 95,
   "id": "83f220f6",
   "metadata": {},
   "outputs": [
    {
     "name": "stdout",
     "output_type": "stream",
     "text": [
      "ATE_est = 4.135763168334961 - 4.1499786376953125 = -0.014215302653610706.\n",
      "ATE -0.01421530731022358\n"
     ]
    },
    {
     "data": {
      "image/png": "[encoded data removed]",
      "text/plain": [
       "<Figure size 1200x600 with 1 Axes>"
      ]
     },
     "metadata": {},
     "output_type": "display_data"
    }
   ],
   "source": [
    "# isolate and disconnect predicted values\n",
    "y_c_predt1 = model.forward_treated(x_test_c).cpu().detach().numpy()\n",
    "\n",
    "# isolate and disconnect predicted values\n",
    "y_c_predt0 = model.forward_control(x_test_c).cpu().detach().numpy() \n",
    "\n",
    "# compute the ites and sort\n",
    "ites = y_c_predt1 - y_c_predt0\n",
    "ites = [i[0] for i in ites]\n",
    "ites = sorted(list(ites))\n",
    "\n",
    "ate_model_est = np.mean(y_c_predt1 - y_c_predt0)\n",
    "\n",
    "print(f\"ATE_est = {np.mean(y_c_predt1)} - {np.mean(y_c_predt0)} = {ate_model_est}.\")\n",
    "\n",
    "visualise_ites(np.array(ites), machine = machine, intervention = TREATMENT, target = OUTCOME)"
   ]
  },
  {
   "cell_type": "markdown",
   "id": "f7d0f027",
   "metadata": {},
   "source": [
    "### 4.e Variable Importances"
   ]
  },
  {
   "cell_type": "code",
   "execution_count": 96,
   "id": "a8cde8d1",
   "metadata": {
    "scrolled": false
   },
   "outputs": [
    {
     "name": "stdout",
     "output_type": "stream",
     "text": [
      "1.1524757\n"
     ]
    }
   ],
   "source": [
    "np.random.seed(42)\n",
    "\n",
    "# Calculate the baseline performance\n",
    "model.eval()  # Set the model to evaluation mode\n",
    "with torch.no_grad():  # Ensure no gradients are computed\n",
    "    output_t, output_c, _ = model(x)\n",
    "baseline_performance = mean_squared_error(output_t, y_t)\n",
    "print(baseline_performance)\n",
    "\n",
    "# Initialize a list to hold the feature importances\n",
    "feature_importances = []\n",
    "icodes = []\n",
    "meanings = []\n",
    "rank = []\n",
    "\n",
    "collist = X_train.columns\n",
    "\n",
    "# Calculate the importance for each feature\n",
    "for i in range(x.shape[1]):  # Iterate over each feature\n",
    "    # Save the original feature\n",
    "    original_feature = x[:, i].clone()\n",
    "    # Permute the feature\n",
    "    permuted_feature = original_feature[torch.randperm(original_feature.size(0))]\n",
    "    x[:, i] = permuted_feature\n",
    "    \n",
    "    # Calculate performance with the permuted data\n",
    "    with torch.no_grad():\n",
    "        output_t, output_c, _ = model(x)\n",
    "        \n",
    "    permuted_performance_t = mean_squared_error(output_t, y_t)\n",
    "    permuted_performance_c = mean_squared_error(output_c, y_c)\n",
    "    \n",
    "    permuted_performance = permuted_performance_t + permuted_performance_t\n",
    "    \n",
    "    # Calculate the importance as the change in performance\n",
    "    importance = baseline_performance - permuted_performance\n",
    "    feature_importances.append(importance)\n",
    "    \n",
    "    # Restore the original feature\n",
    "    x[:, i] = original_feature\n",
    "    \n",
    "# Rank the features by their importance\n",
    "sorted_features = np.argsort(feature_importances)[::-1]  # Indices of features, sorted by importance\n",
    "\n",
    "# Print the feature importances\n",
    "# print(\"Feature importances:\")\n",
    "# for i, feature_index in enumerate(sorted_features):\n",
    "#     #print(f\"Feature {feature_index}: Importance {feature_importances[feature_index]}\")\n",
    "#     icode = collist[feature_index]\n",
    "#     icodes.append(icode.lower())\n",
    "    \n",
    "#     try:\n",
    "#         item = encoding[icode.lower()]\n",
    "#         #print(item)\n",
    "#         meanings.append(item)\n",
    "#     except KeyError:\n",
    "#         #print(f'{icode} not found')\n",
    "#         meanings.append(f'{icode} not found')\n",
    "#     #print(\"==================================================\")\n",
    "    \n",
    "# rankings = pd.DataFrame(icodes, columns = ['icodes'])\n",
    "# rankings['meanings'] = meanings\n",
    "# rankings['importance_values'] = feature_importances\n",
    "\n",
    "# rankings = rankings.sort_values(by = 'importance_values')\n",
    "# rankings = rankings.reset_index().drop(columns = 'index')\n",
    "# rankings"
   ]
  },
  {
   "cell_type": "markdown",
   "id": "c6ab57c9",
   "metadata": {},
   "source": [
    "## Save Model"
   ]
  },
  {
   "cell_type": "code",
   "execution_count": 97,
   "id": "3e48471f",
   "metadata": {},
   "outputs": [
    {
     "data": {
      "text/plain": [
       "TARnetICFR(\n",
       "  (phi): Sequential(\n",
       "    (0): Linear(in_features=27, out_features=128, bias=True)\n",
       "    (1): ELU(alpha=1.0)\n",
       "    (2): Linear(in_features=128, out_features=128, bias=True)\n",
       "    (3): ELU(alpha=1.0)\n",
       "    (4): Dropout(p=0.5, inplace=False)\n",
       "    (5): Linear(in_features=128, out_features=128, bias=True)\n",
       "    (6): ELU(alpha=1.0)\n",
       "    (7): Linear(in_features=128, out_features=128, bias=True)\n",
       "    (8): ELU(alpha=1.0)\n",
       "  )\n",
       "  (y0_hidden): Sequential(\n",
       "    (0): Linear(in_features=128, out_features=128, bias=True)\n",
       "    (1): ELU(alpha=1.0)\n",
       "    (2): Linear(in_features=128, out_features=128, bias=True)\n",
       "    (3): ELU(alpha=1.0)\n",
       "    (4): Linear(in_features=128, out_features=128, bias=True)\n",
       "    (5): ELU(alpha=1.0)\n",
       "    (6): Linear(in_features=128, out_features=128, bias=True)\n",
       "    (7): ELU(alpha=1.0)\n",
       "    (8): Linear(in_features=128, out_features=128, bias=True)\n",
       "    (9): ELU(alpha=1.0)\n",
       "    (10): Linear(in_features=128, out_features=1, bias=True)\n",
       "  )\n",
       "  (y1_hidden): Sequential(\n",
       "    (0): Linear(in_features=128, out_features=128, bias=True)\n",
       "    (1): ELU(alpha=1.0)\n",
       "    (2): Linear(in_features=128, out_features=128, bias=True)\n",
       "    (3): ELU(alpha=1.0)\n",
       "    (4): Dropout(p=0.5, inplace=False)\n",
       "    (5): Linear(in_features=128, out_features=128, bias=True)\n",
       "    (6): ELU(alpha=1.0)\n",
       "    (7): Linear(in_features=128, out_features=128, bias=True)\n",
       "    (8): ELU(alpha=1.0)\n",
       "    (9): Linear(in_features=128, out_features=128, bias=True)\n",
       "    (10): ELU(alpha=1.0)\n",
       "    (11): Linear(in_features=128, out_features=1, bias=True)\n",
       "  )\n",
       ")"
      ]
     },
     "execution_count": 97,
     "metadata": {},
     "output_type": "execute_result"
    }
   ],
   "source": [
    "model"
   ]
  },
  {
   "cell_type": "code",
   "execution_count": 98,
   "id": "3d0daa7a",
   "metadata": {},
   "outputs": [],
   "source": [
    "model = model\n",
    "location = 'storage'"
   ]
  },
  {
   "cell_type": "code",
   "execution_count": 99,
   "id": "3d01c68a",
   "metadata": {},
   "outputs": [],
   "source": [
    "# save model\n",
    "with open(f'C:/Users/Paulina.Wisniewska/Desktop/Do_wyslania/storage/model_{TREATMENT}-{OUTCOME}.pkl', 'wb') as f:\n",
    "    pickle.dump(model, f)"
   ]
  },
  {
   "cell_type": "code",
   "execution_count": 100,
   "id": "361bc1a7",
   "metadata": {},
   "outputs": [],
   "source": [
    "# load model\n",
    "with open(f'C:/Users/Paulina.Wisniewska/Desktop/Do_wyslania/storage/model_{TREATMENT}-{OUTCOME}.pkl', 'rb') as b:\n",
    "    loaded_model = pickle.load(b)"
   ]
  },
  {
   "cell_type": "code",
   "execution_count": 101,
   "id": "d1b9ab86",
   "metadata": {},
   "outputs": [
    {
     "data": {
      "text/plain": [
       "TARnetICFR(\n",
       "  (phi): Sequential(\n",
       "    (0): Linear(in_features=27, out_features=128, bias=True)\n",
       "    (1): ELU(alpha=1.0)\n",
       "    (2): Linear(in_features=128, out_features=128, bias=True)\n",
       "    (3): ELU(alpha=1.0)\n",
       "    (4): Dropout(p=0.5, inplace=False)\n",
       "    (5): Linear(in_features=128, out_features=128, bias=True)\n",
       "    (6): ELU(alpha=1.0)\n",
       "    (7): Linear(in_features=128, out_features=128, bias=True)\n",
       "    (8): ELU(alpha=1.0)\n",
       "  )\n",
       "  (y0_hidden): Sequential(\n",
       "    (0): Linear(in_features=128, out_features=128, bias=True)\n",
       "    (1): ELU(alpha=1.0)\n",
       "    (2): Linear(in_features=128, out_features=128, bias=True)\n",
       "    (3): ELU(alpha=1.0)\n",
       "    (4): Linear(in_features=128, out_features=128, bias=True)\n",
       "    (5): ELU(alpha=1.0)\n",
       "    (6): Linear(in_features=128, out_features=128, bias=True)\n",
       "    (7): ELU(alpha=1.0)\n",
       "    (8): Linear(in_features=128, out_features=128, bias=True)\n",
       "    (9): ELU(alpha=1.0)\n",
       "    (10): Linear(in_features=128, out_features=1, bias=True)\n",
       "  )\n",
       "  (y1_hidden): Sequential(\n",
       "    (0): Linear(in_features=128, out_features=128, bias=True)\n",
       "    (1): ELU(alpha=1.0)\n",
       "    (2): Linear(in_features=128, out_features=128, bias=True)\n",
       "    (3): ELU(alpha=1.0)\n",
       "    (4): Dropout(p=0.5, inplace=False)\n",
       "    (5): Linear(in_features=128, out_features=128, bias=True)\n",
       "    (6): ELU(alpha=1.0)\n",
       "    (7): Linear(in_features=128, out_features=128, bias=True)\n",
       "    (8): ELU(alpha=1.0)\n",
       "    (9): Linear(in_features=128, out_features=128, bias=True)\n",
       "    (10): ELU(alpha=1.0)\n",
       "    (11): Linear(in_features=128, out_features=1, bias=True)\n",
       "  )\n",
       ")"
      ]
     },
     "execution_count": 101,
     "metadata": {},
     "output_type": "execute_result"
    }
   ],
   "source": [
    "loaded_model"
   ]
  },
  {
   "cell_type": "code",
   "execution_count": null,
   "id": "db6285d7",
   "metadata": {},
   "outputs": [],
   "source": []
  },
  {
   "cell_type": "code",
   "execution_count": null,
   "id": "8aff510e",
   "metadata": {},
   "outputs": [],
   "source": []
  },
  {
   "cell_type": "code",
   "execution_count": null,
   "id": "8548704e",
   "metadata": {},
   "outputs": [],
   "source": []
  }
 ],
 "metadata": {
  "kernelspec": {
   "display_name": "Python 3 (ipykernel)",
   "language": "python",
   "name": "python3"
  },
  "language_info": {
   "codemirror_mode": {
    "name": "ipython",
    "version": 3
   },
   "file_extension": ".py",
   "mimetype": "text/x-python",
   "name": "python",
   "nbconvert_exporter": "python",
   "pygments_lexer": "ipython3",
   "version": "3.9.13"
  }
 },
 "nbformat": 4,
 "nbformat_minor": 5
}

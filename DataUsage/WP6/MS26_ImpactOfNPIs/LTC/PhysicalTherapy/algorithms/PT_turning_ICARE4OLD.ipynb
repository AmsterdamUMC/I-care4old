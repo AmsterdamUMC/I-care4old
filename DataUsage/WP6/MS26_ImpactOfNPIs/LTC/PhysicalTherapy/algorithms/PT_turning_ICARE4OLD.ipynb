{
 "cells": [
  {
   "cell_type": "code",
   "execution_count": 136,
   "id": "b13730dd",
   "metadata": {},
   "outputs": [],
   "source": [
    "# Causal Machine Learning for Treatment Effect Estimation"
   ]
  },
  {
   "cell_type": "code",
   "execution_count": 137,
   "id": "6d9749f9",
   "metadata": {},
   "outputs": [],
   "source": [
    "# import necessary libraries\n",
    "import pandas as pd\n",
    "import numpy as np\n",
    "import seaborn as sns\n",
    "import matplotlib.pyplot as plt\n",
    "\n",
    "#from sklearn.impute import KNNImputer\n",
    "from sklearn.model_selection import train_test_split, cross_val_score\n",
    "from sklearn.metrics import mean_squared_error, mean_absolute_error, r2_score\n",
    "from sklearn.cluster import KMeans\n",
    "\n",
    "from sklearn.preprocessing import Normalizer\n",
    "import pickle\n",
    "\n",
    "# get standard models\n",
    "from sklearn.linear_model import LogisticRegression\n",
    "from sklearn.linear_model import LinearRegression\n",
    "from sklearn.linear_model import Ridge\n",
    "from sklearn.linear_model import Lasso\n",
    "from sklearn.tree import DecisionTreeRegressor, DecisionTreeClassifier\n",
    "from sklearn.ensemble import RandomForestRegressor, RandomForestClassifier\n",
    "from sklearn.ensemble import GradientBoostingRegressor, GradientBoostingClassifier\n",
    "from sklearn.ensemble import AdaBoostRegressor, AdaBoostClassifier\n",
    "from sklearn.ensemble import ExtraTreesRegressor, ExtraTreesClassifier\n",
    "from sklearn.ensemble import BaggingRegressor\n",
    "from sklearn.ensemble import VotingRegressor\n",
    "from sklearn.ensemble import RandomForestClassifier\n",
    "from sklearn.neural_network import MLPRegressor, MLPClassifier\n",
    "\n",
    "from sources.doubly_robust import doubly_robust\n",
    "from sources.models.TARNet import TARnetICFR\n",
    "from significance import *\n",
    "\n",
    "import pickle\n",
    "import torch\n",
    "import torch.nn as nn\n",
    "import torch.optim as optim\n",
    "\n",
    "from auxiliary_propensity_on_outcomet0_without_print import data_processing, doubly_robust, visualise, visualise_ites, impute_missing_values_knn, run_model, undersample, full_contra_indications_tracker, value_based_contra_indications_tracker, period_decomposition,run_model_class\n",
    "from icodes import encoding\n",
    "\n",
    "# from datetime import timedelta\n",
    "import warnings \n",
    "warnings.filterwarnings('ignore')"
   ]
  },
  {
   "cell_type": "markdown",
   "id": "cf6bccc9",
   "metadata": {},
   "source": [
    "## 1. Introduction\n",
    "\n",
    "The purpose of this notebook is to provide and end-to-end description of the treatment effect estimation process. This notebook consists of three parts:\n",
    "\n",
    "1. **Data processing**: The first part is the data processing part. Here we basically prepare the data for the ML models.\n",
    "2. **Causal ML Models**: The second part of the notebook consists of a series of causal ML learning models. In particular, we use the causal meta-learning framework. \n",
    "3. **Adadptive Model**: The third part of the notebook is also a machine learning model. However, contrary to the models before, this one was developed by the VU team and allows for more control over the estimation proces. \n",
    "\n",
    "Please find below an overview of the steps we will go through. Note that the boxes do not correspond one-to-one to sections in the notebook, but the general flow is the same. "
   ]
  },
  {
   "cell_type": "markdown",
   "id": "32f80659",
   "metadata": {},
   "source": [
    "![alt text](images\\ModellingOverview.jpg)"
   ]
  },
  {
   "cell_type": "markdown",
   "id": "c3702ec1",
   "metadata": {},
   "source": [
    "## 1.a. Preliminaries \\& Design Choices\n",
    "\n",
    "We first want to get some preliminaries out of the way. In particular, we would like to make some specific **design choices** explicit. Below, we can set the following parameters, thereby modifying specific choices:\n",
    "\n",
    "- ``EXPOSURE_THRESHOLD``: The treatment is binary. However, how much treatment is provided can be changed with this variable. In essence, it determines the cut-off value. For instance, we can set it to 60 minutes in the case of physical therapy (in mins.). Then, patients with more then 60 minutes of PT will be assigned T=1, those below will be T=0.\n",
    "- ``PERIOD_MIN``: Minimal time period between baseline measurement and followup measurement. N.B. If this is set too low, the effect may not yet register. Too high and the effect may have faded out. \n",
    "- ``PERIOD_MAX``: Maximal time period between baseline measurement and followup measurement. N.B. If this is set too low, effect may not yet register. Too high and the effect may have faded out.  \n",
    "- ``REMOVE_MULTI_COL``: Whether or not to remove multicollinear columns. \n",
    "- ``CORRELATION_THRESHOLD``: Threshold for removing collinear columns. \n",
    "- ``UNDERSAMPLE``: Some models perform better when undersampling the minority class. For instance, if there are 1000 cases of patients with PT (T=0) and only 150 with PT (T=1), setting this to ``True`` ensures that 150 patients are sampled from PT (T=0), resulting in 300 observations in total.\n",
    "- ``IMPUTE``: Whether or not to impute missing *covariate* values.\n",
    "- ``PROPENSITY``: Whether or not to add a propensity score to the model.\n",
    "- ``CLEAN_COMPARE``: By default (when this is set to ``False``), the data processing script assigns any observations below ``EXPOSURE_THRESHOLD`` to the control group and  any observation above ``EXPOSURE_THRESHOLD`` to treated. Setting this parameter to ``True`` creates a scenario where *only* observation that did not get any treatment are assigned to the control group. For instance, in the case of PT, we would have a control group of patients getting only 0 mins. of PT and a treated group of patients with, say, more than 60 mins. of PT.\n",
    "- ``TREATMENT``: Name of the treatment variable.\n",
    "- ``TARGET``: Name of the target variable."
   ]
  },
  {
   "cell_type": "code",
   "execution_count": 138,
   "id": "90862091",
   "metadata": {},
   "outputs": [],
   "source": [
    "# set seed\n",
    "np.random.seed(42)\n",
    "\n",
    "# set the exposure threshold for binary dichtomization. In the case of PT, 60 minutes of PT at least. \n",
    "EXPOSURE_THRESHOLD = 30 #30 # SET TO 30\n",
    "\n",
    "# set the period between observations. We only consider the effects between 120 and 240 days after exposure. \n",
    "PERIOD_MIN = 90 # /MAYBE CHECK WITH 60? 160\n",
    "PERIOD_MAX = 210 # CHECK WITH 120 DAYS 380\n",
    "\n",
    "# if we want to move multicollinear columns, set to True\n",
    "REMOVE_MULTI_COL = True\n",
    "\n",
    "# set the threshold for multicollinearity drops \n",
    "CORRELATION_THRESHOLD = 0.6\n",
    "\n",
    "# set to True if we want to undersample\n",
    "UNDERSAMPLE = False #False #True\n",
    "\n",
    "# set to True if we want to impute missing values\n",
    "IMPUTE = True\n",
    "\n",
    "PROPENSITY = True\n",
    "\n",
    "# clean compare (to be used if only > threshold AND treatment = 0)\n",
    "CLEAN_COMPARE = True\n",
    "\n",
    "TREATMENT = 'in3eb' # (minutes or days of physical therapy)\n",
    "OUTCOME = 'ij2b' "
   ]
  },
  {
   "cell_type": "markdown",
   "id": "1f092037",
   "metadata": {},
   "source": [
    "Having set the desired parameters, we will now read in the data."
   ]
  },
  {
   "cell_type": "code",
   "execution_count": 139,
   "id": "d77ac00e",
   "metadata": {},
   "outputs": [],
   "source": [
    "import pyreadstat\n",
    "df = pd.read_csv(\"C:/Users/Paulina.Wisniewska/Desktop/df.csv\",engine=\"python\", encoding = 'cp1252')\n",
    "\n",
    "# # read data\n",
    "# df = pd.read_csv(file)\n",
    "# print(f\"Treatment before processing {len(df[df[TREATMENT]>EXPOSURE_THRESHOLD])}\")"
   ]
  },
  {
   "cell_type": "code",
   "execution_count": 140,
   "id": "957ce964",
   "metadata": {},
   "outputs": [],
   "source": [
    "df = df.dropna(subset=['ij2b'])"
   ]
  },
  {
   "cell_type": "code",
   "execution_count": 141,
   "id": "1ad34599",
   "metadata": {},
   "outputs": [],
   "source": [
    "to_discrete = lambda x: 1 if x >= 1 else 0\n",
    "df['ij2b'] = df['ij2b'].apply(to_discrete)"
   ]
  },
  {
   "cell_type": "code",
   "execution_count": 142,
   "id": "3d443857",
   "metadata": {},
   "outputs": [],
   "source": [
    "df = df.dropna(subset=['ij2b'])"
   ]
  },
  {
   "cell_type": "code",
   "execution_count": 143,
   "id": "79c75139",
   "metadata": {},
   "outputs": [],
   "source": [
    "binary = lambda x: 1 if x >= EXPOSURE_THRESHOLD else 0\n",
    "\n",
    "df['treatment'] = df[TREATMENT].apply(binary)  \n",
    "\n"
   ]
  },
  {
   "cell_type": "markdown",
   "id": "2caf22a3",
   "metadata": {},
   "source": [
    "## Create \"Fake\" Discrete Outcome to Represent Mortality or Hospitalization"
   ]
  },
  {
   "cell_type": "code",
   "execution_count": 144,
   "id": "7c1430bd",
   "metadata": {},
   "outputs": [],
   "source": [
    "# REMOVE THIS, JUST TO SHOW THAT THE CODE RUNS\n",
    "df['hosp'] = np.random.choice([0,1], size = len(df))"
   ]
  },
  {
   "cell_type": "code",
   "execution_count": 145,
   "id": "7e5fdba4",
   "metadata": {},
   "outputs": [],
   "source": [
    "df = df.dropna(subset=['ij2d'])\n",
    "to_discrete = lambda x: 1 if x >= 1 else 0\n",
    "df['ij2d'] = df['ij2d'].apply(to_discrete)"
   ]
  },
  {
   "cell_type": "code",
   "execution_count": 146,
   "id": "404ad77d",
   "metadata": {},
   "outputs": [],
   "source": [
    "to_discrete = lambda x: 1 if x >= 1 else 0\n",
    "df['ii1j'] = df['ii1j'].apply(to_discrete)"
   ]
  },
  {
   "cell_type": "code",
   "execution_count": 147,
   "id": "b3bb5609",
   "metadata": {},
   "outputs": [],
   "source": [
    "def recode(value):\n",
    "    if value  == 0:\n",
    "        return 0 \n",
    "    elif 1<= value<=2 :\n",
    "        return 1\n",
    "    elif pd.isna(value):\n",
    "        return np.nan\n",
    "    else:\n",
    "        return 2\n",
    "    \n",
    "df[['sDRS']] = df[['sDRS']].applymap(recode)\n"
   ]
  },
  {
   "cell_type": "code",
   "execution_count": 148,
   "id": "759fe23e",
   "metadata": {},
   "outputs": [],
   "source": [
    "def recode(value):\n",
    "    if value  == 0:\n",
    "        return 0 \n",
    "    elif 1<= value<=2 :\n",
    "        return 1\n",
    "    elif 3<= value<=4 :\n",
    "        return 2\n",
    "    elif pd.isna(value):\n",
    "        return np.nan\n",
    "    else:\n",
    "        return 3\n",
    "    \n",
    "df[['sCPS']] = df[['sCPS']].applymap(recode)\n"
   ]
  },
  {
   "cell_type": "code",
   "execution_count": 149,
   "id": "e1a3f407",
   "metadata": {},
   "outputs": [],
   "source": [
    "def recode(value):\n",
    "    if value  == 0 or value ==1:\n",
    "        return 0 \n",
    "    elif  value  == 2 or value ==3:\n",
    "        return 1\n",
    "#     elif 4<= value & value<=6 :\n",
    "#         return 2\n",
    "    elif pd.isna(value):\n",
    "        return np.nan\n",
    "    else:\n",
    "        return 2\n",
    "    \n",
    "df[['sADLH']] = df[['sADLH']].applymap(recode)\n"
   ]
  },
  {
   "cell_type": "code",
   "execution_count": 150,
   "id": "2eed1ff1",
   "metadata": {},
   "outputs": [],
   "source": [
    "# get number of classes\n",
    "NUM_CLASSES = len(df[OUTCOME].dropna().unique())"
   ]
  },
  {
   "cell_type": "code",
   "execution_count": 151,
   "id": "4741ab4a",
   "metadata": {},
   "outputs": [],
   "source": [
    "df= df[df['sAGE_cat']>=60]"
   ]
  },
  {
   "cell_type": "markdown",
   "id": "2f5c38f8",
   "metadata": {},
   "source": [
    "## Part 2. Data Processing\n",
    "\n",
    "In this first part, we will carry out the data processsing. In particular, we would like to select the relevant covariates, make a pre-selection based on patient characteristics (e.g. whether or not contra-indications are present), select the relevant period of observation, impute missing *coviariate* values and, lastly, handle any multi-collinearity. "
   ]
  },
  {
   "cell_type": "markdown",
   "id": "2dbdc92a",
   "metadata": {},
   "source": [
    "Next, we define the lists of covariates, clinical indications and contra-indications"
   ]
  },
  {
   "cell_type": "code",
   "execution_count": 152,
   "id": "62abdb37",
   "metadata": {},
   "outputs": [],
   "source": [
    "######################               PT            ################################\n",
    "\n",
    "clinical_contra = ['ij6c','ij6a', 'ij6b' , 'ij2r'] \n",
    "\n",
    "\n",
    "\n",
    "# list relevant confounders\n",
    "confounders = ['sADLH','sAGE_cat', 'ih1', 'ih3', 'il7',   'ii1e', 'ii1h', 'sCPS','ij2d',  'ij2c'] #  'sDRS ,'sADLH',\n",
    "\n",
    "# x = ['ij2a','ij2b','ij2c','ij2d' ]\n",
    "# conf\n",
    "\n",
    "# ADD VALUE BASED CLINICAL INDICATIONS, E.G. {'sDRS' : [3,4]}\n",
    "\n",
    "# list of other relevant variables\n",
    "relevant_vars = ['A3', 'ID', TREATMENT, OUTCOME, 'iA2']\n",
    "\n",
    "# print(len(contra_indications))\n",
    "\n"
   ]
  },
  {
   "cell_type": "code",
   "execution_count": 153,
   "id": "88b10e76",
   "metadata": {},
   "outputs": [],
   "source": [
    "df = df.dropna(subset=['ij2c'])\n",
    "to_discrete = lambda x: 1 if x >= 1 else 0\n",
    "df['ij2c'] = df['ij2c'].apply(to_discrete)"
   ]
  },
  {
   "cell_type": "code",
   "execution_count": 154,
   "id": "037e4915",
   "metadata": {},
   "outputs": [],
   "source": [
    "df = df.dropna(subset=['ij2d'])\n",
    "to_discrete = lambda x: 1 if x >= 1 else 0\n",
    "df['ij2d'] = df['ij2d'].apply(to_discrete)"
   ]
  },
  {
   "cell_type": "code",
   "execution_count": 155,
   "id": "cccb4d2c",
   "metadata": {},
   "outputs": [],
   "source": [
    "# df = df.dropna(subset=['sAGE_cat'])\n",
    "to_discrete = lambda x: 1 if 60<=x <=79  else 2 if 80<=x <=89 else 3 if x>=90 else None\n",
    "df['sAGE_cat'] = df['sAGE_cat'].apply(to_discrete)"
   ]
  },
  {
   "cell_type": "markdown",
   "id": "9547c109",
   "metadata": {},
   "source": [
    "Please note that you can get the meaning of the icodes by running the ``encoding``-function below. You only need to change the name of the ``code`` variable."
   ]
  },
  {
   "cell_type": "code",
   "execution_count": 156,
   "id": "27880938",
   "metadata": {},
   "outputs": [
    {
     "name": "stdout",
     "output_type": "stream",
     "text": [
      "Gender\n"
     ]
    }
   ],
   "source": [
    "code = 'iA2'\n",
    "print(encoding[(code).lower()])"
   ]
  },
  {
   "cell_type": "markdown",
   "id": "72a19605",
   "metadata": {},
   "source": [
    "### 2.a. Indications"
   ]
  },
  {
   "cell_type": "markdown",
   "id": "da0f77f4",
   "metadata": {},
   "source": [
    "### 2a. Contra-indications\n",
    "\n",
    "Next, the first thing we want to do is to drop patients that have a contra-indication for the treatment in questions. In the code below, we specify the contra-indications. "
   ]
  },
  {
   "cell_type": "markdown",
   "id": "1de53fd0",
   "metadata": {},
   "source": [
    "Finally, for some contra-indications we want to exclude based on particular values only. We can do this by running the script below. "
   ]
  },
  {
   "cell_type": "markdown",
   "id": "4137c386",
   "metadata": {},
   "source": [
    "Having processed the contra-indications, we can now select the necessary columns in the data."
   ]
  },
  {
   "cell_type": "code",
   "execution_count": 157,
   "id": "586b484e",
   "metadata": {},
   "outputs": [],
   "source": [
    "df = df[confounders+ clinical_contra+relevant_vars ]   #list(clinical_indications.keys())+\n",
    "# print(f\"Treatment after selecting covariates {len(df[df[TREATMENT]>=EXPOSURE_THRESHOLD])}\")"
   ]
  },
  {
   "cell_type": "code",
   "execution_count": 158,
   "id": "65e3137a",
   "metadata": {},
   "outputs": [],
   "source": [
    "# remove duplicated cols if necessary\n",
    "df = df.loc[:,[True if i == False else False for i in df.T.index.duplicated(keep='first')]] "
   ]
  },
  {
   "cell_type": "markdown",
   "id": "aa1cdf9c",
   "metadata": {},
   "source": [
    "### 2.b. Baseline-Followup Selection\n",
    "\n",
    "Important to note here is that in this particular setup, our goal is to **estimate the outcome value at follow up from the covariates *and* outcome variable at baseline**. \n",
    "\n",
    "Below you find a schematic depiction of how we want to process the data. As you can see, there are two timelines:\n",
    "\n",
    "1. **Timeline 1**: Naturally processes from baseline to follow up over time, without any intervention in the meantme.\n",
    "2. **Timeline 2**: Same as before, but with the difference that not an intervention has take place at some point in time between baseline and follow up. "
   ]
  },
  {
   "cell_type": "markdown",
   "id": "3a5c28d1",
   "metadata": {},
   "source": [
    "![alt text](TimelineModels.jpg)"
   ]
  },
  {
   "cell_type": "markdown",
   "id": "76f61916",
   "metadata": {},
   "source": [
    "Our goal is therefore to, *for each observation*, take the values (**pre-treatment** covariates, outcome on baseline $y_{t}$) of baseline, and the  values at follow up (outcome on follow up $y_{t+1}$) and store it in a convenient manner. Important to note is that as patient may have *several* of these baseline-followup recors where sometimes an intervention may have occured and sometimes not. We decided to do this to, again, safe as much data as possible. \n",
    "\n",
    "Let us begin by first counting the number of assesments. We do this, because it is not possible to include patients without followup. "
   ]
  },
  {
   "cell_type": "code",
   "execution_count": 159,
   "id": "6297ed64",
   "metadata": {},
   "outputs": [],
   "source": [
    "# get number of assesments\n",
    "counter = lambda x: len(df[df['ID']==x])\n",
    "\n",
    "# count number of items\n",
    "df['num_assesments1'] =df['ID'].apply(counter)"
   ]
  },
  {
   "cell_type": "markdown",
   "id": "e3d2d9af",
   "metadata": {},
   "source": [
    "Let us select only observations with more than 2 assesments. "
   ]
  },
  {
   "cell_type": "code",
   "execution_count": 160,
   "id": "046a82e0",
   "metadata": {},
   "outputs": [],
   "source": [
    "# get number of assesments higher than 1\n",
    "df = df[df['num_assesments1']>=2]\n",
    "\n",
    "\n",
    "# print(f'{len(df)} observations remaining.')"
   ]
  },
  {
   "cell_type": "markdown",
   "id": "72f30a38",
   "metadata": {},
   "source": [
    "In the code below, we want to process the data a bit further. First, we want to make sure that the date columns (``iA9``) is in the correct format. Then we want to order based on ID and date. Also, we want to drop missing dates (if there are any) and drop any duplicated observations. Lastly, we want to make sure that the outcome is in the right format (i.e. a ``float``)."
   ]
  },
  {
   "cell_type": "code",
   "execution_count": 161,
   "id": "69f4be75",
   "metadata": {},
   "outputs": [],
   "source": [
    "# convert column to datetime \n",
    "df['A3'] = pd.to_datetime(df['A3']) \n",
    "# sort values by ID and date\n",
    "df = df.sort_values(by = ['ID', 'A3'])\n",
    "# drop nans on dates of assesment\n",
    "df = df[df['A3'].isna()==False]\n",
    "# drop duplicated values\n",
    "df = df.drop_duplicates()\n",
    "df[OUTCOME] = df[OUTCOME].astype(float)"
   ]
  },
  {
   "cell_type": "markdown",
   "id": "43866522",
   "metadata": {},
   "source": [
    "### 2.c Drop Duplicated Values\n",
    "\n",
    "Next, because there may be two assesments on the same date, we also want to drop those (regardless of the reason as inspecting that is beyond the scope of this project notebook). "
   ]
  },
  {
   "cell_type": "code",
   "execution_count": 162,
   "id": "46d2ab96",
   "metadata": {},
   "outputs": [],
   "source": [
    "# Group by 'Clientid' and then apply the duplicate check on 'iA9' within each group\n",
    "duplicated_indices = df.groupby('ID').apply(\n",
    "    lambda x: x[x['A3'].duplicated()].index).explode()\n",
    "\n",
    "# Drop NaN values from the index list if they exist\n",
    "duplicated_indices = duplicated_indices.dropna()\n",
    "\n",
    "# Convert the result into a list if it's not empty\n",
    "if not duplicated_indices.empty:\n",
    "    duplicated_indices = duplicated_indices.tolist()\n",
    "\n",
    "    # Drop the duplicates using the list of indices\n",
    "    df = df.drop(index=duplicated_indices)"
   ]
  },
  {
   "cell_type": "markdown",
   "id": "ac32c7d6",
   "metadata": {},
   "source": [
    "### 2.d. Clean Compare\n",
    "If we want to only compare between those patients that receive either 0 treatment or a treatment above the threshold value, we run this code."
   ]
  },
  {
   "cell_type": "code",
   "execution_count": 163,
   "id": "b68930d7",
   "metadata": {},
   "outputs": [],
   "source": [
    "if CLEAN_COMPARE:\n",
    "    df = df[(df[TREATMENT] <= 0) | (df[TREATMENT] >= EXPOSURE_THRESHOLD)]"
   ]
  },
  {
   "cell_type": "markdown",
   "id": "221ddb34",
   "metadata": {},
   "source": [
    "### 2.e Period Decomposition"
   ]
  },
  {
   "cell_type": "markdown",
   "id": "0f0a67a3",
   "metadata": {},
   "source": [
    "The piece of code (i.e. the function ``period_decomposition``) below is a loop that basically does the following:\n",
    "\n",
    "1. Create a temporary dataframe ``temp_df``. We do this to make sure that there is an empty entity (i.e. data storage) to which we can append new, cleaned and processed observations.\n",
    "2. Then, for each patient we do the following:\n",
    "3. Look at all the observation dates.\n",
    "4. Select the target outcome at follow up and at baseline.\n",
    "5. Append each period to the ``temp_df`` *until running out of dates*. \n",
    "6. Move to the next patient. "
   ]
  },
  {
   "cell_type": "code",
   "execution_count": 164,
   "id": "0e300f07",
   "metadata": {},
   "outputs": [],
   "source": [
    "def period_decomposition(df, target):\n",
    "    # List to store the rows of the new DataFrame\n",
    "    rows = []\n",
    "\n",
    "    # Unique client IDs\n",
    "    client_ids = df['ID'].unique()\n",
    "    total = len(client_ids)\n",
    "\n",
    "    for count, client_id in enumerate(client_ids, start=1):\n",
    "        # Inform the user about the progress\n",
    "        if count % 1000 == 0 or count == total:\n",
    "            print(f'{count} of {total} items completed...')\n",
    "\n",
    "        # Extract rows for the current client\n",
    "        client_rows = df[df['ID'] == client_id].sort_values('A3')\n",
    "        client_dates = client_rows['A3'].tolist()\n",
    "\n",
    "        for i in range(len(client_dates) - 1):\n",
    "            baseline_date = client_dates[i]\n",
    "            followup_date = client_dates[i + 1]\n",
    "\n",
    "            # Extract the rows for baseline and follow-up\n",
    "            baseline_row = client_rows[client_rows['A3'] == baseline_date]\n",
    "            followup_row = client_rows[client_rows['A3'] == followup_date]\n",
    "\n",
    "            # Calculate the outcomes\n",
    "            outcome_t0 = float(baseline_row[target])\n",
    "            outcome_t1 = float(followup_row[target])\n",
    "\n",
    "            # Prepare a new row with all necessary information\n",
    "            new_row = baseline_row.iloc[0].to_dict()\n",
    "            new_row['OutcomeT0'] = outcome_t0\n",
    "            new_row['OutcomeT1'] = outcome_t1\n",
    "            new_row['OutcomeT0Date'] = baseline_date\n",
    "            new_row['OutcomeT1Date'] = followup_date\n",
    "            rows.append(new_row)\n",
    "\n",
    "    # Create a new DataFrame from the list of new rows\n",
    "    temp_df = pd.DataFrame(rows)\n",
    "    print(\"Completed.\")\n",
    "    return temp_df\n"
   ]
  },
  {
   "cell_type": "code",
   "execution_count": 165,
   "id": "4aa46020",
   "metadata": {},
   "outputs": [
    {
     "name": "stdout",
     "output_type": "stream",
     "text": [
      "1000 of 3231 items completed...\n",
      "2000 of 3231 items completed...\n",
      "3000 of 3231 items completed...\n",
      "3231 of 3231 items completed...\n",
      "Completed.\n",
      "Treatment after processing 611\n"
     ]
    }
   ],
   "source": [
    "df = period_decomposition(df, target = OUTCOME)\n",
    "print(f\"Treatment after processing {len(df[df[TREATMENT]>EXPOSURE_THRESHOLD])}\")"
   ]
  },
  {
   "cell_type": "code",
   "execution_count": 166,
   "id": "1c14fe2b",
   "metadata": {},
   "outputs": [],
   "source": [
    "contra_indications = {  'ij6c': [1,2,3,4,5,6,7,8],   #ij6a\n",
    "                      'ij6b':[1,2,3,4,5,6,7,8],   'ij6a': [1,2,3,4,5,6,7,8] ,'ij2r':[1,2,3,4,5,6,7,8]      }    #"
   ]
  },
  {
   "cell_type": "code",
   "execution_count": 167,
   "id": "e1ef54c9",
   "metadata": {},
   "outputs": [],
   "source": [
    "for column, bad_values in contra_indications.items():\n",
    "    df = df[~df[column].isin(bad_values)]"
   ]
  },
  {
   "cell_type": "markdown",
   "id": "5d2ffe04",
   "metadata": {},
   "source": [
    "### 2.f Dichotomize Treatment Variable\n",
    "\n",
    "Because our model can only deal with binary treatments, we need to convert the continuous treatments into binary ones. We will do that using a simple fuctions. Recall that the threshold has been set using the ``EXPOSURE_THRESHOLD`` variable above."
   ]
  },
  {
   "cell_type": "code",
   "execution_count": 168,
   "id": "baea95fb",
   "metadata": {},
   "outputs": [],
   "source": [
    "binary = lambda x: 1 if x >= EXPOSURE_THRESHOLD else 0\n",
    "# convert treatment to binary\n",
    "df['treatment'] = df[TREATMENT].apply(binary)  \n",
    "df = df.drop(columns = [TREATMENT])"
   ]
  },
  {
   "cell_type": "code",
   "execution_count": 169,
   "id": "3b5068ac",
   "metadata": {},
   "outputs": [],
   "source": [
    "# drop rows with missing outcome or treatment \n",
    "df = df.dropna(subset = ['OutcomeT0', 'OutcomeT1', 'treatment'])\n"
   ]
  },
  {
   "cell_type": "markdown",
   "id": "13ffd723",
   "metadata": {},
   "source": [
    "### 2.g Select Relevant Period\n",
    "\n",
    "Because the base data is too crude (the time periods between follow-up and baseline may be too far apart), we want to select a suitable period between observations. In essence, we aim to select a time window which is, on the one hand, determined by the minimum time (``PERIOD_MIN``) between baseline measurement and follow-up measurement and the maximum of that time window (``PERIOD_MAX``)."
   ]
  },
  {
   "cell_type": "code",
   "execution_count": 170,
   "id": "2feba781",
   "metadata": {},
   "outputs": [
    {
     "data": {
      "text/plain": [
       "541"
      ]
     },
     "execution_count": 170,
     "metadata": {},
     "output_type": "execute_result"
    }
   ],
   "source": [
    "# get difference between dates\n",
    "df['date_diff'] = df['OutcomeT1Date'] - df['OutcomeT0Date'] \n",
    "df['date_diff'] = df['date_diff'].dt.days \n",
    "\n",
    "# select relevant period\n",
    "df = df[df['date_diff'] <= PERIOD_MAX]\n",
    "df = df[df['date_diff'] >= PERIOD_MIN]\n",
    "\n",
    "# df = df.drop_duplicates(subset='Clientid')\n",
    "\n",
    "\n",
    "df = df.drop(columns = ['OutcomeT1Date', 'OutcomeT0Date', 'date_diff', 'A3', OUTCOME, 'ID'])\n",
    "# examine how many treatment observations are left\n",
    "len(df[df['treatment']==1])"
   ]
  },
  {
   "cell_type": "markdown",
   "id": "479d5175",
   "metadata": {},
   "source": [
    "### 2.h Impute Missing Values\n",
    "\n",
    "In this part, we impute missing values. We use a standard KNN-imputer. If desired, it is possible to change the number of neighbours. Keep in mind that we can set this to ``False`` if we do not want to run it,"
   ]
  },
  {
   "cell_type": "code",
   "execution_count": 171,
   "id": "05fea014",
   "metadata": {},
   "outputs": [],
   "source": [
    "#imputing = IMPUTE\n",
    "if IMPUTE:\n",
    "    df = impute_missing_values_knn(df, n_neighbors=5)\n",
    "else:\n",
    "    df = df.dropna()\n",
    "    print(len(df[df['treatment']==1]))"
   ]
  },
  {
   "cell_type": "code",
   "execution_count": 172,
   "id": "781074b7",
   "metadata": {},
   "outputs": [],
   "source": [
    "def recode(value):\n",
    "    if value <= 0.5:\n",
    "        return 0 \n",
    "    elif 0.5<= value<=1.5 :\n",
    "        return 1\n",
    "    elif 1.5<= value<=2.5 :\n",
    "        return 2\n",
    "    elif 2.5<= value<=3.5 :\n",
    "        return 3\n",
    "    elif pd.isna(value):\n",
    "        return np.nan\n",
    "\n",
    "    \n",
    "df[['sCPS']] = df[['sCPS']].applymap(recode)\n"
   ]
  },
  {
   "cell_type": "markdown",
   "id": "f1a768ca",
   "metadata": {},
   "source": [
    "### 2.i Handle Multicollinearity\n",
    "\n",
    "Here we will handle multi-collinear columns. Keep in mind that we can set this to ``False`` if we do not want to run it,"
   ]
  },
  {
   "cell_type": "markdown",
   "id": "0c01027c",
   "metadata": {},
   "source": [
    "### 2.j Handle Empty Columns\n",
    "\n",
    "In the process, it may be that we end up with columns that contain only $0$ values. We want to drop these columns, as they are not informative."
   ]
  },
  {
   "cell_type": "code",
   "execution_count": 173,
   "id": "b6579421",
   "metadata": {},
   "outputs": [
    {
     "name": "stdout",
     "output_type": "stream",
     "text": [
      "ij6c - End-stage disease, 6 or fewer months to live dropped.\n",
      "ij6a - Conditions diseases make cognitive, ADL, mood, or behavior patterns unstable dropped.\n",
      "ij6b - Experiencing an acute episode, or a flare-up of a recurrent or chronic problem dropped.\n",
      "ij2r - GI or GU bleeding dropped.\n"
     ]
    }
   ],
   "source": [
    "# drop num_assesment column, not relevant anymore\n",
    "df = df.drop(columns = ['num_assesments1'])\n",
    "# get a list of coviariate columns\n",
    "X = df.drop(columns = ['OutcomeT1', 'OutcomeT0', 'treatment']).columns\n",
    "\n",
    "# drop columns that only have 0 values\n",
    "for col in X:\n",
    "    if len(df[df[col]==0]) == len(df):\n",
    "        print(f\"{col} - {encoding[col.lower()]} dropped.\" )\n",
    "        df = df.drop(columns = [col])"
   ]
  },
  {
   "cell_type": "markdown",
   "id": "391772f0",
   "metadata": {},
   "source": [
    "### 2.k Store CSV\n",
    "\n",
    "In the last part of this notebook, we will store that data."
   ]
  },
  {
   "cell_type": "code",
   "execution_count": 174,
   "id": "e91c1d86",
   "metadata": {},
   "outputs": [],
   "source": [
    "# ADD SKIP FOR TREATMENT AND OUTCOME T1\n",
    "covars = [str(i) for i in df.columns]\n",
    "covar_names = []\n",
    "\n",
    "#print(encoding[(code).lower()])\n",
    "\n",
    "for covar in covars:\n",
    "    if (covar != 'treatment') and (covar != 'OutcomeT1'):\n",
    "\n",
    "        try:\n",
    "            covar_names.append(encoding[(covar).lower()])\n",
    "        except:\n",
    "            covar_names.append(covar)\n",
    "\n",
    "        "
   ]
  },
  {
   "cell_type": "code",
   "execution_count": 175,
   "id": "28d9e876",
   "metadata": {},
   "outputs": [
    {
     "data": {
      "text/plain": [
       "['sADLH ADL hierarchy scale (0-6)',\n",
       " 'sAGE_cat',\n",
       " 'Bladder continence',\n",
       " 'Bowel continence',\n",
       " 'Foot problems, eg bunions, hammertoes, overlapping toes, structural problems, infections, ulcers',\n",
       " 'Hemiplegia',\n",
       " 'Parkinsons disease',\n",
       " 'sCPS Cognitive Performance Scale 0-6 range-Morris 1991',\n",
       " 'Unsteady gait',\n",
       " 'Dizziness',\n",
       " 'Gender',\n",
       " 'OutcomeT0']"
      ]
     },
     "execution_count": 175,
     "metadata": {},
     "output_type": "execute_result"
    }
   ],
   "source": [
    "covar_names"
   ]
  },
  {
   "cell_type": "code",
   "execution_count": 176,
   "id": "9a55863e",
   "metadata": {},
   "outputs": [
    {
     "data": {
      "text/plain": [
       "['sADLH',\n",
       " 'sAGE_cat',\n",
       " 'ih1',\n",
       " 'ih3',\n",
       " 'il7',\n",
       " 'ii1e',\n",
       " 'ii1h',\n",
       " 'sCPS',\n",
       " 'ij2d',\n",
       " 'ij2c',\n",
       " 'iA2',\n",
       " 'OutcomeT0',\n",
       " 'OutcomeT1',\n",
       " 'treatment']"
      ]
     },
     "execution_count": 176,
     "metadata": {},
     "output_type": "execute_result"
    }
   ],
   "source": [
    "covars"
   ]
  },
  {
   "cell_type": "code",
   "execution_count": 177,
   "id": "63fb102b",
   "metadata": {},
   "outputs": [],
   "source": [
    "\n",
    "def recode(value):\n",
    "    if 0<=value  <= 0.5:\n",
    "        return 0 \n",
    "    elif value >0.5:\n",
    "        return 1\n",
    "    else:\n",
    "        return value\n",
    "    \n",
    "df[[ 'ii1h','ii1e']]=df[[ 'ii1h','ii1e']].applymap(recode)     #  ', \n"
   ]
  },
  {
   "cell_type": "code",
   "execution_count": 178,
   "id": "94d32657",
   "metadata": {},
   "outputs": [],
   "source": [
    "# 'ii1k', 'ii1l'\n",
    "def recode(value):\n",
    "    if value == 0:\n",
    "        return 0 \n",
    "    elif value ==8:\n",
    "        return 8\n",
    "    elif value >0:\n",
    "        return 1\n",
    "    else:\n",
    "        return value\n",
    "    \n",
    "df[['ih1', 'ih3']] = df[['ih1', 'ih3']].applymap(recode)\n"
   ]
  },
  {
   "cell_type": "code",
   "execution_count": 179,
   "id": "5164541c",
   "metadata": {},
   "outputs": [],
   "source": [
    "def recode(value):\n",
    "    if value <= 0.5:\n",
    "        return 0 \n",
    "    elif 0.5< value:\n",
    "        return 1\n",
    "    else:\n",
    "        return value\n",
    "    \n",
    "df[['il7']] = df[['il7']].applymap(recode)\n"
   ]
  },
  {
   "cell_type": "code",
   "execution_count": 180,
   "id": "77fdf9a4",
   "metadata": {},
   "outputs": [],
   "source": [
    "# df['ih3'].value_counts()"
   ]
  },
  {
   "cell_type": "code",
   "execution_count": 181,
   "id": "98ff2d1f",
   "metadata": {},
   "outputs": [],
   "source": [
    "df= df[(df['ih1'] != 8) & (df['ih3'] != 8)]\n"
   ]
  },
  {
   "cell_type": "code",
   "execution_count": 182,
   "id": "0ba81f69",
   "metadata": {},
   "outputs": [],
   "source": [
    "df = pd.get_dummies(df , columns = [ 'sAGE_cat','sADLH','sCPS'], dtype =int, drop_first =True)   # "
   ]
  },
  {
   "cell_type": "code",
   "execution_count": 183,
   "id": "464026f9",
   "metadata": {},
   "outputs": [],
   "source": [
    "df.to_csv(f\"Z:/Paulina Wiśniewska/03-10-2023-Dutch_LTCF_cleaned_data_with_selected_covar_{TREATMENT}-{OUTCOME}.csv\", index = False)"
   ]
  },
  {
   "cell_type": "code",
   "execution_count": 184,
   "id": "63130f63",
   "metadata": {},
   "outputs": [
    {
     "data": {
      "text/html": [
       "<div>\n",
       "<style scoped>\n",
       "    .dataframe tbody tr th:only-of-type {\n",
       "        vertical-align: middle;\n",
       "    }\n",
       "\n",
       "    .dataframe tbody tr th {\n",
       "        vertical-align: top;\n",
       "    }\n",
       "\n",
       "    .dataframe thead th {\n",
       "        text-align: right;\n",
       "    }\n",
       "</style>\n",
       "<table border=\"1\" class=\"dataframe\">\n",
       "  <thead>\n",
       "    <tr style=\"text-align: right;\">\n",
       "      <th></th>\n",
       "      <th>feature</th>\n",
       "      <th>importance</th>\n",
       "    </tr>\n",
       "  </thead>\n",
       "  <tbody>\n",
       "    <tr>\n",
       "      <th>8</th>\n",
       "      <td>OutcomeT0</td>\n",
       "      <td>0.602048</td>\n",
       "    </tr>\n",
       "    <tr>\n",
       "      <th>5</th>\n",
       "      <td>Unsteady gait</td>\n",
       "      <td>0.062013</td>\n",
       "    </tr>\n",
       "    <tr>\n",
       "      <th>13</th>\n",
       "      <td>sADLH_2.0</td>\n",
       "      <td>0.048646</td>\n",
       "    </tr>\n",
       "    <tr>\n",
       "      <th>1</th>\n",
       "      <td>Bowel continence</td>\n",
       "      <td>0.036391</td>\n",
       "    </tr>\n",
       "    <tr>\n",
       "      <th>9</th>\n",
       "      <td>treatment</td>\n",
       "      <td>0.027751</td>\n",
       "    </tr>\n",
       "    <tr>\n",
       "      <th>0</th>\n",
       "      <td>Bladder continence</td>\n",
       "      <td>0.026697</td>\n",
       "    </tr>\n",
       "    <tr>\n",
       "      <th>7</th>\n",
       "      <td>Gender</td>\n",
       "      <td>0.025640</td>\n",
       "    </tr>\n",
       "    <tr>\n",
       "      <th>12</th>\n",
       "      <td>sADLH_1.0</td>\n",
       "      <td>0.024433</td>\n",
       "    </tr>\n",
       "    <tr>\n",
       "      <th>2</th>\n",
       "      <td>Foot problems, eg bunions, hammertoes, overlap...</td>\n",
       "      <td>0.022563</td>\n",
       "    </tr>\n",
       "    <tr>\n",
       "      <th>6</th>\n",
       "      <td>Dizziness</td>\n",
       "      <td>0.021501</td>\n",
       "    </tr>\n",
       "    <tr>\n",
       "      <th>10</th>\n",
       "      <td>sAGE_cat_2.0</td>\n",
       "      <td>0.020283</td>\n",
       "    </tr>\n",
       "    <tr>\n",
       "      <th>14</th>\n",
       "      <td>sCPS_1</td>\n",
       "      <td>0.020265</td>\n",
       "    </tr>\n",
       "    <tr>\n",
       "      <th>11</th>\n",
       "      <td>sAGE_cat_3.0</td>\n",
       "      <td>0.017380</td>\n",
       "    </tr>\n",
       "    <tr>\n",
       "      <th>15</th>\n",
       "      <td>sCPS_2</td>\n",
       "      <td>0.013052</td>\n",
       "    </tr>\n",
       "    <tr>\n",
       "      <th>16</th>\n",
       "      <td>sCPS_3</td>\n",
       "      <td>0.011120</td>\n",
       "    </tr>\n",
       "    <tr>\n",
       "      <th>3</th>\n",
       "      <td>Hemiplegia</td>\n",
       "      <td>0.010996</td>\n",
       "    </tr>\n",
       "    <tr>\n",
       "      <th>4</th>\n",
       "      <td>Parkinsons disease</td>\n",
       "      <td>0.009219</td>\n",
       "    </tr>\n",
       "  </tbody>\n",
       "</table>\n",
       "</div>"
      ],
      "text/plain": [
       "                                              feature  importance\n",
       "8                                           OutcomeT0    0.602048\n",
       "5                                       Unsteady gait    0.062013\n",
       "13                                          sADLH_2.0    0.048646\n",
       "1                                    Bowel continence    0.036391\n",
       "9                                           treatment    0.027751\n",
       "0                                  Bladder continence    0.026697\n",
       "7                                              Gender    0.025640\n",
       "12                                          sADLH_1.0    0.024433\n",
       "2   Foot problems, eg bunions, hammertoes, overlap...    0.022563\n",
       "6                                           Dizziness    0.021501\n",
       "10                                       sAGE_cat_2.0    0.020283\n",
       "14                                             sCPS_1    0.020265\n",
       "11                                       sAGE_cat_3.0    0.017380\n",
       "15                                             sCPS_2    0.013052\n",
       "16                                             sCPS_3    0.011120\n",
       "3                                          Hemiplegia    0.010996\n",
       "4                                  Parkinsons disease    0.009219"
      ]
     },
     "execution_count": 184,
     "metadata": {},
     "output_type": "execute_result"
    }
   ],
   "source": [
    "# quick model\n",
    "clf = RandomForestClassifier()\n",
    "\n",
    "# get data\n",
    "X = df.drop(columns = ['OutcomeT1'])\n",
    "y = df['OutcomeT1']\n",
    "\n",
    "# train model\n",
    "clf.fit(X, y)\n",
    "importances = clf.feature_importances_\n",
    "feature_names = [] #X.columns\n",
    "\n",
    "# get col names\n",
    "for col in X.columns:\n",
    "    try:\n",
    "        feature_names.append(encoding[(col).lower()])\n",
    "    except:\n",
    "        feature_names.append(col)\n",
    "\n",
    "# get feature importance\n",
    "feature_importances = pd.DataFrame({'feature': feature_names, 'importance': importances})\n",
    "feature_importances = feature_importances.sort_values(by = 'importance', ascending = False)\n",
    "\n",
    "feature_importances"
   ]
  },
  {
   "cell_type": "code",
   "execution_count": 185,
   "id": "d7abe8d0",
   "metadata": {},
   "outputs": [],
   "source": [
    "zmienne = ['OutcomeT0']"
   ]
  },
  {
   "cell_type": "markdown",
   "id": "a9e28108",
   "metadata": {},
   "source": [
    "### Note to Teams: Please Start Here\n",
    "\n",
    "**MAKE SURE THAT THE DATA IS IN THE EXACT FORMAT AS BELOW.**\n",
    "\n",
    "Checklist:\n",
    "\n",
    "1. The covariates must come first.\n",
    "2. Then, there must be the outcome at baseline called ``OutcomeT0``.\n",
    "3. There must be an outcome at followup called ``OutcomeT1``.\n",
    "4. You may have a propensity score columns (``ps``), but this is not required. Same for clusters.\n",
    "5. There must be a treatment column *at the end* called ``treatment``. \n",
    "\n",
    "Good luck!"
   ]
  },
  {
   "cell_type": "markdown",
   "id": "2d09e493",
   "metadata": {},
   "source": [
    "## Part 3. Machine Learning\n",
    "\n",
    "Having processed the data, we can now move on the the machine learning (ML) part. Recall that we model using the meta-learning paradigm. Below is a schematic depiction of the process."
   ]
  },
  {
   "cell_type": "markdown",
   "id": "f21542a9",
   "metadata": {},
   "source": [
    "![alt text](images\\ModelGoal.jpg)"
   ]
  },
  {
   "cell_type": "markdown",
   "id": "fa5e0980",
   "metadata": {},
   "source": [
    "As can be seen, for a given patient, we can - *after training* - provide the details of that patient. These details are the outcome at baseline (``OutcomeT0``), the covariates and whether or not we include treatment. This allows us to compute the **individual treatment effect** (ITE), the predicted effect unter treatment minus the predicted effect under control.\n",
    "\n",
    "However, before we are able to estimate the ITE for a patient, we need to train the model. In meta-learning we always train two models. The first model is trained on the control group and the second model is trained on the treated group. Let us now first state what the ``outcome`` and ``intervention`` variables are.  "
   ]
  },
  {
   "cell_type": "markdown",
   "id": "a271a03a",
   "metadata": {},
   "source": [
    "![alt text](images\\GeneralPlotTrajectoryInterpretation.jpg)"
   ]
  },
  {
   "cell_type": "markdown",
   "id": "0b4a4fab",
   "metadata": {},
   "source": [
    "Next, we want to select the models. Here we will use ``RandomForestClassifier()``."
   ]
  },
  {
   "cell_type": "code",
   "execution_count": 186,
   "id": "3c0f03e0",
   "metadata": {},
   "outputs": [],
   "source": [
    "model0 = RandomForestClassifier()\n",
    "model1 = RandomForestClassifier()"
   ]
  },
  {
   "cell_type": "code",
   "execution_count": 187,
   "id": "e42b2079",
   "metadata": {},
   "outputs": [],
   "source": [
    "model = model0"
   ]
  },
  {
   "cell_type": "code",
   "execution_count": 188,
   "id": "67e795bd",
   "metadata": {},
   "outputs": [
    {
     "name": "stdout",
     "output_type": "stream",
     "text": [
      "Hyperparameters of models have been saved to 'model_hyperparameters.xlsx'.\n"
     ]
    }
   ],
   "source": [
    "# File path for the Excel file\n",
    "excel_file = f'C:/Users/Paulina.Wisniewska/Desktop/Do_wyslania/hyperparameters/model_hyperparameters_RandomForest.xlsx'\n",
    "\n",
    "# Create a Pandas Excel writer using XlsxWriter as the engine\n",
    "with pd.ExcelWriter(excel_file, engine='xlsxwriter') as writer:\n",
    "    # Get hyperparameters\n",
    "    hyperparameters = model.get_params()\n",
    "\n",
    "    # Convert to DataFrame\n",
    "    df = pd.DataFrame([hyperparameters])\n",
    "\n",
    "    # Write each model's hyperparameters to a different sheet\n",
    "    df.to_excel(writer, sheet_name=\"RandomForest\")\n",
    "\n",
    "print(\"Hyperparameters of models have been saved to 'model_hyperparameters.xlsx'.\")"
   ]
  },
  {
   "cell_type": "markdown",
   "id": "f5363a98",
   "metadata": {},
   "source": [
    "Then, we want to retrieve the data. We can use the data from above, but here we will read the file. "
   ]
  },
  {
   "cell_type": "code",
   "execution_count": 189,
   "id": "45337bf7",
   "metadata": {},
   "outputs": [],
   "source": [
    "# call your data file here\n",
    "FILE = f\"Z:/Paulina Wiśniewska/03-10-2023-Dutch_LTCF_cleaned_data_with_selected_covar_{TREATMENT}-{OUTCOME}.csv\""
   ]
  },
  {
   "cell_type": "code",
   "execution_count": 190,
   "id": "06dbef79",
   "metadata": {},
   "outputs": [],
   "source": [
    "from sklearn.impute import KNNImputer\n",
    "import numpy as np\n",
    "import pandas as pd\n",
    "import pickle\n",
    "\n",
    "# import necessary libraries\n",
    "import pandas as pd\n",
    "import numpy as np\n",
    "import seaborn as sns\n",
    "import matplotlib.pyplot as plt\n",
    "\n",
    "from sklearn.utils import resample\n",
    "\n",
    "\n",
    "#from sklearn.impute import KNNImputer\n",
    "from sklearn.model_selection import train_test_split, cross_val_score\n",
    "from sklearn.metrics import mean_squared_error, mean_absolute_error, r2_score, accuracy_score, f1_score, roc_auc_score,classification_report,confusion_matrix, roc_curve, auc\n",
    "from sklearn.model_selection import GridSearchCV\n",
    "\n",
    "# get standard models\n",
    "from sklearn.linear_model import LogisticRegression\n",
    "from sklearn.linear_model import LinearRegression\n",
    "from sklearn.ensemble import RandomForestRegressor\n",
    "from sklearn.ensemble import GradientBoostingRegressor\n",
    "from sklearn.ensemble import RandomForestClassifier\n",
    "from sklearn.neural_network import MLPRegressor\n",
    "\n",
    "from sklearn.cluster import KMeans\n",
    "import numpy as np\n",
    "\n",
    "\n",
    "from datetime import timedelta\n",
    "from sklearn.preprocessing import StandardScaler\n",
    "from sklearn.neighbors import NearestNeighbors\n",
    "from sklearn.linear_model import LogisticRegression\n",
    "import pandas as pd\n",
    "import numpy as np\n",
    "import os\n",
    "import pickle"
   ]
  },
  {
   "cell_type": "code",
   "execution_count": 191,
   "id": "b040d6a9",
   "metadata": {},
   "outputs": [],
   "source": [
    "\n",
    "def data_processing1(file, undersampled, include_propensity, machine, intervention, outcome, target='OutcomeT1', treatment='treatment', caliper=0.2, zmienne=None):\n",
    "    \"\"\"\n",
    "    Przetwarza dane, przeprowadza undersampling, oblicza propensity score dla contraindications,\n",
    "    ale bez dzielenia na train/test w przypadku clinicalindications.\n",
    "    \"\"\"\n",
    "    # Wczytanie danych\n",
    "    \n",
    "    data = pd.read_csv(file)\n",
    "#     print(data.dtype)\n",
    "    \n",
    "    \n",
    "    \n",
    "#     data = pd.get_dummies(data =, columns = ['ih1', 'ih3', 'il7', 'ij2d', 'ij2c', 'ij2b','iA2'], drop_first=True , dtype =int)\n",
    "#     print(data.dtypes)\n",
    "    \n",
    "    \n",
    "    # Przeprowadzenie undersamplingu\n",
    "    if undersampled:\n",
    "        freq_treated = len(data[data[treatment] == 1])\n",
    "        control = data[data[treatment] == 0].sample(freq_treated)\n",
    "        treated = data[data[treatment] == 1]\n",
    "        data = pd.concat([control, treated])\n",
    "\n",
    "#     print(f'DF length : {len(data)}')\n",
    "#     print(f\"Control class: {data[data[treatment] == 0].shape[0]}\")\n",
    "#     print(f\"Treated class: {len(data[data[treatment] == 1])}\")\n",
    "\n",
    "    # Usuwanie braków danych\n",
    "    data = data.dropna(axis=1)\n",
    "    # Izolacja zmiennych\n",
    "    X = data.drop(columns=[target, 'treatment']).columns\n",
    "    outcomes = target\n",
    "    # Obliczanie propensity score tylko dla contraindications, jeśli podano\n",
    "    if zmienne is not None:\n",
    "        # Wybieramy tylko kolumny związane z contraindications\n",
    "        # The change is here: using double square brackets to create a DataFrame\n",
    "        X_treated = data.query(f'{treatment} == 1')[zmienne]\n",
    "        X_control = data.query(f'{treatment} == 0')[zmienne]\n",
    "\n",
    "        # Dopasowanie modelu regresji logistycznej dla propensity score\n",
    "        ps_model = LogisticRegression(C=1e2, max_iter=10000).fit(\n",
    "            pd.concat([X_control, X_treated]),  # X_combined = X_control + X_treated\n",
    "            pd.concat([data.query(f'{treatment} == 0')[treatment], data.query(f'{treatment} == 1')[treatment]])  # y_combined = control + treated\n",
    "        )\n",
    "#         print(f\"Intercept (β0): {ps_model.intercept_[0]}\")\n",
    "#         print(f\"Coefficient for  (β1): {ps_model.coef_[0][0]}\")\n",
    "#         print(ps_model.coef_)\n",
    "        \n",
    "        \n",
    "        \n",
    "        # example, replace if you have more variables\n",
    "        # Dodanie propensity score do grupy treated i control\n",
    "        data.loc[data[treatment] == 1, 'ps'] = ps_model.predict_proba(X_treated)[:, 1]\n",
    "        data.loc[data[treatment] == 0, 'ps'] = ps_model.predict_proba(X_control)[:, 1]\n",
    "#         print(f\"Data after adding propensity scores:\")\n",
    "#         print(data[['ps']].head())\n",
    "        \n",
    "     \n",
    "#         display(data.head(30))\n",
    "    else:\n",
    "        ps_model = None# Jeżeli nie podano clinicalindications, nie obliczamy propensity score\n",
    "\n",
    "    # Jeśli include_propensity == False, usuwamy kolumnę 'ps' z całego zbioru danych\n",
    "    if not include_propensity:\n",
    "        data.drop(columns=['ps'], inplace=True, errors='ignore')\n",
    "    # Zapisywanie modelu propensity score, jeśli został obliczony\n",
    "    if ps_model:\n",
    "        os.makedirs('storage', exist_ok=True)\n",
    "        filename_prob_score_model = f\"storage/propensity_score_model_{intervention}-{outcome}.sav\"\n",
    "        pickle.dump(ps_model, open(filename_prob_score_model, 'wb'))\n",
    "\n",
    "    treated_data = data[data[treatment] == 1]\n",
    "    control_data = data[data[treatment] == 0]\n",
    "\n",
    "    #Sortowanie po propensity score\n",
    "    treated_data_sorted = treated_data.sort_values(by='ps')\n",
    "    control_data_sorted = control_data.sort_values(by='ps')\n",
    "#     print(treated_data_sorted)\n",
    "#     print(control_data_sorted)\n",
    "\n",
    "#     import matplotlib.pyplot as plt\n",
    "\n",
    "# # Wykres rozkładu `ps` dla grupy leczonej i kontrolnej\n",
    "    plt.hist(treated_data_sorted['ps'], bins=20, alpha=0.5, label='Treated')\n",
    "    plt.hist(control_data_sorted['ps'], bins=20, alpha=0.5, label='Control')\n",
    "    plt.legend()\n",
    "    plt.show()\n",
    "# #     #Lista dopasowanych par\n",
    "\n",
    "    display(treated_data_sorted['ps'].value_counts())\n",
    "    display(control_data_sorted['ps'].value_counts())\n",
    "\n",
    "    matched_pairs = []\n",
    "    matched_controls = set()  # Zbiór, aby uniknąć duplikatów\n",
    "\n",
    "#     display(treated_data_sorted)\n",
    "# Dopasowanie na podstawie najbliższej wartości propensity score z uwzględnieniem caliper\n",
    "    for idx_treated, row_treated in treated_data_sorted.iterrows():\n",
    "    # Szukamy wszystkich możliwych dopasowań w granicach caliper\n",
    "\n",
    "        possible_matches = control_data_sorted[(control_data_sorted['ps'] - row_treated['ps']).abs() <= caliper]\n",
    "\n",
    "\n",
    "        if not possible_matches.empty:\n",
    "        # Szukamy wszystkich możliwych dopasowań i bierzemy tylko te, które jeszcze nie zostały dopasowane\n",
    "            possible_matches = possible_matches[~possible_matches.index.isin(matched_controls)]\n",
    "\n",
    "\n",
    "            if not possible_matches.empty:\n",
    "            # Dopasuj wszystkich kontrolnych pacjentów, którzy spełniają warunek caliper\n",
    "                closest_match = possible_matches.iloc[(possible_matches['ps'] - row_treated['ps']).abs().argmin()]\n",
    "                matched_controls.add(closest_match.name)\n",
    "                matched_pairs.append((idx_treated, closest_match.name))\n",
    "\n",
    "# Liczymy liczbę dopasowanych przypadków\n",
    "    matched_treated_count = len(matched_pairs)\n",
    "    unmatched_treated_count = len(treated_data_sorted) - matched_treated_count\n",
    "    unmatched_control_count = len(control_data_sorted) - matched_treated_count\n",
    "\n",
    "#     print(\"\\n--- Summary of Propensity Score Matching ---\")\n",
    "#     print(f\"Total treated (leczonych): {len(treated_data_sorted)}\")\n",
    "#     print(f\"Total control (kontrolnych): {len(control_data_sorted)}\")\n",
    "#     print(f\"Matched treated: {matched_treated_count}\")\n",
    "#     print(f\"Unmatched treated: {unmatched_treated_count}\")\n",
    "#     print(f\"Matched control: {matched_treated_count}\")\n",
    "#     print(f\"Unmatched control: {unmatched_control_count}\")\n",
    "\n",
    "# Wypisujemy dopasowane pary\n",
    "#     print(\"\\n--- Matched Pairs ---\")\n",
    "#     for treated_index, control_index in matched_pairs:\n",
    "#         print(f\"Treated patient (index: {treated_index}) matched with Control patient (index: {control_index})\")\n",
    "\n",
    "\n",
    "\n",
    "# Zbieramy dopasowane dane\n",
    "    treated_matched_data = [treated_data_sorted.loc[matched_pairs[i][0]] for i in range(matched_treated_count)]\n",
    "    control_matched_data = [control_data_sorted.loc[matched_pairs[i][1]] for i in range(matched_treated_count)]\n",
    "\n",
    "# Łączymy obie listy danych w jeden DataFrame\n",
    "    matched_data = pd.DataFrame(treated_matched_data + control_matched_data)\n",
    "    treated_matched_data =pd.DataFrame(treated_matched_data)\n",
    "    control_matched_data =pd.DataFrame(control_matched_data)\n",
    "\n",
    "# Zapisujemy dane do pliku CSV\n",
    "    matched_data.to_csv(f\"matched_data_{intervention}_{outcome}.csv\", index=False)\n",
    "\n",
    "# Wyświetlamy dane\n",
    "#     print(matched_data)\n",
    "    matched_data1 = matched_data.drop('ps', axis=1)\n",
    "#     for x in zmienne:\n",
    "#         print(f\"OUTCOMET0 for treatment:\")\n",
    "#         print(treated_matched_data[x].value_counts())\n",
    "#         print(\"\")\n",
    "#         print(f\"OUTCOMET0 for control:\")\n",
    "#         print(control_matched_data[x].value_counts())\n",
    "\n",
    "    matched_data1 = matched_data1.drop(zmienne, axis=1)\n",
    "#     print(matched_data1.columns.to_list())\n",
    "#     print(matched_data1)\n",
    "\n",
    "    OutcomeT1 ='OutcomeT1'\n",
    "    print(\"\")\n",
    "    print(\"\")\n",
    "    print(\"\")\n",
    "    y_control =matched_data1.query('treatment==0')['OutcomeT1']\n",
    "    X_control =matched_data1.drop(columns=OutcomeT1).query('treatment==0')\n",
    "    #print(f\"Mean_control_outcomeT0: {X_control['OutcomeT0'].mean()}\")\n",
    "#     display(f\"y_control: {len(y_control)}\")\n",
    "#     display(f\"X_control: {len(X_control)}\")\n",
    "    print(\"\")\n",
    "    print(\"\")\n",
    "    print(\"\")\n",
    "    y_treated =matched_data1.query('treatment==1')['OutcomeT1']\n",
    "    X_treated =matched_data1.drop(columns=OutcomeT1).query('treatment==1')\n",
    "   # print(f\"Mean_treatment_outcomeT0: {X_treated['OutcomeT0'].mean()}\")\n",
    "#     display(f\"y_treated: {len(y_treated)}\")\n",
    "#     display(f\"X_treated: {len(X_treated)}\")\n",
    "#     print(\"\")\n",
    "#     print(\"\")\n",
    "#     print(\"\")\n",
    "    \n",
    "#     print(\"Statystyki opisowe dla zmiennych, ktore zostaly:\")\n",
    "#     print(\"\")\n",
    "#     print(\"Grupa treatment\")\n",
    "#     for x in X_treated:\n",
    "#         print(f\"{x}:\")\n",
    "#         display(X_treated[x].value_counts().sort_index())\n",
    "#         print(\"\")\n",
    "#     print(\"\")\n",
    "#     print(\"\")\n",
    "#     print(\"Grupa control\")\n",
    "#     print(\"\")\n",
    "#     for x in X_control:\n",
    "#         print(f\"{x}:\")\n",
    "#         display(X_control[x].value_counts().sort_index())\n",
    "#         print(\"\")\n",
    "    \n",
    "    \n",
    "    X_train_c, X_test_c, y_train_c, y_test_c = train_test_split(X_control, y_control, test_size = 0.3)\n",
    "    X_train_t, X_test_t, y_train_t, y_test_t = train_test_split(X_treated, y_treated, test_size = 0.3)\n",
    "    \n",
    "    \n",
    "    X_train_c = X_train_c.drop(columns =['treatment'])\n",
    "    \n",
    "#     print(\"Control\")\n",
    "\n",
    "#     for col in X_train_c.columns:\n",
    "#         print(col)\n",
    "#         print(X_train_c[col].value_counts())\n",
    "#         print('')\n",
    "#     print(\"\")\n",
    "#     print(\"\")\n",
    "    \n",
    "    \n",
    "#     print(\"Treatment\")\n",
    "#     for col in X_train_t.columns:\n",
    "#         print(col)\n",
    "#         print(X_train_t[col].value_counts())\n",
    "#         print('')\n",
    "    X_train_t = X_train_t.drop(columns =['treatment'])\n",
    "    X_test_c  = X_test_c.drop(columns =['treatment'])\n",
    "    X_test_t  = X_test_t.drop(columns =['treatment'])\n",
    "    \n",
    "    X_combined_c = pd.concat([X_train_c, X_test_c], axis =0).reset_index(drop=True)\n",
    "    X_combined_t = pd.concat([X_train_t, X_test_t], axis =0).reset_index(drop=True)\n",
    "\n",
    "\n",
    "\n",
    "    return X_train_c, X_test_c, y_train_c, y_test_c, X_train_t, X_test_t, y_train_t, y_test_t,X_combined_c,X_combined_t"
   ]
  },
  {
   "cell_type": "code",
   "execution_count": 192,
   "id": "cb12f9d9",
   "metadata": {},
   "outputs": [],
   "source": [
    "import statsmodels.api as sm"
   ]
  },
  {
   "cell_type": "code",
   "execution_count": 193,
   "id": "cb04b8a7",
   "metadata": {},
   "outputs": [],
   "source": [
    "def run_model_class1(n_bootstraps, file, model1, model2, machine, intervention, outcome, include_propensity, undersampled = False, num_iter = 1, zmienne =None):\n",
    "    \n",
    "    acc_c, acc_t, f1_c, f1_t = [], [], [], []\n",
    "    train_acc_c, train_acc_t = [], []\n",
    "    \n",
    "    X_train_c, X_test_c, y_train_c, y_test_c, X_train_t, X_test_t, y_train_t, y_test_t,X_combined_c,X_combined_t= data_processing1(file, undersampled,\n",
    "                                                                                                         include_propensity, machine,\n",
    "                                                                                                         intervention, outcome,\n",
    "                                                                                                         target='OutcomeT1',\n",
    "                                                                                                         treatment='treatment', caliper=0.2,\n",
    "                                                                                                       zmienne =zmienne )\n",
    "   \n",
    "    print(\"\")\n",
    "\n",
    "   \n",
    "   \n",
    "    f_c = model1\n",
    "    f_c.fit(X_train_c, y_train_c)\n",
    "    predictions_c = f_c.predict(X_test_c)\n",
    "    predictions_c_proba = f_c.predict_proba(X_test_c)[:,1]\n",
    "#     print(predictions_c_proba)\n",
    "    print(\"CONTROL:\")\n",
    "    coefficients_c =model1.coef_[0]\n",
    "#     print(\"WSPOLCZYNNIKI:\", coefficients_c)\n",
    "    odds_ratios_c =np.exp(coefficients_c)\n",
    "#     print(\"OR\", odds_ratios_c)\n",
    "    df_CONTROL = pd.DataFrame({\n",
    "        'Cecha': X_train_c.columns, \n",
    "        'WSPOLCZYNNIKI': coefficients_c,\n",
    "        'OR' :odds_ratios_c\n",
    "    })\n",
    "#     print(df_CONTROL)\n",
    "    \n",
    "    np.random.seed(42)\n",
    "\n",
    "    # treated\n",
    "    f_t = model2\n",
    "    f_t.fit(X_train_t, y_train_t)\n",
    "    predictions_t = f_t.predict(X_test_t)\n",
    "    predictions_t_proba = f_t.predict_proba(X_test_t)[:,1]\n",
    "    np.random.seed(42)\n",
    "\n",
    "    print(\"TREATMENT:\")\n",
    "    coefficients_t =model2.coef_[0]\n",
    "#     print(\"WSPOLCZYNNIKI:\", coefficients_t)\n",
    "    odds_ratios_t =np.exp(coefficients_t)\n",
    "#     print(\"OR\", odds_ratios_t)\n",
    "    df_TREATMENT = pd.DataFrame({\n",
    "        'Cecha': X_train_t.columns, \n",
    "        'WSPOLCZYNNIKI': coefficients_t,\n",
    "        'OR' :odds_ratios_t\n",
    "        \n",
    "        \n",
    "    })\n",
    "#     print(df_TREATMENT)\n",
    "    \n",
    "    \n",
    "    \n",
    "#     np.random.seed(42)\n",
    "#     X_c = sm.add_constant(X_train_c)   \n",
    "#     X_t = sm.add_constant(X_train_t)\n",
    "#     model0 =sm.Logit(y_train_c, X_c)\n",
    "#     model1 =sm.Logit(y_train_t, X_t)\n",
    "# #     model0 =sm.OLS(y_train_c, X_train_c)\n",
    "# #     model1 =sm.OLS(y_train_t, X_train_t)\n",
    "#     result0 =model0.fit()\n",
    "#     result1 = model1.fit()  \n",
    "# #     y_pred_c =result0.predict( sm.add_constant(X_train_c))\n",
    "# #     print(y_pred_c)\n",
    "    \n",
    "# #     y_pred_t =result1.predict(sm.add_constant(X_train_t))\n",
    "# #     print(y_pred_t)\n",
    "#     print(result0.summary())\n",
    "#     print(result1.summary())\n",
    "    \n",
    "    \n",
    "    \n",
    "    \n",
    "\n",
    "    acc_c.append(accuracy_score(predictions_c, y_test_c))\n",
    "    acc_t.append(accuracy_score(predictions_t, y_test_t))\n",
    "    \n",
    "    roc_auc_c = roc_auc_score(y_test_c, predictions_c_proba)\n",
    "    roc_auc_t = roc_auc_score(y_test_t, predictions_t_proba)\n",
    "#######################     ROC     AUC    ###############################################################\n",
    "    print(\"CONTROL\")\n",
    "\n",
    "#     fpr_c, tpr_c, thresholds_c = roc_curve(y_test_c,predictions_c_proba)\n",
    "#     roc_auc_c = auc(fpr_c, tpr_c)\n",
    "#     plt.figure()\n",
    "#     plt.plot(fpr_c, tpr_c, color ='gray', lw=2, label = f'ROC curve CONTROL (AUC = {roc_auc_c: .2f})')\n",
    "#     plt.plot([0,1], [0,1], color ='black', lw=2, linestyle ='--')\n",
    "#     plt.xlim([0.0, 1.0])\n",
    "#     plt.ylim([0.0, 1.05])\n",
    "#     plt.xlabel('False Positive Rate')\n",
    "#     plt.ylabel('True Positive Rate')\n",
    "#     plt.title('Difficulty turning around, 30 minutes physical therapy per week')\n",
    "#     plt.legend(loc = 'lower right')\n",
    "#     plt.show()\n",
    "    \n",
    "    \n",
    "    \n",
    "#     print(\"confusion_matrix CONTROL\")\n",
    "#     display(confusion_matrix(y_test_c,predictions_c))\n",
    "#     print(\"\")\n",
    "#     print(classification_report(y_test_c,predictions_c))\n",
    "    \n",
    "    \n",
    "#     print(\"TREATMENT\")\n",
    "    \n",
    "    \n",
    "#     fpr_t, tpr_t, thresholds_t = roc_curve(y_test_t,predictions_t_proba)\n",
    "#     roc_auc_t = auc(fpr_t, tpr_t)\n",
    "#     plt.figure()\n",
    "#     plt.plot(fpr_c, tpr_c, color ='black', lw=2, label = f'ROC curve TREATMENT (AUC ={roc_auc_t: .2f})')\n",
    "#     plt.plot([0,1], [0,1], color ='black', lw=2, linestyle ='--')\n",
    "#     plt.xlim([0.0, 1.0])\n",
    "#     plt.ylim([0.0, 1.05])\n",
    "#     plt.xlabel('False Positive Rate')\n",
    "#     plt.ylabel('True Positive Rate')\n",
    "#     plt.title('Difficulty turning around, 30 minutes physical therapy per week')\n",
    "#     plt.legend(loc = 'lower right')\n",
    "#     plt.show()\n",
    "    \n",
    "#     print(\"confusion_matrix TREATMENT\")\n",
    "#     display(confusion_matrix(y_test_t,predictions_t))\n",
    "#     print(\"\")\n",
    "#     print(classification_report(y_test_t,predictions_t))\n",
    "    \n",
    "    \n",
    "    \n",
    "    \n",
    "    \n",
    "###########################################################################################################\n",
    "\n",
    "    \n",
    "    \n",
    "#     f1_c.append(f1_score(predictions_c, y_test_c))\n",
    "#     f1_t.append(f1_score(predictions_t, y_test_t))\n",
    "\n",
    "    predictions_c_train = f_c.predict(X_train_c)\n",
    "    predictions_t_train = f_t.predict(X_train_t)\n",
    "    \n",
    "    train_acc_c.append(accuracy_score(predictions_c_train, y_train_c))\n",
    "    train_acc_t.append(accuracy_score(predictions_t_train, y_train_t))\n",
    "\n",
    "    # compute ITEs for test\n",
    "    ites_t_test = f_t.predict(X_test_t) - f_c.predict(X_test_t)\n",
    "    ites_c_test = f_t.predict(X_test_c) - f_c.predict(X_test_c)\n",
    "    # compute Individual treatment effects\n",
    "    ites_test = np.append(ites_t_test, ites_c_test)\n",
    "    \n",
    "    \n",
    "    \n",
    "    \n",
    "    \n",
    "    outcome_under_treatment = np.concatenate([f_t.predict(X_test_t), f_t.predict(X_test_c)])\n",
    "    outcome_under_treatment = np.mean(outcome_under_treatment)\n",
    "#     print(f\"Test outcome under treatment {outcome_under_treatment}.\")\n",
    "    \n",
    "    outcome_under_control = np.concatenate([f_c.predict(X_test_t), f_c.predict(X_test_c)])\n",
    "    outcome_under_control = np.mean(outcome_under_control)\n",
    "    print(f\"Test outcome under treatment {outcome_under_control}.\")\n",
    "    \n",
    "    print(f\"(Test) ATE {outcome_under_treatment - outcome_under_control}.\")\n",
    "    \n",
    "    \n",
    "    \n",
    "    \n",
    "\n",
    "    # compute ITEs for train\n",
    "    ites_t_train = f_t.predict(X_train_t) - f_c.predict(X_train_t)\n",
    "    ites_c_train = f_t.predict(X_train_c) - f_c.predict(X_train_c)\n",
    "    # compute Individual treatment effects\n",
    "    ites_train = np.append(ites_t_train, ites_c_train)\n",
    "    itest_treatment = np.append(ites_t_train,ites_t_test)\n",
    "\n",
    "    # compute relevant errors and record \n",
    "    results = {'ACC_C (Test)': np.mean(acc_c),\n",
    "               'ACC_T (Test)': np.mean(acc_t),\n",
    "              'ACC_C (Train)': np.mean(train_acc_c),\n",
    "              'ACC_T (Train)': np.mean(train_acc_t),\n",
    "              'ROC_AUC_C': roc_auc_c,\n",
    "              'ROC_AUC_T': roc_auc_t,\n",
    "              }\n",
    "\n",
    "    hyperparameters = f_t.get_params()\n",
    "    print(hyperparameters)\n",
    "\n",
    "    # Convert to DataFrame\n",
    "    df = pd.DataFrame([hyperparameters])\n",
    "    df.to_csv(f'hyperparameters/model_hyperparameters_{machine}.csv')\n",
    "\n",
    "    metrics = pd.DataFrame.from_dict(results, orient = 'index', columns = [machine])\n",
    "    metrics.to_csv(f\"results/model_results_{machine}_{intervention}-{outcome}.csv\")\n",
    "    \n",
    "    filename_t = f\"storage/model_t_{machine}_{intervention}-{outcome}.sav\"\n",
    "    filename_c = f\"storage/model_c_{machine}_{intervention}-{outcome}.sav\"\n",
    "\n",
    "    # save models\n",
    "    pickle.dump(f_t, open(filename_t, 'wb'))\n",
    "    pickle.dump(f_c, open(filename_c, 'wb')) \n",
    "    \n",
    "    \n",
    "#     # Calculate confidence intervals for predictions\n",
    "#     lower_c, upper_c = bootstrap_confidence_intervals(f_c, X_test_c, y_test_c)\n",
    "#     lower_t, upper_t = bootstrap_confidence_intervals(f_t, X_test_t, y_test_t)\n",
    "\n",
    "#     # Print prediction intervals\n",
    "#     print(\"Control group prediction intervals:\")\n",
    "#     print(\"Lower:\", lower_c)\n",
    "#     print(\"Upper:\", upper_c)\n",
    "\n",
    "#     print(\"\\nTreatment group prediction intervals:\")\n",
    "#     print(\"Lower:\", lower_t)\n",
    "#     print(\"Upper:\", upper_t)\n",
    "\n",
    "\n",
    "    # Compute ITEs for test\n",
    "    ites_t = f_t.predict(X_test_t) - f_c.predict(X_test_t)\n",
    "    ites_c = f_t.predict(X_test_c) - f_c.predict(X_test_c)\n",
    "\n",
    "    # Compute individual treatment effects\n",
    "    ites_test = np.concatenate([ites_t, ites_c])\n",
    "    \n",
    "    # Compute ITEs for test\n",
    "    ites_t_proba = f_t.predict_proba(X_test_t)[:,1] - f_c.predict_proba(X_test_t)[:,1]\n",
    "    ites_c_proba = f_t.predict_proba(X_test_c)[:,1] - f_c.predict_proba(X_test_c)[:,1]\n",
    "\n",
    "    # Compute individual treatment effects\n",
    "    ites_test_proba = np.concatenate([ites_t_proba, ites_c_proba])\n",
    "    \n",
    "#     ate_confidence(model0, model1, machine, X_train_c, X_test_c, y_train_c, y_test_c, X_train_t, X_test_t, y_train_t, y_test_t, n_bootstraps = n_bootstraps, )\n",
    "    \n",
    "\n",
    "    return metrics, predictions_t, predictions_c, y_test_t, y_test_c, ites_test,itest_treatment, ites_train, X_test_t, X_test_c, X_train_c, X_train_t, ites_test_proba,X_combined_c,X_combined_t\n",
    "\n"
   ]
  },
  {
   "cell_type": "code",
   "execution_count": 194,
   "id": "9454efac",
   "metadata": {},
   "outputs": [],
   "source": [
    "def visualise_ites1(ites, machine, target, intervention, split=\"test\"): \n",
    "    ites = [i[0] for i in ites.reshape(-1,1)]\n",
    "    ites = sorted(list(ites))\n",
    "\n",
    "    x_values = range(1, len(ites) + 1)\n",
    "    stdev = np.std(ites)\n",
    "    upper_bound = [val + stdev for val in ites]\n",
    "    lower_bound = [val - stdev for val in ites]\n",
    "\n",
    "    sns.set(style=\"whitegrid\")\n",
    "\n",
    "    #plt.figure(figsize=(8,4))\n",
    "    plt.figure(figsize=(12,6))\n",
    "\n",
    "    plt.fill_between(x_values, lower_bound, upper_bound, color='gray', alpha=0.2, label=\"standard deviation\")\n",
    "    plt.axhline(y=np.mean(ites), color='darkred', linestyle='--', label='ATE estimate')\n",
    "    plt.xlabel(\"Ordered Patient Indices\")\n",
    "    plt.ylabel(f\"Individual Treatment Effect\")\n",
    "    plt.title(f\"Difficulty turning around, 30 minutes physical therapy per week\")\n",
    "    \n",
    "    print(f\"ATE {np.mean(ites)}\")\n",
    "\n",
    "    sns.lineplot(x=x_values, y=ites, marker='o', color='black', label='predicted ITE values', ci=stdev)\n",
    "    plt.savefig(f\"plots/{machine}-{intervention}-{target}.png\", dpi=300)\n",
    "\n",
    "    plt.show()\n",
    "    "
   ]
  },
  {
   "cell_type": "code",
   "execution_count": 195,
   "id": "46c5979c",
   "metadata": {
    "scrolled": false
   },
   "outputs": [
    {
     "name": "stdout",
     "output_type": "stream",
     "text": [
      "LogisticRegression(penalty='none')\n"
     ]
    },
    {
     "data": {
      "image/png": "[encoded data removed]",
      "text/plain": [
       "<Figure size 640x480 with 1 Axes>"
      ]
     },
     "metadata": {},
     "output_type": "display_data"
    },
    {
     "data": {
      "text/plain": [
       "0.198842    273\n",
       "0.413669    266\n",
       "Name: ps, dtype: int64"
      ]
     },
     "metadata": {},
     "output_type": "display_data"
    },
    {
     "data": {
      "text/plain": [
       "0.198842    1100\n",
       "0.413669     377\n",
       "Name: ps, dtype: int64"
      ]
     },
     "metadata": {},
     "output_type": "display_data"
    },
    {
     "name": "stdout",
     "output_type": "stream",
     "text": [
      "\n",
      "\n",
      "\n",
      "\n",
      "\n",
      "\n",
      "\n",
      "CONTROL:\n",
      "TREATMENT:\n",
      "CONTROL\n",
      "Test outcome under treatment 0.6296296296296297.\n",
      "(Test) ATE -0.12345679012345678.\n",
      "{'C': 1.0, 'class_weight': None, 'dual': False, 'fit_intercept': True, 'intercept_scaling': 1, 'l1_ratio': None, 'max_iter': 100, 'multi_class': 'auto', 'n_jobs': None, 'penalty': 'none', 'random_state': None, 'solver': 'lbfgs', 'tol': 0.0001, 'verbose': 0, 'warm_start': False}\n",
      "ATE -0.12345679012345678\n"
     ]
    },
    {
     "data": {
      "image/png": "[encoded data removed]",
      "text/plain": [
       "<Figure size 1200x600 with 1 Axes>"
      ]
     },
     "metadata": {},
     "output_type": "display_data"
    },
    {
     "name": "stdout",
     "output_type": "stream",
     "text": [
      "(-0.1642801371649169, -0.08263344308199665)\n",
      "T-statistic: -5.949559670595177\n",
      "P-value: 6.9914910138374525e-09\n",
      "Result is statistically significant\n",
      "               LogisticRegression(penalty='none')\n",
      "ACC_C (Test)                             0.753086\n",
      "ACC_T (Test)                             0.685185\n",
      "ACC_C (Train)                            0.790451\n",
      "ACC_T (Train)                            0.740053\n",
      "ROC_AUC_C                                0.812042\n",
      "ROC_AUC_T                                0.742413\n"
     ]
    }
   ],
   "source": [
    "\n",
    "model = [(LogisticRegression(penalty = 'none'), LogisticRegression(penalty = 'none'))]\n",
    "np.random.seed(42)\n",
    "\n",
    "\n",
    "for model1, model2 in model:\n",
    "    print(str(model1))\n",
    "    np.random.seed(42)\n",
    "    metrics, predictions_t, predictions_c, y_test_t, y_test_c, ites_test,itest_treatment, ites_train, X_test_t, X_test_c, X_train_c, X_train_t, ites_test_proba,X_combined_c,X_combined_t = run_model_class1(n_bootstraps = 1, file = FILE, intervention = TREATMENT, outcome = OUTCOME, include_propensity = PROPENSITY, undersampled = UNDERSAMPLE, model1 = model1, model2 = model2, machine = str(model1), num_iter = 1, zmienne = zmienne)\n",
    "    #visualise(predictions_t, predictions_c, y_test_t, y_test_c, machine=machine, target=target, intervention=intervention)\n",
    "    np.random.seed(42)\n",
    "    \n",
    "    visualise_ites1(ites_test, machine = str(model1), intervention = TREATMENT, target = OUTCOME)\n",
    "    \n",
    "    #print(\"Probabilitiy of Hospitalization: \")\n",
    "    confidence_interval(data=ites_test)\n",
    "    significance(data=ites_test)\n",
    "    \n",
    "    \n",
    "#     y_test = np.concatenate([y_test_t,y_test_c])\n",
    "#     predictions = np.concatenate([predictions_t,predictions_c])\n",
    "#     probabilities  =np.concatenate([ites_test_proba])\n",
    "#     visualise_ites_proba(ites_test_proba, machine = machine, intervention = TREATMENT, target = OUTCOME)\n",
    "    print(metrics)"
   ]
  },
  {
   "cell_type": "code",
   "execution_count": 196,
   "id": "eff1273f",
   "metadata": {
    "scrolled": false
   },
   "outputs": [
    {
     "name": "stdout",
     "output_type": "stream",
     "text": [
      "LogisticRegression()\n",
      "LogisticRegression()\n"
     ]
    },
    {
     "data": {
      "image/png": "[encoded data removed]",
      "text/plain": [
       "<Figure size 640x480 with 1 Axes>"
      ]
     },
     "metadata": {},
     "output_type": "display_data"
    },
    {
     "data": {
      "text/plain": [
       "0.198842    273\n",
       "0.413669    266\n",
       "Name: ps, dtype: int64"
      ]
     },
     "metadata": {},
     "output_type": "display_data"
    },
    {
     "data": {
      "text/plain": [
       "0.198842    1100\n",
       "0.413669     377\n",
       "Name: ps, dtype: int64"
      ]
     },
     "metadata": {},
     "output_type": "display_data"
    },
    {
     "name": "stdout",
     "output_type": "stream",
     "text": [
      "\n",
      "\n",
      "\n",
      "\n",
      "\n",
      "\n",
      "\n",
      "CONTROL:\n",
      "TREATMENT:\n",
      "CONTROL\n",
      "Test outcome under treatment 0.6358024691358025.\n",
      "(Test) ATE -0.12962962962962965.\n",
      "{'C': 1.0, 'class_weight': None, 'dual': False, 'fit_intercept': True, 'intercept_scaling': 1, 'l1_ratio': None, 'max_iter': 100, 'multi_class': 'auto', 'n_jobs': None, 'penalty': 'none', 'random_state': None, 'solver': 'lbfgs', 'tol': 0.0001, 'verbose': 0, 'warm_start': False}\n",
      "ATE -0.12962962962962962\n"
     ]
    },
    {
     "data": {
      "image/png": "[encoded data removed]",
      "text/plain": [
       "<Figure size 1200x600 with 1 Axes>"
      ]
     },
     "metadata": {},
     "output_type": "display_data"
    },
    {
     "name": "stdout",
     "output_type": "stream",
     "text": [
      "               LogisticRegression()\n",
      "ACC_C (Test)               0.746914\n",
      "ACC_T (Test)               0.685185\n",
      "ACC_C (Train)              0.790451\n",
      "ACC_T (Train)              0.740053\n",
      "ROC_AUC_C                  0.809600\n",
      "ROC_AUC_T                  0.742413\n"
     ]
    }
   ],
   "source": [
    "model = [(LogisticRegression(), LogisticRegression())]\n",
    "\n",
    "import shap\n",
    "\n",
    "for model0, model1 in model:\n",
    "    np.random.seed(42)\n",
    "    print(str(model0))\n",
    "    print(str(model1))\n",
    "    metrics, predictions_t, predictions_c, y_test_t, y_test_c, ites_test,itest_treatment, ites_train, X_test_t, X_test_c, X_train_c, X_train_t, ites_test_proba,X_combined_c,X_combined_t = run_model_class1(n_bootstraps = 1, file = FILE, intervention = TREATMENT, outcome = OUTCOME, include_propensity = PROPENSITY, undersampled = UNDERSAMPLE, model1 = model1, model2 = model2, machine = str(model1), num_iter = 1, zmienne = zmienne)\n",
    "    \n",
    "\n",
    "    \n",
    "    \n",
    "#     explainer = shap.Explainer(model1,X_combined_c )\n",
    "#     shap_values_c =explainer(X_combined_c)\n",
    "#     shap.summary_plot(shap_values_c, X_combined_c)\n",
    "    \n",
    "#     explainer_t =shap.Explainer(model2, X_combined_t)\n",
    "#     shap_values_t =explainer_t.shap_values(X_combined_t)\n",
    "#     shap.summary_plot(shap_values_t, X_combined_t)\n",
    "    \n",
    "# #     shap_values_combined =np.vstack((shap_values_c,shap_values_t))\n",
    "# #     X_test_combined = pd.concat([X_test_c, X_test_t], axis =0 ).reset_index(drop=True)\n",
    "# #     shap.summary_plot(shap_values_combined,X_test_combined)\n",
    "    \n",
    "    \n",
    "    visualise_ites1(ites_test, machine =str(model1), intervention =TREATMENT, target =OUTCOME)\n",
    "    print(metrics)"
   ]
  },
  {
   "cell_type": "code",
   "execution_count": 197,
   "id": "49af252d",
   "metadata": {},
   "outputs": [],
   "source": [
    "def ite_classification_for_test_training_treatment(x):\n",
    "    if  -0.01 <= x <= 0.01:\n",
    "        return \"the same\"\n",
    "    elif x < -0.01:\n",
    "        return \"benefit\"\n",
    "    elif x > 0.01:\n",
    "        return \"worsening\"\n",
    "    "
   ]
  },
  {
   "cell_type": "code",
   "execution_count": 198,
   "id": "b83fecd3",
   "metadata": {},
   "outputs": [],
   "source": [
    "X_TEST_T = X_test_t\n",
    "X_TEST_C = X_test_c\n",
    "X_TRAIN_T = X_train_t\n",
    "X_TRAIN_C = X_train_c\n",
    "\n",
    "\n",
    "\n",
    "X_TEST_T['predictions'] = predictions_t\n",
    "X_TEST_C['predictions'] = predictions_c\n",
    "\n",
    "X_TEST_TRAIN = pd.concat([ X_TRAIN_T,X_TEST_T])\n",
    "# y_test = pd.concat([y_test_t, y_test_c])\n",
    "# X_TEST['OutcomeT1'] =y_test\n",
    "X_TEST_TRAIN['ITES'] =itest_treatment\n"
   ]
  },
  {
   "cell_type": "code",
   "execution_count": 199,
   "id": "e89b043f",
   "metadata": {},
   "outputs": [],
   "source": [
    "X_TEST_TRAIN['benefit']= X_TEST_TRAIN['ITES'].apply(ite_classification_for_test_training_treatment)"
   ]
  },
  {
   "cell_type": "code",
   "execution_count": 200,
   "id": "7372d9ae",
   "metadata": {},
   "outputs": [],
   "source": [
    "# for x in X_TEST_TRAIN.columns:\n",
    "#     print(pd.crosstab(X_TEST_TRAIN[x], X_TEST_TRAIN['benefit'], normalize ='index')*100)\n"
   ]
  },
  {
   "cell_type": "code",
   "execution_count": 201,
   "id": "ee9c5d5a",
   "metadata": {},
   "outputs": [],
   "source": [
    "# for x in X_TEST_TRAIN.columns:\n",
    "#     print(pd.crosstab(X_TEST_TRAIN[x], X_TEST_TRAIN['benefit']))"
   ]
  },
  {
   "cell_type": "code",
   "execution_count": 202,
   "id": "da3e9338",
   "metadata": {},
   "outputs": [],
   "source": [
    "def run_model_class1(n_bootstraps, file, model1, model2, machine, intervention, outcome, include_propensity, undersampled = False, num_iter = 1, zmienne =None):\n",
    "    \n",
    "    acc_c, acc_t, f1_c, f1_t = [], [], [], []\n",
    "    train_acc_c, train_acc_t = [], []\n",
    "    \n",
    "    X_train_c, X_test_c, y_train_c, y_test_c, X_train_t, X_test_t, y_train_t, y_test_t= data_processing1(file, undersampled,\n",
    "                                                                                                         include_propensity, machine,\n",
    "                                                                                                         intervention, outcome,\n",
    "                                                                                                         target='OutcomeT1',\n",
    "                                                                                                         treatment='treatment', caliper=0.2,\n",
    "                                                                                                       zmienne =zmienne )\n",
    "   \n",
    "    print(\"\")\n",
    "\n",
    "   \n",
    "   \n",
    "#     f_c = model1\n",
    "#     f_c.fit(X_train_c, y_train_c)\n",
    "#     predictions_c = f_c.predict(X_test_c)\n",
    "#     predictions_c_proba = f_c.predict_proba(X_test_c)[:,1]\n",
    "# #     print(predictions_c_proba)\n",
    "#     print(\"CONTROL:\")\n",
    "#     coefficients_c =model1.coef_[0]\n",
    "# #     print(\"WSPOLCZYNNIKI:\", coefficients_c)\n",
    "#     odds_ratios_c =np.exp(coefficients_c)\n",
    "# #     print(\"OR\", odds_ratios_c)\n",
    "#     df_CONTROL = pd.DataFrame({\n",
    "#         'Cecha': X_train_c.columns, \n",
    "#         'WSPOLCZYNNIKI': coefficients_c,\n",
    "#         'OR' :odds_ratios_c\n",
    "#     })\n",
    "#     print(df_CONTROL)\n",
    "    \n",
    "    \n",
    "#     # treated\n",
    "#     f_t = model2\n",
    "#     f_t.fit(X_train_t, y_train_t)\n",
    "#     predictions_t = f_t.predict(X_test_t)\n",
    "#     predictions_t_proba = f_t.predict_proba(X_test_t)[:,1]\n",
    "    \n",
    "#     print(\"TREATMENT:\")\n",
    "#     coefficients_t =model2.coef_[0]\n",
    "# #     print(\"WSPOLCZYNNIKI:\", coefficients_t)\n",
    "#     odds_ratios_t =np.exp(coefficients_t)\n",
    "# #     print(\"OR\", odds_ratios_t)\n",
    "#     df_TREATMENT = pd.DataFrame({\n",
    "#         'Cecha': X_train_t.columns, \n",
    "#         'WSPOLCZYNNIKI': coefficients_t,\n",
    "#         'OR' :odds_ratios_t\n",
    "        \n",
    "        \n",
    "#     })\n",
    "#     print(df_TREATMENT)\n",
    "    \n",
    "    \n",
    "    \n",
    "    np.random.seed(42)\n",
    "    X_c = sm.add_constant(X_train_c)   \n",
    "    X_t = sm.add_constant(X_train_t)\n",
    "    np.random.seed(42)\n",
    "\n",
    "    model0 =sm.Logit(y_train_c, X_c)\n",
    "    np.random.seed(42)\n",
    "\n",
    "    model1 =sm.Logit(y_train_t, X_t)\n",
    "    np.random.seed(42)\n",
    "#     model0 =sm.OLS(y_train_c, X_train_c)\n",
    "#     model1 =sm.OLS(y_train_t, X_train_t)\n",
    "    result0 =model0.fit()\n",
    "    result1 = model1.fit()  \n",
    "#     y_pred_c =result0.predict( sm.add_constant(X_train_c))\n",
    "#     print(y_pred_c)\n",
    "    \n",
    "#     y_pred_t =result1.predict(sm.add_constant(X_train_t))\n",
    "#     print(y_pred_t)\n",
    "#     print(result0.summary())\n",
    "#     print(result1.summary())\n",
    "    \n",
    "    \n",
    "    \n",
    "#     print(odds_ratios_c)\n",
    "    \n",
    "#     print(odds_ratios_t)\n",
    "    \n",
    "    return y_test_t, y_test_c, X_test_t, X_test_c, X_train_c, X_train_t, y_train_c, y_train_t\n"
   ]
  },
  {
   "cell_type": "code",
   "execution_count": 203,
   "id": "005b20b5",
   "metadata": {},
   "outputs": [],
   "source": [
    "X_TEST_T = X_test_t\n",
    "X_TEST_C = X_test_c\n",
    "X_TEST_T['predictions'] = predictions_t\n",
    "X_TEST_C['predictions'] = predictions_c\n",
    "X_TEST = pd.concat([X_TEST_T, X_TEST_C])\n",
    "y_test = pd.concat([y_test_t, y_test_c])\n",
    "X_TEST['OutcomeT1'] =y_test\n",
    "X_TEST['ITES'] =ites_test\n",
    "\n",
    "X_TEST['ITESp'] = ites_test_proba\n",
    "X_TEST['Benefit'] = X_TEST['ITESp'].apply(lambda x:\n",
    "                                          1 if x <= -0.01 else  #positive\n",
    "                                          2 if x>=0.01 else     # negative\n",
    "                                          0  if (x> -0.01 and x< 0.01)   #neutral\n",
    "                                         else None)\n"
   ]
  },
  {
   "cell_type": "code",
   "execution_count": 204,
   "id": "aa41b4c8",
   "metadata": {},
   "outputs": [],
   "source": [
    "# for x in X_TEST.columns:\n",
    "#     print(pd.crosstab(X_TEST[x],  X_TEST['Benefit'],normalize ='index')*100)\n"
   ]
  },
  {
   "cell_type": "code",
   "execution_count": 205,
   "id": "d70d8400",
   "metadata": {
    "scrolled": false
   },
   "outputs": [],
   "source": [
    "# for x in X_TEST.columns:\n",
    "#     print(pd.crosstab( X_TEST['Benefit'],X_TEST[x], normalize ='index')*100)\n"
   ]
  },
  {
   "cell_type": "code",
   "execution_count": null,
   "id": "0dffc64e",
   "metadata": {},
   "outputs": [],
   "source": []
  },
  {
   "cell_type": "code",
   "execution_count": 206,
   "id": "facdfb73",
   "metadata": {
    "scrolled": false
   },
   "outputs": [],
   "source": [
    "X_TEST_T1 = X_test_t\n",
    "X_TEST_C1 = X_test_c\n",
    "\n",
    "X_TEST_T1['group'] =1\n",
    "# print(X_TEST_T1.head())\n",
    "X_TEST_C1['group'] =0\n",
    "# print(X_TEST_C1.head())\n",
    "\n",
    "\n",
    "# X_TEST_T['predictions'] = predictions_t\n",
    "# X_TEST_C['predictions'] = predictions_c\n",
    "X_TEST_end = pd.concat([X_TEST_T1, X_TEST_C1])\n",
    "# y_test = pd.concat([y_test_t, y_test_c])\n",
    "# X_TEST['OutcomeT1'] =y_test\n",
    "# X_TEST['ITES'] =ites_test\n",
    "\n",
    "X_TEST_end['ITESp'] = ites_test_proba\n",
    "# print(X_TEST_end)\n",
    "\n",
    "X_TEST_end.loc[X_TEST_end['group']==1, 'Benefit_t']= X_TEST_end['ITESp'].apply(lambda x:\n",
    "                                          1 if x <= -0.01 else  #positive\n",
    "                                          2 if x>=0.01 else     # negative\n",
    "                                          0  if (x> -0.01 and x< 0.01)   #neutral\n",
    "                                         else None)\n",
    "\n",
    "# for x in X_TEST_end.columns:\n",
    "#     print(pd.crosstab(X_TEST_end[x], X_TEST_end['Benefit_t'], normalize ='index')*100)\n"
   ]
  },
  {
   "cell_type": "code",
   "execution_count": 207,
   "id": "11a6cb8e",
   "metadata": {
    "scrolled": false
   },
   "outputs": [],
   "source": [
    "# for x in X_TEST_end.columns:\n",
    "#     print(pd.crosstab(X_TEST_end[x], X_TEST_end['Benefit_t']))"
   ]
  },
  {
   "cell_type": "code",
   "execution_count": 208,
   "id": "01911ba6",
   "metadata": {
    "scrolled": false
   },
   "outputs": [],
   "source": [
    "X_TEST_end.loc[X_TEST_end['group']==0, 'Benefit_c']= X_TEST_end['ITESp'].apply(lambda x:\n",
    "                                          1 if x <= -0.01 else  #positive\n",
    "                                          2 if x>=0.01 else     # negative\n",
    "                                          0  if (x> -0.01 and x< 0.01)   #neutral\n",
    "                                         else None)\n",
    "\n",
    "# for x in X_TEST_end.columns:\n",
    "#     print(pd.crosstab(X_TEST_end[x], X_TEST_end['Benefit_c'], normalize ='index')*100)\n"
   ]
  },
  {
   "cell_type": "code",
   "execution_count": 209,
   "id": "7386058c",
   "metadata": {
    "scrolled": false
   },
   "outputs": [],
   "source": [
    "# for x in X_TEST_end.columns:\n",
    "#     print(pd.crosstab(X_TEST_end[x], X_TEST_end['Benefit_c']))"
   ]
  },
  {
   "cell_type": "markdown",
   "id": "76538fdb",
   "metadata": {},
   "source": [
    "### 3.b Run More Models\n",
    "\n",
    "These models can be run also. Feel free to remove some of the models, but please run at least:\n",
    "\n",
    "- ``RandomForestClassifier()``\n",
    "- ``MLPClassifier()``\n",
    "- ``LogisticRegression()``"
   ]
  },
  {
   "cell_type": "code",
   "execution_count": 210,
   "id": "18b530bf",
   "metadata": {
    "scrolled": false
   },
   "outputs": [],
   "source": [
    "# model_lst = [(RandomForestClassifier(),RandomForestClassifier()), \n",
    "#             (MLPClassifier(), MLPClassifier()), (DecisionTreeClassifier(), DecisionTreeClassifier()),\n",
    "#              (AdaBoostClassifier(), AdaBoostClassifier()), (GradientBoostingClassifier(), GradientBoostingClassifier()),\n",
    "#              (ExtraTreesClassifier(),ExtraTreesClassifier()),(LogisticRegression(), LogisticRegression())]\n",
    "\n",
    "# for model1, model2 in model_lst:\n",
    "#     print(str(model1))\n",
    "#     metrics, predictions_t, predictions_c, y_test_t, y_test_c, ites_test, ites_train, X_test_t, X_test_c, X_train_c, X_train_t, ites_test_proba = run_model_class(n_bootstraps = 1, file = FILE, intervention = TREATMENT, outcome = OUTCOME, include_propensity = PROPENSITY, undersampled = UNDERSAMPLE, model0 = model0, model1 = model1, machine = str(model1), num_iter = 1, zmienne = zmienne)\n",
    "#     #visualise(predictions_t, predictions_c, y_test_t, y_test_c, machine=machine, target=target, intervention=intervention)\n",
    "#     visualise_ites(ites_test, machine = str(model1), intervention = TREATMENT, target = OUTCOME)\n",
    "#     #print(\"Probabilitiy of Hospitalization: \")\n",
    "#     confidence_interval(data=ites_test)\n",
    "#     significance(data=ites_test)\n",
    "# #     visualise_ites_proba(ites_test_proba, machine = machine, intervention = TREATMENT, target = OUTCOME)\n",
    "#     print(metrics)"
   ]
  },
  {
   "cell_type": "markdown",
   "id": "55e356b6",
   "metadata": {},
   "source": [
    "## Part 4. Adaptive Model\n",
    "\n",
    "In this last part, we will predict the treatment effect using an adaptive model. This model was developed by us. As can be seen, there is a bit more coding involved, but the benefit is that it is easier to adapt this model to our preferences. "
   ]
  },
  {
   "cell_type": "markdown",
   "id": "1d1d8a6e",
   "metadata": {},
   "source": [
    "The first step is to make sure that our model runs on the proper device. \n",
    "\n",
    "Not included. Does not work with probabilistic outcomes."
   ]
  },
  {
   "cell_type": "code",
   "execution_count": null,
   "id": "21862932",
   "metadata": {},
   "outputs": [],
   "source": []
  },
  {
   "cell_type": "code",
   "execution_count": null,
   "id": "629ab637",
   "metadata": {},
   "outputs": [],
   "source": []
  }
 ],
 "metadata": {
  "kernelspec": {
   "display_name": "Python 3 (ipykernel)",
   "language": "python",
   "name": "python3"
  },
  "language_info": {
   "codemirror_mode": {
    "name": "ipython",
    "version": 3
   },
   "file_extension": ".py",
   "mimetype": "text/x-python",
   "name": "python",
   "nbconvert_exporter": "python",
   "pygments_lexer": "ipython3",
   "version": "3.9.13"
  }
 },
 "nbformat": 4,
 "nbformat_minor": 5
}

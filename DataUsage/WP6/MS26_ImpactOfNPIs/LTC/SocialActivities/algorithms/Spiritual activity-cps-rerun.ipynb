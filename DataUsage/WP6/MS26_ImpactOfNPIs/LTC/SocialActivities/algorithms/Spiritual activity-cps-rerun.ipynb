{
 "cells": [
  {
   "cell_type": "markdown",
   "id": "022a2832",
   "metadata": {},
   "source": [
    "# Causal Machine Learning for Treatment Effect Estimation"
   ]
  },
  {
   "cell_type": "code",
   "execution_count": 1,
   "id": "6d9749f9",
   "metadata": {},
   "outputs": [],
   "source": [
    "# import necessary libraries\n",
    "import pandas as pd\n",
    "import numpy as np\n",
    "import seaborn as sns\n",
    "import matplotlib.pyplot as plt\n",
    "\n",
    "#from sklearn.impute import KNNImputer\n",
    "from sklearn.model_selection import train_test_split, cross_val_score\n",
    "from sklearn.metrics import mean_squared_error, mean_absolute_error, r2_score\n",
    "from sklearn.cluster import KMeans\n",
    "\n",
    "from sklearn.preprocessing import Normalizer\n",
    "\n",
    "# get standard models\n",
    "from sklearn.linear_model import LogisticRegression\n",
    "from sklearn.linear_model import LinearRegression\n",
    "from sklearn.linear_model import Ridge\n",
    "from sklearn.linear_model import Lasso\n",
    "from sklearn.tree import DecisionTreeRegressor\n",
    "from sklearn.ensemble import RandomForestRegressor\n",
    "from sklearn.ensemble import GradientBoostingRegressor\n",
    "from sklearn.ensemble import AdaBoostRegressor\n",
    "from sklearn.ensemble import ExtraTreesRegressor\n",
    "from sklearn.ensemble import BaggingRegressor\n",
    "from sklearn.ensemble import VotingRegressor\n",
    "from sklearn.ensemble import RandomForestClassifier\n",
    "from sklearn.neural_network import MLPRegressor\n",
    "\n",
    "from sources.doubly_robust import doubly_robust\n",
    "from sources.models.TARNet import TARnetICFR\n",
    "\n",
    "from significance import *\n",
    "\n",
    "import pickle\n",
    "import torch\n",
    "import torch.nn as nn\n",
    "import torch.optim as optim\n",
    "\n",
    "from auxiliary import data_processing, doubly_robust, visualise, visualise_ites, impute_missing_values_knn, run_model, undersample, full_contra_indications_tracker, value_based_contra_indications_tracker, period_decomposition, multicol\n",
    "from icodes import encoding\n",
    "\n",
    "# from datetime import timedelta\n",
    "import warnings \n",
    "warnings.filterwarnings('ignore')"
   ]
  },
  {
   "cell_type": "markdown",
   "id": "cf6bccc9",
   "metadata": {},
   "source": [
    "## 1. Introduction\n",
    "\n",
    "The purpose of this notebook is to provide and end-to-end description of the treatment effect estimation process. This notebook consists of three parts:\n",
    "\n",
    "1. **Data processing**: The first part is the data processing part. Here we basically prepare the data for the ML models.\n",
    "2. **Causal ML Models**: The second part of the notebook consists of a series of causal ML learning models. In particular, we use the causal meta-learning framework. \n",
    "3. **Adadptive Model**: The third part of the notebook is also a machine learning model. However, contrary to the models before, this one was developed by the VU team and allows for more control over the estimation proces. \n",
    "\n",
    "Please find below an overview of the steps we will go through. Note that the boxes do not correspond one-to-one to sections in the notebook, but the general flow is the same. "
   ]
  },
  {
   "cell_type": "markdown",
   "id": "32f80659",
   "metadata": {},
   "source": [
    "![alt text](images\\ModellingOverview.jpg)"
   ]
  },
  {
   "cell_type": "markdown",
   "id": "c3702ec1",
   "metadata": {},
   "source": [
    "## 1.a. Preliminaries \\& Design Choices\n",
    "\n",
    "We first want to get some preliminaries out of the way. In particular, we would like to make some specific **design choices** explicit. Below, we can set the following parameters, thereby modifying specific choices:\n",
    "\n",
    "- ``EXPOSURE_THRESHOLD``: The treatment is binary. However, how much treatment is provided can be changed with this variable. In essence, it determines the cut-off value. For instance, we can set it to 60 minutes in the case of physical therapy (in mins.). Then, patients with more then 60 minutes of PT will be assigned T=1, those below will be T=0.\n",
    "- ``PERIOD_MIN``: Minimal time period between baseline measurement and followup measurement. N.B. If this is set too low, the effect may not yet register. Too high and the effect may have faded out. \n",
    "- ``PERIOD_MAX``: Maximal time period between baseline measurement and followup measurement. N.B. If this is set too low, effect may not yet register. Too high and the effect may have faded out.  \n",
    "- ``REMOVE_MULTI_COL``: Whether or not to remove multicollinear columns. \n",
    "- ``CORRELATION_THRESHOLD``: Threshold for removing collinear columns. \n",
    "- ``UNDERSAMPLE``: Some models perform better when undersampling the minority class. For instance, if there are 1000 cases of patients with PT (T=0) and only 150 with PT (T=1), setting this to ``True`` ensures that 150 patients are sampled from PT (T=0), resulting in 300 observations in total.\n",
    "- ``IMPUTE``: Whether or not to impute missing *covariate* values.\n",
    "- ``PROPENSITY``: Whether or not to add a propensity score to the model.\n",
    "- ``CLEAN_COMPARE``: By default (when this is set to ``False``), the data processing script assigns any observations below ``EXPOSURE_THRESHOLD`` to the control group and  any observation above ``EXPOSURE_THRESHOLD`` to treated. Setting this parameter to ``True`` creates a scenario where *only* observation that did not get any treatment are assigned to the control group. For instance, in the case of PT, we would have a control group of patients getting only 0 mins. of PT and a treated group of patients with, say, more than 60 mins. of PT.\n",
    "- ``TREATMENT``: Name of the treatment variable.\n",
    "- ``TARGET``: Name of the target variable."
   ]
  },
  {
   "cell_type": "code",
   "execution_count": 2,
   "id": "90862091",
   "metadata": {},
   "outputs": [],
   "source": [
    "# set seed\n",
    "np.random.seed(42)\n",
    "\n",
    "# set the exposure threshold for binary dichtomization. In the case of minor social activities, more than 30 days ago. \n",
    "EXPOSURE_THRESHOLD = 1#30 # SET TO 30\n",
    "\n",
    "# set the period between observations. We only consider the effects between 120 and 240 days after exposure. \n",
    "PERIOD_MIN = 120 # /MAYBE CHECK WITH 60? \n",
    "PERIOD_MAX = 240 # CHECK WITH 120 DAYS \n",
    "\n",
    "# if we want to move multicollinear columns, set to True\n",
    "REMOVE_MULTI_COL = False\n",
    "\n",
    "# set the threshold for multicollinearity drops \n",
    "CORRELATION_THRESHOLD = 0.6\n",
    "\n",
    "# set to True if we want to undersample\n",
    "UNDERSAMPLE = False #False #True\n",
    "\n",
    "# set to True if we want to impute missing values\n",
    "IMPUTE = False\n",
    "\n",
    "PROPENSITY = True\n",
    "\n",
    "# clean compare (to be used if only > threshold AND treatment = 0)\n",
    "CLEAN_COMPARE = True\n",
    "\n",
    "TREATMENT = 'is2l' # (days of Social activities)\n",
    "OUTCOME = 'sCPS' "
   ]
  },
  {
   "cell_type": "code",
   "execution_count": 3,
   "id": "74b92c4a",
   "metadata": {},
   "outputs": [],
   "source": [
    "#df"
   ]
  },
  {
   "cell_type": "markdown",
   "id": "1f092037",
   "metadata": {},
   "source": [
    "Having set the desired parameters, we will now read in the data."
   ]
  },
  {
   "cell_type": "code",
   "execution_count": 4,
   "id": "d77ac00e",
   "metadata": {},
   "outputs": [
    {
     "name": "stdout",
     "output_type": "stream",
     "text": [
      "Treatment before processing 15603\n"
     ]
    }
   ],
   "source": [
    "file = \"data/dutch_LTCF_all.csv\"\n",
    "\n",
    "# read data\n",
    "df = pd.read_csv(file)\n",
    "print(f\"Treatment before processing {len(df[df[TREATMENT]>=EXPOSURE_THRESHOLD])}\")"
   ]
  },
  {
   "cell_type": "code",
   "execution_count": 5,
   "id": "c6fb90d5",
   "metadata": {},
   "outputs": [
    {
     "data": {
      "text/html": [
       "<div>\n",
       "<style scoped>\n",
       "    .dataframe tbody tr th:only-of-type {\n",
       "        vertical-align: middle;\n",
       "    }\n",
       "\n",
       "    .dataframe tbody tr th {\n",
       "        vertical-align: top;\n",
       "    }\n",
       "\n",
       "    .dataframe thead th {\n",
       "        text-align: right;\n",
       "    }\n",
       "</style>\n",
       "<table border=\"1\" class=\"dataframe\">\n",
       "  <thead>\n",
       "    <tr style=\"text-align: right;\">\n",
       "      <th>is2l.cat</th>\n",
       "      <th>0.0</th>\n",
       "      <th>1.0</th>\n",
       "    </tr>\n",
       "    <tr>\n",
       "      <th>is2l</th>\n",
       "      <th></th>\n",
       "      <th></th>\n",
       "    </tr>\n",
       "  </thead>\n",
       "  <tbody>\n",
       "    <tr>\n",
       "      <th>0.0</th>\n",
       "      <td>27830</td>\n",
       "      <td>0</td>\n",
       "    </tr>\n",
       "    <tr>\n",
       "      <th>1.0</th>\n",
       "      <td>0</td>\n",
       "      <td>851</td>\n",
       "    </tr>\n",
       "    <tr>\n",
       "      <th>2.0</th>\n",
       "      <td>2366</td>\n",
       "      <td>0</td>\n",
       "    </tr>\n",
       "    <tr>\n",
       "      <th>3.0</th>\n",
       "      <td>0</td>\n",
       "      <td>5285</td>\n",
       "    </tr>\n",
       "    <tr>\n",
       "      <th>4.0</th>\n",
       "      <td>0</td>\n",
       "      <td>7101</td>\n",
       "    </tr>\n",
       "  </tbody>\n",
       "</table>\n",
       "</div>"
      ],
      "text/plain": [
       "is2l.cat    0.0   1.0\n",
       "is2l                 \n",
       "0.0       27830     0\n",
       "1.0           0   851\n",
       "2.0        2366     0\n",
       "3.0           0  5285\n",
       "4.0           0  7101"
      ]
     },
     "execution_count": 5,
     "metadata": {},
     "output_type": "execute_result"
    }
   ],
   "source": [
    "#example how to created new variable is2l.cat from is2l\n",
    "# new variable is2l.cat will take values 1 (if is2l=1 or 3 or 4) or 0 (if is2l=0 or is2l=2)\n",
    "df['is2l.cat']=df['is2l'].apply(lambda x: 0 if(x==0 or x==2) else 1 if (x==1 or x==3 or x==4) else None)\n",
    "# Control\n",
    "pd.crosstab(df['is2l'],df['is2l.cat'])"
   ]
  },
  {
   "cell_type": "code",
   "execution_count": 6,
   "id": "abba94a1",
   "metadata": {},
   "outputs": [
    {
     "data": {
      "text/html": [
       "<div>\n",
       "<style scoped>\n",
       "    .dataframe tbody tr th:only-of-type {\n",
       "        vertical-align: middle;\n",
       "    }\n",
       "\n",
       "    .dataframe tbody tr th {\n",
       "        vertical-align: top;\n",
       "    }\n",
       "\n",
       "    .dataframe thead th {\n",
       "        text-align: right;\n",
       "    }\n",
       "</style>\n",
       "<table border=\"1\" class=\"dataframe\">\n",
       "  <thead>\n",
       "    <tr style=\"text-align: right;\">\n",
       "      <th>ia4.cat</th>\n",
       "      <th>0.0</th>\n",
       "      <th>1.0</th>\n",
       "    </tr>\n",
       "    <tr>\n",
       "      <th>ia4</th>\n",
       "      <th></th>\n",
       "      <th></th>\n",
       "    </tr>\n",
       "  </thead>\n",
       "  <tbody>\n",
       "    <tr>\n",
       "      <th>1.0</th>\n",
       "      <td>5703</td>\n",
       "      <td>0</td>\n",
       "    </tr>\n",
       "    <tr>\n",
       "      <th>2.0</th>\n",
       "      <td>0</td>\n",
       "      <td>9089</td>\n",
       "    </tr>\n",
       "    <tr>\n",
       "      <th>3.0</th>\n",
       "      <td>0</td>\n",
       "      <td>325</td>\n",
       "    </tr>\n",
       "    <tr>\n",
       "      <th>4.0</th>\n",
       "      <td>22256</td>\n",
       "      <td>0</td>\n",
       "    </tr>\n",
       "    <tr>\n",
       "      <th>5.0</th>\n",
       "      <td>57</td>\n",
       "      <td>0</td>\n",
       "    </tr>\n",
       "    <tr>\n",
       "      <th>6.0</th>\n",
       "      <td>2045</td>\n",
       "      <td>0</td>\n",
       "    </tr>\n",
       "  </tbody>\n",
       "</table>\n",
       "</div>"
      ],
      "text/plain": [
       "ia4.cat    0.0   1.0\n",
       "ia4                 \n",
       "1.0       5703     0\n",
       "2.0          0  9089\n",
       "3.0          0   325\n",
       "4.0      22256     0\n",
       "5.0         57     0\n",
       "6.0       2045     0"
      ]
     },
     "execution_count": 6,
     "metadata": {},
     "output_type": "execute_result"
    }
   ],
   "source": [
    "#example how to created new variable ia4.cat from ia4\n",
    "#ia4= marital status\n",
    "# 1= never married, 2= married, 3= partner/significant other, 4= widowed, 5= seperated,6= divorced\n",
    "# new variable ia4.cat will take values 1 (if ia4=2 or 3) or 0 (if ia4= 1 or 4 or 5 or 6)\n",
    "df['ia4.cat']=df['ia4'].apply(lambda x: 1 if(x==2 or x==3) else 0 if (x==1 or x==4 or x==5 or x==6) else None)\n",
    "# Control\n",
    "pd.crosstab(df['ia4'],df['ia4.cat'])"
   ]
  },
  {
   "cell_type": "code",
   "execution_count": 7,
   "id": "55c05e2f",
   "metadata": {},
   "outputs": [
    {
     "data": {
      "text/html": [
       "<div>\n",
       "<style scoped>\n",
       "    .dataframe tbody tr th:only-of-type {\n",
       "        vertical-align: middle;\n",
       "    }\n",
       "\n",
       "    .dataframe tbody tr th {\n",
       "        vertical-align: top;\n",
       "    }\n",
       "\n",
       "    .dataframe thead th {\n",
       "        text-align: right;\n",
       "    }\n",
       "</style>\n",
       "<table border=\"1\" class=\"dataframe\">\n",
       "  <thead>\n",
       "    <tr style=\"text-align: right;\">\n",
       "      <th>ii1c.cat</th>\n",
       "      <th>0.0</th>\n",
       "      <th>1.0</th>\n",
       "    </tr>\n",
       "    <tr>\n",
       "      <th>ii1c</th>\n",
       "      <th></th>\n",
       "      <th></th>\n",
       "    </tr>\n",
       "  </thead>\n",
       "  <tbody>\n",
       "    <tr>\n",
       "      <th>0.0</th>\n",
       "      <td>30683</td>\n",
       "      <td>0</td>\n",
       "    </tr>\n",
       "    <tr>\n",
       "      <th>1.0</th>\n",
       "      <td>0</td>\n",
       "      <td>3055</td>\n",
       "    </tr>\n",
       "    <tr>\n",
       "      <th>2.0</th>\n",
       "      <td>0</td>\n",
       "      <td>3389</td>\n",
       "    </tr>\n",
       "    <tr>\n",
       "      <th>3.0</th>\n",
       "      <td>0</td>\n",
       "      <td>6632</td>\n",
       "    </tr>\n",
       "  </tbody>\n",
       "</table>\n",
       "</div>"
      ],
      "text/plain": [
       "ii1c.cat    0.0   1.0\n",
       "ii1c                 \n",
       "0.0       30683     0\n",
       "1.0           0  3055\n",
       "2.0           0  3389\n",
       "3.0           0  6632"
      ]
     },
     "execution_count": 7,
     "metadata": {},
     "output_type": "execute_result"
    }
   ],
   "source": [
    "#example how to create a new variable for DRS ii1c.cat from ii1c\n",
    "#ii1c= Alzheimers disease\n",
    "# 0= not present, 1= Primary Diagnosis for current stay 2= Diagnosis present receiving active treatment,3=diagnosis presesent, monitored, not receiving active treatment\n",
    "# new variable ii1c.cat will take values 1 (if ii1c=1 or 2 or 3 ) or 0 (if ii1c=0)\n",
    "df['ii1c.cat']=df['ii1c'].apply(lambda x: 0 if(x==0) else 1 if (x==1 or x==2 or x==3) else None)\n",
    "# Control\n",
    "pd.crosstab(df['ii1c'],df['ii1c.cat'])"
   ]
  },
  {
   "cell_type": "code",
   "execution_count": 8,
   "id": "19eba7a0",
   "metadata": {},
   "outputs": [
    {
     "data": {
      "text/html": [
       "<div>\n",
       "<style scoped>\n",
       "    .dataframe tbody tr th:only-of-type {\n",
       "        vertical-align: middle;\n",
       "    }\n",
       "\n",
       "    .dataframe tbody tr th {\n",
       "        vertical-align: top;\n",
       "    }\n",
       "\n",
       "    .dataframe thead th {\n",
       "        text-align: right;\n",
       "    }\n",
       "</style>\n",
       "<table border=\"1\" class=\"dataframe\">\n",
       "  <thead>\n",
       "    <tr style=\"text-align: right;\">\n",
       "      <th>ii1d.cat</th>\n",
       "      <th>0.0</th>\n",
       "      <th>1.0</th>\n",
       "    </tr>\n",
       "    <tr>\n",
       "      <th>ii1d</th>\n",
       "      <th></th>\n",
       "      <th></th>\n",
       "    </tr>\n",
       "  </thead>\n",
       "  <tbody>\n",
       "    <tr>\n",
       "      <th>0.0</th>\n",
       "      <td>33713</td>\n",
       "      <td>0</td>\n",
       "    </tr>\n",
       "    <tr>\n",
       "      <th>1.0</th>\n",
       "      <td>0</td>\n",
       "      <td>2721</td>\n",
       "    </tr>\n",
       "    <tr>\n",
       "      <th>2.0</th>\n",
       "      <td>0</td>\n",
       "      <td>2365</td>\n",
       "    </tr>\n",
       "    <tr>\n",
       "      <th>3.0</th>\n",
       "      <td>0</td>\n",
       "      <td>4920</td>\n",
       "    </tr>\n",
       "  </tbody>\n",
       "</table>\n",
       "</div>"
      ],
      "text/plain": [
       "ii1d.cat    0.0   1.0\n",
       "ii1d                 \n",
       "0.0       33713     0\n",
       "1.0           0  2721\n",
       "2.0           0  2365\n",
       "3.0           0  4920"
      ]
     },
     "execution_count": 8,
     "metadata": {},
     "output_type": "execute_result"
    }
   ],
   "source": [
    "#example how to create a new variable for DRS ii1d.cat from ii1d\n",
    "#ii1d= Dementia disease\n",
    "# 0= 0= not present, 1= Primary Diagnosis for current stay, 2= Diagnosis present receiving active treatment,3=diagnosis presesent, monitored, not receiving active treatment\n",
    "# new variable ii1d.cat will take values 1 (if ii1d=1 or 2 or 3 ) or 0 (if ii1d=0)\n",
    "df['ii1d.cat']=df['ii1d'].apply(lambda x: 0 if(x==0) else 1 if (x==1 or x==2 or x==3) else None)\n",
    "# Control\n",
    "pd.crosstab(df['ii1d'],df['ii1d.cat'])"
   ]
  },
  {
   "cell_type": "code",
   "execution_count": 9,
   "id": "7ca5c4e5",
   "metadata": {},
   "outputs": [
    {
     "data": {
      "text/html": [
       "<div>\n",
       "<style scoped>\n",
       "    .dataframe tbody tr th:only-of-type {\n",
       "        vertical-align: middle;\n",
       "    }\n",
       "\n",
       "    .dataframe tbody tr th {\n",
       "        vertical-align: top;\n",
       "    }\n",
       "\n",
       "    .dataframe thead th {\n",
       "        text-align: right;\n",
       "    }\n",
       "</style>\n",
       "<table border=\"1\" class=\"dataframe\">\n",
       "  <thead>\n",
       "    <tr style=\"text-align: right;\">\n",
       "      <th>ii1o.cat</th>\n",
       "      <th>0.0</th>\n",
       "      <th>1.0</th>\n",
       "    </tr>\n",
       "    <tr>\n",
       "      <th>ii1o</th>\n",
       "      <th></th>\n",
       "      <th></th>\n",
       "    </tr>\n",
       "  </thead>\n",
       "  <tbody>\n",
       "    <tr>\n",
       "      <th>0.0</th>\n",
       "      <td>35752</td>\n",
       "      <td>0</td>\n",
       "    </tr>\n",
       "    <tr>\n",
       "      <th>1.0</th>\n",
       "      <td>0</td>\n",
       "      <td>1268</td>\n",
       "    </tr>\n",
       "    <tr>\n",
       "      <th>2.0</th>\n",
       "      <td>0</td>\n",
       "      <td>4503</td>\n",
       "    </tr>\n",
       "    <tr>\n",
       "      <th>3.0</th>\n",
       "      <td>0</td>\n",
       "      <td>2193</td>\n",
       "    </tr>\n",
       "  </tbody>\n",
       "</table>\n",
       "</div>"
      ],
      "text/plain": [
       "ii1o.cat    0.0   1.0\n",
       "ii1o                 \n",
       "0.0       35752     0\n",
       "1.0           0  1268\n",
       "2.0           0  4503\n",
       "3.0           0  2193"
      ]
     },
     "execution_count": 9,
     "metadata": {},
     "output_type": "execute_result"
    }
   ],
   "source": [
    "#ii1o= Depression\n",
    "df['ii1o.cat']=df['ii1o'].apply(lambda x: 0 if(x==0) else 1 if (x==1 or x==2 or x==3) else None)\n",
    "# Control\n",
    "pd.crosstab(df['ii1o'],df['ii1o.cat'])"
   ]
  },
  {
   "cell_type": "code",
   "execution_count": 10,
   "id": "16687cea",
   "metadata": {},
   "outputs": [
    {
     "data": {
      "text/html": [
       "<div>\n",
       "<style scoped>\n",
       "    .dataframe tbody tr th:only-of-type {\n",
       "        vertical-align: middle;\n",
       "    }\n",
       "\n",
       "    .dataframe tbody tr th {\n",
       "        vertical-align: top;\n",
       "    }\n",
       "\n",
       "    .dataframe thead th {\n",
       "        text-align: right;\n",
       "    }\n",
       "</style>\n",
       "<table border=\"1\" class=\"dataframe\">\n",
       "  <thead>\n",
       "    <tr style=\"text-align: right;\">\n",
       "      <th>ii1k.cat</th>\n",
       "      <th>0.0</th>\n",
       "      <th>1.0</th>\n",
       "    </tr>\n",
       "    <tr>\n",
       "      <th>ii1k</th>\n",
       "      <th></th>\n",
       "      <th></th>\n",
       "    </tr>\n",
       "  </thead>\n",
       "  <tbody>\n",
       "    <tr>\n",
       "      <th>0.0</th>\n",
       "      <td>40136</td>\n",
       "      <td>0</td>\n",
       "    </tr>\n",
       "    <tr>\n",
       "      <th>1.0</th>\n",
       "      <td>0</td>\n",
       "      <td>460</td>\n",
       "    </tr>\n",
       "    <tr>\n",
       "      <th>2.0</th>\n",
       "      <td>0</td>\n",
       "      <td>1940</td>\n",
       "    </tr>\n",
       "    <tr>\n",
       "      <th>3.0</th>\n",
       "      <td>0</td>\n",
       "      <td>1140</td>\n",
       "    </tr>\n",
       "  </tbody>\n",
       "</table>\n",
       "</div>"
      ],
      "text/plain": [
       "ii1k.cat    0.0   1.0\n",
       "ii1k                 \n",
       "0.0       40136     0\n",
       "1.0           0   460\n",
       "2.0           0  1940\n",
       "3.0           0  1140"
      ]
     },
     "execution_count": 10,
     "metadata": {},
     "output_type": "execute_result"
    }
   ],
   "source": [
    "#ii1o= Coronary heart disease\n",
    "df['ii1k.cat']=df['ii1k'].apply(lambda x: 0 if(x==0) else 1 if (x==1 or x==2 or x==3) else None)\n",
    "# Control\n",
    "pd.crosstab(df['ii1k'],df['ii1k.cat'])"
   ]
  },
  {
   "cell_type": "code",
   "execution_count": 11,
   "id": "1b7ff7d8",
   "metadata": {},
   "outputs": [
    {
     "data": {
      "text/html": [
       "<div>\n",
       "<style scoped>\n",
       "    .dataframe tbody tr th:only-of-type {\n",
       "        vertical-align: middle;\n",
       "    }\n",
       "\n",
       "    .dataframe tbody tr th {\n",
       "        vertical-align: top;\n",
       "    }\n",
       "\n",
       "    .dataframe thead th {\n",
       "        text-align: right;\n",
       "    }\n",
       "</style>\n",
       "<table border=\"1\" class=\"dataframe\">\n",
       "  <thead>\n",
       "    <tr style=\"text-align: right;\">\n",
       "      <th>ii1t.cat</th>\n",
       "      <th>0.0</th>\n",
       "      <th>1.0</th>\n",
       "    </tr>\n",
       "    <tr>\n",
       "      <th>ii1t</th>\n",
       "      <th></th>\n",
       "      <th></th>\n",
       "    </tr>\n",
       "  </thead>\n",
       "  <tbody>\n",
       "    <tr>\n",
       "      <th>0.0</th>\n",
       "      <td>33886</td>\n",
       "      <td>0</td>\n",
       "    </tr>\n",
       "    <tr>\n",
       "      <th>1.0</th>\n",
       "      <td>0</td>\n",
       "      <td>556</td>\n",
       "    </tr>\n",
       "    <tr>\n",
       "      <th>2.0</th>\n",
       "      <td>0</td>\n",
       "      <td>8186</td>\n",
       "    </tr>\n",
       "    <tr>\n",
       "      <th>3.0</th>\n",
       "      <td>0</td>\n",
       "      <td>1127</td>\n",
       "    </tr>\n",
       "  </tbody>\n",
       "</table>\n",
       "</div>"
      ],
      "text/plain": [
       "ii1t.cat    0.0   1.0\n",
       "ii1t                 \n",
       "0.0       33886     0\n",
       "1.0           0   556\n",
       "2.0           0  8186\n",
       "3.0           0  1127"
      ]
     },
     "execution_count": 11,
     "metadata": {},
     "output_type": "execute_result"
    }
   ],
   "source": [
    "#ii1t= Diabetes\n",
    "df['ii1t.cat']=df['ii1t'].apply(lambda x: 0 if(x==0) else 1 if (x==1 or x==2 or x==3) else None)\n",
    "# Control\n",
    "pd.crosstab(df['ii1t'],df['ii1t.cat'])"
   ]
  },
  {
   "cell_type": "code",
   "execution_count": 12,
   "id": "27af63ff",
   "metadata": {},
   "outputs": [],
   "source": [
    "#ib3b= Ethenicity\n",
    "#df['ib3b.cat']=df['ib3b'].apply(lambda x: 0 if(x==4) else 1 if (x==1 or x==2 or x==3) else None)\n",
    "# Control\n",
    "#pd.crosstab(df['ib3b'],df['ib3b.cat'])"
   ]
  },
  {
   "cell_type": "code",
   "execution_count": 13,
   "id": "f62d7a63",
   "metadata": {},
   "outputs": [
    {
     "data": {
      "text/html": [
       "<div>\n",
       "<style scoped>\n",
       "    .dataframe tbody tr th:only-of-type {\n",
       "        vertical-align: middle;\n",
       "    }\n",
       "\n",
       "    .dataframe tbody tr th {\n",
       "        vertical-align: top;\n",
       "    }\n",
       "\n",
       "    .dataframe thead th {\n",
       "        text-align: right;\n",
       "    }\n",
       "</style>\n",
       "<table border=\"1\" class=\"dataframe\">\n",
       "  <thead>\n",
       "    <tr style=\"text-align: right;\">\n",
       "      <th>ia12a.cat</th>\n",
       "      <th>0.0</th>\n",
       "      <th>1.0</th>\n",
       "    </tr>\n",
       "    <tr>\n",
       "      <th>ia12a</th>\n",
       "      <th></th>\n",
       "      <th></th>\n",
       "    </tr>\n",
       "  </thead>\n",
       "  <tbody>\n",
       "    <tr>\n",
       "      <th>1.0</th>\n",
       "      <td>30315</td>\n",
       "      <td>0</td>\n",
       "    </tr>\n",
       "    <tr>\n",
       "      <th>2.0</th>\n",
       "      <td>0</td>\n",
       "      <td>12121</td>\n",
       "    </tr>\n",
       "    <tr>\n",
       "      <th>3.0</th>\n",
       "      <td>0</td>\n",
       "      <td>883</td>\n",
       "    </tr>\n",
       "    <tr>\n",
       "      <th>4.0</th>\n",
       "      <td>0</td>\n",
       "      <td>1150</td>\n",
       "    </tr>\n",
       "    <tr>\n",
       "      <th>5.0</th>\n",
       "      <td>0</td>\n",
       "      <td>121</td>\n",
       "    </tr>\n",
       "    <tr>\n",
       "      <th>6.0</th>\n",
       "      <td>0</td>\n",
       "      <td>343</td>\n",
       "    </tr>\n",
       "    <tr>\n",
       "      <th>7.0</th>\n",
       "      <td>0</td>\n",
       "      <td>271</td>\n",
       "    </tr>\n",
       "    <tr>\n",
       "      <th>8.0</th>\n",
       "      <td>0</td>\n",
       "      <td>1234</td>\n",
       "    </tr>\n",
       "  </tbody>\n",
       "</table>\n",
       "</div>"
      ],
      "text/plain": [
       "ia12a.cat    0.0    1.0\n",
       "ia12a                  \n",
       "1.0        30315      0\n",
       "2.0            0  12121\n",
       "3.0            0    883\n",
       "4.0            0   1150\n",
       "5.0            0    121\n",
       "6.0            0    343\n",
       "7.0            0    271\n",
       "8.0            0   1234"
      ]
     },
     "execution_count": 13,
     "metadata": {},
     "output_type": "execute_result"
    }
   ],
   "source": [
    "#iA12a= living arrangements\n",
    "df['ia12a.cat']=df['ia12a'].apply(lambda x: 0 if(x==1) else 1 if (x==4 or x==2 or x==3 or x==5 or x==6 or x==7 or x==8 or x==9) else None)\n",
    "# Control\n",
    "pd.crosstab(df['ia12a'],df['ia12a.cat'])"
   ]
  },
  {
   "cell_type": "code",
   "execution_count": 14,
   "id": "812f03ed",
   "metadata": {},
   "outputs": [
    {
     "data": {
      "text/html": [
       "<div>\n",
       "<style scoped>\n",
       "    .dataframe tbody tr th:only-of-type {\n",
       "        vertical-align: middle;\n",
       "    }\n",
       "\n",
       "    .dataframe tbody tr th {\n",
       "        vertical-align: top;\n",
       "    }\n",
       "\n",
       "    .dataframe thead th {\n",
       "        text-align: right;\n",
       "    }\n",
       "</style>\n",
       "<table border=\"1\" class=\"dataframe\">\n",
       "  <thead>\n",
       "    <tr style=\"text-align: right;\">\n",
       "      <th>ii1m.cat</th>\n",
       "      <th>0.0</th>\n",
       "      <th>1.0</th>\n",
       "    </tr>\n",
       "    <tr>\n",
       "      <th>ii1m</th>\n",
       "      <th></th>\n",
       "      <th></th>\n",
       "    </tr>\n",
       "  </thead>\n",
       "  <tbody>\n",
       "    <tr>\n",
       "      <th>0.0</th>\n",
       "      <td>38205</td>\n",
       "      <td>0</td>\n",
       "    </tr>\n",
       "    <tr>\n",
       "      <th>1.0</th>\n",
       "      <td>0</td>\n",
       "      <td>597</td>\n",
       "    </tr>\n",
       "    <tr>\n",
       "      <th>2.0</th>\n",
       "      <td>0</td>\n",
       "      <td>3709</td>\n",
       "    </tr>\n",
       "    <tr>\n",
       "      <th>3.0</th>\n",
       "      <td>0</td>\n",
       "      <td>1195</td>\n",
       "    </tr>\n",
       "  </tbody>\n",
       "</table>\n",
       "</div>"
      ],
      "text/plain": [
       "ii1m.cat    0.0   1.0\n",
       "ii1m                 \n",
       "0.0       38205     0\n",
       "1.0           0   597\n",
       "2.0           0  3709\n",
       "3.0           0  1195"
      ]
     },
     "execution_count": 14,
     "metadata": {},
     "output_type": "execute_result"
    }
   ],
   "source": [
    "#ii1m= COPD\n",
    "df['ii1m.cat']=df['ii1m'].apply(lambda x: 0 if(x==0) else 1 if (x==1 or x==2 or x==3) else None)\n",
    "# Control\n",
    "pd.crosstab(df['ii1m'],df['ii1m.cat'])"
   ]
  },
  {
   "cell_type": "code",
   "execution_count": 15,
   "id": "16c75a88",
   "metadata": {},
   "outputs": [
    {
     "data": {
      "text/html": [
       "<div>\n",
       "<style scoped>\n",
       "    .dataframe tbody tr th:only-of-type {\n",
       "        vertical-align: middle;\n",
       "    }\n",
       "\n",
       "    .dataframe tbody tr th {\n",
       "        vertical-align: top;\n",
       "    }\n",
       "\n",
       "    .dataframe thead th {\n",
       "        text-align: right;\n",
       "    }\n",
       "</style>\n",
       "<table border=\"1\" class=\"dataframe\">\n",
       "  <thead>\n",
       "    <tr style=\"text-align: right;\">\n",
       "      <th>ii1s.cat</th>\n",
       "      <th>0.0</th>\n",
       "      <th>1.0</th>\n",
       "    </tr>\n",
       "    <tr>\n",
       "      <th>ii1s</th>\n",
       "      <th></th>\n",
       "      <th></th>\n",
       "    </tr>\n",
       "  </thead>\n",
       "  <tbody>\n",
       "    <tr>\n",
       "      <th>0.0</th>\n",
       "      <td>39487</td>\n",
       "      <td>0</td>\n",
       "    </tr>\n",
       "    <tr>\n",
       "      <th>1.0</th>\n",
       "      <td>0</td>\n",
       "      <td>781</td>\n",
       "    </tr>\n",
       "    <tr>\n",
       "      <th>2.0</th>\n",
       "      <td>0</td>\n",
       "      <td>925</td>\n",
       "    </tr>\n",
       "    <tr>\n",
       "      <th>3.0</th>\n",
       "      <td>0</td>\n",
       "      <td>2554</td>\n",
       "    </tr>\n",
       "  </tbody>\n",
       "</table>\n",
       "</div>"
      ],
      "text/plain": [
       "ii1s.cat    0.0   1.0\n",
       "ii1s                 \n",
       "0.0       39487     0\n",
       "1.0           0   781\n",
       "2.0           0   925\n",
       "3.0           0  2554"
      ]
     },
     "execution_count": 15,
     "metadata": {},
     "output_type": "execute_result"
    }
   ],
   "source": [
    "#ii1s= Cancer\n",
    "df['ii1s.cat']=df['ii1s'].apply(lambda x: 0 if(x==0) else 1 if (x==1 or x==2 or x==3) else None)\n",
    "# Control\n",
    "pd.crosstab(df['ii1s'],df['ii1s.cat'])"
   ]
  },
  {
   "cell_type": "code",
   "execution_count": 16,
   "id": "76d19543",
   "metadata": {},
   "outputs": [
    {
     "data": {
      "text/html": [
       "<div>\n",
       "<style scoped>\n",
       "    .dataframe tbody tr th:only-of-type {\n",
       "        vertical-align: middle;\n",
       "    }\n",
       "\n",
       "    .dataframe tbody tr th {\n",
       "        vertical-align: top;\n",
       "    }\n",
       "\n",
       "    .dataframe thead th {\n",
       "        text-align: right;\n",
       "    }\n",
       "</style>\n",
       "<table border=\"1\" class=\"dataframe\">\n",
       "  <thead>\n",
       "    <tr style=\"text-align: right;\">\n",
       "      <th>ii1l.cat</th>\n",
       "      <th>0.0</th>\n",
       "      <th>1.0</th>\n",
       "    </tr>\n",
       "    <tr>\n",
       "      <th>ii1l</th>\n",
       "      <th></th>\n",
       "      <th></th>\n",
       "    </tr>\n",
       "  </thead>\n",
       "  <tbody>\n",
       "    <tr>\n",
       "      <th>0.0</th>\n",
       "      <td>32395</td>\n",
       "      <td>0</td>\n",
       "    </tr>\n",
       "    <tr>\n",
       "      <th>1.0</th>\n",
       "      <td>0</td>\n",
       "      <td>1175</td>\n",
       "    </tr>\n",
       "    <tr>\n",
       "      <th>2.0</th>\n",
       "      <td>0</td>\n",
       "      <td>7788</td>\n",
       "    </tr>\n",
       "    <tr>\n",
       "      <th>3.0</th>\n",
       "      <td>0</td>\n",
       "      <td>2323</td>\n",
       "    </tr>\n",
       "  </tbody>\n",
       "</table>\n",
       "</div>"
      ],
      "text/plain": [
       "ii1l.cat    0.0   1.0\n",
       "ii1l                 \n",
       "0.0       32395     0\n",
       "1.0           0  1175\n",
       "2.0           0  7788\n",
       "3.0           0  2323"
      ]
     },
     "execution_count": 16,
     "metadata": {},
     "output_type": "execute_result"
    }
   ],
   "source": [
    "#ii1l= Congestive heart disease\n",
    "df['ii1l.cat']=df['ii1l'].apply(lambda x: 0 if(x==0) else 1 if (x==1 or x==2 or x==3) else None)\n",
    "# Control\n",
    "pd.crosstab(df['ii1l'],df['ii1l.cat'])"
   ]
  },
  {
   "cell_type": "code",
   "execution_count": 17,
   "id": "2e51330f",
   "metadata": {},
   "outputs": [
    {
     "data": {
      "text/html": [
       "<div>\n",
       "<style scoped>\n",
       "    .dataframe tbody tr th:only-of-type {\n",
       "        vertical-align: middle;\n",
       "    }\n",
       "\n",
       "    .dataframe tbody tr th {\n",
       "        vertical-align: top;\n",
       "    }\n",
       "\n",
       "    .dataframe thead th {\n",
       "        text-align: right;\n",
       "    }\n",
       "</style>\n",
       "<table border=\"1\" class=\"dataframe\">\n",
       "  <thead>\n",
       "    <tr style=\"text-align: right;\">\n",
       "      <th>ii1j.cat</th>\n",
       "      <th>0.0</th>\n",
       "      <th>1.0</th>\n",
       "    </tr>\n",
       "    <tr>\n",
       "      <th>ii1j</th>\n",
       "      <th></th>\n",
       "      <th></th>\n",
       "    </tr>\n",
       "  </thead>\n",
       "  <tbody>\n",
       "    <tr>\n",
       "      <th>0.0</th>\n",
       "      <td>34378</td>\n",
       "      <td>0</td>\n",
       "    </tr>\n",
       "    <tr>\n",
       "      <th>1.0</th>\n",
       "      <td>0</td>\n",
       "      <td>1520</td>\n",
       "    </tr>\n",
       "    <tr>\n",
       "      <th>2.0</th>\n",
       "      <td>0</td>\n",
       "      <td>4060</td>\n",
       "    </tr>\n",
       "    <tr>\n",
       "      <th>3.0</th>\n",
       "      <td>0</td>\n",
       "      <td>3787</td>\n",
       "    </tr>\n",
       "  </tbody>\n",
       "</table>\n",
       "</div>"
      ],
      "text/plain": [
       "ii1j.cat    0.0   1.0\n",
       "ii1j                 \n",
       "0.0       34378     0\n",
       "1.0           0  1520\n",
       "2.0           0  4060\n",
       "3.0           0  3787"
      ]
     },
     "execution_count": 17,
     "metadata": {},
     "output_type": "execute_result"
    }
   ],
   "source": [
    "#ii1j= Stroke \n",
    "df['ii1j.cat']=df['ii1j'].apply(lambda x: 0 if(x==0) else 1 if (x==1 or x==2 or x==3) else None)\n",
    "# Control\n",
    "pd.crosstab(df['ii1j'],df['ii1j.cat'])"
   ]
  },
  {
   "cell_type": "code",
   "execution_count": 18,
   "id": "a31249b8",
   "metadata": {},
   "outputs": [
    {
     "data": {
      "text/html": [
       "<div>\n",
       "<style scoped>\n",
       "    .dataframe tbody tr th:only-of-type {\n",
       "        vertical-align: middle;\n",
       "    }\n",
       "\n",
       "    .dataframe tbody tr th {\n",
       "        vertical-align: top;\n",
       "    }\n",
       "\n",
       "    .dataframe thead th {\n",
       "        text-align: right;\n",
       "    }\n",
       "</style>\n",
       "<table border=\"1\" class=\"dataframe\">\n",
       "  <thead>\n",
       "    <tr style=\"text-align: right;\">\n",
       "      <th>ij8a.cat</th>\n",
       "      <th>0.0</th>\n",
       "      <th>1.0</th>\n",
       "    </tr>\n",
       "    <tr>\n",
       "      <th>ij8a</th>\n",
       "      <th></th>\n",
       "      <th></th>\n",
       "    </tr>\n",
       "  </thead>\n",
       "  <tbody>\n",
       "    <tr>\n",
       "      <th>0.0</th>\n",
       "      <td>39039</td>\n",
       "      <td>0</td>\n",
       "    </tr>\n",
       "    <tr>\n",
       "      <th>1.0</th>\n",
       "      <td>0</td>\n",
       "      <td>349</td>\n",
       "    </tr>\n",
       "    <tr>\n",
       "      <th>2.0</th>\n",
       "      <td>0</td>\n",
       "      <td>4381</td>\n",
       "    </tr>\n",
       "  </tbody>\n",
       "</table>\n",
       "</div>"
      ],
      "text/plain": [
       "ij8a.cat    0.0   1.0\n",
       "ij8a                 \n",
       "0.0       39039     0\n",
       "1.0           0   349\n",
       "2.0           0  4381"
      ]
     },
     "execution_count": 18,
     "metadata": {},
     "output_type": "execute_result"
    }
   ],
   "source": [
    "#ij8a= smoke\n",
    "df['ij8a.cat']=df['ij8a'].apply(lambda x: 0 if(x==0) else 1 if (x==1 or x==2) else None)\n",
    "# Control\n",
    "pd.crosstab(df['ij8a'],df['ij8a.cat'])"
   ]
  },
  {
   "cell_type": "code",
   "execution_count": 19,
   "id": "55930cea",
   "metadata": {},
   "outputs": [
    {
     "data": {
      "text/html": [
       "<div>\n",
       "<style scoped>\n",
       "    .dataframe tbody tr th:only-of-type {\n",
       "        vertical-align: middle;\n",
       "    }\n",
       "\n",
       "    .dataframe tbody tr th {\n",
       "        vertical-align: top;\n",
       "    }\n",
       "\n",
       "    .dataframe thead th {\n",
       "        text-align: right;\n",
       "    }\n",
       "</style>\n",
       "<table border=\"1\" class=\"dataframe\">\n",
       "  <thead>\n",
       "    <tr style=\"text-align: right;\">\n",
       "      <th>ij8b.cat</th>\n",
       "      <th>0.0</th>\n",
       "      <th>1.0</th>\n",
       "    </tr>\n",
       "    <tr>\n",
       "      <th>ij8b</th>\n",
       "      <th></th>\n",
       "      <th></th>\n",
       "    </tr>\n",
       "  </thead>\n",
       "  <tbody>\n",
       "    <tr>\n",
       "      <th>0.0</th>\n",
       "      <td>34334</td>\n",
       "      <td>0</td>\n",
       "    </tr>\n",
       "    <tr>\n",
       "      <th>1.0</th>\n",
       "      <td>5437</td>\n",
       "      <td>0</td>\n",
       "    </tr>\n",
       "    <tr>\n",
       "      <th>2.0</th>\n",
       "      <td>0</td>\n",
       "      <td>2893</td>\n",
       "    </tr>\n",
       "    <tr>\n",
       "      <th>3.0</th>\n",
       "      <td>0</td>\n",
       "      <td>1067</td>\n",
       "    </tr>\n",
       "  </tbody>\n",
       "</table>\n",
       "</div>"
      ],
      "text/plain": [
       "ij8b.cat    0.0   1.0\n",
       "ij8b                 \n",
       "0.0       34334     0\n",
       "1.0        5437     0\n",
       "2.0           0  2893\n",
       "3.0           0  1067"
      ]
     },
     "execution_count": 19,
     "metadata": {},
     "output_type": "execute_result"
    }
   ],
   "source": [
    "#ij8b= Alcohol\n",
    "df['ij8b.cat']=df['ij8b'].apply(lambda x: 0 if(x==0 or x==1) else 1 if (x==3 or x==2) else None)\n",
    "# Control\n",
    "pd.crosstab(df['ij8b'],df['ij8b.cat'])"
   ]
  },
  {
   "cell_type": "code",
   "execution_count": 20,
   "id": "ba777715",
   "metadata": {},
   "outputs": [
    {
     "data": {
      "text/html": [
       "<div>\n",
       "<style scoped>\n",
       "    .dataframe tbody tr th:only-of-type {\n",
       "        vertical-align: middle;\n",
       "    }\n",
       "\n",
       "    .dataframe tbody tr th {\n",
       "        vertical-align: top;\n",
       "    }\n",
       "\n",
       "    .dataframe thead th {\n",
       "        text-align: right;\n",
       "    }\n",
       "</style>\n",
       "<table border=\"1\" class=\"dataframe\">\n",
       "  <thead>\n",
       "    <tr style=\"text-align: right;\">\n",
       "      <th>iG8a2.cat</th>\n",
       "      <th>0.0</th>\n",
       "      <th>1.0</th>\n",
       "    </tr>\n",
       "    <tr>\n",
       "      <th>iG8a2</th>\n",
       "      <th></th>\n",
       "      <th></th>\n",
       "    </tr>\n",
       "  </thead>\n",
       "  <tbody>\n",
       "    <tr>\n",
       "      <th>0.0</th>\n",
       "      <td>0</td>\n",
       "      <td>7199</td>\n",
       "    </tr>\n",
       "    <tr>\n",
       "      <th>1.0</th>\n",
       "      <td>14346</td>\n",
       "      <td>0</td>\n",
       "    </tr>\n",
       "    <tr>\n",
       "      <th>2.0</th>\n",
       "      <td>5058</td>\n",
       "      <td>0</td>\n",
       "    </tr>\n",
       "    <tr>\n",
       "      <th>8.0</th>\n",
       "      <td>1679</td>\n",
       "      <td>0</td>\n",
       "    </tr>\n",
       "  </tbody>\n",
       "</table>\n",
       "</div>"
      ],
      "text/plain": [
       "iG8a2.cat    0.0   1.0\n",
       "iG8a2                 \n",
       "0.0            0  7199\n",
       "1.0        14346     0\n",
       "2.0         5058     0\n",
       "8.0         1679     0"
      ]
     },
     "execution_count": 20,
     "metadata": {},
     "output_type": "execute_result"
    }
   ],
   "source": [
    "#iG8a= Change in ADL \n",
    "df['iG8a2.cat']=df['iG8a2'].apply(lambda x: 0 if(x==1 or x==2 or x==8) else 1 if (x==0) else None)\n",
    "# Control\n",
    "pd.crosstab(df['iG8a2'],df['iG8a2.cat'])"
   ]
  },
  {
   "cell_type": "code",
   "execution_count": 21,
   "id": "8cef0cdc",
   "metadata": {},
   "outputs": [
    {
     "data": {
      "text/html": [
       "<div>\n",
       "<style scoped>\n",
       "    .dataframe tbody tr th:only-of-type {\n",
       "        vertical-align: middle;\n",
       "    }\n",
       "\n",
       "    .dataframe tbody tr th {\n",
       "        vertical-align: top;\n",
       "    }\n",
       "\n",
       "    .dataframe thead th {\n",
       "        text-align: right;\n",
       "    }\n",
       "</style>\n",
       "<table border=\"1\" class=\"dataframe\">\n",
       "  <thead>\n",
       "    <tr style=\"text-align: right;\">\n",
       "      <th>if1c.cat</th>\n",
       "      <th>0.0</th>\n",
       "      <th>1.0</th>\n",
       "    </tr>\n",
       "    <tr>\n",
       "      <th>if1c</th>\n",
       "      <th></th>\n",
       "      <th></th>\n",
       "    </tr>\n",
       "  </thead>\n",
       "  <tbody>\n",
       "    <tr>\n",
       "      <th>0.0</th>\n",
       "      <td>13388</td>\n",
       "      <td>0</td>\n",
       "    </tr>\n",
       "    <tr>\n",
       "      <th>1.0</th>\n",
       "      <td>0</td>\n",
       "      <td>1637</td>\n",
       "    </tr>\n",
       "    <tr>\n",
       "      <th>2.0</th>\n",
       "      <td>0</td>\n",
       "      <td>2025</td>\n",
       "    </tr>\n",
       "    <tr>\n",
       "      <th>3.0</th>\n",
       "      <td>0</td>\n",
       "      <td>3031</td>\n",
       "    </tr>\n",
       "    <tr>\n",
       "      <th>4.0</th>\n",
       "      <td>0</td>\n",
       "      <td>18139</td>\n",
       "    </tr>\n",
       "  </tbody>\n",
       "</table>\n",
       "</div>"
      ],
      "text/plain": [
       "if1c.cat    0.0    1.0\n",
       "if1c                  \n",
       "0.0       13388      0\n",
       "1.0           0   1637\n",
       "2.0           0   2025\n",
       "3.0           0   3031\n",
       "4.0           0  18139"
      ]
     },
     "execution_count": 21,
     "metadata": {},
     "output_type": "execute_result"
    }
   ],
   "source": [
    "#example how to created new variable if1a.cat from if1a\n",
    "# 0=never, 1= more than 30 days, 2= 8-30 days, 3-4-7 days, 4= in  last 3 days\n",
    "# new variable if1a.cat will take values 1 (if if1a=1 or 2 or 3 or 4) or 0 (if if1a=0)\n",
    "df['if1c.cat']=df['if1c'].apply(lambda x: 0 if(x==0) else 1 if (x==1 or x==2 or x==3 or x==4) else None)\n",
    "# Control\n",
    "pd.crosstab(df['if1c'],df['if1c.cat'])"
   ]
  },
  {
   "cell_type": "code",
   "execution_count": 22,
   "id": "2d3938dc",
   "metadata": {},
   "outputs": [
    {
     "data": {
      "text/html": [
       "<div>\n",
       "<style scoped>\n",
       "    .dataframe tbody tr th:only-of-type {\n",
       "        vertical-align: middle;\n",
       "    }\n",
       "\n",
       "    .dataframe tbody tr th {\n",
       "        vertical-align: top;\n",
       "    }\n",
       "\n",
       "    .dataframe thead th {\n",
       "        text-align: right;\n",
       "    }\n",
       "</style>\n",
       "<table border=\"1\" class=\"dataframe\">\n",
       "  <thead>\n",
       "    <tr style=\"text-align: right;\">\n",
       "      <th>ie1k.cat</th>\n",
       "      <th>0.0</th>\n",
       "      <th>1.0</th>\n",
       "    </tr>\n",
       "    <tr>\n",
       "      <th>ie1k</th>\n",
       "      <th></th>\n",
       "      <th></th>\n",
       "    </tr>\n",
       "  </thead>\n",
       "  <tbody>\n",
       "    <tr>\n",
       "      <th>0.0</th>\n",
       "      <td>33033</td>\n",
       "      <td>0</td>\n",
       "    </tr>\n",
       "    <tr>\n",
       "      <th>1.0</th>\n",
       "      <td>0</td>\n",
       "      <td>5180</td>\n",
       "    </tr>\n",
       "    <tr>\n",
       "      <th>2.0</th>\n",
       "      <td>0</td>\n",
       "      <td>2561</td>\n",
       "    </tr>\n",
       "    <tr>\n",
       "      <th>3.0</th>\n",
       "      <td>0</td>\n",
       "      <td>2973</td>\n",
       "    </tr>\n",
       "  </tbody>\n",
       "</table>\n",
       "</div>"
      ],
      "text/plain": [
       "ie1k.cat    0.0   1.0\n",
       "ie1k                 \n",
       "0.0       33033     0\n",
       "1.0           0  5180\n",
       "2.0           0  2561\n",
       "3.0           0  2973"
      ]
     },
     "execution_count": 22,
     "metadata": {},
     "output_type": "execute_result"
    }
   ],
   "source": [
    "#iG8a= Change in ADL \n",
    "df['ie1k.cat']=df['ie1k'].apply(lambda x: 0 if(x==0 ) else 1 if (x==1 or x==2 or x==3) else None)\n",
    "# Control\n",
    "pd.crosstab(df['ie1k'],df['ie1k.cat'])"
   ]
  },
  {
   "cell_type": "code",
   "execution_count": 23,
   "id": "db4b77bc",
   "metadata": {},
   "outputs": [
    {
     "data": {
      "text/html": [
       "<div>\n",
       "<style scoped>\n",
       "    .dataframe tbody tr th:only-of-type {\n",
       "        vertical-align: middle;\n",
       "    }\n",
       "\n",
       "    .dataframe tbody tr th {\n",
       "        vertical-align: top;\n",
       "    }\n",
       "\n",
       "    .dataframe thead th {\n",
       "        text-align: right;\n",
       "    }\n",
       "</style>\n",
       "<table border=\"1\" class=\"dataframe\">\n",
       "  <thead>\n",
       "    <tr style=\"text-align: right;\">\n",
       "      <th>ie1j.cat</th>\n",
       "      <th>0.0</th>\n",
       "      <th>1.0</th>\n",
       "    </tr>\n",
       "    <tr>\n",
       "      <th>ie1j</th>\n",
       "      <th></th>\n",
       "      <th></th>\n",
       "    </tr>\n",
       "  </thead>\n",
       "  <tbody>\n",
       "    <tr>\n",
       "      <th>0.0</th>\n",
       "      <td>28659</td>\n",
       "      <td>0</td>\n",
       "    </tr>\n",
       "    <tr>\n",
       "      <th>1.0</th>\n",
       "      <td>0</td>\n",
       "      <td>5255</td>\n",
       "    </tr>\n",
       "    <tr>\n",
       "      <th>2.0</th>\n",
       "      <td>0</td>\n",
       "      <td>3206</td>\n",
       "    </tr>\n",
       "    <tr>\n",
       "      <th>3.0</th>\n",
       "      <td>0</td>\n",
       "      <td>6698</td>\n",
       "    </tr>\n",
       "  </tbody>\n",
       "</table>\n",
       "</div>"
      ],
      "text/plain": [
       "ie1j.cat    0.0   1.0\n",
       "ie1j                 \n",
       "0.0       28659     0\n",
       "1.0           0  5255\n",
       "2.0           0  3206\n",
       "3.0           0  6698"
      ]
     },
     "execution_count": 23,
     "metadata": {},
     "output_type": "execute_result"
    }
   ],
   "source": [
    "#ie1j= Reduced social interaction\n",
    "df['ie1j.cat']=df['ie1j'].apply(lambda x: 0 if(x==0 ) else 1 if (x==1 or x==2 or x==3) else None)\n",
    "# Control\n",
    "pd.crosstab(df['ie1j'],df['ie1j.cat'])"
   ]
  },
  {
   "cell_type": "code",
   "execution_count": 24,
   "id": "a09df60c",
   "metadata": {},
   "outputs": [
    {
     "data": {
      "text/html": [
       "<div>\n",
       "<style scoped>\n",
       "    .dataframe tbody tr th:only-of-type {\n",
       "        vertical-align: middle;\n",
       "    }\n",
       "\n",
       "    .dataframe tbody tr th {\n",
       "        vertical-align: top;\n",
       "    }\n",
       "\n",
       "    .dataframe thead th {\n",
       "        text-align: right;\n",
       "    }\n",
       "</style>\n",
       "<table border=\"1\" class=\"dataframe\">\n",
       "  <thead>\n",
       "    <tr style=\"text-align: right;\">\n",
       "      <th>ie1i.cat</th>\n",
       "      <th>0.0</th>\n",
       "      <th>1.0</th>\n",
       "    </tr>\n",
       "    <tr>\n",
       "      <th>ie1i</th>\n",
       "      <th></th>\n",
       "      <th></th>\n",
       "    </tr>\n",
       "  </thead>\n",
       "  <tbody>\n",
       "    <tr>\n",
       "      <th>0.0</th>\n",
       "      <td>32054</td>\n",
       "      <td>0</td>\n",
       "    </tr>\n",
       "    <tr>\n",
       "      <th>1.0</th>\n",
       "      <td>0</td>\n",
       "      <td>4655</td>\n",
       "    </tr>\n",
       "    <tr>\n",
       "      <th>2.0</th>\n",
       "      <td>0</td>\n",
       "      <td>2642</td>\n",
       "    </tr>\n",
       "    <tr>\n",
       "      <th>3.0</th>\n",
       "      <td>0</td>\n",
       "      <td>4485</td>\n",
       "    </tr>\n",
       "  </tbody>\n",
       "</table>\n",
       "</div>"
      ],
      "text/plain": [
       "ie1i.cat    0.0   1.0\n",
       "ie1i                 \n",
       "0.0       32054     0\n",
       "1.0           0  4655\n",
       "2.0           0  2642\n",
       "3.0           0  4485"
      ]
     },
     "execution_count": 24,
     "metadata": {},
     "output_type": "execute_result"
    }
   ],
   "source": [
    "#ie1i= withdrawl from activities of interest\n",
    "df['ie1i.cat']=df['ie1i'].apply(lambda x: 0 if(x==0 ) else 1 if (x==1 or x==2 or x==3) else None)\n",
    "# Control\n",
    "pd.crosstab(df['ie1i'],df['ie1i.cat'])"
   ]
  },
  {
   "cell_type": "code",
   "execution_count": 25,
   "id": "b146e520",
   "metadata": {},
   "outputs": [
    {
     "data": {
      "text/html": [
       "<div>\n",
       "<style scoped>\n",
       "    .dataframe tbody tr th:only-of-type {\n",
       "        vertical-align: middle;\n",
       "    }\n",
       "\n",
       "    .dataframe tbody tr th {\n",
       "        vertical-align: top;\n",
       "    }\n",
       "\n",
       "    .dataframe thead th {\n",
       "        text-align: right;\n",
       "    }\n",
       "</style>\n",
       "<table border=\"1\" class=\"dataframe\">\n",
       "  <thead>\n",
       "    <tr style=\"text-align: right;\">\n",
       "      <th>if5a.cat</th>\n",
       "      <th>0.0</th>\n",
       "      <th>1.0</th>\n",
       "    </tr>\n",
       "    <tr>\n",
       "      <th>if5a</th>\n",
       "      <th></th>\n",
       "      <th></th>\n",
       "    </tr>\n",
       "  </thead>\n",
       "  <tbody>\n",
       "    <tr>\n",
       "      <th>0.0</th>\n",
       "      <td>3678</td>\n",
       "      <td>0</td>\n",
       "    </tr>\n",
       "    <tr>\n",
       "      <th>1.0</th>\n",
       "      <td>0</td>\n",
       "      <td>2921</td>\n",
       "    </tr>\n",
       "    <tr>\n",
       "      <th>2.0</th>\n",
       "      <td>0</td>\n",
       "      <td>5759</td>\n",
       "    </tr>\n",
       "    <tr>\n",
       "      <th>3.0</th>\n",
       "      <td>0</td>\n",
       "      <td>31417</td>\n",
       "    </tr>\n",
       "  </tbody>\n",
       "</table>\n",
       "</div>"
      ],
      "text/plain": [
       "if5a.cat   0.0    1.0\n",
       "if5a                 \n",
       "0.0       3678      0\n",
       "1.0          0   2921\n",
       "2.0          0   5759\n",
       "3.0          0  31417"
      ]
     },
     "execution_count": 25,
     "metadata": {},
     "output_type": "execute_result"
    }
   ],
   "source": [
    "#if5a= at ease interacting with others\n",
    "df['if5a.cat']=df['if5a'].apply(lambda x: 0 if(x==0 ) else 1 if (x==1 or x==2 or x==3) else None)\n",
    "# Control\n",
    "pd.crosstab(df['if5a'],df['if5a.cat'])"
   ]
  },
  {
   "cell_type": "code",
   "execution_count": 26,
   "id": "41e9700c",
   "metadata": {},
   "outputs": [
    {
     "data": {
      "text/html": [
       "<div>\n",
       "<style scoped>\n",
       "    .dataframe tbody tr th:only-of-type {\n",
       "        vertical-align: middle;\n",
       "    }\n",
       "\n",
       "    .dataframe tbody tr th {\n",
       "        vertical-align: top;\n",
       "    }\n",
       "\n",
       "    .dataframe thead th {\n",
       "        text-align: right;\n",
       "    }\n",
       "</style>\n",
       "<table border=\"1\" class=\"dataframe\">\n",
       "  <thead>\n",
       "    <tr style=\"text-align: right;\">\n",
       "      <th>if5a.cat</th>\n",
       "      <th>0.0</th>\n",
       "      <th>1.0</th>\n",
       "    </tr>\n",
       "    <tr>\n",
       "      <th>if5a</th>\n",
       "      <th></th>\n",
       "      <th></th>\n",
       "    </tr>\n",
       "  </thead>\n",
       "  <tbody>\n",
       "    <tr>\n",
       "      <th>0.0</th>\n",
       "      <td>3678</td>\n",
       "      <td>0</td>\n",
       "    </tr>\n",
       "    <tr>\n",
       "      <th>1.0</th>\n",
       "      <td>0</td>\n",
       "      <td>2921</td>\n",
       "    </tr>\n",
       "    <tr>\n",
       "      <th>2.0</th>\n",
       "      <td>0</td>\n",
       "      <td>5759</td>\n",
       "    </tr>\n",
       "    <tr>\n",
       "      <th>3.0</th>\n",
       "      <td>0</td>\n",
       "      <td>31417</td>\n",
       "    </tr>\n",
       "  </tbody>\n",
       "</table>\n",
       "</div>"
      ],
      "text/plain": [
       "if5a.cat   0.0    1.0\n",
       "if5a                 \n",
       "0.0       3678      0\n",
       "1.0          0   2921\n",
       "2.0          0   5759\n",
       "3.0          0  31417"
      ]
     },
     "execution_count": 26,
     "metadata": {},
     "output_type": "execute_result"
    }
   ],
   "source": [
    "#if5a= at ease interacting with others\n",
    "df['if5a.cat']=df['if5a'].apply(lambda x: 0 if(x==0 ) else 1 if (x==1 or x==2 or x==3) else None)\n",
    "# Control\n",
    "pd.crosstab(df['if5a'],df['if5a.cat'])"
   ]
  },
  {
   "cell_type": "code",
   "execution_count": 27,
   "id": "e828e9ae",
   "metadata": {},
   "outputs": [
    {
     "data": {
      "text/html": [
       "<div>\n",
       "<style scoped>\n",
       "    .dataframe tbody tr th:only-of-type {\n",
       "        vertical-align: middle;\n",
       "    }\n",
       "\n",
       "    .dataframe tbody tr th {\n",
       "        vertical-align: top;\n",
       "    }\n",
       "\n",
       "    .dataframe thead th {\n",
       "        text-align: right;\n",
       "    }\n",
       "</style>\n",
       "<table border=\"1\" class=\"dataframe\">\n",
       "  <thead>\n",
       "    <tr style=\"text-align: right;\">\n",
       "      <th>if5b.cat</th>\n",
       "      <th>0.0</th>\n",
       "      <th>1.0</th>\n",
       "    </tr>\n",
       "    <tr>\n",
       "      <th>if5b</th>\n",
       "      <th></th>\n",
       "      <th></th>\n",
       "    </tr>\n",
       "  </thead>\n",
       "  <tbody>\n",
       "    <tr>\n",
       "      <th>0.0</th>\n",
       "      <td>7894</td>\n",
       "      <td>0</td>\n",
       "    </tr>\n",
       "    <tr>\n",
       "      <th>1.0</th>\n",
       "      <td>0</td>\n",
       "      <td>5363</td>\n",
       "    </tr>\n",
       "    <tr>\n",
       "      <th>2.0</th>\n",
       "      <td>0</td>\n",
       "      <td>5922</td>\n",
       "    </tr>\n",
       "    <tr>\n",
       "      <th>3.0</th>\n",
       "      <td>0</td>\n",
       "      <td>24571</td>\n",
       "    </tr>\n",
       "  </tbody>\n",
       "</table>\n",
       "</div>"
      ],
      "text/plain": [
       "if5b.cat   0.0    1.0\n",
       "if5b                 \n",
       "0.0       7894      0\n",
       "1.0          0   5363\n",
       "2.0          0   5922\n",
       "3.0          0  24571"
      ]
     },
     "execution_count": 27,
     "metadata": {},
     "output_type": "execute_result"
    }
   ],
   "source": [
    "#if5b= at ease interacting with others\n",
    "df['if5b.cat']=df['if5b'].apply(lambda x: 0 if(x==0 ) else 1 if (x==1 or x==2 or x==3) else None)\n",
    "# Control\n",
    "pd.crosstab(df['if5b'],df['if5b.cat'])"
   ]
  },
  {
   "cell_type": "code",
   "execution_count": 28,
   "id": "15317495",
   "metadata": {},
   "outputs": [
    {
     "data": {
      "text/html": [
       "<div>\n",
       "<style scoped>\n",
       "    .dataframe tbody tr th:only-of-type {\n",
       "        vertical-align: middle;\n",
       "    }\n",
       "\n",
       "    .dataframe tbody tr th {\n",
       "        vertical-align: top;\n",
       "    }\n",
       "\n",
       "    .dataframe thead th {\n",
       "        text-align: right;\n",
       "    }\n",
       "</style>\n",
       "<table border=\"1\" class=\"dataframe\">\n",
       "  <thead>\n",
       "    <tr style=\"text-align: right;\">\n",
       "      <th>if5c.cat</th>\n",
       "      <th>0.0</th>\n",
       "      <th>1.0</th>\n",
       "    </tr>\n",
       "    <tr>\n",
       "      <th>if5c</th>\n",
       "      <th></th>\n",
       "      <th></th>\n",
       "    </tr>\n",
       "  </thead>\n",
       "  <tbody>\n",
       "    <tr>\n",
       "      <th>0.0</th>\n",
       "      <td>13294</td>\n",
       "      <td>0</td>\n",
       "    </tr>\n",
       "    <tr>\n",
       "      <th>1.0</th>\n",
       "      <td>0</td>\n",
       "      <td>7815</td>\n",
       "    </tr>\n",
       "    <tr>\n",
       "      <th>2.0</th>\n",
       "      <td>0</td>\n",
       "      <td>7669</td>\n",
       "    </tr>\n",
       "    <tr>\n",
       "      <th>3.0</th>\n",
       "      <td>0</td>\n",
       "      <td>14970</td>\n",
       "    </tr>\n",
       "  </tbody>\n",
       "</table>\n",
       "</div>"
      ],
      "text/plain": [
       "if5c.cat    0.0    1.0\n",
       "if5c                  \n",
       "0.0       13294      0\n",
       "1.0           0   7815\n",
       "2.0           0   7669\n",
       "3.0           0  14970"
      ]
     },
     "execution_count": 28,
     "metadata": {},
     "output_type": "execute_result"
    }
   ],
   "source": [
    "#if5c= at ease interacting with others\n",
    "df['if5c.cat']=df['if5c'].apply(lambda x: 0 if(x==0 ) else 1 if (x==1 or x==2 or x==3) else None)\n",
    "# Control\n",
    "pd.crosstab(df['if5c'],df['if5c.cat'])"
   ]
  },
  {
   "cell_type": "code",
   "execution_count": 29,
   "id": "bf2b2549",
   "metadata": {},
   "outputs": [
    {
     "data": {
      "text/html": [
       "<div>\n",
       "<style scoped>\n",
       "    .dataframe tbody tr th:only-of-type {\n",
       "        vertical-align: middle;\n",
       "    }\n",
       "\n",
       "    .dataframe tbody tr th {\n",
       "        vertical-align: top;\n",
       "    }\n",
       "\n",
       "    .dataframe thead th {\n",
       "        text-align: right;\n",
       "    }\n",
       "</style>\n",
       "<table border=\"1\" class=\"dataframe\">\n",
       "  <thead>\n",
       "    <tr style=\"text-align: right;\">\n",
       "      <th>if5d.cat</th>\n",
       "      <th>0.0</th>\n",
       "      <th>1.0</th>\n",
       "    </tr>\n",
       "    <tr>\n",
       "      <th>if5d</th>\n",
       "      <th></th>\n",
       "      <th></th>\n",
       "    </tr>\n",
       "  </thead>\n",
       "  <tbody>\n",
       "    <tr>\n",
       "      <th>0.0</th>\n",
       "      <td>17881</td>\n",
       "      <td>0</td>\n",
       "    </tr>\n",
       "    <tr>\n",
       "      <th>1.0</th>\n",
       "      <td>0</td>\n",
       "      <td>5317</td>\n",
       "    </tr>\n",
       "    <tr>\n",
       "      <th>2.0</th>\n",
       "      <td>0</td>\n",
       "      <td>5112</td>\n",
       "    </tr>\n",
       "    <tr>\n",
       "      <th>3.0</th>\n",
       "      <td>0</td>\n",
       "      <td>15436</td>\n",
       "    </tr>\n",
       "  </tbody>\n",
       "</table>\n",
       "</div>"
      ],
      "text/plain": [
       "if5d.cat    0.0    1.0\n",
       "if5d                  \n",
       "0.0       17881      0\n",
       "1.0           0   5317\n",
       "2.0           0   5112\n",
       "3.0           0  15436"
      ]
     },
     "execution_count": 29,
     "metadata": {},
     "output_type": "execute_result"
    }
   ],
   "source": [
    "#if5d= at ease interacting with others\n",
    "df['if5d.cat']=df['if5d'].apply(lambda x: 0 if(x==0 ) else 1 if (x==1 or x==2 or x==3) else None)\n",
    "# Control\n",
    "pd.crosstab(df['if5d'],df['if5d.cat'])"
   ]
  },
  {
   "cell_type": "code",
   "execution_count": 30,
   "id": "00f95461",
   "metadata": {},
   "outputs": [
    {
     "data": {
      "text/html": [
       "<div>\n",
       "<style scoped>\n",
       "    .dataframe tbody tr th:only-of-type {\n",
       "        vertical-align: middle;\n",
       "    }\n",
       "\n",
       "    .dataframe tbody tr th {\n",
       "        vertical-align: top;\n",
       "    }\n",
       "\n",
       "    .dataframe thead th {\n",
       "        text-align: right;\n",
       "    }\n",
       "</style>\n",
       "<table border=\"1\" class=\"dataframe\">\n",
       "  <thead>\n",
       "    <tr style=\"text-align: right;\">\n",
       "      <th>if5e.cat</th>\n",
       "      <th>0.0</th>\n",
       "      <th>1.0</th>\n",
       "    </tr>\n",
       "    <tr>\n",
       "      <th>if5e</th>\n",
       "      <th></th>\n",
       "      <th></th>\n",
       "    </tr>\n",
       "  </thead>\n",
       "  <tbody>\n",
       "    <tr>\n",
       "      <th>0.0</th>\n",
       "      <td>10130</td>\n",
       "      <td>0</td>\n",
       "    </tr>\n",
       "    <tr>\n",
       "      <th>1.0</th>\n",
       "      <td>0</td>\n",
       "      <td>4516</td>\n",
       "    </tr>\n",
       "    <tr>\n",
       "      <th>2.0</th>\n",
       "      <td>0</td>\n",
       "      <td>6036</td>\n",
       "    </tr>\n",
       "    <tr>\n",
       "      <th>3.0</th>\n",
       "      <td>0</td>\n",
       "      <td>23080</td>\n",
       "    </tr>\n",
       "  </tbody>\n",
       "</table>\n",
       "</div>"
      ],
      "text/plain": [
       "if5e.cat    0.0    1.0\n",
       "if5e                  \n",
       "0.0       10130      0\n",
       "1.0           0   4516\n",
       "2.0           0   6036\n",
       "3.0           0  23080"
      ]
     },
     "execution_count": 30,
     "metadata": {},
     "output_type": "execute_result"
    }
   ],
   "source": [
    "#if5e= at ease interacting with others\n",
    "df['if5e.cat']=df['if5e'].apply(lambda x: 0 if(x==0 ) else 1 if (x==1 or x==2 or x==3) else None)\n",
    "# Control\n",
    "pd.crosstab(df['if5e'],df['if5e.cat'])"
   ]
  },
  {
   "cell_type": "code",
   "execution_count": 31,
   "id": "5e43383a",
   "metadata": {},
   "outputs": [],
   "source": [
    "#df.to_excel(\"excel_version.xlsx\")"
   ]
  },
  {
   "cell_type": "code",
   "execution_count": 32,
   "id": "8367b201",
   "metadata": {},
   "outputs": [
    {
     "name": "stdout",
     "output_type": "stream",
     "text": [
      "Unnamed: 0\n",
      "Clientid\n",
      "Snapshotid\n",
      "qrt\n",
      "qrt2\n",
      "Clientid_original\n",
      "ClientDepartmentcode\n",
      "facility_id_first\n",
      "facility_id\n",
      "Facility_country\n",
      "origin\n",
      "LOS\n",
      "sum_total\n",
      "valid_total\n",
      "Instrument\n",
      "iA0\n",
      "iA2\n",
      "ia4\n",
      "Age\n",
      "sAGE_cat\n",
      "iA6b\n",
      "ia8\n",
      "iB2\n",
      "iA9\n",
      "yr_assessed\n",
      "ia11a\n",
      "ia11b\n",
      "ia12a\n",
      "ia13\n",
      "ib3a\n",
      "iB4\n",
      "ib5a\n",
      "ib5b\n",
      "ib5c\n",
      "ib5cnl\n",
      "ib5d\n",
      "ib5e\n",
      "ib6\n",
      "ib7\n",
      "ic1\n",
      "ic4\n",
      "ic5\n",
      "ic2a\n",
      "ic2b\n",
      "ic2c\n",
      "ic2c1nl\n",
      "ic2c2nl\n",
      "ic2d\n",
      "ic3a\n",
      "ic3b\n",
      "ic3c\n",
      "id1\n",
      "id2\n",
      "id3a\n",
      "id3b\n",
      "id4a\n",
      "id4b\n",
      "ie1a\n",
      "ie1b\n",
      "ie1c\n",
      "ie1d\n",
      "ie1e\n",
      "ie1f\n",
      "ie1g\n",
      "ie1h\n",
      "ie1i\n",
      "ie1j\n",
      "ie1k\n",
      "ie2a\n",
      "ie2b\n",
      "ie2c\n",
      "ie3a\n",
      "ie3b\n",
      "ie3c\n",
      "ie3d\n",
      "ie3e\n",
      "ie3f\n",
      "if4\n",
      "if1a\n",
      "if1b\n",
      "if1c\n",
      "if1d\n",
      "if5a\n",
      "if5b\n",
      "if5c\n",
      "if5d\n",
      "if5e\n",
      "if5f\n",
      "if5g\n",
      "if6a\n",
      "if6b\n",
      "if7a\n",
      "if7b\n",
      "if7c\n",
      "if7d\n",
      "if8a\n",
      "if8b\n",
      "if8c\n",
      "ig3\n",
      "ig4\n",
      "ig5\n",
      "iG8a2\n",
      "ig12\n",
      "ig2a\n",
      "ig2b\n",
      "ig2c\n",
      "ig2d\n",
      "ig2e\n",
      "ig2f\n",
      "ig2g\n",
      "ig2h\n",
      "ig2i\n",
      "ig2j\n",
      "ig6a\n",
      "ig6b\n",
      "ig7a\n",
      "ig7b\n",
      "ig8a\n",
      "ih1\n",
      "ih2\n",
      "ih3\n",
      "ih4\n",
      "ih5\n",
      "ii1a\n",
      "ii1b\n",
      "ii1c\n",
      "ii1cc\n",
      "ii1d\n",
      "ii1dd\n",
      "ii1e\n",
      "ii1f\n",
      "ii1g\n",
      "ii1h\n",
      "ii1i\n",
      "ii1j\n",
      "ii1k\n",
      "ii1l\n",
      "ii1m\n",
      "ii1n\n",
      "ii1o\n",
      "ii1p\n",
      "ii1q\n",
      "ii1r\n",
      "ii1s\n",
      "ii1t\n",
      "ii1w\n",
      "ij1\n",
      "ij3\n",
      "ij4\n",
      "ij7\n",
      "ij12\n",
      "ij2a\n",
      "ij2b\n",
      "ij2c\n",
      "ij2d\n",
      "ij2e\n",
      "ij2f\n",
      "ij2g\n",
      "ij2h\n",
      "ij2i\n",
      "ij2j\n",
      "ij2k\n",
      "ij2l\n",
      "ij2m\n",
      "ij2mm\n",
      "ij2n\n",
      "ij2o\n",
      "ij2p\n",
      "ij2q\n",
      "ij2r\n",
      "ij2s\n",
      "ij2t\n",
      "ij5a\n",
      "ij5b\n",
      "ij5c\n",
      "ij5d\n",
      "ij5e\n",
      "ij6a\n",
      "ij6b\n",
      "ij6c\n",
      "ij8a\n",
      "ij8b\n",
      "ik17\n",
      "ik19\n",
      "ik1ab\n",
      "ik1bb\n",
      "ik2a\n",
      "ik2b\n",
      "ik2c\n",
      "ik2h\n",
      "ik3\n",
      "ik4a\n",
      "ik4b\n",
      "ik4c\n",
      "ik4d\n",
      "ik4e\n",
      "ik4f\n",
      "ik5\n",
      "imk5a\n",
      "imk5b\n",
      "imk5c\n",
      "imk5d\n",
      "imk5e\n",
      "imk5f\n",
      "imk5g\n",
      "imk5h\n",
      "imk5i\n",
      "il1\n",
      "il2\n",
      "il3\n",
      "il4\n",
      "il5\n",
      "il6\n",
      "il7\n",
      "iI2aa\n",
      "iI2aba\n",
      "iI2ac\n",
      "iI2ba\n",
      "iI2bba\n",
      "iI2bc\n",
      "iI2ca\n",
      "iI2cba\n",
      "iI2cc\n",
      "iI2da\n",
      "iI2dba\n",
      "iI2dc\n",
      "iI2ea\n",
      "iI2eba\n",
      "iI2ec\n",
      "iI2fa\n",
      "iI2fba\n",
      "iI2fc\n",
      "iI2ga\n",
      "iI2gba\n",
      "iI2gc\n",
      "iI2ha\n",
      "iI2hba\n",
      "iI2hc\n",
      "iI2ia\n",
      "ii2iba\n",
      "ii2ic\n",
      "iI2ja\n",
      "iI2jba\n",
      "iI2jc\n",
      "iI2iaR\n",
      "iI2icR\n",
      "iI2abb\n",
      "iI2bbb\n",
      "iI2cbb\n",
      "iI2dbb\n",
      "iI2ebb\n",
      "iI2fbb\n",
      "iI2gbb\n",
      "iI2hbb\n",
      "iI2ibb\n",
      "iI2jbb\n",
      "iI2ka\n",
      "iI2kbb\n",
      "iI2kc\n",
      "iI2la\n",
      "iI2lbb\n",
      "iI2lc\n",
      "iI2ma\n",
      "iI2mbb\n",
      "iI2mc\n",
      "iI2na\n",
      "iI2nbb\n",
      "iI2nc\n",
      "iI2oa\n",
      "iI2obb\n",
      "iI2oc\n",
      "il2aa\n",
      "il2aba\n",
      "il2ba\n",
      "il2bba\n",
      "il2ca\n",
      "il2cba\n",
      "il2da\n",
      "il2dba\n",
      "il2ea\n",
      "il2eba\n",
      "il2fa\n",
      "il2fba\n",
      "il2ga\n",
      "il2gba\n",
      "il2ha\n",
      "il2hba\n",
      "il2ia\n",
      "il2iba\n",
      "im2\n",
      "im3\n",
      "im4\n",
      "im6\n",
      "im9\n",
      "im14\n",
      "im15\n",
      "im14r\n",
      "im15r\n",
      "im16\n",
      "im17\n",
      "iM19a\n",
      "iM19b\n",
      "iM19c\n",
      "iM19d\n",
      "iM19mds_o4e\n",
      "iM1a1\n",
      "iM1c1\n",
      "im1b1\n",
      "im1d1\n",
      "im1e1\n",
      "im1f1\n",
      "im1gb1\n",
      "iM1a2\n",
      "iM1c2\n",
      "im1b2\n",
      "im1d2\n",
      "im1e2\n",
      "im1f2\n",
      "im1gb2\n",
      "iM1a3\n",
      "iM1c3\n",
      "im1b3\n",
      "im1d3\n",
      "im1e3\n",
      "im1f3\n",
      "im1gb3\n",
      "iM1a4\n",
      "iM1c4\n",
      "im1b4\n",
      "im1d4\n",
      "im1e4\n",
      "im1f4\n",
      "im1gb4\n",
      "iM1a5\n",
      "iM1c5\n",
      "im1b5\n",
      "im1d5\n",
      "im1e5\n",
      "im1f5\n",
      "im1gb5\n",
      "iM1a6\n",
      "iM1c6\n",
      "im1b6\n",
      "im1d6\n",
      "im1e6\n",
      "im1f6\n",
      "im1gb6\n",
      "iM1a7\n",
      "iM1c7\n",
      "im1b7\n",
      "im1d7\n",
      "im1e7\n",
      "im1f7\n",
      "im1gb7\n",
      "iM1a8\n",
      "im1b8\n",
      "im1c8\n",
      "im1d8\n",
      "im1e8\n",
      "im1f8\n",
      "im1gb8\n",
      "iM1a9\n",
      "iM1c9\n",
      "im1b9\n",
      "im1d9\n",
      "im1e9\n",
      "im1f9\n",
      "im1gb9\n",
      "iM1a10\n",
      "im1b10\n",
      "im1c10\n",
      "im1d10\n",
      "im1e10\n",
      "im1f10\n",
      "im1gb10\n",
      "iM1a11\n",
      "im1b11\n",
      "im1c11\n",
      "im1d11\n",
      "im1e11\n",
      "im1f11\n",
      "im1gb11\n",
      "iM1a12\n",
      "im1b12\n",
      "im1c12\n",
      "im1d12\n",
      "im1e12\n",
      "im1f12\n",
      "im1gb12\n",
      "iM1a13\n",
      "im1b13\n",
      "im1c13\n",
      "im1d13\n",
      "im1e13\n",
      "im1f13\n",
      "im1gb13\n",
      "iM1a14\n",
      "im1b14\n",
      "im1c14\n",
      "im1d14\n",
      "im1e14\n",
      "im1f14\n",
      "im1gb14\n",
      "im1a6b14\n",
      "iM1a15\n",
      "im1b15\n",
      "im1c15\n",
      "im1d15\n",
      "im1e15\n",
      "im1f15\n",
      "im1gb15\n",
      "im1a6b15\n",
      "iM1a16\n",
      "im1b16\n",
      "im1c16\n",
      "im1d16\n",
      "im1e16\n",
      "im1f16\n",
      "im1gb16\n",
      "iM1a17\n",
      "im1b17\n",
      "im1c17\n",
      "im1d17\n",
      "im1e17\n",
      "im1f17\n",
      "im1gb17\n",
      "iM1a18\n",
      "im1b18\n",
      "im1c18\n",
      "im1d18\n",
      "im1e18\n",
      "im1f18\n",
      "im1gb18\n",
      "iM1a19\n",
      "im1b19\n",
      "im1c19\n",
      "im1d19\n",
      "im1e19\n",
      "im1f19\n",
      "im1gb19\n",
      "iM1a20\n",
      "im1b20\n",
      "im1c20\n",
      "im1d20\n",
      "im1e20\n",
      "im1f20\n",
      "im1gb20\n",
      "im1a6b20\n",
      "iM1a21\n",
      "im1b21\n",
      "im1c21\n",
      "im1d21\n",
      "im1e21\n",
      "im1f21\n",
      "im1gb21\n",
      "im1a6b21\n",
      "iM1a22\n",
      "im1b22\n",
      "im1c22\n",
      "im1d22\n",
      "im1e22\n",
      "im1f22\n",
      "im1gb22\n",
      "im1a6b22\n",
      "iM1a23\n",
      "im1b23\n",
      "im1c23\n",
      "im1d23\n",
      "im1e23\n",
      "im1f23\n",
      "im1gb23\n",
      "iM1a24\n",
      "im1b24\n",
      "im1c24\n",
      "im1d24\n",
      "im1e24\n",
      "im1f24\n",
      "im1gb24\n",
      "iM1a25\n",
      "im1b25\n",
      "im1c25\n",
      "im1d25\n",
      "im1e25\n",
      "im1f25\n",
      "im1gb25\n",
      "iM1a26\n",
      "iM1b26\n",
      "iM1c26\n",
      "iM1d26\n",
      "iM1e26\n",
      "iM1f26\n",
      "iM1gb26\n",
      "iM1a27\n",
      "iM1b27\n",
      "iM1c27\n",
      "iM1d27\n",
      "iM1e27\n",
      "iM1f27\n",
      "iM1gb27\n",
      "iM1a28\n",
      "iM1b28\n",
      "iM1c28\n",
      "iM1d28\n",
      "iM1e28\n",
      "iM1f28\n",
      "iM1gb28\n",
      "iM1a29\n",
      "iM1b29\n",
      "iM1c29\n",
      "iM1d29\n",
      "iM1e29\n",
      "iM1f29\n",
      "iM1gb29\n",
      "iM1a30\n",
      "iM1b30\n",
      "iM1c30\n",
      "iM1d30\n",
      "iM1e30\n",
      "iM1f30\n",
      "iM1gb30\n",
      "in1a\n",
      "in1b\n",
      "in1c\n",
      "in1d\n",
      "in1e\n",
      "in1f\n",
      "in1g\n",
      "in1h\n",
      "in2a\n",
      "in2b\n",
      "in2c\n",
      "in2d\n",
      "in2e\n",
      "in2f\n",
      "in2g\n",
      "in2h\n",
      "in2i\n",
      "in2j\n",
      "in2k\n",
      "in2l\n",
      "in2m\n",
      "in2n\n",
      "in3ea\n",
      "in3eb\n",
      "in3ec\n",
      "in3fa\n",
      "in3fb\n",
      "in3fc\n",
      "in3ga\n",
      "in3gb\n",
      "in3gc\n",
      "in3ha\n",
      "in3hb\n",
      "in3hc\n",
      "in3ia\n",
      "in3ib\n",
      "in3ic\n",
      "in3ja\n",
      "in3jb\n",
      "in3jc\n",
      "in5a\n",
      "in5b\n",
      "in6a\n",
      "in6b\n",
      "in6c\n",
      "in7\n",
      "in8\n",
      "in9e\n",
      "in9f\n",
      "inex30\n",
      "inex31\n",
      "inex32\n",
      "inex34\n",
      "inex35\n",
      "inex36\n",
      "inex37\n",
      "inex38\n",
      "inex39\n",
      "inex40\n",
      "inex41\n",
      "inex42\n",
      "inex43\n",
      "inex44\n",
      "inex45\n",
      "inex46\n",
      "inex47\n",
      "inex48\n",
      "inex49\n",
      "inex50\n",
      "inex51\n",
      "inex29b\n",
      "inex31b\n",
      "io1a\n",
      "io1b\n",
      "io1c\n",
      "io1d\n",
      "io1e\n",
      "io1ex\n",
      "io1f\n",
      "io1g\n",
      "io2a\n",
      "io2b\n",
      "io2c\n",
      "io2d\n",
      "io2e\n",
      "io2ex\n",
      "io2f\n",
      "io2h\n",
      "io2i\n",
      "ioex58\n",
      "ioex59\n",
      "ir7\n",
      "ir6a\n",
      "ir6b\n",
      "ir6c\n",
      "irex70\n",
      "is1\n",
      "is3\n",
      "is1b\n",
      "is2a\n",
      "is2b\n",
      "is2c\n",
      "is2d\n",
      "is2e\n",
      "is2f\n",
      "is2g\n",
      "is2h\n",
      "is2i\n",
      "is2j\n",
      "is2k\n",
      "is2l\n",
      "is2m\n",
      "is2n\n",
      "is2o\n",
      "is2r\n",
      "it1\n",
      "it2\n",
      "it4\n",
      "iu2\n",
      "iNL6\n",
      "rugsP\n",
      "rugs3P\n",
      "rugshoursofnursingcare\n",
      "rugshoursofnursingcare3\n",
      "rugshoursofpersonalcare\n",
      "rugshoursofpersonalcare3\n",
      "rugshoursofsupport\n",
      "rugshoursofsupport3\n",
      "rugshoursoftreatment\n",
      "rugshoursoftreatment3\n",
      "rugstotalcareandtreatment\n",
      "rugstotalcareandtreatment3\n",
      "rugstotalresidentialcare\n",
      "rugstotalresidentialcare3\n",
      "zzp\n",
      "zzphoursofnursingcare\n",
      "zzphoursofnursingcare3\n",
      "zzphoursofpersonalcare\n",
      "zzphoursofpersonalcare3\n",
      "zzphoursofsupport\n",
      "zzphoursofsupport3\n",
      "zzphoursoftreatment\n",
      "zzphoursoftreatment3\n",
      "zzpreindication\n",
      "zzpreindication3\n",
      "zzpreindicationupperlimit\n",
      "zzpreindicationupperlimit3\n",
      "zzptotalcareandtreatment\n",
      "zzptotalcareandtreatment3\n",
      "zzptotalresidentialcare\n",
      "zzptotalresidentialcare3\n",
      "bv2\n",
      "bv2a\n",
      "bv2b\n",
      "bv3.2\n",
      "bv3.2a\n",
      "bv3.2a1\n",
      "bv3.2a2\n",
      "bv3.2a3\n",
      "bv3.2a4\n",
      "bv3.2a5\n",
      "bv4.1\n",
      "bv4.1a1\n",
      "bv4.1a2\n",
      "bv4.1a3\n",
      "bv4.1a4\n",
      "bv4.1a5\n",
      "bv4.1a6\n",
      "bv4.1a7\n",
      "bv4.1a8\n",
      "sABS\n",
      "sADLH\n",
      "sADLLF\n",
      "sADLSF\n",
      "sBMI\n",
      "sCOMM\n",
      "sCPS\n",
      "sCPS2\n",
      "sCHESS\n",
      "sDRS\n",
      "sSRMood\n",
      "sRISE\n",
      "sDIVERT\n",
      "sDbSI\n",
      "sPAIN\n",
      "sPAIN1\n",
      "sPURS\n",
      "sRISE_LTCF\n",
      "cACTIV\n",
      "cADD\n",
      "cADL\n",
      "cBEHAV\n",
      "cBOWEL\n",
      "cCARDIO\n",
      "cCOGNIT\n",
      "cCOMMUN\n",
      "cDEHYD\n",
      "cDELIR\n",
      "cFALLS\n",
      "cFEEDTB\n",
      "aSRI\n",
      "cMOOD\n",
      "cNUTR\n",
      "cPAIN\n",
      "cPULCER\n",
      "cRESTR\n",
      "cURIN\n",
      "cPACTIV\n",
      "cDRUG\n",
      "cSOCFUNC\n",
      "Ndrugs\n",
      "rugiii\n",
      "cmifi\n",
      "CMI\n",
      "rugclin\n",
      "HUI3\n",
      "HUI3p1\n",
      "Ndisorders\n",
      "sFI_corrected\n",
      "sFI_corrected_long\n",
      "N05A\n",
      "N06A\n",
      "N06D\n",
      "is2l.cat\n",
      "ia4.cat\n",
      "ii1c.cat\n",
      "ii1d.cat\n",
      "ii1o.cat\n",
      "ii1k.cat\n",
      "ii1t.cat\n",
      "ia12a.cat\n",
      "ii1m.cat\n",
      "ii1s.cat\n",
      "ii1l.cat\n",
      "ii1j.cat\n",
      "ij8a.cat\n",
      "ij8b.cat\n",
      "iG8a2.cat\n",
      "if1c.cat\n",
      "ie1k.cat\n",
      "ie1j.cat\n",
      "ie1i.cat\n",
      "if5a.cat\n",
      "if5b.cat\n",
      "if5c.cat\n",
      "if5d.cat\n",
      "if5e.cat\n"
     ]
    }
   ],
   "source": [
    "# code for date\n",
    "\n",
    "for i in df.columns:\n",
    "    print(i)"
   ]
  },
  {
   "cell_type": "code",
   "execution_count": 33,
   "id": "0fe001c0",
   "metadata": {},
   "outputs": [
    {
     "name": "stdout",
     "output_type": "stream",
     "text": [
      "Inpatient acute hospital with overnight stay: # times past 90 days\n"
     ]
    }
   ],
   "source": [
    "code = 'in5a'\n",
    "print(encoding[(code).lower()])"
   ]
  },
  {
   "cell_type": "code",
   "execution_count": 34,
   "id": "ed010aad",
   "metadata": {},
   "outputs": [],
   "source": [
    "#df['iA9']\n",
    "# This iA9  means date "
   ]
  },
  {
   "cell_type": "code",
   "execution_count": 35,
   "id": "a17d3329",
   "metadata": {},
   "outputs": [
    {
     "name": "stdout",
     "output_type": "stream",
     "text": [
      "Inpatient acute hospital with overnight stay: # times past 90 days\n"
     ]
    }
   ],
   "source": [
    "code = 'in5a'\n",
    "print(encoding[(code).lower()])"
   ]
  },
  {
   "cell_type": "code",
   "execution_count": 36,
   "id": "e31446d3",
   "metadata": {},
   "outputs": [
    {
     "name": "stdout",
     "output_type": "stream",
     "text": [
      "5 Year History-Long Term Care Facility\n"
     ]
    }
   ],
   "source": [
    "code = 'ib5a'\n",
    "print(encoding[(code).lower()])"
   ]
  },
  {
   "cell_type": "code",
   "execution_count": 37,
   "id": "3be0bf68",
   "metadata": {},
   "outputs": [],
   "source": [
    "#code = 'if5a'\n",
    "#print(encoding[(code).lower()])"
   ]
  },
  {
   "cell_type": "code",
   "execution_count": 38,
   "id": "fa9cd278",
   "metadata": {},
   "outputs": [
    {
     "name": "stdout",
     "output_type": "stream",
     "text": [
      "Primary language\n"
     ]
    }
   ],
   "source": [
    "code = 'iB4'\n",
    "print(encoding[(code).lower()])"
   ]
  },
  {
   "cell_type": "code",
   "execution_count": 39,
   "id": "d1059340",
   "metadata": {},
   "outputs": [],
   "source": [
    "total_samples=len(df)"
   ]
  },
  {
   "cell_type": "code",
   "execution_count": 40,
   "id": "0f745b24",
   "metadata": {},
   "outputs": [
    {
     "name": "stdout",
     "output_type": "stream",
     "text": [
      "Total number of samples:48142\n"
     ]
    }
   ],
   "source": [
    "print(f'Total number of samples:{total_samples}')"
   ]
  },
  {
   "cell_type": "code",
   "execution_count": 41,
   "id": "33861ae1",
   "metadata": {},
   "outputs": [
    {
     "data": {
      "text/plain": [
       "12785"
      ]
     },
     "execution_count": 41,
     "metadata": {},
     "output_type": "execute_result"
    }
   ],
   "source": [
    "len(df['Clientid'].unique())"
   ]
  },
  {
   "cell_type": "markdown",
   "id": "2f5c38f8",
   "metadata": {},
   "source": [
    "## Part 2. Data Processing\n",
    "\n",
    "In this first part, we will carry out the data processsing. In particular, we would like to select the relevant covariates, make a pre-selection based on patient characteristics (e.g. whether or not contra-indications are present), select the relevant period of observation, impute missing *coviariate* values and, lastly, handle any multi-collinearity. "
   ]
  },
  {
   "cell_type": "markdown",
   "id": "2dbdc92a",
   "metadata": {},
   "source": [
    "Next, we define the lists of covariates, clinical indications and contra-indications"
   ]
  },
  {
   "cell_type": "code",
   "execution_count": 42,
   "id": "5d20aa51",
   "metadata": {},
   "outputs": [
    {
     "name": "stdout",
     "output_type": "stream",
     "text": [
      "41\n"
     ]
    }
   ],
   "source": [
    "          \n",
    "# list relevant confounders\n",
    "confounders = ['ia4.cat','if1c.cat', 'ii1c.cat', 'ii1d.cat','ia12a', 'ib5e','ib5c','ig6a', 'id3a','id4a','ij8a.cat', 'ij8b.cat','ii1m.cat',\n",
    "               'ii1s.cat', 'ii1l.cat', 'ii1j.cat','ig2b', 'ig2f', 'ig2h','ig2j','ie1a','ie1b', 'ie1c', 'ie1d', 'ie1e', 'ie1f', 'ie1g',\n",
    "                        'iG8a2','ii1o.cat', 'ii1k.cat', 'ii1t.cat','if1d','iA2', 'sAGE_cat', 'in3fc', 'ie1k.cat','if5a.cat','if5b.cat','if5c.cat',\n",
    "              'if5d.cat','if5e.cat']\n",
    "\n",
    "#also convert values to list for ease of processing later on \n",
    "#listed_val_based_con = [key for key, value in value_based_confounders.items()]\n",
    "#confounders = confounders =+ Listed_val_based_confounders\n",
    "        \n",
    "# ADD VALUE BASED CLINICAL INDICATIONS, E.G. {'sDRS' : [3,4]}\n",
    "\n",
    "# list of other relevant variables\n",
    "relevant_vars = ['iA9', 'Clientid', TREATMENT, OUTCOME]\n",
    "\n",
    "print(len(confounders))"
   ]
  },
  {
   "cell_type": "code",
   "execution_count": 43,
   "id": "5dfb148f",
   "metadata": {},
   "outputs": [],
   "source": [
    "for col in confounders:\n",
    "    df[col]"
   ]
  },
  {
   "cell_type": "markdown",
   "id": "9547c109",
   "metadata": {},
   "source": [
    "Please note that you can get the meaning of the icodes by running the ``encoding``-function below. You only need to change the name of the ``code`` variable."
   ]
  },
  {
   "cell_type": "code",
   "execution_count": 44,
   "id": "27880938",
   "metadata": {},
   "outputs": [
    {
     "name": "stdout",
     "output_type": "stream",
     "text": [
      "Inpatient acute hospital with overnight stay: # times past 90 days\n"
     ]
    }
   ],
   "source": [
    "code = 'in5a'\n",
    "print(encoding[(code).lower()])"
   ]
  },
  {
   "cell_type": "code",
   "execution_count": 45,
   "id": "113b9187",
   "metadata": {},
   "outputs": [
    {
     "data": {
      "text/plain": [
       "0        42420220.0\n",
       "1        75750563.0\n",
       "2        42420220.0\n",
       "3        42420220.0\n",
       "4        42420220.0\n",
       "            ...    \n",
       "48137           NaN\n",
       "48138           NaN\n",
       "48139           NaN\n",
       "48140           NaN\n",
       "48141           NaN\n",
       "Name: facility_id_first, Length: 48142, dtype: float64"
      ]
     },
     "execution_count": 45,
     "metadata": {},
     "output_type": "execute_result"
    }
   ],
   "source": [
    "df['facility_id_first']"
   ]
  },
  {
   "cell_type": "markdown",
   "id": "1de53fd0",
   "metadata": {},
   "source": [
    "Finally, for some contra-indications we want to exclude based on particular values only. We can do this by running the script below. "
   ]
  },
  {
   "cell_type": "code",
   "execution_count": 46,
   "id": "586b484e",
   "metadata": {},
   "outputs": [],
   "source": [
    "# df = df[list(confounders + relevant_vars)]\n",
    "# print(f\"Treatment after selecting covariates {len(df[df[TREATMENT]>=EXPOSURE_THRESHOLD])}\")"
   ]
  },
  {
   "cell_type": "code",
   "execution_count": 47,
   "id": "634ffffd",
   "metadata": {},
   "outputs": [
    {
     "name": "stdout",
     "output_type": "stream",
     "text": [
      "Treatment after selecting covariates 15603\n"
     ]
    }
   ],
   "source": [
    "df = df[list(confounders + relevant_vars)]\n",
    "print(f\"Treatment after selecting covariates {len(df[df[TREATMENT]>=EXPOSURE_THRESHOLD])}\")"
   ]
  },
  {
   "cell_type": "code",
   "execution_count": 48,
   "id": "bf14cd59",
   "metadata": {},
   "outputs": [
    {
     "data": {
      "text/html": [
       "<div>\n",
       "<style scoped>\n",
       "    .dataframe tbody tr th:only-of-type {\n",
       "        vertical-align: middle;\n",
       "    }\n",
       "\n",
       "    .dataframe tbody tr th {\n",
       "        vertical-align: top;\n",
       "    }\n",
       "\n",
       "    .dataframe thead th {\n",
       "        text-align: right;\n",
       "    }\n",
       "</style>\n",
       "<table border=\"1\" class=\"dataframe\">\n",
       "  <thead>\n",
       "    <tr style=\"text-align: right;\">\n",
       "      <th></th>\n",
       "      <th>ia4.cat</th>\n",
       "      <th>if1c.cat</th>\n",
       "      <th>ii1c.cat</th>\n",
       "      <th>ii1d.cat</th>\n",
       "      <th>ia12a</th>\n",
       "      <th>ib5e</th>\n",
       "      <th>ib5c</th>\n",
       "      <th>ig6a</th>\n",
       "      <th>id3a</th>\n",
       "      <th>id4a</th>\n",
       "      <th>...</th>\n",
       "      <th>ie1k.cat</th>\n",
       "      <th>if5a.cat</th>\n",
       "      <th>if5b.cat</th>\n",
       "      <th>if5c.cat</th>\n",
       "      <th>if5d.cat</th>\n",
       "      <th>if5e.cat</th>\n",
       "      <th>iA9</th>\n",
       "      <th>Clientid</th>\n",
       "      <th>is2l</th>\n",
       "      <th>sCPS</th>\n",
       "    </tr>\n",
       "  </thead>\n",
       "  <tbody>\n",
       "    <tr>\n",
       "      <th>0</th>\n",
       "      <td>0.0</td>\n",
       "      <td>1.0</td>\n",
       "      <td>0.0</td>\n",
       "      <td>0.0</td>\n",
       "      <td>1.0</td>\n",
       "      <td>NaN</td>\n",
       "      <td>NaN</td>\n",
       "      <td>4.0</td>\n",
       "      <td>0.0</td>\n",
       "      <td>0.0</td>\n",
       "      <td>...</td>\n",
       "      <td>0.0</td>\n",
       "      <td>1.0</td>\n",
       "      <td>1.0</td>\n",
       "      <td>1.0</td>\n",
       "      <td>1.0</td>\n",
       "      <td>1.0</td>\n",
       "      <td>2005-06-13</td>\n",
       "      <td>42</td>\n",
       "      <td>4.0</td>\n",
       "      <td>1.0</td>\n",
       "    </tr>\n",
       "    <tr>\n",
       "      <th>1</th>\n",
       "      <td>1.0</td>\n",
       "      <td>NaN</td>\n",
       "      <td>0.0</td>\n",
       "      <td>0.0</td>\n",
       "      <td>2.0</td>\n",
       "      <td>0.0</td>\n",
       "      <td>0.0</td>\n",
       "      <td>0.0</td>\n",
       "      <td>1.0</td>\n",
       "      <td>1.0</td>\n",
       "      <td>...</td>\n",
       "      <td>0.0</td>\n",
       "      <td>1.0</td>\n",
       "      <td>1.0</td>\n",
       "      <td>1.0</td>\n",
       "      <td>0.0</td>\n",
       "      <td>1.0</td>\n",
       "      <td>2006-06-09</td>\n",
       "      <td>43</td>\n",
       "      <td>0.0</td>\n",
       "      <td>0.0</td>\n",
       "    </tr>\n",
       "    <tr>\n",
       "      <th>2</th>\n",
       "      <td>0.0</td>\n",
       "      <td>1.0</td>\n",
       "      <td>0.0</td>\n",
       "      <td>0.0</td>\n",
       "      <td>1.0</td>\n",
       "      <td>0.0</td>\n",
       "      <td>0.0</td>\n",
       "      <td>0.0</td>\n",
       "      <td>0.0</td>\n",
       "      <td>0.0</td>\n",
       "      <td>...</td>\n",
       "      <td>0.0</td>\n",
       "      <td>1.0</td>\n",
       "      <td>1.0</td>\n",
       "      <td>1.0</td>\n",
       "      <td>1.0</td>\n",
       "      <td>1.0</td>\n",
       "      <td>2006-01-13</td>\n",
       "      <td>82</td>\n",
       "      <td>4.0</td>\n",
       "      <td>2.0</td>\n",
       "    </tr>\n",
       "    <tr>\n",
       "      <th>3</th>\n",
       "      <td>0.0</td>\n",
       "      <td>1.0</td>\n",
       "      <td>0.0</td>\n",
       "      <td>0.0</td>\n",
       "      <td>1.0</td>\n",
       "      <td>0.0</td>\n",
       "      <td>0.0</td>\n",
       "      <td>0.0</td>\n",
       "      <td>0.0</td>\n",
       "      <td>0.0</td>\n",
       "      <td>...</td>\n",
       "      <td>0.0</td>\n",
       "      <td>1.0</td>\n",
       "      <td>1.0</td>\n",
       "      <td>1.0</td>\n",
       "      <td>1.0</td>\n",
       "      <td>1.0</td>\n",
       "      <td>2005-06-06</td>\n",
       "      <td>82</td>\n",
       "      <td>4.0</td>\n",
       "      <td>2.0</td>\n",
       "    </tr>\n",
       "    <tr>\n",
       "      <th>4</th>\n",
       "      <td>0.0</td>\n",
       "      <td>1.0</td>\n",
       "      <td>0.0</td>\n",
       "      <td>0.0</td>\n",
       "      <td>1.0</td>\n",
       "      <td>0.0</td>\n",
       "      <td>0.0</td>\n",
       "      <td>1.0</td>\n",
       "      <td>0.0</td>\n",
       "      <td>0.0</td>\n",
       "      <td>...</td>\n",
       "      <td>0.0</td>\n",
       "      <td>1.0</td>\n",
       "      <td>1.0</td>\n",
       "      <td>1.0</td>\n",
       "      <td>0.0</td>\n",
       "      <td>0.0</td>\n",
       "      <td>2005-06-13</td>\n",
       "      <td>83</td>\n",
       "      <td>0.0</td>\n",
       "      <td>NaN</td>\n",
       "    </tr>\n",
       "    <tr>\n",
       "      <th>...</th>\n",
       "      <td>...</td>\n",
       "      <td>...</td>\n",
       "      <td>...</td>\n",
       "      <td>...</td>\n",
       "      <td>...</td>\n",
       "      <td>...</td>\n",
       "      <td>...</td>\n",
       "      <td>...</td>\n",
       "      <td>...</td>\n",
       "      <td>...</td>\n",
       "      <td>...</td>\n",
       "      <td>...</td>\n",
       "      <td>...</td>\n",
       "      <td>...</td>\n",
       "      <td>...</td>\n",
       "      <td>...</td>\n",
       "      <td>...</td>\n",
       "      <td>...</td>\n",
       "      <td>...</td>\n",
       "      <td>...</td>\n",
       "      <td>...</td>\n",
       "    </tr>\n",
       "    <tr>\n",
       "      <th>48137</th>\n",
       "      <td>NaN</td>\n",
       "      <td>1.0</td>\n",
       "      <td>0.0</td>\n",
       "      <td>0.0</td>\n",
       "      <td>1.0</td>\n",
       "      <td>NaN</td>\n",
       "      <td>0.0</td>\n",
       "      <td>3.0</td>\n",
       "      <td>0.0</td>\n",
       "      <td>0.0</td>\n",
       "      <td>...</td>\n",
       "      <td>0.0</td>\n",
       "      <td>1.0</td>\n",
       "      <td>1.0</td>\n",
       "      <td>1.0</td>\n",
       "      <td>1.0</td>\n",
       "      <td>1.0</td>\n",
       "      <td>2022-11-10</td>\n",
       "      <td>1825793914</td>\n",
       "      <td>4.0</td>\n",
       "      <td>0.0</td>\n",
       "    </tr>\n",
       "    <tr>\n",
       "      <th>48138</th>\n",
       "      <td>0.0</td>\n",
       "      <td>0.0</td>\n",
       "      <td>0.0</td>\n",
       "      <td>1.0</td>\n",
       "      <td>1.0</td>\n",
       "      <td>NaN</td>\n",
       "      <td>0.0</td>\n",
       "      <td>3.0</td>\n",
       "      <td>1.0</td>\n",
       "      <td>0.0</td>\n",
       "      <td>...</td>\n",
       "      <td>0.0</td>\n",
       "      <td>1.0</td>\n",
       "      <td>0.0</td>\n",
       "      <td>1.0</td>\n",
       "      <td>1.0</td>\n",
       "      <td>1.0</td>\n",
       "      <td>2022-11-10</td>\n",
       "      <td>3998986670</td>\n",
       "      <td>0.0</td>\n",
       "      <td>5.0</td>\n",
       "    </tr>\n",
       "    <tr>\n",
       "      <th>48139</th>\n",
       "      <td>NaN</td>\n",
       "      <td>0.0</td>\n",
       "      <td>0.0</td>\n",
       "      <td>0.0</td>\n",
       "      <td>1.0</td>\n",
       "      <td>NaN</td>\n",
       "      <td>0.0</td>\n",
       "      <td>0.0</td>\n",
       "      <td>1.0</td>\n",
       "      <td>0.0</td>\n",
       "      <td>...</td>\n",
       "      <td>0.0</td>\n",
       "      <td>1.0</td>\n",
       "      <td>1.0</td>\n",
       "      <td>1.0</td>\n",
       "      <td>1.0</td>\n",
       "      <td>1.0</td>\n",
       "      <td>2022-11-10</td>\n",
       "      <td>6135579548</td>\n",
       "      <td>1.0</td>\n",
       "      <td>4.0</td>\n",
       "    </tr>\n",
       "    <tr>\n",
       "      <th>48140</th>\n",
       "      <td>NaN</td>\n",
       "      <td>1.0</td>\n",
       "      <td>0.0</td>\n",
       "      <td>1.0</td>\n",
       "      <td>1.0</td>\n",
       "      <td>NaN</td>\n",
       "      <td>0.0</td>\n",
       "      <td>4.0</td>\n",
       "      <td>1.0</td>\n",
       "      <td>0.0</td>\n",
       "      <td>...</td>\n",
       "      <td>0.0</td>\n",
       "      <td>1.0</td>\n",
       "      <td>1.0</td>\n",
       "      <td>1.0</td>\n",
       "      <td>1.0</td>\n",
       "      <td>1.0</td>\n",
       "      <td>2022-11-10</td>\n",
       "      <td>8479471735</td>\n",
       "      <td>4.0</td>\n",
       "      <td>1.0</td>\n",
       "    </tr>\n",
       "    <tr>\n",
       "      <th>48141</th>\n",
       "      <td>0.0</td>\n",
       "      <td>1.0</td>\n",
       "      <td>0.0</td>\n",
       "      <td>0.0</td>\n",
       "      <td>1.0</td>\n",
       "      <td>NaN</td>\n",
       "      <td>0.0</td>\n",
       "      <td>1.0</td>\n",
       "      <td>0.0</td>\n",
       "      <td>1.0</td>\n",
       "      <td>...</td>\n",
       "      <td>0.0</td>\n",
       "      <td>1.0</td>\n",
       "      <td>1.0</td>\n",
       "      <td>1.0</td>\n",
       "      <td>1.0</td>\n",
       "      <td>1.0</td>\n",
       "      <td>2023-02-02</td>\n",
       "      <td>2789090703</td>\n",
       "      <td>0.0</td>\n",
       "      <td>0.0</td>\n",
       "    </tr>\n",
       "  </tbody>\n",
       "</table>\n",
       "<p>48142 rows × 45 columns</p>\n",
       "</div>"
      ],
      "text/plain": [
       "       ia4.cat  if1c.cat  ii1c.cat  ii1d.cat  ia12a  ib5e  ib5c  ig6a  id3a  \\\n",
       "0          0.0       1.0       0.0       0.0    1.0   NaN   NaN   4.0   0.0   \n",
       "1          1.0       NaN       0.0       0.0    2.0   0.0   0.0   0.0   1.0   \n",
       "2          0.0       1.0       0.0       0.0    1.0   0.0   0.0   0.0   0.0   \n",
       "3          0.0       1.0       0.0       0.0    1.0   0.0   0.0   0.0   0.0   \n",
       "4          0.0       1.0       0.0       0.0    1.0   0.0   0.0   1.0   0.0   \n",
       "...        ...       ...       ...       ...    ...   ...   ...   ...   ...   \n",
       "48137      NaN       1.0       0.0       0.0    1.0   NaN   0.0   3.0   0.0   \n",
       "48138      0.0       0.0       0.0       1.0    1.0   NaN   0.0   3.0   1.0   \n",
       "48139      NaN       0.0       0.0       0.0    1.0   NaN   0.0   0.0   1.0   \n",
       "48140      NaN       1.0       0.0       1.0    1.0   NaN   0.0   4.0   1.0   \n",
       "48141      0.0       1.0       0.0       0.0    1.0   NaN   0.0   1.0   0.0   \n",
       "\n",
       "       id4a  ...  ie1k.cat  if5a.cat  if5b.cat  if5c.cat  if5d.cat  if5e.cat  \\\n",
       "0       0.0  ...       0.0       1.0       1.0       1.0       1.0       1.0   \n",
       "1       1.0  ...       0.0       1.0       1.0       1.0       0.0       1.0   \n",
       "2       0.0  ...       0.0       1.0       1.0       1.0       1.0       1.0   \n",
       "3       0.0  ...       0.0       1.0       1.0       1.0       1.0       1.0   \n",
       "4       0.0  ...       0.0       1.0       1.0       1.0       0.0       0.0   \n",
       "...     ...  ...       ...       ...       ...       ...       ...       ...   \n",
       "48137   0.0  ...       0.0       1.0       1.0       1.0       1.0       1.0   \n",
       "48138   0.0  ...       0.0       1.0       0.0       1.0       1.0       1.0   \n",
       "48139   0.0  ...       0.0       1.0       1.0       1.0       1.0       1.0   \n",
       "48140   0.0  ...       0.0       1.0       1.0       1.0       1.0       1.0   \n",
       "48141   1.0  ...       0.0       1.0       1.0       1.0       1.0       1.0   \n",
       "\n",
       "              iA9    Clientid  is2l  sCPS  \n",
       "0      2005-06-13          42   4.0   1.0  \n",
       "1      2006-06-09          43   0.0   0.0  \n",
       "2      2006-01-13          82   4.0   2.0  \n",
       "3      2005-06-06          82   4.0   2.0  \n",
       "4      2005-06-13          83   0.0   NaN  \n",
       "...           ...         ...   ...   ...  \n",
       "48137  2022-11-10  1825793914   4.0   0.0  \n",
       "48138  2022-11-10  3998986670   0.0   5.0  \n",
       "48139  2022-11-10  6135579548   1.0   4.0  \n",
       "48140  2022-11-10  8479471735   4.0   1.0  \n",
       "48141  2023-02-02  2789090703   0.0   0.0  \n",
       "\n",
       "[48142 rows x 45 columns]"
      ]
     },
     "execution_count": 48,
     "metadata": {},
     "output_type": "execute_result"
    }
   ],
   "source": [
    "df[list(confounders + relevant_vars)]"
   ]
  },
  {
   "cell_type": "code",
   "execution_count": 49,
   "id": "7599fd7e",
   "metadata": {},
   "outputs": [
    {
     "data": {
      "text/html": [
       "<div>\n",
       "<style scoped>\n",
       "    .dataframe tbody tr th:only-of-type {\n",
       "        vertical-align: middle;\n",
       "    }\n",
       "\n",
       "    .dataframe tbody tr th {\n",
       "        vertical-align: top;\n",
       "    }\n",
       "\n",
       "    .dataframe thead th {\n",
       "        text-align: right;\n",
       "    }\n",
       "</style>\n",
       "<table border=\"1\" class=\"dataframe\">\n",
       "  <thead>\n",
       "    <tr style=\"text-align: right;\">\n",
       "      <th></th>\n",
       "      <th>ia4.cat</th>\n",
       "      <th>if1c.cat</th>\n",
       "      <th>ii1c.cat</th>\n",
       "      <th>ii1d.cat</th>\n",
       "      <th>ia12a</th>\n",
       "      <th>ib5e</th>\n",
       "      <th>ib5c</th>\n",
       "      <th>ig6a</th>\n",
       "      <th>id3a</th>\n",
       "      <th>id4a</th>\n",
       "      <th>...</th>\n",
       "      <th>ie1k.cat</th>\n",
       "      <th>if5a.cat</th>\n",
       "      <th>if5b.cat</th>\n",
       "      <th>if5c.cat</th>\n",
       "      <th>if5d.cat</th>\n",
       "      <th>if5e.cat</th>\n",
       "      <th>iA9</th>\n",
       "      <th>Clientid</th>\n",
       "      <th>is2l</th>\n",
       "      <th>sCPS</th>\n",
       "    </tr>\n",
       "  </thead>\n",
       "  <tbody>\n",
       "    <tr>\n",
       "      <th>0</th>\n",
       "      <td>0.0</td>\n",
       "      <td>1.0</td>\n",
       "      <td>0.0</td>\n",
       "      <td>0.0</td>\n",
       "      <td>1.0</td>\n",
       "      <td>NaN</td>\n",
       "      <td>NaN</td>\n",
       "      <td>4.0</td>\n",
       "      <td>0.0</td>\n",
       "      <td>0.0</td>\n",
       "      <td>...</td>\n",
       "      <td>0.0</td>\n",
       "      <td>1.0</td>\n",
       "      <td>1.0</td>\n",
       "      <td>1.0</td>\n",
       "      <td>1.0</td>\n",
       "      <td>1.0</td>\n",
       "      <td>2005-06-13</td>\n",
       "      <td>42</td>\n",
       "      <td>4.0</td>\n",
       "      <td>1.0</td>\n",
       "    </tr>\n",
       "    <tr>\n",
       "      <th>1</th>\n",
       "      <td>1.0</td>\n",
       "      <td>NaN</td>\n",
       "      <td>0.0</td>\n",
       "      <td>0.0</td>\n",
       "      <td>2.0</td>\n",
       "      <td>0.0</td>\n",
       "      <td>0.0</td>\n",
       "      <td>0.0</td>\n",
       "      <td>1.0</td>\n",
       "      <td>1.0</td>\n",
       "      <td>...</td>\n",
       "      <td>0.0</td>\n",
       "      <td>1.0</td>\n",
       "      <td>1.0</td>\n",
       "      <td>1.0</td>\n",
       "      <td>0.0</td>\n",
       "      <td>1.0</td>\n",
       "      <td>2006-06-09</td>\n",
       "      <td>43</td>\n",
       "      <td>0.0</td>\n",
       "      <td>0.0</td>\n",
       "    </tr>\n",
       "    <tr>\n",
       "      <th>2</th>\n",
       "      <td>0.0</td>\n",
       "      <td>1.0</td>\n",
       "      <td>0.0</td>\n",
       "      <td>0.0</td>\n",
       "      <td>1.0</td>\n",
       "      <td>0.0</td>\n",
       "      <td>0.0</td>\n",
       "      <td>0.0</td>\n",
       "      <td>0.0</td>\n",
       "      <td>0.0</td>\n",
       "      <td>...</td>\n",
       "      <td>0.0</td>\n",
       "      <td>1.0</td>\n",
       "      <td>1.0</td>\n",
       "      <td>1.0</td>\n",
       "      <td>1.0</td>\n",
       "      <td>1.0</td>\n",
       "      <td>2006-01-13</td>\n",
       "      <td>82</td>\n",
       "      <td>4.0</td>\n",
       "      <td>2.0</td>\n",
       "    </tr>\n",
       "    <tr>\n",
       "      <th>3</th>\n",
       "      <td>0.0</td>\n",
       "      <td>1.0</td>\n",
       "      <td>0.0</td>\n",
       "      <td>0.0</td>\n",
       "      <td>1.0</td>\n",
       "      <td>0.0</td>\n",
       "      <td>0.0</td>\n",
       "      <td>0.0</td>\n",
       "      <td>0.0</td>\n",
       "      <td>0.0</td>\n",
       "      <td>...</td>\n",
       "      <td>0.0</td>\n",
       "      <td>1.0</td>\n",
       "      <td>1.0</td>\n",
       "      <td>1.0</td>\n",
       "      <td>1.0</td>\n",
       "      <td>1.0</td>\n",
       "      <td>2005-06-06</td>\n",
       "      <td>82</td>\n",
       "      <td>4.0</td>\n",
       "      <td>2.0</td>\n",
       "    </tr>\n",
       "    <tr>\n",
       "      <th>4</th>\n",
       "      <td>0.0</td>\n",
       "      <td>1.0</td>\n",
       "      <td>0.0</td>\n",
       "      <td>0.0</td>\n",
       "      <td>1.0</td>\n",
       "      <td>0.0</td>\n",
       "      <td>0.0</td>\n",
       "      <td>1.0</td>\n",
       "      <td>0.0</td>\n",
       "      <td>0.0</td>\n",
       "      <td>...</td>\n",
       "      <td>0.0</td>\n",
       "      <td>1.0</td>\n",
       "      <td>1.0</td>\n",
       "      <td>1.0</td>\n",
       "      <td>0.0</td>\n",
       "      <td>0.0</td>\n",
       "      <td>2005-06-13</td>\n",
       "      <td>83</td>\n",
       "      <td>0.0</td>\n",
       "      <td>NaN</td>\n",
       "    </tr>\n",
       "  </tbody>\n",
       "</table>\n",
       "<p>5 rows × 45 columns</p>\n",
       "</div>"
      ],
      "text/plain": [
       "   ia4.cat  if1c.cat  ii1c.cat  ii1d.cat  ia12a  ib5e  ib5c  ig6a  id3a  id4a  \\\n",
       "0      0.0       1.0       0.0       0.0    1.0   NaN   NaN   4.0   0.0   0.0   \n",
       "1      1.0       NaN       0.0       0.0    2.0   0.0   0.0   0.0   1.0   1.0   \n",
       "2      0.0       1.0       0.0       0.0    1.0   0.0   0.0   0.0   0.0   0.0   \n",
       "3      0.0       1.0       0.0       0.0    1.0   0.0   0.0   0.0   0.0   0.0   \n",
       "4      0.0       1.0       0.0       0.0    1.0   0.0   0.0   1.0   0.0   0.0   \n",
       "\n",
       "   ...  ie1k.cat  if5a.cat  if5b.cat  if5c.cat  if5d.cat  if5e.cat  \\\n",
       "0  ...       0.0       1.0       1.0       1.0       1.0       1.0   \n",
       "1  ...       0.0       1.0       1.0       1.0       0.0       1.0   \n",
       "2  ...       0.0       1.0       1.0       1.0       1.0       1.0   \n",
       "3  ...       0.0       1.0       1.0       1.0       1.0       1.0   \n",
       "4  ...       0.0       1.0       1.0       1.0       0.0       0.0   \n",
       "\n",
       "          iA9  Clientid  is2l  sCPS  \n",
       "0  2005-06-13        42   4.0   1.0  \n",
       "1  2006-06-09        43   0.0   0.0  \n",
       "2  2006-01-13        82   4.0   2.0  \n",
       "3  2005-06-06        82   4.0   2.0  \n",
       "4  2005-06-13        83   0.0   NaN  \n",
       "\n",
       "[5 rows x 45 columns]"
      ]
     },
     "execution_count": 49,
     "metadata": {},
     "output_type": "execute_result"
    }
   ],
   "source": [
    "df.head()"
   ]
  },
  {
   "cell_type": "markdown",
   "id": "aa1cdf9c",
   "metadata": {},
   "source": [
    "### 2.b. Baseline-Followup Selection\n",
    "\n",
    "Important to note here is that in this particular setup, our goal is to **estimate the outcome value at follow up from the covariates *and* outcome variable at baseline**. \n",
    "\n",
    "Below you find a schematic depiction of how we want to process the data. As you can see, there are two timelines:\n",
    "\n",
    "1. **Timeline 1**: Naturally processes from baseline to follow up over time, without any intervention in the meantme.\n",
    "2. **Timeline 2**: Same as before, but with the difference that not an intervention has take place at some point in time between baseline and follow up. "
   ]
  },
  {
   "cell_type": "markdown",
   "id": "3a5c28d1",
   "metadata": {},
   "source": [
    "![alt text](TimelineModels.jpg)"
   ]
  },
  {
   "cell_type": "markdown",
   "id": "76f61916",
   "metadata": {},
   "source": [
    "Our goal is therefore to, *for each observation*, take the values (**pre-treatment** covariates, outcome on baseline $y_{t}$) of baseline, and the  values at follow up (outcome on follow up $y_{t+1}$) and store it in a convenient manner. Important to note is that as patient may have *several* of these baseline-followup recors where sometimes an intervention may have occured and sometimes not. We decided to do this to, again, safe as much data as possible. \n",
    "\n",
    "Let us begin by first counting the number of assesments. We do this, because it is not possible to include patients without followup. "
   ]
  },
  {
   "cell_type": "code",
   "execution_count": 50,
   "id": "6297ed64",
   "metadata": {},
   "outputs": [],
   "source": [
    "# get number of assesments\n",
    "counter = lambda x: len(df[df['Clientid']==x])\n",
    "\n",
    "# count number of items\n",
    "df['num_assesments'] = df['Clientid'].apply(counter)"
   ]
  },
  {
   "cell_type": "markdown",
   "id": "e3d2d9af",
   "metadata": {},
   "source": [
    "Let us select only observations with more than 2 assesments. "
   ]
  },
  {
   "cell_type": "code",
   "execution_count": 51,
   "id": "046a82e0",
   "metadata": {},
   "outputs": [
    {
     "name": "stdout",
     "output_type": "stream",
     "text": [
      "44613 observations remaining.\n",
      "Treatment after selecting on number of assesments 14856\n"
     ]
    }
   ],
   "source": [
    "# get number of assesments higher than 1\n",
    "df = df[df['num_assesments']>=2]\n",
    "\n",
    "print(f'{len(df)} observations remaining.')\n",
    "print(f\"Treatment after selecting on number of assesments {len(df[df[TREATMENT]>=EXPOSURE_THRESHOLD])}\")"
   ]
  },
  {
   "cell_type": "markdown",
   "id": "72f30a38",
   "metadata": {},
   "source": [
    "In the code below, we want to process the data a bit further. First, we want to make sure that the date columns (``iA9``) is in the correct format. Then we want to order based on ID and date. Also, we want to drop missing dates (if there are any) and drop any duplicated observations. Lastly, we want to make sure that the outcome is in the right format (i.e. a ``float``)."
   ]
  },
  {
   "cell_type": "code",
   "execution_count": 52,
   "id": "69f4be75",
   "metadata": {},
   "outputs": [],
   "source": [
    "# convert column to datetime \n",
    "df['iA9'] = pd.to_datetime(df['iA9']) \n",
    "# sort values by ID and date\n",
    "df = df.sort_values(by = ['Clientid', 'iA9'])\n",
    "# drop nans on dates of assesment\n",
    "df = df[df['iA9'].isna()==False]\n",
    "# drop duplicated values\n",
    "df = df.drop_duplicates()\n",
    "df[OUTCOME] = df[OUTCOME].astype(float)"
   ]
  },
  {
   "cell_type": "markdown",
   "id": "43866522",
   "metadata": {},
   "source": [
    "### 2.c Drop Duplicated Values\n",
    "\n",
    "Next, because there may be two assesments on the same date, we also want to drop those (regardless of the reason as inspecting that is beyond the scope of this project notebook). "
   ]
  },
  {
   "cell_type": "code",
   "execution_count": 53,
   "id": "46d2ab96",
   "metadata": {},
   "outputs": [],
   "source": [
    "# Group by 'Clientid' and then apply the duplicate check on 'iA9' within each group\n",
    "duplicated_indices = df.groupby('Clientid').apply(\n",
    "    lambda x: x[x['iA9'].duplicated()].index).explode()\n",
    "\n",
    "# Drop NaN values from the index list if they exist\n",
    "duplicated_indices = duplicated_indices.dropna()\n",
    "\n",
    "# Convert the result into a list if it's not empty\n",
    "if not duplicated_indices.empty:\n",
    "    duplicated_indices = duplicated_indices.tolist()\n",
    "\n",
    "    # Drop the duplicates using the list of indices\n",
    "    df = df.drop(index=duplicated_indices)"
   ]
  },
  {
   "cell_type": "markdown",
   "id": "ac32c7d6",
   "metadata": {},
   "source": [
    "### 2.d. Clean Compare\n",
    "If we want to only compare between those patients that receive either 0 treatment or a treatment above the threshold value, we run this code."
   ]
  },
  {
   "cell_type": "code",
   "execution_count": 54,
   "id": "b68930d7",
   "metadata": {},
   "outputs": [],
   "source": [
    "if CLEAN_COMPARE:\n",
    "    df = df[(df[TREATMENT] <= 0) | (df[TREATMENT] >= EXPOSURE_THRESHOLD)]"
   ]
  },
  {
   "cell_type": "markdown",
   "id": "221ddb34",
   "metadata": {},
   "source": [
    "### 2.e Period Decomposition"
   ]
  },
  {
   "cell_type": "markdown",
   "id": "0f0a67a3",
   "metadata": {},
   "source": [
    "The piece of code (i.e. the function ``period_decomposition``) below is a loop that basically does the following:\n",
    "\n",
    "1. Create a temporary dataframe ``temp_df``. We do this to make sure that there is an empty entity (i.e. data storage) to which we can append new, cleaned and processed observations.\n",
    "2. Then, for each patient we do the following:\n",
    "3. Look at all the observation dates.\n",
    "4. Select the target outcome at follow up and at baseline.\n",
    "5. Append each period to the ``temp_df`` *until running out of dates*. \n",
    "6. Move to the next patient. "
   ]
  },
  {
   "cell_type": "code",
   "execution_count": 55,
   "id": "0e300f07",
   "metadata": {},
   "outputs": [],
   "source": [
    "def period_decomposition(df, target):\n",
    "    # List to store the rows of the new DataFrame\n",
    "    rows = []\n",
    "\n",
    "    # Unique client IDs\n",
    "    client_ids = df['Clientid'].unique()\n",
    "    total = len(client_ids)\n",
    "\n",
    "    for count, client_id in enumerate(client_ids, start=1):\n",
    "        # Inform the user about the progress\n",
    "        if count % 1000 == 0 or count == total:\n",
    "            print(f'{count} of {total} items completed...')\n",
    "\n",
    "        # Extract rows for the current client\n",
    "        client_rows = df[df['Clientid'] == client_id].sort_values('iA9')\n",
    "        client_dates = client_rows['iA9'].tolist()\n",
    "\n",
    "        for i in range(len(client_dates) - 1):\n",
    "            baseline_date = client_dates[i]\n",
    "            followup_date = client_dates[i + 1]\n",
    "\n",
    "            # Extract the rows for baseline and follow-up\n",
    "            baseline_row = client_rows[client_rows['iA9'] == baseline_date]\n",
    "            followup_row = client_rows[client_rows['iA9'] == followup_date]\n",
    "            \n",
    "\n",
    "            # Calculate the outcomes\n",
    "            outcome_t0 = float(baseline_row[target])\n",
    "            outcome_t1 = float(followup_row[target])\n",
    "\n",
    "            # Prepare a new row with all necessary information\n",
    "            new_row = baseline_row.iloc[0].to_dict()\n",
    "            new_row['OutcomeT0'] = outcome_t0\n",
    "            new_row['OutcomeT1'] = outcome_t1\n",
    "            new_row['OutcomeT0Date'] = baseline_date\n",
    "            new_row['OutcomeT1Date'] = followup_date\n",
    "            rows.append(new_row)\n",
    "\n",
    "    # Create a new DataFrame from the list of new rows\n",
    "    temp_df = pd.DataFrame(rows)\n",
    "    print(\"Completed.\")\n",
    "    return temp_df\n"
   ]
  },
  {
   "cell_type": "code",
   "execution_count": 56,
   "id": "4aa46020",
   "metadata": {},
   "outputs": [
    {
     "name": "stdout",
     "output_type": "stream",
     "text": [
      "1000 of 9120 items completed...\n",
      "2000 of 9120 items completed...\n",
      "3000 of 9120 items completed...\n",
      "4000 of 9120 items completed...\n",
      "5000 of 9120 items completed...\n",
      "6000 of 9120 items completed...\n",
      "7000 of 9120 items completed...\n",
      "8000 of 9120 items completed...\n",
      "9000 of 9120 items completed...\n",
      "9120 of 9120 items completed...\n",
      "Completed.\n",
      "Treatment after processing 10895\n"
     ]
    }
   ],
   "source": [
    "df = period_decomposition(df, target = OUTCOME)\n",
    "print(f\"Treatment after processing {len(df[df[TREATMENT]>EXPOSURE_THRESHOLD])}\")"
   ]
  },
  {
   "cell_type": "markdown",
   "id": "5d2ffe04",
   "metadata": {},
   "source": [
    "### 2.f Dichotomize Treatment Variable\n",
    "\n",
    "Because our model can only deal with binary treatments, we need to convert the continuous treatments into binary ones. We will do that using a simple fuctions. Recall that the threshold has been set using the ``EXPOSURE_THRESHOLD`` variable above."
   ]
  },
  {
   "cell_type": "code",
   "execution_count": 57,
   "id": "cb564bf0",
   "metadata": {},
   "outputs": [],
   "source": [
    "#df[TREATMENT]"
   ]
  },
  {
   "cell_type": "code",
   "execution_count": 58,
   "id": "89702a04",
   "metadata": {},
   "outputs": [],
   "source": [
    "binary = lambda x: 1 if x >= EXPOSURE_THRESHOLD else 0"
   ]
  },
  {
   "cell_type": "code",
   "execution_count": 59,
   "id": "10a740b0",
   "metadata": {},
   "outputs": [],
   "source": [
    "#df[TREATMENT].apply(binary)"
   ]
  },
  {
   "cell_type": "code",
   "execution_count": 60,
   "id": "ea21e75e",
   "metadata": {},
   "outputs": [],
   "source": [
    "df[TREATMENT]=df[TREATMENT].apply(binary)"
   ]
  },
  {
   "cell_type": "code",
   "execution_count": 61,
   "id": "4af02199",
   "metadata": {},
   "outputs": [],
   "source": [
    "df['treatment']=df[TREATMENT]"
   ]
  },
  {
   "cell_type": "code",
   "execution_count": 62,
   "id": "97b96614",
   "metadata": {},
   "outputs": [],
   "source": [
    "df=df.drop(columns=[TREATMENT])"
   ]
  },
  {
   "cell_type": "code",
   "execution_count": 63,
   "id": "baea95fb",
   "metadata": {},
   "outputs": [],
   "source": [
    "# binary = lambda x: 1 if x >= EXPOSURE_THRESHOLD else 0\n",
    "# convert treatment to binary\n",
    "# df['treatment'] = df[TREATMENT].apply(binary)  \n",
    "# df = df.drop(columns = [TREATMENT])"
   ]
  },
  {
   "cell_type": "code",
   "execution_count": 64,
   "id": "bb289b0b",
   "metadata": {},
   "outputs": [],
   "source": [
    "#df"
   ]
  },
  {
   "cell_type": "code",
   "execution_count": 65,
   "id": "3b5068ac",
   "metadata": {},
   "outputs": [
    {
     "data": {
      "text/html": [
       "<div>\n",
       "<style scoped>\n",
       "    .dataframe tbody tr th:only-of-type {\n",
       "        vertical-align: middle;\n",
       "    }\n",
       "\n",
       "    .dataframe tbody tr th {\n",
       "        vertical-align: top;\n",
       "    }\n",
       "\n",
       "    .dataframe thead th {\n",
       "        text-align: right;\n",
       "    }\n",
       "</style>\n",
       "<table border=\"1\" class=\"dataframe\">\n",
       "  <thead>\n",
       "    <tr style=\"text-align: right;\">\n",
       "      <th></th>\n",
       "      <th>ia4.cat</th>\n",
       "      <th>if1c.cat</th>\n",
       "      <th>ii1c.cat</th>\n",
       "      <th>ii1d.cat</th>\n",
       "      <th>ia12a</th>\n",
       "      <th>ib5e</th>\n",
       "      <th>ib5c</th>\n",
       "      <th>ig6a</th>\n",
       "      <th>id3a</th>\n",
       "      <th>id4a</th>\n",
       "      <th>...</th>\n",
       "      <th>if5e.cat</th>\n",
       "      <th>iA9</th>\n",
       "      <th>Clientid</th>\n",
       "      <th>sCPS</th>\n",
       "      <th>num_assesments</th>\n",
       "      <th>OutcomeT0</th>\n",
       "      <th>OutcomeT1</th>\n",
       "      <th>OutcomeT0Date</th>\n",
       "      <th>OutcomeT1Date</th>\n",
       "      <th>treatment</th>\n",
       "    </tr>\n",
       "  </thead>\n",
       "  <tbody>\n",
       "    <tr>\n",
       "      <th>0</th>\n",
       "      <td>0.0</td>\n",
       "      <td>1.0</td>\n",
       "      <td>0.0</td>\n",
       "      <td>0.0</td>\n",
       "      <td>1.0</td>\n",
       "      <td>0.0</td>\n",
       "      <td>0.0</td>\n",
       "      <td>0.0</td>\n",
       "      <td>0.0</td>\n",
       "      <td>0.0</td>\n",
       "      <td>...</td>\n",
       "      <td>1.0</td>\n",
       "      <td>2005-06-06</td>\n",
       "      <td>82</td>\n",
       "      <td>2.0</td>\n",
       "      <td>2</td>\n",
       "      <td>2.0</td>\n",
       "      <td>2.0</td>\n",
       "      <td>2005-06-06</td>\n",
       "      <td>2006-01-13</td>\n",
       "      <td>1</td>\n",
       "    </tr>\n",
       "    <tr>\n",
       "      <th>3</th>\n",
       "      <td>1.0</td>\n",
       "      <td>1.0</td>\n",
       "      <td>0.0</td>\n",
       "      <td>1.0</td>\n",
       "      <td>2.0</td>\n",
       "      <td>0.0</td>\n",
       "      <td>0.0</td>\n",
       "      <td>1.0</td>\n",
       "      <td>0.0</td>\n",
       "      <td>0.0</td>\n",
       "      <td>...</td>\n",
       "      <td>1.0</td>\n",
       "      <td>2005-07-01</td>\n",
       "      <td>195</td>\n",
       "      <td>2.0</td>\n",
       "      <td>2</td>\n",
       "      <td>2.0</td>\n",
       "      <td>2.0</td>\n",
       "      <td>2005-07-01</td>\n",
       "      <td>2006-02-14</td>\n",
       "      <td>1</td>\n",
       "    </tr>\n",
       "    <tr>\n",
       "      <th>4</th>\n",
       "      <td>0.0</td>\n",
       "      <td>1.0</td>\n",
       "      <td>0.0</td>\n",
       "      <td>0.0</td>\n",
       "      <td>1.0</td>\n",
       "      <td>NaN</td>\n",
       "      <td>NaN</td>\n",
       "      <td>1.0</td>\n",
       "      <td>0.0</td>\n",
       "      <td>0.0</td>\n",
       "      <td>...</td>\n",
       "      <td>1.0</td>\n",
       "      <td>2005-06-06</td>\n",
       "      <td>219</td>\n",
       "      <td>1.0</td>\n",
       "      <td>2</td>\n",
       "      <td>1.0</td>\n",
       "      <td>0.0</td>\n",
       "      <td>2005-06-06</td>\n",
       "      <td>2006-01-13</td>\n",
       "      <td>0</td>\n",
       "    </tr>\n",
       "  </tbody>\n",
       "</table>\n",
       "<p>3 rows × 50 columns</p>\n",
       "</div>"
      ],
      "text/plain": [
       "   ia4.cat  if1c.cat  ii1c.cat  ii1d.cat  ia12a  ib5e  ib5c  ig6a  id3a  id4a  \\\n",
       "0      0.0       1.0       0.0       0.0    1.0   0.0   0.0   0.0   0.0   0.0   \n",
       "3      1.0       1.0       0.0       1.0    2.0   0.0   0.0   1.0   0.0   0.0   \n",
       "4      0.0       1.0       0.0       0.0    1.0   NaN   NaN   1.0   0.0   0.0   \n",
       "\n",
       "   ...  if5e.cat        iA9  Clientid  sCPS  num_assesments  OutcomeT0  \\\n",
       "0  ...       1.0 2005-06-06        82   2.0               2        2.0   \n",
       "3  ...       1.0 2005-07-01       195   2.0               2        2.0   \n",
       "4  ...       1.0 2005-06-06       219   1.0               2        1.0   \n",
       "\n",
       "   OutcomeT1  OutcomeT0Date  OutcomeT1Date  treatment  \n",
       "0        2.0     2005-06-06     2006-01-13          1  \n",
       "3        2.0     2005-07-01     2006-02-14          1  \n",
       "4        0.0     2005-06-06     2006-01-13          0  \n",
       "\n",
       "[3 rows x 50 columns]"
      ]
     },
     "execution_count": 65,
     "metadata": {},
     "output_type": "execute_result"
    }
   ],
   "source": [
    "# drop rows with missing outcome or treatment \n",
    "df = df.dropna(subset = ['OutcomeT0', 'OutcomeT1', 'treatment'])\n",
    "df.head(3)"
   ]
  },
  {
   "cell_type": "code",
   "execution_count": 66,
   "id": "9d6eb705",
   "metadata": {},
   "outputs": [],
   "source": [
    "#df"
   ]
  },
  {
   "cell_type": "code",
   "execution_count": 67,
   "id": "da7236d0",
   "metadata": {},
   "outputs": [
    {
     "name": "stdout",
     "output_type": "stream",
     "text": [
      "26.96774193548387\n"
     ]
    }
   ],
   "source": [
    "year_to_filter = 2014\n",
    "treatment_count = len(df[(df['iA9'].dt.year == year_to_filter) & (df['treatment'] ==1)])\n",
    "\n",
    "total_count = len(df[df['iA9'].dt.year == year_to_filter ])\n",
    "\n",
    "treatment_percentage = (treatment_count / total_count)*100\n",
    "print(treatment_percentage)"
   ]
  },
  {
   "cell_type": "code",
   "execution_count": 68,
   "id": "cb104644",
   "metadata": {},
   "outputs": [
    {
     "name": "stdout",
     "output_type": "stream",
     "text": [
      "30.697674418604652\n"
     ]
    }
   ],
   "source": [
    "year_to_filter = 2015\n",
    "treatment_count = len(df[(df['iA9'].dt.year == year_to_filter) & (df['treatment'] ==1)])\n",
    "\n",
    "total_count = len(df[df['iA9'].dt.year == year_to_filter ])\n",
    "\n",
    "treatment_percentage = (treatment_count / total_count)*100\n",
    "print(treatment_percentage)"
   ]
  },
  {
   "cell_type": "code",
   "execution_count": 69,
   "id": "6289304d",
   "metadata": {},
   "outputs": [
    {
     "name": "stdout",
     "output_type": "stream",
     "text": [
      "39.625167336010705\n"
     ]
    }
   ],
   "source": [
    "year_to_filter = 2016\n",
    "treatment_count = len(df[(df['iA9'].dt.year == year_to_filter) & (df['treatment'] ==1)])\n",
    "\n",
    "total_count = len(df[df['iA9'].dt.year == year_to_filter ])\n",
    "\n",
    "treatment_percentage = (treatment_count / total_count)*100\n",
    "print(treatment_percentage)"
   ]
  },
  {
   "cell_type": "code",
   "execution_count": 70,
   "id": "56b7fa8e",
   "metadata": {},
   "outputs": [
    {
     "name": "stdout",
     "output_type": "stream",
     "text": [
      "39.421965317919074\n"
     ]
    }
   ],
   "source": [
    "year_to_filter = 2017\n",
    "treatment_count = len(df[(df['iA9'].dt.year == year_to_filter) & (df['treatment'] ==1)])\n",
    "\n",
    "total_count = len(df[df['iA9'].dt.year == year_to_filter ])\n",
    "\n",
    "treatment_percentage = (treatment_count / total_count)*100\n",
    "print(treatment_percentage)"
   ]
  },
  {
   "cell_type": "code",
   "execution_count": 71,
   "id": "a02a5865",
   "metadata": {},
   "outputs": [
    {
     "name": "stdout",
     "output_type": "stream",
     "text": [
      "44.68325791855204\n"
     ]
    }
   ],
   "source": [
    "year_to_filter = 2018\n",
    "treatment_count = len(df[(df['iA9'].dt.year == year_to_filter) & (df['treatment'] ==1)])\n",
    "\n",
    "total_count = len(df[df['iA9'].dt.year == year_to_filter ])\n",
    "\n",
    "treatment_percentage = (treatment_count / total_count)*100\n",
    "print(treatment_percentage)"
   ]
  },
  {
   "cell_type": "code",
   "execution_count": 72,
   "id": "1535119f",
   "metadata": {},
   "outputs": [
    {
     "name": "stdout",
     "output_type": "stream",
     "text": [
      "38.866930171278\n"
     ]
    }
   ],
   "source": [
    "year_to_filter = 2019\n",
    "treatment_count = len(df[(df['iA9'].dt.year == year_to_filter) & (df['treatment'] ==1)])\n",
    "\n",
    "total_count = len(df[df['iA9'].dt.year == year_to_filter ])\n",
    "\n",
    "treatment_percentage = (treatment_count / total_count)*100\n",
    "print(treatment_percentage)"
   ]
  },
  {
   "cell_type": "code",
   "execution_count": 73,
   "id": "1f7c6251",
   "metadata": {},
   "outputs": [
    {
     "name": "stdout",
     "output_type": "stream",
     "text": [
      "35.49234135667396\n"
     ]
    }
   ],
   "source": [
    "year_to_filter = 2020\n",
    "treatment_count = len(df[(df['iA9'].dt.year == year_to_filter) & (df['treatment'] ==1)])\n",
    "\n",
    "total_count = len(df[df['iA9'].dt.year == year_to_filter ])\n",
    "\n",
    "treatment_percentage = (treatment_count / total_count)*100\n",
    "print(treatment_percentage)"
   ]
  },
  {
   "cell_type": "code",
   "execution_count": 74,
   "id": "7ec4b6a3",
   "metadata": {},
   "outputs": [
    {
     "name": "stdout",
     "output_type": "stream",
     "text": [
      "34.49709060681629\n"
     ]
    }
   ],
   "source": [
    "year_to_filter = 2021\n",
    "treatment_count = len(df[(df['iA9'].dt.year == year_to_filter) & (df['treatment'] ==1)])\n",
    "\n",
    "total_count = len(df[df['iA9'].dt.year == year_to_filter ])\n",
    "\n",
    "treatment_percentage = (treatment_count / total_count)*100\n",
    "print(treatment_percentage)"
   ]
  },
  {
   "cell_type": "code",
   "execution_count": 75,
   "id": "9dabfb0a",
   "metadata": {},
   "outputs": [
    {
     "name": "stdout",
     "output_type": "stream",
     "text": [
      "32.21216041397154\n"
     ]
    }
   ],
   "source": [
    "year_to_filter = 2022\n",
    "treatment_count = len(df[(df['iA9'].dt.year == year_to_filter) & (df['treatment'] ==1)])\n",
    "\n",
    "total_count = len(df[df['iA9'].dt.year == year_to_filter ])\n",
    "\n",
    "treatment_percentage = (treatment_count / total_count)*100\n",
    "print(treatment_percentage)"
   ]
  },
  {
   "cell_type": "code",
   "execution_count": 76,
   "id": "2ea83923",
   "metadata": {},
   "outputs": [
    {
     "name": "stdout",
     "output_type": "stream",
     "text": [
      "44.44444444444444\n"
     ]
    }
   ],
   "source": [
    "year_to_filter = 2023\n",
    "treatment_count = len(df[(df['iA9'].dt.year == year_to_filter) & (df['treatment'] ==1)])\n",
    "\n",
    "total_count = len(df[df['iA9'].dt.year == year_to_filter ])\n",
    "\n",
    "treatment_percentage = (treatment_count / total_count)*100\n",
    "print(treatment_percentage)"
   ]
  },
  {
   "cell_type": "code",
   "execution_count": null,
   "id": "121f43e3",
   "metadata": {},
   "outputs": [],
   "source": []
  },
  {
   "cell_type": "markdown",
   "id": "13ffd723",
   "metadata": {},
   "source": [
    "### 2.g Select Relevant Period\n",
    "\n",
    "Because the base data is too crude (the time periods between follow-up and baseline may be too far apart), we want to select a suitable period between observations. In essence, we aim to select a time window which is, on the one hand, determined by the minimum time (``PERIOD_MIN``) between baseline measurement and follow-up measurement and the maximum of that time window (``PERIOD_MAX``)."
   ]
  },
  {
   "cell_type": "code",
   "execution_count": 77,
   "id": "2feba781",
   "metadata": {},
   "outputs": [
    {
     "data": {
      "text/plain": [
       "5785"
      ]
     },
     "execution_count": 77,
     "metadata": {},
     "output_type": "execute_result"
    }
   ],
   "source": [
    "# get difference between dates\n",
    "df['date_diff'] = df['OutcomeT1Date'] - df['OutcomeT0Date'] \n",
    "df['date_diff'] = df['date_diff'].dt.days \n",
    "\n",
    "# select relevant period\n",
    "df = df[df['date_diff'] <= PERIOD_MAX]\n",
    "df = df[df['date_diff'] >= PERIOD_MIN]\n",
    "\n",
    "#df = df.drop(columns = ['OutcomeT1Date', 'OutcomeT0Date', 'date_diff', 'iA9', OUTCOME, 'Clientid'])\n",
    "# examine how many treatment observations are left\n",
    "len(df[df['treatment']==1])"
   ]
  },
  {
   "cell_type": "code",
   "execution_count": 78,
   "id": "38bacd34",
   "metadata": {},
   "outputs": [
    {
     "data": {
      "text/html": [
       "<div>\n",
       "<style scoped>\n",
       "    .dataframe tbody tr th:only-of-type {\n",
       "        vertical-align: middle;\n",
       "    }\n",
       "\n",
       "    .dataframe tbody tr th {\n",
       "        vertical-align: top;\n",
       "    }\n",
       "\n",
       "    .dataframe thead th {\n",
       "        text-align: right;\n",
       "    }\n",
       "</style>\n",
       "<table border=\"1\" class=\"dataframe\">\n",
       "  <thead>\n",
       "    <tr style=\"text-align: right;\">\n",
       "      <th></th>\n",
       "      <th>ia4.cat</th>\n",
       "      <th>if1c.cat</th>\n",
       "      <th>ii1c.cat</th>\n",
       "      <th>ii1d.cat</th>\n",
       "      <th>ia12a</th>\n",
       "      <th>ib5e</th>\n",
       "      <th>ib5c</th>\n",
       "      <th>ig6a</th>\n",
       "      <th>id3a</th>\n",
       "      <th>id4a</th>\n",
       "      <th>...</th>\n",
       "      <th>iA9</th>\n",
       "      <th>Clientid</th>\n",
       "      <th>sCPS</th>\n",
       "      <th>num_assesments</th>\n",
       "      <th>OutcomeT0</th>\n",
       "      <th>OutcomeT1</th>\n",
       "      <th>OutcomeT0Date</th>\n",
       "      <th>OutcomeT1Date</th>\n",
       "      <th>treatment</th>\n",
       "      <th>date_diff</th>\n",
       "    </tr>\n",
       "  </thead>\n",
       "  <tbody>\n",
       "    <tr>\n",
       "      <th>0</th>\n",
       "      <td>0.0</td>\n",
       "      <td>1.0</td>\n",
       "      <td>0.0</td>\n",
       "      <td>0.0</td>\n",
       "      <td>1.0</td>\n",
       "      <td>0.0</td>\n",
       "      <td>0.0</td>\n",
       "      <td>0.0</td>\n",
       "      <td>0.0</td>\n",
       "      <td>0.0</td>\n",
       "      <td>...</td>\n",
       "      <td>2005-06-06</td>\n",
       "      <td>82</td>\n",
       "      <td>2.0</td>\n",
       "      <td>2</td>\n",
       "      <td>2.0</td>\n",
       "      <td>2.0</td>\n",
       "      <td>2005-06-06</td>\n",
       "      <td>2006-01-13</td>\n",
       "      <td>1</td>\n",
       "      <td>221</td>\n",
       "    </tr>\n",
       "    <tr>\n",
       "      <th>3</th>\n",
       "      <td>1.0</td>\n",
       "      <td>1.0</td>\n",
       "      <td>0.0</td>\n",
       "      <td>1.0</td>\n",
       "      <td>2.0</td>\n",
       "      <td>0.0</td>\n",
       "      <td>0.0</td>\n",
       "      <td>1.0</td>\n",
       "      <td>0.0</td>\n",
       "      <td>0.0</td>\n",
       "      <td>...</td>\n",
       "      <td>2005-07-01</td>\n",
       "      <td>195</td>\n",
       "      <td>2.0</td>\n",
       "      <td>2</td>\n",
       "      <td>2.0</td>\n",
       "      <td>2.0</td>\n",
       "      <td>2005-07-01</td>\n",
       "      <td>2006-02-14</td>\n",
       "      <td>1</td>\n",
       "      <td>228</td>\n",
       "    </tr>\n",
       "    <tr>\n",
       "      <th>4</th>\n",
       "      <td>0.0</td>\n",
       "      <td>1.0</td>\n",
       "      <td>0.0</td>\n",
       "      <td>0.0</td>\n",
       "      <td>1.0</td>\n",
       "      <td>NaN</td>\n",
       "      <td>NaN</td>\n",
       "      <td>1.0</td>\n",
       "      <td>0.0</td>\n",
       "      <td>0.0</td>\n",
       "      <td>...</td>\n",
       "      <td>2005-06-06</td>\n",
       "      <td>219</td>\n",
       "      <td>1.0</td>\n",
       "      <td>2</td>\n",
       "      <td>1.0</td>\n",
       "      <td>0.0</td>\n",
       "      <td>2005-06-06</td>\n",
       "      <td>2006-01-13</td>\n",
       "      <td>0</td>\n",
       "      <td>221</td>\n",
       "    </tr>\n",
       "    <tr>\n",
       "      <th>6</th>\n",
       "      <td>0.0</td>\n",
       "      <td>1.0</td>\n",
       "      <td>0.0</td>\n",
       "      <td>0.0</td>\n",
       "      <td>1.0</td>\n",
       "      <td>0.0</td>\n",
       "      <td>0.0</td>\n",
       "      <td>0.0</td>\n",
       "      <td>0.0</td>\n",
       "      <td>0.0</td>\n",
       "      <td>...</td>\n",
       "      <td>2005-06-13</td>\n",
       "      <td>226</td>\n",
       "      <td>1.0</td>\n",
       "      <td>2</td>\n",
       "      <td>1.0</td>\n",
       "      <td>0.0</td>\n",
       "      <td>2005-06-13</td>\n",
       "      <td>2006-01-17</td>\n",
       "      <td>1</td>\n",
       "      <td>218</td>\n",
       "    </tr>\n",
       "    <tr>\n",
       "      <th>7</th>\n",
       "      <td>0.0</td>\n",
       "      <td>0.0</td>\n",
       "      <td>0.0</td>\n",
       "      <td>0.0</td>\n",
       "      <td>1.0</td>\n",
       "      <td>0.0</td>\n",
       "      <td>0.0</td>\n",
       "      <td>4.0</td>\n",
       "      <td>0.0</td>\n",
       "      <td>0.0</td>\n",
       "      <td>...</td>\n",
       "      <td>2005-06-13</td>\n",
       "      <td>233</td>\n",
       "      <td>1.0</td>\n",
       "      <td>2</td>\n",
       "      <td>1.0</td>\n",
       "      <td>0.0</td>\n",
       "      <td>2005-06-13</td>\n",
       "      <td>2006-01-15</td>\n",
       "      <td>1</td>\n",
       "      <td>216</td>\n",
       "    </tr>\n",
       "  </tbody>\n",
       "</table>\n",
       "<p>5 rows × 51 columns</p>\n",
       "</div>"
      ],
      "text/plain": [
       "   ia4.cat  if1c.cat  ii1c.cat  ii1d.cat  ia12a  ib5e  ib5c  ig6a  id3a  id4a  \\\n",
       "0      0.0       1.0       0.0       0.0    1.0   0.0   0.0   0.0   0.0   0.0   \n",
       "3      1.0       1.0       0.0       1.0    2.0   0.0   0.0   1.0   0.0   0.0   \n",
       "4      0.0       1.0       0.0       0.0    1.0   NaN   NaN   1.0   0.0   0.0   \n",
       "6      0.0       1.0       0.0       0.0    1.0   0.0   0.0   0.0   0.0   0.0   \n",
       "7      0.0       0.0       0.0       0.0    1.0   0.0   0.0   4.0   0.0   0.0   \n",
       "\n",
       "   ...        iA9  Clientid  sCPS  num_assesments  OutcomeT0  OutcomeT1  \\\n",
       "0  ... 2005-06-06        82   2.0               2        2.0        2.0   \n",
       "3  ... 2005-07-01       195   2.0               2        2.0        2.0   \n",
       "4  ... 2005-06-06       219   1.0               2        1.0        0.0   \n",
       "6  ... 2005-06-13       226   1.0               2        1.0        0.0   \n",
       "7  ... 2005-06-13       233   1.0               2        1.0        0.0   \n",
       "\n",
       "   OutcomeT0Date  OutcomeT1Date  treatment  date_diff  \n",
       "0     2005-06-06     2006-01-13          1        221  \n",
       "3     2005-07-01     2006-02-14          1        228  \n",
       "4     2005-06-06     2006-01-13          0        221  \n",
       "6     2005-06-13     2006-01-17          1        218  \n",
       "7     2005-06-13     2006-01-15          1        216  \n",
       "\n",
       "[5 rows x 51 columns]"
      ]
     },
     "execution_count": 78,
     "metadata": {},
     "output_type": "execute_result"
    }
   ],
   "source": [
    "df.head()"
   ]
  },
  {
   "cell_type": "code",
   "execution_count": 79,
   "id": "9917d499",
   "metadata": {},
   "outputs": [],
   "source": [
    "grps = df[['treatment', 'Clientid']].drop_duplicates()"
   ]
  },
  {
   "cell_type": "code",
   "execution_count": 80,
   "id": "6beffa83",
   "metadata": {},
   "outputs": [
    {
     "name": "stdout",
     "output_type": "stream",
     "text": [
      "Number of patients after processing (total): 5766\n"
     ]
    }
   ],
   "source": [
    "print(f'Number of patients after processing (total): {len(grps)}')"
   ]
  },
  {
   "cell_type": "code",
   "execution_count": 81,
   "id": "99645f40",
   "metadata": {},
   "outputs": [],
   "source": [
    "tr = len(grps[grps['treatment']==1])\n",
    "ct = len(grps[grps['treatment']==0])"
   ]
  },
  {
   "cell_type": "code",
   "execution_count": 82,
   "id": "1e299ce4",
   "metadata": {},
   "outputs": [
    {
     "name": "stdout",
     "output_type": "stream",
     "text": [
      "Number of patients after processing (treatment): 3641\n",
      "Number of patients after processing (treatment): 2125\n"
     ]
    }
   ],
   "source": [
    "print(f'Number of patients after processing (treatment): {ct}')\n",
    "print(f'Number of patients after processing (treatment): {tr}')"
   ]
  },
  {
   "cell_type": "code",
   "execution_count": 83,
   "id": "69385e75",
   "metadata": {},
   "outputs": [],
   "source": [
    "df = df.drop(columns = ['OutcomeT1Date', 'OutcomeT0Date', 'date_diff', 'iA9', OUTCOME, 'Clientid'])"
   ]
  },
  {
   "cell_type": "markdown",
   "id": "479d5175",
   "metadata": {},
   "source": [
    "### 2.h Impute Missing Values\n",
    "\n",
    "In this part, we impute missing values. We use a standard KNN-imputer. If desired, it is possible to change the number of neighbours. Keep in mind that we can set this to ``False`` if we do not want to run it,"
   ]
  },
  {
   "cell_type": "code",
   "execution_count": 84,
   "id": "05fea014",
   "metadata": {},
   "outputs": [
    {
     "name": "stdout",
     "output_type": "stream",
     "text": [
      "2517\n"
     ]
    }
   ],
   "source": [
    "#imputing = IMPUTE\n",
    "if IMPUTE:\n",
    "    df = impute_missing_values_knn(df, n_neighbors=5)\n",
    "else:\n",
    "    df = df.dropna()\n",
    "    print(len(df[df['treatment']==1]))"
   ]
  },
  {
   "cell_type": "markdown",
   "id": "f1a768ca",
   "metadata": {},
   "source": [
    "### 2.i Handle Multicollinearity\n",
    "\n",
    "Here we will handle multi-collinear columns. Keep in mind that we can set this to ``False`` if we do not want to run it,"
   ]
  },
  {
   "cell_type": "code",
   "execution_count": 85,
   "id": "ba7767c0",
   "metadata": {},
   "outputs": [],
   "source": [
    "if REMOVE_MULTI_COL:\n",
    "    print('2sr')\n",
    "    df = multicol(df, CORRELATION_THRESHOLD)"
   ]
  },
  {
   "cell_type": "markdown",
   "id": "0c01027c",
   "metadata": {},
   "source": [
    "### 2.j Handle Empty Columns\n",
    "\n",
    "In the process, it may be that we end up with columns that contain only $0$ values. We want to drop these columns, as they are not informative."
   ]
  },
  {
   "cell_type": "code",
   "execution_count": 86,
   "id": "b6579421",
   "metadata": {},
   "outputs": [],
   "source": [
    "# drop num_assesment column, not relevant anymore\n",
    "df = df.drop(columns = ['num_assesments'])\n",
    "# get a list of coviariate columns\n",
    "X = df.drop(columns = ['OutcomeT1', 'OutcomeT0', 'treatment']).columns\n",
    "\n",
    "# drop columns that only have 0 values\n",
    "for col in X:\n",
    "    if len(df[df[col]==0]) == len(df):\n",
    "        print(f\"{col} - {encoding[col.lower()]} dropped.\" )\n",
    "        df = df.drop(columns = [col])"
   ]
  },
  {
   "cell_type": "markdown",
   "id": "391772f0",
   "metadata": {},
   "source": [
    "### 2.k Store CSV\n",
    "\n",
    "In the last part of this notebook, we will store that data."
   ]
  },
  {
   "cell_type": "code",
   "execution_count": 87,
   "id": "97f99ff4",
   "metadata": {},
   "outputs": [],
   "source": [
    "X = df.drop(columns = ['OutcomeT1', 'OutcomeT0', 'treatment']).columns"
   ]
  },
  {
   "cell_type": "code",
   "execution_count": 88,
   "id": "98b6e9b6",
   "metadata": {},
   "outputs": [],
   "source": [
    "# treatment = TREATMENT#'in3eb' # (minutes or days of physical therapy)\n",
    "# target = #'sADLSF' \n",
    "\n",
    "#df = df.drop(columns = 'num_assesments')\n",
    "df.to_csv(f\"data/03-10-2023-Dutch_LTCF_cleaned_data_with_selected_covar_{TREATMENT}-{OUTCOME}.csv\", index = False)"
   ]
  },
  {
   "cell_type": "code",
   "execution_count": 89,
   "id": "3f5390d1",
   "metadata": {},
   "outputs": [],
   "source": [
    "# ADD SKIP FOR TREATMENT AND OUTCOME T1\n",
    "covars = [str(i) for i in df.columns]\n",
    "covar_names = []\n",
    "\n",
    "#print(encoding[(code).lower()])\n",
    "\n",
    "for covar in covars:\n",
    "    if (covar != 'treatment') and (covar != 'OutcomeT1'):\n",
    "\n",
    "        try:\n",
    "            covar_names.append(encoding[(covar).lower()])\n",
    "        except:\n",
    "            covar_names.append(covar)\n",
    "            \n",
    "            "
   ]
  },
  {
   "cell_type": "code",
   "execution_count": 90,
   "id": "eb23d48a",
   "metadata": {},
   "outputs": [
    {
     "data": {
      "text/plain": [
       "['catagories of Marital Status, 1 = 2 or 3= (Married), else= 0',\n",
       " 'if1c.cat',\n",
       " 'catagories of Alzheimers disease, 0= not present, else= 1',\n",
       " 'catagories of Dementia other than Alzheimers disease, 0= not present, else= 1',\n",
       " 'Living arrangement',\n",
       " '5 Year History-Mental health residence psychiatric group home',\n",
       " 'ib5c',\n",
       " 'Total hours of exercise or physical activity in last 3 days',\n",
       " 'Hearing: ability to hear (with hearing appliance normally used)',\n",
       " 'Ability to see in adequate light (with glasses or with other visual appliance normally used)',\n",
       " 'ij8a.cat',\n",
       " 'ij8b.cat',\n",
       " 'ii1m.cat',\n",
       " 'ii1s.cat',\n",
       " 'ii1l.cat',\n",
       " 'ii1j.cat',\n",
       " 'ADL: Personal hygiene',\n",
       " 'ADL: Locomotion',\n",
       " 'ADL: Toilet use',\n",
       " 'ADL: Eating',\n",
       " 'Made negative statements',\n",
       " 'Persistent anger with self or others',\n",
       " 'Expressions, including nonverbal, of what appear to be unrealistic fears',\n",
       " 'Repetitive health complaints',\n",
       " 'Repetitive anxious complaints or concerns (non-health related)',\n",
       " 'Sad, pained, or worried facial expressions',\n",
       " 'Crying, tearfulness',\n",
       " 'iG8a2',\n",
       " 'catagories of Depression, 0= not present, else= 1',\n",
       " 'catagories of Coronary heart disease,0= not present, else= 1',\n",
       " 'ii1t.cat',\n",
       " 'Loneliness: indicates feelings of loneliness',\n",
       " 'Gender',\n",
       " 'Age structure',\n",
       " 'Occupational therapy in minutes in last week',\n",
       " 'ie1k.cat',\n",
       " 'if5a.cat',\n",
       " 'if5b.cat',\n",
       " 'if5c.cat',\n",
       " 'if5d.cat',\n",
       " 'if5e.cat',\n",
       " 'OutcomeT0']"
      ]
     },
     "execution_count": 90,
     "metadata": {},
     "output_type": "execute_result"
    }
   ],
   "source": [
    "covar_names"
   ]
  },
  {
   "cell_type": "code",
   "execution_count": 91,
   "id": "659b26b9",
   "metadata": {},
   "outputs": [],
   "source": [
    "# ADD SKIP FOR TREATMENT AND OUTCOME T1\n",
    "covars = [str(i) for i in df.columns]\n",
    "covar_names = []\n",
    "\n",
    "#print(encoding[(code).lower()])\n",
    "\n",
    "for covar in covars:\n",
    "    if (covar != 'treatment') and (covar != 'OutcomeT1'):\n",
    "\n",
    "        try:\n",
    "            covar_names.append(covar)\n",
    "        except:\n",
    "            covar_names.append(covar)"
   ]
  },
  {
   "cell_type": "code",
   "execution_count": 92,
   "id": "3ee604d2",
   "metadata": {},
   "outputs": [
    {
     "data": {
      "text/plain": [
       "['ia4.cat',\n",
       " 'if1c.cat',\n",
       " 'ii1c.cat',\n",
       " 'ii1d.cat',\n",
       " 'ia12a',\n",
       " 'ib5e',\n",
       " 'ib5c',\n",
       " 'ig6a',\n",
       " 'id3a',\n",
       " 'id4a',\n",
       " 'ij8a.cat',\n",
       " 'ij8b.cat',\n",
       " 'ii1m.cat',\n",
       " 'ii1s.cat',\n",
       " 'ii1l.cat',\n",
       " 'ii1j.cat',\n",
       " 'ig2b',\n",
       " 'ig2f',\n",
       " 'ig2h',\n",
       " 'ig2j',\n",
       " 'ie1a',\n",
       " 'ie1b',\n",
       " 'ie1c',\n",
       " 'ie1d',\n",
       " 'ie1e',\n",
       " 'ie1f',\n",
       " 'ie1g',\n",
       " 'iG8a2',\n",
       " 'ii1o.cat',\n",
       " 'ii1k.cat',\n",
       " 'ii1t.cat',\n",
       " 'if1d',\n",
       " 'iA2',\n",
       " 'sAGE_cat',\n",
       " 'in3fc',\n",
       " 'ie1k.cat',\n",
       " 'if5a.cat',\n",
       " 'if5b.cat',\n",
       " 'if5c.cat',\n",
       " 'if5d.cat',\n",
       " 'if5e.cat',\n",
       " 'OutcomeT0']"
      ]
     },
     "execution_count": 92,
     "metadata": {},
     "output_type": "execute_result"
    }
   ],
   "source": [
    "covar_names"
   ]
  },
  {
   "cell_type": "code",
   "execution_count": 93,
   "id": "7ef0a986",
   "metadata": {},
   "outputs": [
    {
     "name": "stdout",
     "output_type": "stream",
     "text": [
      "Treatment group size before processing (observations): 2517\n"
     ]
    }
   ],
   "source": [
    "print(f\"Treatment group size before processing (observations): {len(df[df['treatment']==1])}\")"
   ]
  },
  {
   "cell_type": "code",
   "execution_count": 94,
   "id": "4c134d45",
   "metadata": {},
   "outputs": [
    {
     "name": "stdout",
     "output_type": "stream",
     "text": [
      "Control group size before processing (observations): 3586\n"
     ]
    }
   ],
   "source": [
    "print(f\"Control group size before processing (observations): {len(df[df['treatment']==0])}\")"
   ]
  },
  {
   "cell_type": "markdown",
   "id": "a9e28108",
   "metadata": {},
   "source": [
    "### Note to Teams: Please Start Here\n",
    "\n",
    "**MAKE SURE THAT THE DATA IS IN THE EXACT FORMAT AS BELOW.**\n",
    "\n",
    "Checklist:\n",
    "\n",
    "1. The covariates must come first.\n",
    "2. Then, there must be the outcome at baseline called ``OutcomeT0``.\n",
    "3. There must be an outcome at followup called ``OutcomeT1``.\n",
    "4. You may have a propensity score columns (``ps``), but this is not required. Same for clusters.\n",
    "5. There must be a treatment column *at the end* called ``treatment``. \n",
    "\n",
    "Good luck!"
   ]
  },
  {
   "cell_type": "markdown",
   "id": "2d09e493",
   "metadata": {},
   "source": [
    "## Part 3. Machine Learning\n",
    "\n",
    "Having processed the data, we can now move on the the machine learning (ML) part. Recall that we model using the meta-learning paradigm. Below is a schematic depiction of the process."
   ]
  },
  {
   "cell_type": "markdown",
   "id": "f21542a9",
   "metadata": {},
   "source": [
    "![alt text](images\\ModelGoal.jpg)"
   ]
  },
  {
   "cell_type": "markdown",
   "id": "fa5e0980",
   "metadata": {},
   "source": [
    "As can be seen, for a given patient, we can - *after training* - provide the details of that patient. These details are the outcome at baseline (``OutcomeT0``), the covariates and whether or not we include treatment. This allows us to compute the **individual treatment effect** (ITE), the predicted effect unter treatment minus the predicted effect under control.\n",
    "\n",
    "However, before we are able to estimate the ITE for a patient, we need to train the model. In meta-learning we always train two models. The first model is trained on the control group and the second model is trained on the treated group. Let us now first state what the ``outcome`` and ``intervention`` variables are.  "
   ]
  },
  {
   "cell_type": "markdown",
   "id": "a271a03a",
   "metadata": {},
   "source": [
    "![alt text](images\\GeneralPlotTrajectoryInterpretation.jpg)"
   ]
  },
  {
   "cell_type": "markdown",
   "id": "0b4a4fab",
   "metadata": {},
   "source": [
    "Next, we want to select the models. Here we will use ``RandomForestRegressor()``."
   ]
  },
  {
   "cell_type": "code",
   "execution_count": 95,
   "id": "3c0f03e0",
   "metadata": {},
   "outputs": [],
   "source": [
    "model0 = RandomForestRegressor()\n",
    "model1 = RandomForestRegressor()"
   ]
  },
  {
   "cell_type": "code",
   "execution_count": 96,
   "id": "e42b2079",
   "metadata": {},
   "outputs": [],
   "source": [
    "model = model0"
   ]
  },
  {
   "cell_type": "code",
   "execution_count": 97,
   "id": "67e795bd",
   "metadata": {},
   "outputs": [
    {
     "name": "stdout",
     "output_type": "stream",
     "text": [
      "Hyperparameters of models have been saved to 'model_hyperparameters.xlsx'.\n"
     ]
    }
   ],
   "source": [
    "# File path for the Excel file\n",
    "excel_file = f'data/hyperparameters/model_hyperparameters_RandomForest.xlsx'\n",
    "\n",
    "# Create a Pandas Excel writer using XlsxWriter as the engine\n",
    "with pd.ExcelWriter(excel_file, engine='xlsxwriter') as writer:\n",
    "    # Get hyperparameters\n",
    "    hyperparameters = model.get_params()\n",
    "\n",
    "    # Convert to DataFrame\n",
    "    df = pd.DataFrame([hyperparameters])\n",
    "\n",
    "    # Write each model's hyperparameters to a different sheet\n",
    "    df.to_excel(writer, sheet_name=\"RandomForest\")\n",
    "\n",
    "print(\"Hyperparameters of models have been saved to 'model_hyperparameters.xlsx'.\")"
   ]
  },
  {
   "cell_type": "markdown",
   "id": "f5363a98",
   "metadata": {},
   "source": [
    "Then, we want to retrieve the data. We can use the data from above, but here we will read the file. "
   ]
  },
  {
   "cell_type": "code",
   "execution_count": 98,
   "id": "45337bf7",
   "metadata": {},
   "outputs": [],
   "source": [
    "# call your data file here\n",
    "FILE = f\"data/03-10-2023-Dutch_LTCF_cleaned_data_with_selected_covar_{TREATMENT}-{OUTCOME}.csv\""
   ]
  },
  {
   "cell_type": "code",
   "execution_count": 99,
   "id": "42630b6a",
   "metadata": {},
   "outputs": [],
   "source": [
    "#read the file\n",
    "all_data = pd.read_csv(FILE)\n",
    "all_data_control = all_data[all_data['treatment']==0]\n",
    "all_data_treatment = all_data[all_data['treatment']==1]"
   ]
  },
  {
   "cell_type": "code",
   "execution_count": 100,
   "id": "399a0dd8",
   "metadata": {},
   "outputs": [
    {
     "data": {
      "text/plain": [
       "6103"
      ]
     },
     "execution_count": 100,
     "metadata": {},
     "output_type": "execute_result"
    }
   ],
   "source": [
    "len(all_data)"
   ]
  },
  {
   "cell_type": "code",
   "execution_count": 101,
   "id": "dfb2b0b1",
   "metadata": {},
   "outputs": [
    {
     "data": {
      "text/plain": [
       "3586"
      ]
     },
     "execution_count": 101,
     "metadata": {},
     "output_type": "execute_result"
    }
   ],
   "source": [
    "len(all_data_control)"
   ]
  },
  {
   "cell_type": "code",
   "execution_count": 102,
   "id": "1abcfd67",
   "metadata": {},
   "outputs": [
    {
     "data": {
      "text/plain": [
       "2517"
      ]
     },
     "execution_count": 102,
     "metadata": {},
     "output_type": "execute_result"
    }
   ],
   "source": [
    "len(all_data_treatment) "
   ]
  },
  {
   "cell_type": "code",
   "execution_count": 103,
   "id": "9c1ffdc7",
   "metadata": {},
   "outputs": [
    {
     "data": {
      "text/plain": [
       "0.5875798787481566"
      ]
     },
     "execution_count": 103,
     "metadata": {},
     "output_type": "execute_result"
    }
   ],
   "source": [
    "percent_control = len(all_data_control)/len(all_data)\n",
    "percent_control"
   ]
  },
  {
   "cell_type": "code",
   "execution_count": 104,
   "id": "fecb9f6c",
   "metadata": {},
   "outputs": [
    {
     "data": {
      "text/plain": [
       "0.41242012125184335"
      ]
     },
     "execution_count": 104,
     "metadata": {},
     "output_type": "execute_result"
    }
   ],
   "source": [
    "percent_treatment = len(all_data_treatment)/len(all_data)\n",
    "percent_treatment"
   ]
  },
  {
   "cell_type": "code",
   "execution_count": 105,
   "id": "bd5a983f",
   "metadata": {},
   "outputs": [
    {
     "data": {
      "text/plain": [
       "2517"
      ]
     },
     "execution_count": 105,
     "metadata": {},
     "output_type": "execute_result"
    }
   ],
   "source": [
    "len(all_data_treatment) "
   ]
  },
  {
   "cell_type": "code",
   "execution_count": 106,
   "id": "f0ee8add",
   "metadata": {},
   "outputs": [
    {
     "data": {
      "text/plain": [
       "3586"
      ]
     },
     "execution_count": 106,
     "metadata": {},
     "output_type": "execute_result"
    }
   ],
   "source": [
    "len(all_data_control)"
   ]
  },
  {
   "cell_type": "code",
   "execution_count": 107,
   "id": "42dc0443",
   "metadata": {},
   "outputs": [
    {
     "data": {
      "text/plain": [
       "6103"
      ]
     },
     "execution_count": 107,
     "metadata": {},
     "output_type": "execute_result"
    }
   ],
   "source": [
    "len(all_data)"
   ]
  },
  {
   "cell_type": "code",
   "execution_count": 108,
   "id": "3135a04d",
   "metadata": {},
   "outputs": [
    {
     "name": "stdout",
     "output_type": "stream",
     "text": [
      "1.4255284286416516\n",
      "87\n"
     ]
    }
   ],
   "source": [
    "age_groups = {\"60-64\": (60,64)}\n",
    "total_count = len(all_data)\n",
    "\n",
    "age_filtered = all_data[(all_data['sAGE_cat'] >= 60) & (all_data['sAGE_cat'] <= 64)]\n",
    "\n",
    "count_filtered = len(age_filtered) \n",
    "\n",
    "percentage = (count_filtered/total_count)*100\n",
    "\n",
    "print(percentage)\n",
    "\n",
    "print(count_filtered)"
   ]
  },
  {
   "cell_type": "code",
   "execution_count": 109,
   "id": "8cc0af1b",
   "metadata": {},
   "outputs": [
    {
     "name": "stdout",
     "output_type": "stream",
     "text": [
      "6.963788300835655\n",
      "425\n"
     ]
    }
   ],
   "source": [
    "age_groups = {\"65-74\": (65,74)}\n",
    "total_count = len(all_data)\n",
    "\n",
    "age_filtered = all_data[(all_data['sAGE_cat'] >= 65) & (all_data['sAGE_cat'] <= 74)]\n",
    "\n",
    "count_filtered = len(age_filtered) \n",
    "\n",
    "percentage = (count_filtered/total_count)*100\n",
    "\n",
    "print(percentage)\n",
    "print(count_filtered)"
   ]
  },
  {
   "cell_type": "code",
   "execution_count": 110,
   "id": "12cb157f",
   "metadata": {},
   "outputs": [
    {
     "name": "stdout",
     "output_type": "stream",
     "text": [
      "35.04833688349992\n",
      "2139\n"
     ]
    }
   ],
   "source": [
    "age_groups = {\"75-84\": (75,84)}\n",
    "total_count = len(all_data)\n",
    "\n",
    "age_filtered = all_data[(all_data['sAGE_cat'] >= 75) & (all_data['sAGE_cat'] <= 84)]\n",
    "\n",
    "count_filtered = len(age_filtered) \n",
    "\n",
    "percentage = (count_filtered/total_count)*100\n",
    "\n",
    "print(percentage)\n",
    "print(count_filtered)"
   ]
  },
  {
   "cell_type": "code",
   "execution_count": 111,
   "id": "303b61f4",
   "metadata": {},
   "outputs": [
    {
     "name": "stdout",
     "output_type": "stream",
     "text": [
      "49.76241192855972\n",
      "3037\n"
     ]
    }
   ],
   "source": [
    "age_groups = {\"85-94\": (85,94)}\n",
    "total_count = len(all_data)\n",
    "\n",
    "age_filtered = all_data[(all_data['sAGE_cat'] >= 85) & (all_data['sAGE_cat'] <= 94)]\n",
    "\n",
    "count_filtered = len(age_filtered) \n",
    "\n",
    "percentage = (count_filtered/total_count)*100\n",
    "\n",
    "print(percentage)\n",
    "print(count_filtered)"
   ]
  },
  {
   "cell_type": "code",
   "execution_count": 112,
   "id": "2bbbcc83",
   "metadata": {},
   "outputs": [
    {
     "name": "stdout",
     "output_type": "stream",
     "text": [
      "4.94838603965263\n",
      "302\n"
     ]
    }
   ],
   "source": [
    "total_count = len(all_data)\n",
    "\n",
    "age_filtered = all_data[(all_data['sAGE_cat'] >= 95)]\n",
    "\n",
    "count_filtered = len(age_filtered) \n",
    "\n",
    "percentage = (count_filtered/total_count)*100\n",
    "\n",
    "print(percentage)\n",
    "print(count_filtered)"
   ]
  },
  {
   "cell_type": "code",
   "execution_count": 113,
   "id": "27e7592b",
   "metadata": {},
   "outputs": [
    {
     "name": "stdout",
     "output_type": "stream",
     "text": [
      "25.57758479436343\n",
      "1561\n"
     ]
    }
   ],
   "source": [
    "#Calculate gender in total population\n",
    "total_count = len(all_data)\n",
    "\n",
    "Gender_filtered = all_data[(all_data['iA2'] == 1)]\n",
    "\n",
    "count_filtered = len(Gender_filtered ) \n",
    "\n",
    "percentage = (count_filtered/total_count)*100\n",
    "\n",
    "print(percentage)\n",
    "print(count_filtered)"
   ]
  },
  {
   "cell_type": "code",
   "execution_count": 114,
   "id": "459c2ca1",
   "metadata": {},
   "outputs": [
    {
     "name": "stdout",
     "output_type": "stream",
     "text": [
      "74.42241520563657\n",
      "4542\n"
     ]
    }
   ],
   "source": [
    "#Calculate gender in total population\n",
    "total_count = len(all_data)\n",
    "\n",
    "Gender_filtered = all_data[(all_data['iA2'] == 2)]\n",
    "\n",
    "count_filtered = len(Gender_filtered ) \n",
    "\n",
    "percentage = (count_filtered/total_count)*100\n",
    "\n",
    "print(percentage)\n",
    "print(count_filtered)"
   ]
  },
  {
   "cell_type": "code",
   "execution_count": 115,
   "id": "5b755d8a",
   "metadata": {},
   "outputs": [
    {
     "name": "stdout",
     "output_type": "stream",
     "text": [
      "22.95592331640177\n",
      "1401\n"
     ]
    }
   ],
   "source": [
    "#Calculat CPS(0-5) in total population,  excluding CPS = 6\n",
    "\n",
    "total_count = len(all_data)\n",
    "\n",
    "CPS_filtered = all_data[(all_data['OutcomeT1'] == 0)]\n",
    "\n",
    "count_filtered = len(CPS_filtered) \n",
    "\n",
    "percentage = (count_filtered/total_count)*100\n",
    "\n",
    "print(percentage)\n",
    "print(count_filtered)"
   ]
  },
  {
   "cell_type": "code",
   "execution_count": 116,
   "id": "8347f4f7",
   "metadata": {},
   "outputs": [
    {
     "name": "stdout",
     "output_type": "stream",
     "text": [
      "15.467802719973783\n",
      "944\n"
     ]
    }
   ],
   "source": [
    "\n",
    "total_count = len(all_data)\n",
    "\n",
    "CPS_filtered = all_data[(all_data['OutcomeT0'] == 1)]\n",
    "\n",
    "count_filtered = len(CPS_filtered) \n",
    "\n",
    "percentage = (count_filtered/total_count)*100\n",
    "\n",
    "print(percentage)\n",
    "print(count_filtered)"
   ]
  },
  {
   "cell_type": "code",
   "execution_count": 117,
   "id": "91897a6c",
   "metadata": {},
   "outputs": [
    {
     "name": "stdout",
     "output_type": "stream",
     "text": [
      "14.582991971161723\n",
      "890\n"
     ]
    }
   ],
   "source": [
    "total_count = len(all_data)\n",
    "\n",
    "CPS_filtered = all_data[(all_data['OutcomeT1'] == 1)]\n",
    "\n",
    "count_filtered = len(CPS_filtered) \n",
    "\n",
    "percentage = (count_filtered/total_count)*100\n",
    "\n",
    "print(percentage)\n",
    "print(count_filtered)"
   ]
  },
  {
   "cell_type": "code",
   "execution_count": 118,
   "id": "d8b4bd74",
   "metadata": {},
   "outputs": [
    {
     "name": "stdout",
     "output_type": "stream",
     "text": [
      "28.150090119613303\n",
      "1718\n"
     ]
    }
   ],
   "source": [
    "total_count = len(all_data)\n",
    "\n",
    "CPS_filtered = all_data[(all_data['OutcomeT0'] == 2)]\n",
    "\n",
    "count_filtered = len(CPS_filtered) \n",
    "\n",
    "percentage = (count_filtered/total_count)*100\n",
    "\n",
    "print(percentage)\n",
    "print(count_filtered)"
   ]
  },
  {
   "cell_type": "code",
   "execution_count": 119,
   "id": "f62b4e2e",
   "metadata": {},
   "outputs": [
    {
     "name": "stdout",
     "output_type": "stream",
     "text": [
      "27.773226282156315\n",
      "1695\n"
     ]
    }
   ],
   "source": [
    "total_count = len(all_data)\n",
    "\n",
    "CPS_filtered = all_data[(all_data['OutcomeT1'] == 2)]\n",
    "\n",
    "count_filtered = len(CPS_filtered) \n",
    "\n",
    "percentage = (count_filtered/total_count)*100\n",
    "\n",
    "print(percentage)\n",
    "print(count_filtered)"
   ]
  },
  {
   "cell_type": "code",
   "execution_count": 120,
   "id": "05db2241",
   "metadata": {},
   "outputs": [
    {
     "name": "stdout",
     "output_type": "stream",
     "text": [
      "15.28756349336392\n",
      "933\n"
     ]
    }
   ],
   "source": [
    "total_count = len(all_data)\n",
    "\n",
    "CPS_filtered = all_data[(all_data['OutcomeT0'] == 3)]\n",
    "\n",
    "count_filtered = len(CPS_filtered) \n",
    "\n",
    "percentage = (count_filtered/total_count)*100\n",
    "\n",
    "print(percentage)\n",
    "print(count_filtered)"
   ]
  },
  {
   "cell_type": "code",
   "execution_count": 121,
   "id": "27caa03f",
   "metadata": {},
   "outputs": [
    {
     "name": "stdout",
     "output_type": "stream",
     "text": [
      "15.615271178109127\n",
      "953\n"
     ]
    }
   ],
   "source": [
    "total_count = len(all_data)\n",
    "\n",
    "CPS_filtered = all_data[(all_data['OutcomeT1'] == 3)]\n",
    "\n",
    "count_filtered = len(CPS_filtered) \n",
    "\n",
    "percentage = (count_filtered/total_count)*100\n",
    "\n",
    "print(percentage)\n",
    "print(count_filtered)"
   ]
  },
  {
   "cell_type": "code",
   "execution_count": 122,
   "id": "9ce264f7",
   "metadata": {},
   "outputs": [
    {
     "name": "stdout",
     "output_type": "stream",
     "text": [
      "3.408159921350155\n",
      "208\n"
     ]
    }
   ],
   "source": [
    "total_count = len(all_data)\n",
    "\n",
    "CPS_filtered = all_data[(all_data['OutcomeT0'] == 4)]\n",
    "\n",
    "count_filtered = len(CPS_filtered) \n",
    "\n",
    "percentage = (count_filtered/total_count)*100\n",
    "\n",
    "print(percentage)\n",
    "print(count_filtered)"
   ]
  },
  {
   "cell_type": "code",
   "execution_count": 123,
   "id": "524f6d9e",
   "metadata": {},
   "outputs": [
    {
     "name": "stdout",
     "output_type": "stream",
     "text": [
      "3.9652629854170085\n"
     ]
    }
   ],
   "source": [
    "total_count = len(all_data)\n",
    "\n",
    "CPS_filtered = all_data[(all_data['OutcomeT1'] == 4)]\n",
    "\n",
    "count_filtered = len(CPS_filtered) \n",
    "\n",
    "percentage = (count_filtered/total_count)*100\n",
    "\n",
    "print(percentage)"
   ]
  },
  {
   "cell_type": "code",
   "execution_count": 124,
   "id": "8077da1c",
   "metadata": {},
   "outputs": [
    {
     "name": "stdout",
     "output_type": "stream",
     "text": [
      "10.093396690152383\n"
     ]
    }
   ],
   "source": [
    "total_count = len(all_data)\n",
    "\n",
    "CPS_filtered = all_data[(all_data['OutcomeT0'] == 5)]\n",
    "\n",
    "count_filtered = len(CPS_filtered) \n",
    "\n",
    "percentage = (count_filtered/total_count)*100\n",
    "\n",
    "print(percentage)"
   ]
  },
  {
   "cell_type": "code",
   "execution_count": 125,
   "id": "866d30d9",
   "metadata": {},
   "outputs": [
    {
     "name": "stdout",
     "output_type": "stream",
     "text": [
      "11.977715877437326\n"
     ]
    }
   ],
   "source": [
    "total_count = len(all_data)\n",
    "\n",
    "CPS_filtered = all_data[(all_data['OutcomeT1'] == 5)]\n",
    "\n",
    "count_filtered = len(CPS_filtered) \n",
    "\n",
    "percentage = (count_filtered/total_count)*100\n",
    "\n",
    "print(percentage)"
   ]
  },
  {
   "cell_type": "markdown",
   "id": "f3ac62fe",
   "metadata": {},
   "source": [
    "Afterwards, we can run the model. The only thing to do is to run the ``run_model``-function below. "
   ]
  },
  {
   "cell_type": "code",
   "execution_count": 126,
   "id": "c87d1784",
   "metadata": {},
   "outputs": [
    {
     "name": "stdout",
     "output_type": "stream",
     "text": [
      "DF lenght after undersampling: 6103\n",
      "{'bootstrap': True, 'ccp_alpha': 0.0, 'criterion': 'mse', 'max_depth': None, 'max_features': 'auto', 'max_leaf_nodes': None, 'max_samples': None, 'min_impurity_decrease': 0.0, 'min_impurity_split': None, 'min_samples_leaf': 1, 'min_samples_split': 2, 'min_weight_fraction_leaf': 0.0, 'n_estimators': 100, 'n_jobs': None, 'oob_score': False, 'random_state': None, 'verbose': 0, 'warm_start': False}\n",
      "ATE: -0.00, 95% CI: [-1.94, 1.98]\n"
     ]
    }
   ],
   "source": [
    "machine = \"RandomForest\"\n",
    "\n",
    "metrics, predictions_t, predictions_c, y_test_t, y_test_c, ites_test, ites_train, X_test_t, X_test_c = run_model(n_bootstraps = 30, file = FILE, model0 = model0, model1 = model1, undersampled = UNDERSAMPLE, include_propensity = PROPENSITY, intervention = TREATMENT, outcome = OUTCOME, machine = \"RandomForest\", num_iter = 1)"
   ]
  },
  {
   "cell_type": "markdown",
   "id": "59144fd5",
   "metadata": {},
   "source": [
    "We can now examine the performance of the model by calling ``metrics``."
   ]
  },
  {
   "cell_type": "code",
   "execution_count": 127,
   "id": "a23472f1",
   "metadata": {},
   "outputs": [
    {
     "data": {
      "text/html": [
       "<div>\n",
       "<style scoped>\n",
       "    .dataframe tbody tr th:only-of-type {\n",
       "        vertical-align: middle;\n",
       "    }\n",
       "\n",
       "    .dataframe tbody tr th {\n",
       "        vertical-align: top;\n",
       "    }\n",
       "\n",
       "    .dataframe thead th {\n",
       "        text-align: right;\n",
       "    }\n",
       "</style>\n",
       "<table border=\"1\" class=\"dataframe\">\n",
       "  <thead>\n",
       "    <tr style=\"text-align: right;\">\n",
       "      <th></th>\n",
       "      <th>RandomForest</th>\n",
       "    </tr>\n",
       "  </thead>\n",
       "  <tbody>\n",
       "    <tr>\n",
       "      <th>MAE_C</th>\n",
       "      <td>0.321013</td>\n",
       "    </tr>\n",
       "    <tr>\n",
       "      <th>MAE_T</th>\n",
       "      <td>0.340624</td>\n",
       "    </tr>\n",
       "    <tr>\n",
       "      <th>MSE_C</th>\n",
       "      <td>0.300828</td>\n",
       "    </tr>\n",
       "    <tr>\n",
       "      <th>MSE_T</th>\n",
       "      <td>0.344812</td>\n",
       "    </tr>\n",
       "    <tr>\n",
       "      <th>R2_C</th>\n",
       "      <td>0.898278</td>\n",
       "    </tr>\n",
       "    <tr>\n",
       "      <th>R2_T</th>\n",
       "      <td>0.877291</td>\n",
       "    </tr>\n",
       "  </tbody>\n",
       "</table>\n",
       "</div>"
      ],
      "text/plain": [
       "       RandomForest\n",
       "MAE_C      0.321013\n",
       "MAE_T      0.340624\n",
       "MSE_C      0.300828\n",
       "MSE_T      0.344812\n",
       "R2_C       0.898278\n",
       "R2_T       0.877291"
      ]
     },
     "execution_count": 127,
     "metadata": {},
     "output_type": "execute_result"
    }
   ],
   "source": [
    "metrics"
   ]
  },
  {
   "cell_type": "code",
   "execution_count": 128,
   "id": "7e0c1f1c",
   "metadata": {},
   "outputs": [
    {
     "name": "stdout",
     "output_type": "stream",
     "text": [
      "(-0.012826652162723589, 0.025699979780732057)\n"
     ]
    }
   ],
   "source": [
    "confidence_interval(data=ites_test)"
   ]
  },
  {
   "cell_type": "code",
   "execution_count": 129,
   "id": "f98727e8",
   "metadata": {},
   "outputs": [
    {
     "name": "stdout",
     "output_type": "stream",
     "text": [
      "T-statistic: 0.6555541736954335\n",
      "P-value: 0.5122345143467734\n",
      "Result is not significant\n"
     ]
    }
   ],
   "source": [
    "significance(data=ites_test)"
   ]
  },
  {
   "cell_type": "markdown",
   "id": "9644e60d",
   "metadata": {},
   "source": [
    "We can also visualise the model's *factual* predicted performance by calling the ``visualise`` function."
   ]
  },
  {
   "cell_type": "code",
   "execution_count": 130,
   "id": "01632bf8",
   "metadata": {},
   "outputs": [
    {
     "data": {
      "text/plain": [
       "504"
      ]
     },
     "execution_count": 130,
     "metadata": {},
     "output_type": "execute_result"
    }
   ],
   "source": [
    "len(y_test_t)"
   ]
  },
  {
   "cell_type": "code",
   "execution_count": 131,
   "id": "61c67a82",
   "metadata": {},
   "outputs": [
    {
     "name": "stdout",
     "output_type": "stream",
     "text": [
      "            0    1        2\n",
      "0       1.045  1.0  treated\n",
      "1        0.06  0.0  treated\n",
      "2        0.09  1.0  treated\n",
      "3        4.76  5.0  treated\n",
      "4       1.075  1.0  treated\n",
      "..        ...  ...      ...\n",
      "499       5.0  5.0  treated\n",
      "500      0.12  0.0  treated\n",
      "501      0.05  0.0  treated\n",
      "502      2.68  2.0  treated\n",
      "503  1.253333  1.0  treated\n",
      "\n",
      "[504 rows x 3 columns]\n",
      "<class 'pandas.core.frame.DataFrame'>\n",
      "CHECK!\n",
      "         0    1        2\n",
      "0    1.045  1.0  treated\n",
      "1     0.06  0.0  treated\n",
      "2     0.09  1.0  treated\n",
      "3     4.76  5.0  treated\n",
      "4    1.075  1.0  treated\n",
      "..     ...  ...      ...\n",
      "713   2.14  3.0  control\n",
      "714   2.04  2.0  control\n",
      "715   2.19  2.0  control\n",
      "716   0.15  0.0  control\n",
      "717    2.5  6.0  control\n",
      "\n",
      "[1222 rows x 3 columns]\n"
     ]
    },
    {
     "data": {
      "image/png": "[encoded data removed]",
      "text/plain": [
       "<Figure size 864x432 with 1 Axes>"
      ]
     },
     "metadata": {},
     "output_type": "display_data"
    }
   ],
   "source": [
    "machine = \"RandomForest\"\n",
    "visualise(predictions_t, predictions_c, y_test_t, y_test_c, machine=machine, target=OUTCOME, intervention=TREATMENT)"
   ]
  },
  {
   "cell_type": "markdown",
   "id": "2f8c4e25",
   "metadata": {},
   "source": [
    "Also, if we want to visualize the ITES, we can run the following function (``visualise_ites``):"
   ]
  },
  {
   "cell_type": "code",
   "execution_count": 132,
   "id": "54274955",
   "metadata": {},
   "outputs": [
    {
     "name": "stdout",
     "output_type": "stream",
     "text": [
      "ATE 0.006436663809004228\n"
     ]
    },
    {
     "data": {
      "image/png": "[encoded data removed]",
      "text/plain": [
       "<Figure size 864x432 with 1 Axes>"
      ]
     },
     "metadata": {},
     "output_type": "display_data"
    }
   ],
   "source": [
    "visualise_ites(ites_test, machine = machine, intervention = TREATMENT, target = OUTCOME)"
   ]
  },
  {
   "cell_type": "code",
   "execution_count": 133,
   "id": "5367029e",
   "metadata": {},
   "outputs": [
    {
     "name": "stdout",
     "output_type": "stream",
     "text": [
      "ATE 0.0036385043397950735\n"
     ]
    },
    {
     "data": {
      "image/png": "[encoded data removed]",
      "text/plain": [
       "<Figure size 864x432 with 1 Axes>"
      ]
     },
     "metadata": {},
     "output_type": "display_data"
    }
   ],
   "source": [
    "visualise_ites(ites_train, machine = machine, intervention = TREATMENT, target = OUTCOME)"
   ]
  },
  {
   "cell_type": "markdown",
   "id": "76538fdb",
   "metadata": {},
   "source": [
    "### 3.b Run More Models\n",
    "\n",
    "These models can be run also. Feel free to remove some of the models, but please run at least:\n",
    "\n",
    "- ``RandomForestRegressor()``\n",
    "- ``GradientBoostingRegressor()``\n",
    "- ``LinearRegression()``"
   ]
  },
  {
   "cell_type": "code",
   "execution_count": 134,
   "id": "18b530bf",
   "metadata": {
    "scrolled": false
   },
   "outputs": [
    {
     "name": "stdout",
     "output_type": "stream",
     "text": [
      "RandomForestRegressor()\n",
      "DF lenght after undersampling: 6103\n",
      "{'bootstrap': True, 'ccp_alpha': 0.0, 'criterion': 'mse', 'max_depth': None, 'max_features': 'auto', 'max_leaf_nodes': None, 'max_samples': None, 'min_impurity_decrease': 0.0, 'min_impurity_split': None, 'min_samples_leaf': 1, 'min_samples_split': 2, 'min_weight_fraction_leaf': 0.0, 'n_estimators': 100, 'n_jobs': None, 'oob_score': False, 'random_state': None, 'verbose': 0, 'warm_start': False}\n",
      "ATE: 0.01, 95% CI: [-1.93, 1.99]\n",
      "ATE 0.00848567346910225\n"
     ]
    },
    {
     "data": {
      "image/png": "[encoded data removed]",
      "text/plain": [
       "<Figure size 864x432 with 1 Axes>"
      ]
     },
     "metadata": {},
     "output_type": "display_data"
    },
    {
     "name": "stdout",
     "output_type": "stream",
     "text": [
      "       RandomForestRegressor()\n",
      "MAE_C                 0.360435\n",
      "MAE_T                 0.349971\n",
      "MSE_C                 0.367766\n",
      "MSE_T                 0.400873\n",
      "R2_C                  0.866921\n",
      "R2_T                  0.867915\n",
      "(-0.010191003825475716, 0.02716235076368025)\n",
      "T-statistic: 0.8913853865129321\n",
      "P-value: 0.37289807314172296\n",
      "Result is not significant\n",
      "MLPRegressor()\n",
      "DF lenght after undersampling: 6103\n",
      "{'activation': 'relu', 'alpha': 0.0001, 'batch_size': 'auto', 'beta_1': 0.9, 'beta_2': 0.999, 'early_stopping': False, 'epsilon': 1e-08, 'hidden_layer_sizes': (100,), 'learning_rate': 'constant', 'learning_rate_init': 0.001, 'max_fun': 15000, 'max_iter': 200, 'momentum': 0.9, 'n_iter_no_change': 10, 'nesterovs_momentum': True, 'power_t': 0.5, 'random_state': None, 'shuffle': True, 'solver': 'adam', 'tol': 0.0001, 'validation_fraction': 0.1, 'verbose': False, 'warm_start': False}\n",
      "ATE: -0.04, 95% CI: [-1.90, 2.02]\n",
      "ATE 0.07013851323260793\n"
     ]
    },
    {
     "data": {
      "image/png": "[encoded data removed]",
      "text/plain": [
       "<Figure size 864x432 with 1 Axes>"
      ]
     },
     "metadata": {},
     "output_type": "display_data"
    },
    {
     "name": "stdout",
     "output_type": "stream",
     "text": [
      "       MLPRegressor()\n",
      "MAE_C        0.338588\n",
      "MAE_T        0.388059\n",
      "MSE_C        0.317260\n",
      "MSE_T        0.298665\n",
      "R2_C         0.879997\n",
      "R2_T         0.900894\n",
      "(0.053308801544040274, 0.08696822492117567)\n",
      "T-statistic: 8.176335213575937\n",
      "P-value: 7.265401552852703e-16\n",
      "Result is statistically significant\n",
      "GradientBoostingRegressor()\n",
      "DF lenght after undersampling: 6103\n",
      "{'alpha': 0.9, 'ccp_alpha': 0.0, 'criterion': 'friedman_mse', 'init': None, 'learning_rate': 0.1, 'loss': 'ls', 'max_depth': 3, 'max_features': None, 'max_leaf_nodes': None, 'min_impurity_decrease': 0.0, 'min_impurity_split': None, 'min_samples_leaf': 1, 'min_samples_split': 2, 'min_weight_fraction_leaf': 0.0, 'n_estimators': 100, 'n_iter_no_change': None, 'random_state': None, 'subsample': 1.0, 'tol': 0.0001, 'validation_fraction': 0.1, 'verbose': 0, 'warm_start': False}\n",
      "ATE: -0.01, 95% CI: [-1.95, 1.97]\n",
      "ATE -0.020180994222012905\n"
     ]
    },
    {
     "data": {
      "image/png": "[encoded data removed]",
      "text/plain": [
       "<Figure size 864x432 with 1 Axes>"
      ]
     },
     "metadata": {},
     "output_type": "display_data"
    },
    {
     "name": "stdout",
     "output_type": "stream",
     "text": [
      "       GradientBoostingRegressor()\n",
      "MAE_C                     0.386341\n",
      "MAE_T                     0.314909\n",
      "MSE_C                     0.401355\n",
      "MSE_T                     0.299713\n",
      "R2_C                      0.860064\n",
      "R2_T                      0.899660\n",
      "(-0.03659035952951677, -0.0037716289145090405)\n",
      "T-statistic: -2.41284588616171\n",
      "P-value: 0.01597509944007801\n",
      "Result is statistically significant\n",
      "DecisionTreeRegressor()\n",
      "DF lenght after undersampling: 6103\n",
      "{'ccp_alpha': 0.0, 'criterion': 'mse', 'max_depth': None, 'max_features': None, 'max_leaf_nodes': None, 'min_impurity_decrease': 0.0, 'min_impurity_split': None, 'min_samples_leaf': 1, 'min_samples_split': 2, 'min_weight_fraction_leaf': 0.0, 'random_state': None, 'splitter': 'best'}\n",
      "ATE: 0.00, 95% CI: [-1.93, 1.99]\n",
      "ATE 0.04560616038807529\n"
     ]
    },
    {
     "data": {
      "image/png": "[encoded data removed]",
      "text/plain": [
       "<Figure size 864x432 with 1 Axes>"
      ]
     },
     "metadata": {},
     "output_type": "display_data"
    },
    {
     "name": "stdout",
     "output_type": "stream",
     "text": [
      "       DecisionTreeRegressor()\n",
      "MAE_C                 0.365033\n",
      "MAE_T                 0.349537\n",
      "MSE_C                 0.356868\n",
      "MSE_T                 0.539269\n",
      "R2_C                  0.874985\n",
      "R2_T                  0.826434\n",
      "(0.003106422849154661, 0.08810589792699591)\n",
      "T-statistic: 2.105310085891954\n",
      "P-value: 0.03546815393567083\n",
      "Result is statistically significant\n",
      "LinearRegression()\n",
      "DF lenght after undersampling: 6103\n",
      "{'copy_X': True, 'fit_intercept': True, 'n_jobs': None, 'normalize': False, 'positive': False}\n",
      "ATE: -0.02, 95% CI: [-1.96, 1.96]\n",
      "ATE -0.027424144310643085\n"
     ]
    },
    {
     "data": {
      "image/png": "[encoded data removed]",
      "text/plain": [
       "<Figure size 864x432 with 1 Axes>"
      ]
     },
     "metadata": {},
     "output_type": "display_data"
    },
    {
     "name": "stdout",
     "output_type": "stream",
     "text": [
      "       LinearRegression()\n",
      "MAE_C            0.358085\n",
      "MAE_T            0.296845\n",
      "MSE_C            0.399811\n",
      "MSE_T            0.264338\n",
      "R2_C             0.869472\n",
      "R2_T             0.903776\n",
      "(-0.04220357543910481, -0.012644713182181334)\n",
      "T-statistic: -3.6404425041430697\n",
      "P-value: 0.0002835539675495168\n",
      "Result is statistically significant\n",
      "Ridge()\n",
      "DF lenght after undersampling: 6103\n",
      "{'alpha': 1.0, 'copy_X': True, 'fit_intercept': True, 'max_iter': None, 'normalize': False, 'random_state': None, 'solver': 'auto', 'tol': 0.001}\n",
      "ATE: -0.05, 95% CI: [-1.99, 1.93]\n",
      "ATE -0.06782485863200358\n"
     ]
    },
    {
     "data": {
      "image/png": "[encoded data removed]",
      "text/plain": [
       "<Figure size 864x432 with 1 Axes>"
      ]
     },
     "metadata": {},
     "output_type": "display_data"
    },
    {
     "name": "stdout",
     "output_type": "stream",
     "text": [
      "        Ridge()\n",
      "MAE_C  0.357039\n",
      "MAE_T  0.333359\n",
      "MSE_C  0.405395\n",
      "MSE_T  0.324904\n",
      "R2_C   0.859067\n",
      "R2_T   0.894405\n",
      "(-0.08327290255025256, -0.05237681471375456)\n",
      "T-statistic: -8.613788630015632\n",
      "P-value: 2.1509181647797317e-17\n",
      "Result is statistically significant\n",
      "Lasso()\n",
      "DF lenght after undersampling: 6103\n",
      "{'alpha': 1.0, 'copy_X': True, 'fit_intercept': True, 'max_iter': 1000, 'normalize': False, 'positive': False, 'precompute': False, 'random_state': None, 'selection': 'cyclic', 'tol': 0.0001, 'warm_start': False}\n",
      "ATE: -0.12, 95% CI: [-2.06, 1.86]\n",
      "ATE -0.1381620679130793\n"
     ]
    },
    {
     "data": {
      "image/png": "[encoded data removed]",
      "text/plain": [
       "<Figure size 864x432 with 1 Axes>"
      ]
     },
     "metadata": {},
     "output_type": "display_data"
    },
    {
     "name": "stdout",
     "output_type": "stream",
     "text": [
      "        Lasso()\n",
      "MAE_C  0.342151\n",
      "MAE_T  0.660883\n",
      "MSE_C  0.331857\n",
      "MSE_T  0.727545\n",
      "R2_C   0.887616\n",
      "R2_T   0.748992\n",
      "(-0.17456366895381323, -0.10176046687234527)\n",
      "T-statistic: -7.446413485756894\n",
      "P-value: 1.8064779951170884e-13\n",
      "Result is statistically significant\n",
      "AdaBoostRegressor()\n",
      "DF lenght after undersampling: 6103\n",
      "{'base_estimator': None, 'learning_rate': 1.0, 'loss': 'linear', 'n_estimators': 50, 'random_state': None}\n",
      "ATE: 0.19, 95% CI: [-1.72, 2.20]\n",
      "ATE 0.11792704444571424\n"
     ]
    },
    {
     "data": {
      "image/png": "[encoded data removed]",
      "text/plain": [
       "<Figure size 864x432 with 1 Axes>"
      ]
     },
     "metadata": {},
     "output_type": "display_data"
    },
    {
     "name": "stdout",
     "output_type": "stream",
     "text": [
      "       AdaBoostRegressor()\n",
      "MAE_C             0.339651\n",
      "MAE_T             0.607819\n",
      "MSE_C             0.362536\n",
      "MSE_T             0.576917\n",
      "R2_C              0.891350\n",
      "R2_T              0.808524\n",
      "(0.08911012199439605, 0.14674396689703234)\n",
      "T-statistic: 8.028688811465532\n",
      "P-value: 2.2992349631222724e-15\n",
      "Result is statistically significant\n",
      "ExtraTreesRegressor()\n",
      "DF lenght after undersampling: 6103\n",
      "{'bootstrap': False, 'ccp_alpha': 0.0, 'criterion': 'mse', 'max_depth': None, 'max_features': 'auto', 'max_leaf_nodes': None, 'max_samples': None, 'min_impurity_decrease': 0.0, 'min_impurity_split': None, 'min_samples_leaf': 1, 'min_samples_split': 2, 'min_weight_fraction_leaf': 0.0, 'n_estimators': 100, 'n_jobs': None, 'oob_score': False, 'random_state': None, 'verbose': 0, 'warm_start': False}\n",
      "ATE: 0.00, 95% CI: [-1.94, 1.98]\n",
      "ATE 0.020369029020624787\n"
     ]
    },
    {
     "data": {
      "image/png": "[encoded data removed]",
      "text/plain": [
       "<Figure size 864x432 with 1 Axes>"
      ]
     },
     "metadata": {},
     "output_type": "display_data"
    },
    {
     "name": "stdout",
     "output_type": "stream",
     "text": [
      "       ExtraTreesRegressor()\n",
      "MAE_C               0.365309\n",
      "MAE_T               0.352445\n",
      "MSE_C               0.349915\n",
      "MSE_T               0.428263\n",
      "R2_C                0.874151\n",
      "R2_T                0.840877\n",
      "(-0.004704693901031978, 0.04544275194228149)\n",
      "T-statistic: 1.5937871221714823\n",
      "P-value: 0.11124253226239189\n",
      "Result is not significant\n",
      "BaggingRegressor()\n",
      "DF lenght after undersampling: 6103\n",
      "{'base_estimator': None, 'bootstrap': True, 'bootstrap_features': False, 'max_features': 1.0, 'max_samples': 1.0, 'n_estimators': 10, 'n_jobs': None, 'oob_score': False, 'random_state': None, 'verbose': 0, 'warm_start': False}\n",
      "ATE: 0.01, 95% CI: [-1.93, 1.99]\n",
      "ATE 0.03281098954237255\n"
     ]
    },
    {
     "data": {
      "image/png": "[encoded data removed]",
      "text/plain": [
       "<Figure size 864x432 with 1 Axes>"
      ]
     },
     "metadata": {},
     "output_type": "display_data"
    },
    {
     "name": "stdout",
     "output_type": "stream",
     "text": [
      "       BaggingRegressor()\n",
      "MAE_C            0.331064\n",
      "MAE_T            0.369354\n",
      "MSE_C            0.306543\n",
      "MSE_T            0.396084\n",
      "R2_C             0.896974\n",
      "R2_T             0.842048\n",
      "(0.01072615323051056, 0.05489582585423451)\n",
      "T-statistic: 2.9147677287530858\n",
      "P-value: 0.0036244648021182754\n",
      "Result is statistically significant\n"
     ]
    }
   ],
   "source": [
    "model_lst = [(RandomForestRegressor(),RandomForestRegressor()), (MLPRegressor(), MLPRegressor()), \n",
    "            (GradientBoostingRegressor(), GradientBoostingRegressor()), (DecisionTreeRegressor(), DecisionTreeRegressor()),\n",
    "            (LinearRegression(), LinearRegression()), (Ridge(), Ridge()), (Lasso(), Lasso()),\n",
    "            (AdaBoostRegressor(), AdaBoostRegressor()), (ExtraTreesRegressor(), ExtraTreesRegressor()), \n",
    "             (BaggingRegressor(), BaggingRegressor())]\n",
    "\n",
    "for model1, model2 in model_lst:\n",
    "    print(str(model1))\n",
    "    metrics, predictions_t, predictions_c, y_test_t, y_test_c, ites_test, ites_train, X_test_t, X_test_c = run_model(n_bootstraps = 30, file = FILE, include_propensity = PROPENSITY, outcome=OUTCOME, intervention=TREATMENT, undersampled = UNDERSAMPLE, model0 = model0, model1 = model1, machine = str(model1), num_iter = 1)\n",
    "    #visualise(predictions_t, predictions_c, y_test_t, y_test_c, machine=machine, target=target, intervention=intervention)\n",
    "    visualise_ites(ites_test, machine = str(model1), intervention = TREATMENT, target = OUTCOME)\n",
    "    print(metrics)\n",
    "    confidence_interval(data=ites_test)\n",
    "    significance(data=ites_test)"
   ]
  },
  {
   "cell_type": "markdown",
   "id": "55e356b6",
   "metadata": {},
   "source": [
    "## Part 4. Adaptive Model\n",
    "\n",
    "In this last part, we will predict the treatment effect using an adaptive model. This model was developed by us. As can be seen, there is a bit more coding involved, but the benefit is that it is easier to adapt this model to our preferences. "
   ]
  },
  {
   "cell_type": "markdown",
   "id": "1d1d8a6e",
   "metadata": {},
   "source": [
    "The first step is to make sure that our model runs on the proper device. "
   ]
  },
  {
   "cell_type": "code",
   "execution_count": 135,
   "id": "4126a786",
   "metadata": {},
   "outputs": [],
   "source": [
    "device = torch.device(\"cpu\")"
   ]
  },
  {
   "cell_type": "markdown",
   "id": "61593339",
   "metadata": {},
   "source": [
    "It is useful to have a small function that easily converts arrays to the correct ``torch``-objects: tensors."
   ]
  },
  {
   "cell_type": "code",
   "execution_count": 136,
   "id": "1f1eb063",
   "metadata": {},
   "outputs": [],
   "source": [
    "to_tensor = lambda x: torch.tensor(np.array(x), dtype = torch.float32).to(device)"
   ]
  },
  {
   "cell_type": "code",
   "execution_count": 137,
   "id": "598f600a",
   "metadata": {},
   "outputs": [],
   "source": [
    "FILE = f\"data/03-10-2023-Dutch_LTCF_cleaned_data_with_selected_covar_{TREATMENT}-{OUTCOME}.csv\"\n",
    "df = pd.read_csv(FILE)"
   ]
  },
  {
   "cell_type": "markdown",
   "id": "992a3401",
   "metadata": {},
   "source": [
    "### Uplift Model"
   ]
  },
  {
   "cell_type": "code",
   "execution_count": 138,
   "id": "2c88d1bc",
   "metadata": {},
   "outputs": [
    {
     "data": {
      "image/png": "[encoded data removed]",
      "text/plain": [
       "<Figure size 720x432 with 1 Axes>"
      ]
     },
     "metadata": {},
     "output_type": "display_data"
    }
   ],
   "source": [
    "# Split into features and target\n",
    "X = df.drop('OutcomeT1', axis=1)\n",
    "y = df['OutcomeT1']\n",
    "\n",
    "# Splitting the dataset into training and testing sets\n",
    "X_train, X_test, y_train, y_test = train_test_split(X, y, test_size=0.2, random_state=42)\n",
    "\n",
    "# Train model on treatment group\n",
    "model_treatment = LogisticRegression()\n",
    "model_treatment.fit(X_train[X_train['treatment'] == 1].drop('treatment', axis=1), y_train[X_train['treatment'] == 1])\n",
    "\n",
    "# Train model on control group\n",
    "model_control = LogisticRegression()\n",
    "model_control.fit(X_train[X_train['treatment'] == 0].drop('treatment', axis=1), y_train[X_train['treatment'] == 0])\n",
    "\n",
    "# Predict probabilities\n",
    "prob_treatment = model_treatment.predict_proba(X_test.drop('treatment', axis=1))[:, 1]\n",
    "prob_control = model_control.predict_proba(X_test.drop('treatment', axis=1))[:, 1]\n",
    "\n",
    "# Calculate uplift\n",
    "uplift = prob_treatment - prob_control\n",
    "\n",
    "# Sorting the individuals by predicted uplift\n",
    "order = np.argsort(uplift)[::-1]\n",
    "sorted_uplift = uplift[order]\n",
    "\n",
    "# Calculating cumulative uplift\n",
    "cumulative_uplift = np.cumsum(sorted_uplift) / len(y_test)\n",
    "\n",
    "# Plotting\n",
    "plt.figure(figsize=(10, 6))\n",
    "plt.xlim(0,100)\n",
    "plt.plot(cumulative_uplift, label='Uplift Curve')\n",
    "plt.xlabel('Proportion Targeted')\n",
    "plt.ylabel('Cumulative Uplift')\n",
    "plt.title('Uplift Curve')\n",
    "plt.legend()\n",
    "plt.show()"
   ]
  },
  {
   "cell_type": "code",
   "execution_count": 139,
   "id": "242bd866",
   "metadata": {},
   "outputs": [],
   "source": [
    "# apply min-max normalisation\n",
    "#X = df.drop(columns = ['treatment', 'OutcomeT1']).columns\n",
    "#df[X] = (df[X] - df[X].min()) / (df[X].max() - df[X].min())"
   ]
  },
  {
   "cell_type": "code",
   "execution_count": 140,
   "id": "09da61a4",
   "metadata": {},
   "outputs": [],
   "source": [
    "X = df.drop(columns = ['treatment', 'OutcomeT1']).columns\n",
    "\n",
    "normalizer = Normalizer(norm=\"l2\")\n",
    "normalizer.fit(df[X])\n",
    "\n",
    "df[X] = normalizer.fit_transform(df[X])\n",
    "\n",
    "with open(f'storage/normalizer_{TREATMENT}-{OUTCOME}.pkl', 'wb') as f:\n",
    "    pickle.dump(normalizer, f)"
   ]
  },
  {
   "cell_type": "markdown",
   "id": "d0436003",
   "metadata": {},
   "source": [
    "### 4 a. Perform Undersampling Procedure"
   ]
  },
  {
   "cell_type": "code",
   "execution_count": 141,
   "id": "b592fb3c",
   "metadata": {},
   "outputs": [
    {
     "name": "stdout",
     "output_type": "stream",
     "text": [
      "DF lenght after undersampling: 6103\n"
     ]
    }
   ],
   "source": [
    "if UNDERSAMPLE:\n",
    "    freq_treated = len(df[df['treatment']==1])\n",
    "    control = df[df['treatment']==0].sample(freq_treated)\n",
    "    treated = df[df['treatment']==1]\n",
    "    df = pd.concat((control, treated))\n",
    "    \n",
    "print(f'DF lenght after undersampling: {len(df)}')"
   ]
  },
  {
   "cell_type": "markdown",
   "id": "82db0f23",
   "metadata": {},
   "source": [
    "Because the model is a neural-network based architecture, it is usually helpful to apply min-max normalisation which converts the column values to \\[0,1\\] ranges."
   ]
  },
  {
   "cell_type": "markdown",
   "id": "7edac5f6",
   "metadata": {},
   "source": [
    "### 4.b Train-Test Splitting\n",
    "\n",
    "In the cell below, we perform train-test split. Note that we also split the train and test data into two groups: a control group and a treated group. Even though we do not explicItely use for train, it will be useful for the (sub-)group evaluation later on."
   ]
  },
  {
   "cell_type": "code",
   "execution_count": 142,
   "id": "7b5fb31d",
   "metadata": {},
   "outputs": [],
   "source": [
    "# variable setting for treatment\n",
    "t = 'treatment'\n",
    "# select the relevant outcome\n",
    "y = \"OutcomeT1\" \n",
    "# specify test size\n",
    "test_size = 0.2\n",
    "\n",
    "# Split groups into train and test\n",
    "X_train, X_test, y_train, y_test = train_test_split(df.drop(columns = [y]), df[['treatment', y]], test_size=test_size, random_state=42)"
   ]
  },
  {
   "cell_type": "markdown",
   "id": "0f8ce86e",
   "metadata": {},
   "source": [
    "### 4.c Propensity Score Computation"
   ]
  },
  {
   "cell_type": "code",
   "execution_count": 143,
   "id": "49b94b4d",
   "metadata": {},
   "outputs": [],
   "source": [
    "# predict the propensity score\n",
    "if PROPENSITY:\n",
    "    X_train[\"OutcomeT1\"] = y_train[\"OutcomeT1\"]\n",
    "    X_test[\"OutcomeT1\"] = y_test[\"OutcomeT1\"]\n",
    "    X = X_train.drop(columns = ['treatment']).columns\n",
    "    X = X_test.drop(columns = ['treatment']).columns\n",
    "    ps_model = LogisticRegression(C=1e2, max_iter=10000).fit(X_train[X], y_train['treatment'])\n",
    "    X_train['ps'] = ps_model.predict_proba(X_train[X])[:, 1]\n",
    "    X_test['ps'] = ps_model.predict_proba(X_test[X])[:, 1]\n",
    "    \n",
    "    # ensure that treatment is last column\n",
    "    X_train['treatment_new'] =  X_train['treatment']\n",
    "    X_train = X_train.drop(columns = ['treatment'])\n",
    "    X_train = X_train.rename(columns = {'treatment_new': 'treatment'})\n",
    "    \n",
    "    X_test['treatment_new'] =  X_test['treatment']\n",
    "    X_test = X_test.drop(columns = ['treatment'])\n",
    "    X_test = X_test.rename(columns = {'treatment_new': 'treatment'})\n",
    "    \n",
    "    #X_train = X_train.drop(columns = [\"OutcomeT1\"])\n",
    "else:\n",
    "    X_train[\"OutcomeT1\"] = y_train[\"OutcomeT1\"]"
   ]
  },
  {
   "cell_type": "code",
   "execution_count": 144,
   "id": "84e6cda5",
   "metadata": {},
   "outputs": [
    {
     "name": "stdout",
     "output_type": "stream",
     "text": [
      "Estimated outcome under control 2.1248545305902624.\n",
      "Estimated outcome under treatment 1.9862765619196507.\n",
      "tensor(-0.1385)\n"
     ]
    }
   ],
   "source": [
    "X = df.drop(columns = ['OutcomeT1', 'treatment']).columns\n",
    "\n",
    "#X_train = X_train.drop(columns = [\"ps\"])\n",
    "\n",
    "# Estimate the average treatment effect (group level)\n",
    "tau_est = doubly_robust(X_train, X=X, T='treatment', Y='OutcomeT1')\n",
    "tau_est = torch.tensor(tau_est, dtype = torch.float32).to(device)\n",
    "print(tau_est)\n",
    "\n",
    "# drop columns\n",
    "X_train = X_train.drop(columns = [\"OutcomeT1\"])\n",
    "\n",
    "if PROPENSITY == True:\n",
    "    X_test = X_test.drop(columns = [\"OutcomeT1\"])"
   ]
  },
  {
   "cell_type": "code",
   "execution_count": 145,
   "id": "2dc2fad2",
   "metadata": {},
   "outputs": [
    {
     "data": {
      "text/html": [
       "<div>\n",
       "<style scoped>\n",
       "    .dataframe tbody tr th:only-of-type {\n",
       "        vertical-align: middle;\n",
       "    }\n",
       "\n",
       "    .dataframe tbody tr th {\n",
       "        vertical-align: top;\n",
       "    }\n",
       "\n",
       "    .dataframe thead th {\n",
       "        text-align: right;\n",
       "    }\n",
       "</style>\n",
       "<table border=\"1\" class=\"dataframe\">\n",
       "  <thead>\n",
       "    <tr style=\"text-align: right;\">\n",
       "      <th></th>\n",
       "      <th>ia4.cat</th>\n",
       "      <th>if1c.cat</th>\n",
       "      <th>ii1c.cat</th>\n",
       "      <th>ii1d.cat</th>\n",
       "      <th>ia12a</th>\n",
       "      <th>ib5e</th>\n",
       "      <th>ib5c</th>\n",
       "      <th>ig6a</th>\n",
       "      <th>id3a</th>\n",
       "      <th>id4a</th>\n",
       "      <th>...</th>\n",
       "      <th>in3fc</th>\n",
       "      <th>ie1k.cat</th>\n",
       "      <th>if5a.cat</th>\n",
       "      <th>if5b.cat</th>\n",
       "      <th>if5c.cat</th>\n",
       "      <th>if5d.cat</th>\n",
       "      <th>if5e.cat</th>\n",
       "      <th>OutcomeT0</th>\n",
       "      <th>ps</th>\n",
       "      <th>treatment</th>\n",
       "    </tr>\n",
       "  </thead>\n",
       "  <tbody>\n",
       "    <tr>\n",
       "      <th>734</th>\n",
       "      <td>0.000000</td>\n",
       "      <td>0.011087</td>\n",
       "      <td>0.000000</td>\n",
       "      <td>0.011087</td>\n",
       "      <td>0.011087</td>\n",
       "      <td>0.0</td>\n",
       "      <td>0.0</td>\n",
       "      <td>0.011087</td>\n",
       "      <td>0.000000</td>\n",
       "      <td>0.000000</td>\n",
       "      <td>...</td>\n",
       "      <td>0.000000</td>\n",
       "      <td>0.000000</td>\n",
       "      <td>0.011087</td>\n",
       "      <td>0.011087</td>\n",
       "      <td>0.011087</td>\n",
       "      <td>0.011087</td>\n",
       "      <td>0.011087</td>\n",
       "      <td>0.000000</td>\n",
       "      <td>0.564366</td>\n",
       "      <td>0</td>\n",
       "    </tr>\n",
       "    <tr>\n",
       "      <th>5194</th>\n",
       "      <td>0.000000</td>\n",
       "      <td>0.012421</td>\n",
       "      <td>0.000000</td>\n",
       "      <td>0.012421</td>\n",
       "      <td>0.012421</td>\n",
       "      <td>0.0</td>\n",
       "      <td>0.0</td>\n",
       "      <td>0.012421</td>\n",
       "      <td>0.037262</td>\n",
       "      <td>0.012421</td>\n",
       "      <td>...</td>\n",
       "      <td>0.000000</td>\n",
       "      <td>0.000000</td>\n",
       "      <td>0.012421</td>\n",
       "      <td>0.012421</td>\n",
       "      <td>0.012421</td>\n",
       "      <td>0.012421</td>\n",
       "      <td>0.012421</td>\n",
       "      <td>0.024841</td>\n",
       "      <td>0.547287</td>\n",
       "      <td>1</td>\n",
       "    </tr>\n",
       "    <tr>\n",
       "      <th>1168</th>\n",
       "      <td>0.018092</td>\n",
       "      <td>0.000000</td>\n",
       "      <td>0.000000</td>\n",
       "      <td>0.000000</td>\n",
       "      <td>0.036185</td>\n",
       "      <td>0.0</td>\n",
       "      <td>0.0</td>\n",
       "      <td>0.018092</td>\n",
       "      <td>0.000000</td>\n",
       "      <td>0.000000</td>\n",
       "      <td>...</td>\n",
       "      <td>0.018092</td>\n",
       "      <td>0.018092</td>\n",
       "      <td>0.018092</td>\n",
       "      <td>0.000000</td>\n",
       "      <td>0.000000</td>\n",
       "      <td>0.000000</td>\n",
       "      <td>0.000000</td>\n",
       "      <td>0.018092</td>\n",
       "      <td>0.072576</td>\n",
       "      <td>0</td>\n",
       "    </tr>\n",
       "    <tr>\n",
       "      <th>1536</th>\n",
       "      <td>0.000000</td>\n",
       "      <td>0.000000</td>\n",
       "      <td>0.000000</td>\n",
       "      <td>0.000000</td>\n",
       "      <td>0.013314</td>\n",
       "      <td>0.0</td>\n",
       "      <td>0.0</td>\n",
       "      <td>0.013314</td>\n",
       "      <td>0.000000</td>\n",
       "      <td>0.000000</td>\n",
       "      <td>...</td>\n",
       "      <td>0.000000</td>\n",
       "      <td>0.013314</td>\n",
       "      <td>0.000000</td>\n",
       "      <td>0.000000</td>\n",
       "      <td>0.000000</td>\n",
       "      <td>0.000000</td>\n",
       "      <td>0.000000</td>\n",
       "      <td>0.026629</td>\n",
       "      <td>0.186261</td>\n",
       "      <td>0</td>\n",
       "    </tr>\n",
       "    <tr>\n",
       "      <th>3926</th>\n",
       "      <td>0.000000</td>\n",
       "      <td>0.011751</td>\n",
       "      <td>0.000000</td>\n",
       "      <td>0.000000</td>\n",
       "      <td>0.011751</td>\n",
       "      <td>0.0</td>\n",
       "      <td>0.0</td>\n",
       "      <td>0.011751</td>\n",
       "      <td>0.011751</td>\n",
       "      <td>0.000000</td>\n",
       "      <td>...</td>\n",
       "      <td>0.000000</td>\n",
       "      <td>0.000000</td>\n",
       "      <td>0.011751</td>\n",
       "      <td>0.011751</td>\n",
       "      <td>0.011751</td>\n",
       "      <td>0.011751</td>\n",
       "      <td>0.011751</td>\n",
       "      <td>0.000000</td>\n",
       "      <td>0.655822</td>\n",
       "      <td>0</td>\n",
       "    </tr>\n",
       "    <tr>\n",
       "      <th>...</th>\n",
       "      <td>...</td>\n",
       "      <td>...</td>\n",
       "      <td>...</td>\n",
       "      <td>...</td>\n",
       "      <td>...</td>\n",
       "      <td>...</td>\n",
       "      <td>...</td>\n",
       "      <td>...</td>\n",
       "      <td>...</td>\n",
       "      <td>...</td>\n",
       "      <td>...</td>\n",
       "      <td>...</td>\n",
       "      <td>...</td>\n",
       "      <td>...</td>\n",
       "      <td>...</td>\n",
       "      <td>...</td>\n",
       "      <td>...</td>\n",
       "      <td>...</td>\n",
       "      <td>...</td>\n",
       "      <td>...</td>\n",
       "      <td>...</td>\n",
       "    </tr>\n",
       "    <tr>\n",
       "      <th>3772</th>\n",
       "      <td>0.000000</td>\n",
       "      <td>0.012459</td>\n",
       "      <td>0.000000</td>\n",
       "      <td>0.012459</td>\n",
       "      <td>0.012459</td>\n",
       "      <td>0.0</td>\n",
       "      <td>0.0</td>\n",
       "      <td>0.012459</td>\n",
       "      <td>0.012459</td>\n",
       "      <td>0.000000</td>\n",
       "      <td>...</td>\n",
       "      <td>0.000000</td>\n",
       "      <td>0.000000</td>\n",
       "      <td>0.012459</td>\n",
       "      <td>0.012459</td>\n",
       "      <td>0.012459</td>\n",
       "      <td>0.012459</td>\n",
       "      <td>0.012459</td>\n",
       "      <td>0.012459</td>\n",
       "      <td>0.460147</td>\n",
       "      <td>1</td>\n",
       "    </tr>\n",
       "    <tr>\n",
       "      <th>5191</th>\n",
       "      <td>0.000000</td>\n",
       "      <td>0.012335</td>\n",
       "      <td>0.000000</td>\n",
       "      <td>0.012335</td>\n",
       "      <td>0.012335</td>\n",
       "      <td>0.0</td>\n",
       "      <td>0.0</td>\n",
       "      <td>0.012335</td>\n",
       "      <td>0.037006</td>\n",
       "      <td>0.012335</td>\n",
       "      <td>...</td>\n",
       "      <td>0.000000</td>\n",
       "      <td>0.012335</td>\n",
       "      <td>0.012335</td>\n",
       "      <td>0.012335</td>\n",
       "      <td>0.012335</td>\n",
       "      <td>0.012335</td>\n",
       "      <td>0.012335</td>\n",
       "      <td>0.061677</td>\n",
       "      <td>0.294569</td>\n",
       "      <td>0</td>\n",
       "    </tr>\n",
       "    <tr>\n",
       "      <th>5226</th>\n",
       "      <td>0.000000</td>\n",
       "      <td>0.012413</td>\n",
       "      <td>0.000000</td>\n",
       "      <td>0.012413</td>\n",
       "      <td>0.012413</td>\n",
       "      <td>0.0</td>\n",
       "      <td>0.0</td>\n",
       "      <td>0.037239</td>\n",
       "      <td>0.000000</td>\n",
       "      <td>0.000000</td>\n",
       "      <td>...</td>\n",
       "      <td>0.000000</td>\n",
       "      <td>0.000000</td>\n",
       "      <td>0.012413</td>\n",
       "      <td>0.012413</td>\n",
       "      <td>0.000000</td>\n",
       "      <td>0.000000</td>\n",
       "      <td>0.012413</td>\n",
       "      <td>0.012413</td>\n",
       "      <td>0.228468</td>\n",
       "      <td>1</td>\n",
       "    </tr>\n",
       "    <tr>\n",
       "      <th>5390</th>\n",
       "      <td>0.000000</td>\n",
       "      <td>0.000000</td>\n",
       "      <td>0.011042</td>\n",
       "      <td>0.000000</td>\n",
       "      <td>0.011042</td>\n",
       "      <td>0.0</td>\n",
       "      <td>0.0</td>\n",
       "      <td>0.022084</td>\n",
       "      <td>0.000000</td>\n",
       "      <td>0.000000</td>\n",
       "      <td>...</td>\n",
       "      <td>0.000000</td>\n",
       "      <td>0.000000</td>\n",
       "      <td>0.011042</td>\n",
       "      <td>0.011042</td>\n",
       "      <td>0.011042</td>\n",
       "      <td>0.011042</td>\n",
       "      <td>0.011042</td>\n",
       "      <td>0.022084</td>\n",
       "      <td>0.363379</td>\n",
       "      <td>0</td>\n",
       "    </tr>\n",
       "    <tr>\n",
       "      <th>860</th>\n",
       "      <td>0.000000</td>\n",
       "      <td>0.011738</td>\n",
       "      <td>0.000000</td>\n",
       "      <td>0.000000</td>\n",
       "      <td>0.011738</td>\n",
       "      <td>0.0</td>\n",
       "      <td>0.0</td>\n",
       "      <td>0.046952</td>\n",
       "      <td>0.011738</td>\n",
       "      <td>0.011738</td>\n",
       "      <td>...</td>\n",
       "      <td>0.000000</td>\n",
       "      <td>0.000000</td>\n",
       "      <td>0.011738</td>\n",
       "      <td>0.011738</td>\n",
       "      <td>0.011738</td>\n",
       "      <td>0.011738</td>\n",
       "      <td>0.011738</td>\n",
       "      <td>0.023476</td>\n",
       "      <td>0.334969</td>\n",
       "      <td>0</td>\n",
       "    </tr>\n",
       "  </tbody>\n",
       "</table>\n",
       "<p>4882 rows × 44 columns</p>\n",
       "</div>"
      ],
      "text/plain": [
       "       ia4.cat  if1c.cat  ii1c.cat  ii1d.cat     ia12a  ib5e  ib5c      ig6a  \\\n",
       "734   0.000000  0.011087  0.000000  0.011087  0.011087   0.0   0.0  0.011087   \n",
       "5194  0.000000  0.012421  0.000000  0.012421  0.012421   0.0   0.0  0.012421   \n",
       "1168  0.018092  0.000000  0.000000  0.000000  0.036185   0.0   0.0  0.018092   \n",
       "1536  0.000000  0.000000  0.000000  0.000000  0.013314   0.0   0.0  0.013314   \n",
       "3926  0.000000  0.011751  0.000000  0.000000  0.011751   0.0   0.0  0.011751   \n",
       "...        ...       ...       ...       ...       ...   ...   ...       ...   \n",
       "3772  0.000000  0.012459  0.000000  0.012459  0.012459   0.0   0.0  0.012459   \n",
       "5191  0.000000  0.012335  0.000000  0.012335  0.012335   0.0   0.0  0.012335   \n",
       "5226  0.000000  0.012413  0.000000  0.012413  0.012413   0.0   0.0  0.037239   \n",
       "5390  0.000000  0.000000  0.011042  0.000000  0.011042   0.0   0.0  0.022084   \n",
       "860   0.000000  0.011738  0.000000  0.000000  0.011738   0.0   0.0  0.046952   \n",
       "\n",
       "          id3a      id4a  ...     in3fc  ie1k.cat  if5a.cat  if5b.cat  \\\n",
       "734   0.000000  0.000000  ...  0.000000  0.000000  0.011087  0.011087   \n",
       "5194  0.037262  0.012421  ...  0.000000  0.000000  0.012421  0.012421   \n",
       "1168  0.000000  0.000000  ...  0.018092  0.018092  0.018092  0.000000   \n",
       "1536  0.000000  0.000000  ...  0.000000  0.013314  0.000000  0.000000   \n",
       "3926  0.011751  0.000000  ...  0.000000  0.000000  0.011751  0.011751   \n",
       "...        ...       ...  ...       ...       ...       ...       ...   \n",
       "3772  0.012459  0.000000  ...  0.000000  0.000000  0.012459  0.012459   \n",
       "5191  0.037006  0.012335  ...  0.000000  0.012335  0.012335  0.012335   \n",
       "5226  0.000000  0.000000  ...  0.000000  0.000000  0.012413  0.012413   \n",
       "5390  0.000000  0.000000  ...  0.000000  0.000000  0.011042  0.011042   \n",
       "860   0.011738  0.011738  ...  0.000000  0.000000  0.011738  0.011738   \n",
       "\n",
       "      if5c.cat  if5d.cat  if5e.cat  OutcomeT0        ps  treatment  \n",
       "734   0.011087  0.011087  0.011087   0.000000  0.564366          0  \n",
       "5194  0.012421  0.012421  0.012421   0.024841  0.547287          1  \n",
       "1168  0.000000  0.000000  0.000000   0.018092  0.072576          0  \n",
       "1536  0.000000  0.000000  0.000000   0.026629  0.186261          0  \n",
       "3926  0.011751  0.011751  0.011751   0.000000  0.655822          0  \n",
       "...        ...       ...       ...        ...       ...        ...  \n",
       "3772  0.012459  0.012459  0.012459   0.012459  0.460147          1  \n",
       "5191  0.012335  0.012335  0.012335   0.061677  0.294569          0  \n",
       "5226  0.000000  0.000000  0.012413   0.012413  0.228468          1  \n",
       "5390  0.011042  0.011042  0.011042   0.022084  0.363379          0  \n",
       "860   0.011738  0.011738  0.011738   0.023476  0.334969          0  \n",
       "\n",
       "[4882 rows x 44 columns]"
      ]
     },
     "execution_count": 145,
     "metadata": {},
     "output_type": "execute_result"
    }
   ],
   "source": [
    "X_train"
   ]
  },
  {
   "cell_type": "markdown",
   "id": "b357dffa",
   "metadata": {},
   "source": [
    "We also want to make sure that the data stuctures are in the right format. For this, we use ``to_tensor``."
   ]
  },
  {
   "cell_type": "code",
   "execution_count": 146,
   "id": "1daaae95",
   "metadata": {},
   "outputs": [],
   "source": [
    "y_t = y_train[y_train['treatment']==1][y]\n",
    "y_c = y_train[y_train['treatment']==0][y]\n",
    "\n",
    "y_test_t = y_test[y_test['treatment']==1][y]\n",
    "y_test_c = y_test[y_test['treatment']==0][y]"
   ]
  },
  {
   "cell_type": "code",
   "execution_count": 147,
   "id": "fb3d2ea9",
   "metadata": {},
   "outputs": [],
   "source": [
    "# convert output to tensors\n",
    "x, y, y_t, y_c, x_test = to_tensor(X_train), to_tensor(y_train), to_tensor(y_t), to_tensor(y_c), to_tensor(X_test)"
   ]
  },
  {
   "cell_type": "markdown",
   "id": "5076a548",
   "metadata": {},
   "source": [
    "### 4.d Model Training\n",
    "\n",
    "The next step is to train the actual model. The code below sets some preliminary configurations."
   ]
  },
  {
   "cell_type": "code",
   "execution_count": 148,
   "id": "a118eb57",
   "metadata": {},
   "outputs": [],
   "source": [
    "# Configurations\n",
    "lr = 0.001\n",
    "epochs = 1000\n",
    "gamma = 2\n",
    "\n",
    "model = TARnetICFR(x.shape[1], 0.01, hidden_dim = 32*4).to(device)\n",
    "\n",
    "# Define the loss functions\n",
    "head_loss = nn.L1Loss() #nn.MSELoss()#nn.L1Loss() #torch.nn.HuberLoss(reduction = 'mean', delta = 1) #nn.MSELoss() # nn.L1Loss() #nn.MSELoss() \n",
    "\n",
    "# initialise optimiser\n",
    "optimizer = optim.Adam(model.parameters(), lr)\n",
    "\n",
    "u = len(y_t)  / (len(y_t)  + len(y_c))"
   ]
  },
  {
   "cell_type": "markdown",
   "id": "47eb592f",
   "metadata": {},
   "source": [
    "The code below is the training loop. On each loop, the model passes the data through the models, examines its performance and adjust the weights. Note that this model has four loss components:\n",
    "\n",
    "1. Component 1 (``loss1``) is to loss on the treated segment of the data.\n",
    "2. Component 2 (``loss2``) is to loss on the control segment of the data.\n",
    "3. Component 2 (``loss_cf_3``) is to loss on the counterfactual control segment of the data.\n",
    "4. Component 2 (``loss_cf_4``) is to loss on the counterfactual treated segment of the data."
   ]
  },
  {
   "cell_type": "code",
   "execution_count": 149,
   "id": "aba813bb",
   "metadata": {
    "scrolled": true
   },
   "outputs": [
    {
     "name": "stdout",
     "output_type": "stream",
     "text": [
      "Epoch 100/1000 | Loss: 2.3999\n",
      "RMSE for factual treated 0.8951941605114895\n",
      "MAE for factual treated 0.7392294651542145\n",
      "RMSE for factual control 0.8082195576205995\n",
      "MAE for factual treated 0.6920271022843141\n",
      "Epoch 200/1000 | Loss: 1.2335\n",
      "RMSE for factual treated 0.4003235489201305\n",
      "MAE for factual treated 0.4060228898906364\n",
      "RMSE for factual control 0.3830424639936574\n",
      "MAE for factual treated 0.3921412437059485\n",
      "Epoch 300/1000 | Loss: 1.1905\n",
      "RMSE for factual treated 0.37876979597858135\n",
      "MAE for factual treated 0.39331495191973564\n",
      "RMSE for factual control 0.3599339530791916\n",
      "MAE for factual treated 0.3919645323100554\n",
      "Epoch 400/1000 | Loss: 1.1937\n",
      "RMSE for factual treated 0.4160128008164062\n",
      "MAE for factual treated 0.39523505917929397\n",
      "RMSE for factual control 0.4087192059986091\n",
      "MAE for factual treated 0.3897341869362283\n",
      "Epoch 500/1000 | Loss: 1.1906\n",
      "RMSE for factual treated 0.377173615719788\n",
      "MAE for factual treated 0.3657586754854912\n",
      "RMSE for factual control 0.37179614596923527\n",
      "MAE for factual treated 0.3553220507065724\n",
      "Epoch 600/1000 | Loss: 1.1677\n",
      "RMSE for factual treated 0.35161305904684725\n",
      "MAE for factual treated 0.3659262828672161\n",
      "RMSE for factual control 0.36014473700444904\n",
      "MAE for factual treated 0.3849630520736185\n",
      "Epoch 700/1000 | Loss: 1.1368\n",
      "RMSE for factual treated 0.3916599860852309\n",
      "MAE for factual treated 0.3545463351174616\n",
      "RMSE for factual control 0.3767411020605463\n",
      "MAE for factual treated 0.3539834348976442\n",
      "Epoch 800/1000 | Loss: 1.1069\n",
      "RMSE for factual treated 0.3870508697021655\n",
      "MAE for factual treated 0.3542680673587781\n",
      "RMSE for factual control 0.3640858478020903\n",
      "MAE for factual treated 0.33779327619220323\n",
      "Epoch 900/1000 | Loss: 1.0852\n",
      "RMSE for factual treated 0.36867586870193936\n",
      "MAE for factual treated 0.339621777796688\n",
      "RMSE for factual control 0.35679247246593526\n",
      "MAE for factual treated 0.3417638319115368\n",
      "Epoch 1000/1000 | Loss: 1.0673\n",
      "RMSE for factual treated 0.37095972515194203\n",
      "MAE for factual treated 0.3326143854691719\n",
      "RMSE for factual control 0.35508951143055595\n",
      "MAE for factual treated 0.33437282719068795\n"
     ]
    }
   ],
   "source": [
    "# Define loss lists\n",
    "loss1_lst, loss2_lst, loss3_lst = [], [], []\n",
    "\n",
    "for epoch in range(epochs):\n",
    "    # Forward pass\n",
    "    output_t, output_c, _ = model(x)\n",
    "    \n",
    "    # Compute total loss and update the model's parameters\n",
    "    loss1, loss2 = head_loss(torch.squeeze(output_t), y_t), head_loss(torch.squeeze(output_c), y_c)\n",
    "    \n",
    "    pred_c_cf = model.forward_treated(x[x[:,-1]==0])\n",
    "    loss_cf_3 = (1 - u) * torch.mean((torch.squeeze(pred_c_cf) - (y_c + tau_est))**2)\n",
    "                 \n",
    "    pred_t_cf = model.forward_control(x[x[:,-1]==1])\n",
    "    loss_cf_4 = u * torch.mean((torch.squeeze(pred_t_cf) - (y_t - tau_est))**2)\n",
    "    \n",
    "    # losses added\n",
    "    loss = loss1 + (loss2) + loss_cf_3 + loss_cf_4 #+ (gamma * loss3)\n",
    "    # Backward pass and optimization\n",
    "    optimizer.zero_grad()\n",
    "    loss.backward()\n",
    "    optimizer.step()\n",
    "\n",
    "    # Print the loss every 10000 epochs\n",
    "    if (epoch + 1) % 100 == 0:\n",
    "        print(f'Epoch {epoch+1}/{epochs} | Loss: {loss.item():.4f}')\n",
    "        \n",
    "        # print intermediate results on test\n",
    "        x_test_t = x_test[x_test[:,-1]==1] \n",
    "        x_test_c = x_test[x_test[:,-1]==0] \n",
    "\n",
    "        # # examine intermediate factual test performance\n",
    "        y_t_pred = model.forward_treated(x_test_t).cpu().detach().numpy().reshape(len(x_test_t),)\n",
    "        y_c_pred = model.forward_control(x_test_c).cpu().detach().numpy().reshape(len(x_test_c),)\n",
    "\n",
    "        print(f\"RMSE for factual treated {mean_squared_error(y_t_pred, y_test_t)}\") \n",
    "        print(f\"MAE for factual treated {mean_absolute_error(y_t_pred, y_test_t)}\") \n",
    "        print(f\"RMSE for factual control {mean_squared_error(y_c_pred, y_test_c)}\") \n",
    "        print(f\"MAE for factual treated {mean_absolute_error(y_c_pred, y_test_c)}\") "
   ]
  },
  {
   "cell_type": "markdown",
   "id": "39e36c19",
   "metadata": {},
   "source": [
    "### 4.e Model Evaluation\n",
    "Having trained the model, we can no examine the performance on the test set. We first get the predictions for the treated and control groups. Then we visualise the predicted predicted vs. true values. "
   ]
  },
  {
   "cell_type": "code",
   "execution_count": 150,
   "id": "5eb28295",
   "metadata": {},
   "outputs": [
    {
     "name": "stdout",
     "output_type": "stream",
     "text": [
      "            0    1        2\n",
      "0    2.457162  3.0  treated\n",
      "1    2.660942  3.0  treated\n",
      "2    2.382068  2.0  treated\n",
      "3    0.025626  0.0  treated\n",
      "4    0.113079  0.0  treated\n",
      "..        ...  ...      ...\n",
      "515  3.113354  3.0  treated\n",
      "516  4.802524  5.0  treated\n",
      "517  1.198255  1.0  treated\n",
      "518  4.407168  5.0  treated\n",
      "519  2.059289  2.0  treated\n",
      "\n",
      "[520 rows x 3 columns]\n",
      "<class 'pandas.core.frame.DataFrame'>\n",
      "CHECK!\n",
      "            0    1        2\n",
      "0    2.457162  3.0  treated\n",
      "1    2.660942  3.0  treated\n",
      "2    2.382068  2.0  treated\n",
      "3    0.025626  0.0  treated\n",
      "4    0.113079  0.0  treated\n",
      "..        ...  ...      ...\n",
      "696  3.073148  2.0  control\n",
      "697  2.073039  2.0  control\n",
      "698   0.04424  0.0  control\n",
      "699  2.889936  5.0  control\n",
      "700  2.083229  2.0  control\n",
      "\n",
      "[1221 rows x 3 columns]\n"
     ]
    },
    {
     "data": {
      "image/png": "[encoded data removed]",
      "text/plain": [
       "<Figure size 864x432 with 1 Axes>"
      ]
     },
     "metadata": {},
     "output_type": "display_data"
    }
   ],
   "source": [
    "y_t_pred = model.forward_treated(x_test[x_test[:,-1]==1] ).cpu().detach().numpy()\n",
    "y_c_pred = model.forward_control(x_test[x_test[:,-1]==0] ).cpu().detach().numpy()\n",
    "\n",
    "machine = \"TARNet\"\n",
    "visualise(np.squeeze(y_t_pred), np.squeeze(y_c_pred), y_test_t, y_test_c, machine=machine, target=OUTCOME, intervention=TREATMENT)"
   ]
  },
  {
   "cell_type": "markdown",
   "id": "3fbb4c9b",
   "metadata": {},
   "source": [
    "Next, we want to estimate the model's predictions of the individual treatment effect. We plot this in an ordered fashion (from most beneficial to least beneficial). The blue dots depict patients. On the y-axis, we find the effect size as predicted by the model. "
   ]
  },
  {
   "cell_type": "code",
   "execution_count": 151,
   "id": "17d7e756",
   "metadata": {
    "scrolled": false
   },
   "outputs": [
    {
     "name": "stdout",
     "output_type": "stream",
     "text": [
      "ATE_est = 1.9737911224365234 - 2.0937438011169434 = -0.11995262652635574.\n",
      "ATE -0.11995264142751694\n"
     ]
    },
    {
     "data": {
      "image/png": "[encoded data removed]",
      "text/plain": [
       "<Figure size 864x432 with 1 Axes>"
      ]
     },
     "metadata": {},
     "output_type": "display_data"
    }
   ],
   "source": [
    "# isolate and disconnect predicted values\n",
    "y_c_predt1 = model.forward_treated(x_test_c).cpu().detach().numpy()\n",
    "y_t_predt1 = model.forward_treated(x_test_t).cpu().detach().numpy()\n",
    "y_t_pred = np.concatenate((y_c_predt1, y_t_predt1))\n",
    "\n",
    "# isolate and disconnect predicted values\n",
    "y_c_predt0 = model.forward_control(x_test_c).cpu().detach().numpy() #np.array(y_test_c).reshape(-1,1) #model.forward_control(x_test_c).cpu().detach().numpy()\n",
    "y_t_predt0 = model.forward_control(x_test_t).cpu().detach().numpy()\n",
    "\n",
    "y_c_pred = np.concatenate((y_c_predt0, y_t_predt0))\n",
    "\n",
    "# compute the ites and sort\n",
    "ites = y_t_pred - y_c_pred\n",
    "ites = [i[0] for i in ites]\n",
    "ites = sorted(list(ites))\n",
    "\n",
    "ate_model_est = np.mean(y_t_pred - y_c_pred)\n",
    "\n",
    "print(f\"ATE_est = {np.mean(y_t_pred)} - {np.mean(y_c_pred)} = {ate_model_est}.\")\n",
    "\n",
    "visualise_ites(np.array(ites), machine = machine, intervention = TREATMENT, target = OUTCOME)"
   ]
  },
  {
   "cell_type": "code",
   "execution_count": 152,
   "id": "83f220f6",
   "metadata": {},
   "outputs": [
    {
     "name": "stdout",
     "output_type": "stream",
     "text": [
      "ATE_est = 2.1337361335754395 - 2.17543363571167 = -0.04169757291674614.\n",
      "ATE -0.04169757291674614\n"
     ]
    },
    {
     "data": {
      "image/png": "[encoded data removed]",
      "text/plain": [
       "<Figure size 864x432 with 1 Axes>"
      ]
     },
     "metadata": {},
     "output_type": "display_data"
    }
   ],
   "source": [
    "# isolate and disconnect predicted values\n",
    "y_c_predt1 = model.forward_treated(x_test_c).cpu().detach().numpy()\n",
    "\n",
    "# isolate and disconnect predicted values\n",
    "y_c_predt0 = model.forward_control(x_test_c).cpu().detach().numpy() \n",
    "\n",
    "# compute the ites and sort\n",
    "ites = y_c_predt1 - y_c_predt0\n",
    "ites = [i[0] for i in ites]\n",
    "ites = sorted(list(ites))\n",
    "\n",
    "ate_model_est = np.mean(y_c_predt1 - y_c_predt0)\n",
    "\n",
    "print(f\"ATE_est = {np.mean(y_c_predt1)} - {np.mean(y_c_predt0)} = {ate_model_est}.\")\n",
    "\n",
    "visualise_ites(np.array(ites), machine = machine, intervention = TREATMENT, target = OUTCOME)"
   ]
  },
  {
   "cell_type": "markdown",
   "id": "f7d0f027",
   "metadata": {},
   "source": [
    "### 4.e Variable Importances"
   ]
  },
  {
   "cell_type": "code",
   "execution_count": 153,
   "id": "a8cde8d1",
   "metadata": {
    "scrolled": false
   },
   "outputs": [
    {
     "name": "stdout",
     "output_type": "stream",
     "text": [
      "0.35123858\n",
      "Feature importances:\n"
     ]
    },
    {
     "data": {
      "text/html": [
       "<div>\n",
       "<style scoped>\n",
       "    .dataframe tbody tr th:only-of-type {\n",
       "        vertical-align: middle;\n",
       "    }\n",
       "\n",
       "    .dataframe tbody tr th {\n",
       "        vertical-align: top;\n",
       "    }\n",
       "\n",
       "    .dataframe thead th {\n",
       "        text-align: right;\n",
       "    }\n",
       "</style>\n",
       "<table border=\"1\" class=\"dataframe\">\n",
       "  <thead>\n",
       "    <tr style=\"text-align: right;\">\n",
       "      <th></th>\n",
       "      <th>icodes</th>\n",
       "      <th>meanings</th>\n",
       "      <th>importance_values</th>\n",
       "    </tr>\n",
       "  </thead>\n",
       "  <tbody>\n",
       "    <tr>\n",
       "      <th>0</th>\n",
       "      <td>treatment</td>\n",
       "      <td>treatment not found</td>\n",
       "      <td>-10.248621</td>\n",
       "    </tr>\n",
       "    <tr>\n",
       "      <th>1</th>\n",
       "      <td>if5a.cat</td>\n",
       "      <td>if5a.cat not found</td>\n",
       "      <td>-9.905164</td>\n",
       "    </tr>\n",
       "    <tr>\n",
       "      <th>2</th>\n",
       "      <td>ps</td>\n",
       "      <td>ps not found</td>\n",
       "      <td>-0.379670</td>\n",
       "    </tr>\n",
       "    <tr>\n",
       "      <th>3</th>\n",
       "      <td>ii1m.cat</td>\n",
       "      <td>ii1m.cat not found</td>\n",
       "      <td>-0.369834</td>\n",
       "    </tr>\n",
       "    <tr>\n",
       "      <th>4</th>\n",
       "      <td>ii1l.cat</td>\n",
       "      <td>ii1l.cat not found</td>\n",
       "      <td>-0.365180</td>\n",
       "    </tr>\n",
       "    <tr>\n",
       "      <th>5</th>\n",
       "      <td>sage_cat</td>\n",
       "      <td>Age structure</td>\n",
       "      <td>-0.363515</td>\n",
       "    </tr>\n",
       "    <tr>\n",
       "      <th>6</th>\n",
       "      <td>if1d</td>\n",
       "      <td>Loneliness: indicates feelings of loneliness</td>\n",
       "      <td>-0.360418</td>\n",
       "    </tr>\n",
       "    <tr>\n",
       "      <th>7</th>\n",
       "      <td>outcomet0</td>\n",
       "      <td>OutcomeT0 not found</td>\n",
       "      <td>-0.360272</td>\n",
       "    </tr>\n",
       "    <tr>\n",
       "      <th>8</th>\n",
       "      <td>in3fc</td>\n",
       "      <td>Occupational therapy in minutes in last week</td>\n",
       "      <td>-0.359524</td>\n",
       "    </tr>\n",
       "    <tr>\n",
       "      <th>9</th>\n",
       "      <td>ie1f</td>\n",
       "      <td>Sad, pained, or worried facial expressions</td>\n",
       "      <td>-0.359352</td>\n",
       "    </tr>\n",
       "    <tr>\n",
       "      <th>10</th>\n",
       "      <td>ie1d</td>\n",
       "      <td>Repetitive health complaints</td>\n",
       "      <td>-0.359174</td>\n",
       "    </tr>\n",
       "    <tr>\n",
       "      <th>11</th>\n",
       "      <td>ie1e</td>\n",
       "      <td>Repetitive anxious complaints or concerns (non...</td>\n",
       "      <td>-0.355674</td>\n",
       "    </tr>\n",
       "    <tr>\n",
       "      <th>12</th>\n",
       "      <td>ib5c</td>\n",
       "      <td>ib5c not found</td>\n",
       "      <td>-0.355574</td>\n",
       "    </tr>\n",
       "    <tr>\n",
       "      <th>13</th>\n",
       "      <td>ij8a.cat</td>\n",
       "      <td>ij8a.cat not found</td>\n",
       "      <td>-0.355139</td>\n",
       "    </tr>\n",
       "    <tr>\n",
       "      <th>14</th>\n",
       "      <td>ie1b</td>\n",
       "      <td>Persistent anger with self or others</td>\n",
       "      <td>-0.354184</td>\n",
       "    </tr>\n",
       "    <tr>\n",
       "      <th>15</th>\n",
       "      <td>ii1s.cat</td>\n",
       "      <td>ii1s.cat not found</td>\n",
       "      <td>-0.353704</td>\n",
       "    </tr>\n",
       "    <tr>\n",
       "      <th>16</th>\n",
       "      <td>ig8a2</td>\n",
       "      <td>iG8a2 not found</td>\n",
       "      <td>-0.353698</td>\n",
       "    </tr>\n",
       "    <tr>\n",
       "      <th>17</th>\n",
       "      <td>ig2h</td>\n",
       "      <td>ADL: Toilet use</td>\n",
       "      <td>-0.353485</td>\n",
       "    </tr>\n",
       "    <tr>\n",
       "      <th>18</th>\n",
       "      <td>ie1g</td>\n",
       "      <td>Crying, tearfulness</td>\n",
       "      <td>-0.353358</td>\n",
       "    </tr>\n",
       "    <tr>\n",
       "      <th>19</th>\n",
       "      <td>ib5e</td>\n",
       "      <td>5 Year History-Mental health residence psychia...</td>\n",
       "      <td>-0.353348</td>\n",
       "    </tr>\n",
       "    <tr>\n",
       "      <th>20</th>\n",
       "      <td>ii1c.cat</td>\n",
       "      <td>catagories of Alzheimers disease, 0= not prese...</td>\n",
       "      <td>-0.353301</td>\n",
       "    </tr>\n",
       "    <tr>\n",
       "      <th>21</th>\n",
       "      <td>id4a</td>\n",
       "      <td>Ability to see in adequate light (with glasses...</td>\n",
       "      <td>-0.352803</td>\n",
       "    </tr>\n",
       "    <tr>\n",
       "      <th>22</th>\n",
       "      <td>ig2b</td>\n",
       "      <td>ADL: Personal hygiene</td>\n",
       "      <td>-0.352802</td>\n",
       "    </tr>\n",
       "    <tr>\n",
       "      <th>23</th>\n",
       "      <td>if5e.cat</td>\n",
       "      <td>if5e.cat not found</td>\n",
       "      <td>-0.352762</td>\n",
       "    </tr>\n",
       "    <tr>\n",
       "      <th>24</th>\n",
       "      <td>if5d.cat</td>\n",
       "      <td>if5d.cat not found</td>\n",
       "      <td>-0.352574</td>\n",
       "    </tr>\n",
       "    <tr>\n",
       "      <th>25</th>\n",
       "      <td>ig2f</td>\n",
       "      <td>ADL: Locomotion</td>\n",
       "      <td>-0.352564</td>\n",
       "    </tr>\n",
       "    <tr>\n",
       "      <th>26</th>\n",
       "      <td>ig6a</td>\n",
       "      <td>Total hours of exercise or physical activity i...</td>\n",
       "      <td>-0.352552</td>\n",
       "    </tr>\n",
       "    <tr>\n",
       "      <th>27</th>\n",
       "      <td>if1c.cat</td>\n",
       "      <td>if1c.cat not found</td>\n",
       "      <td>-0.352536</td>\n",
       "    </tr>\n",
       "    <tr>\n",
       "      <th>28</th>\n",
       "      <td>ie1k.cat</td>\n",
       "      <td>ie1k.cat not found</td>\n",
       "      <td>-0.352337</td>\n",
       "    </tr>\n",
       "    <tr>\n",
       "      <th>29</th>\n",
       "      <td>ii1t.cat</td>\n",
       "      <td>ii1t.cat not found</td>\n",
       "      <td>-0.352331</td>\n",
       "    </tr>\n",
       "    <tr>\n",
       "      <th>30</th>\n",
       "      <td>ii1k.cat</td>\n",
       "      <td>catagories of Coronary heart disease,0= not pr...</td>\n",
       "      <td>-0.352301</td>\n",
       "    </tr>\n",
       "    <tr>\n",
       "      <th>31</th>\n",
       "      <td>ii1d.cat</td>\n",
       "      <td>catagories of Dementia other than Alzheimers d...</td>\n",
       "      <td>-0.352210</td>\n",
       "    </tr>\n",
       "    <tr>\n",
       "      <th>32</th>\n",
       "      <td>ie1a</td>\n",
       "      <td>Made negative statements</td>\n",
       "      <td>-0.352061</td>\n",
       "    </tr>\n",
       "    <tr>\n",
       "      <th>33</th>\n",
       "      <td>ig2j</td>\n",
       "      <td>ADL: Eating</td>\n",
       "      <td>-0.351827</td>\n",
       "    </tr>\n",
       "    <tr>\n",
       "      <th>34</th>\n",
       "      <td>if5c.cat</td>\n",
       "      <td>if5c.cat not found</td>\n",
       "      <td>-0.351565</td>\n",
       "    </tr>\n",
       "    <tr>\n",
       "      <th>35</th>\n",
       "      <td>ij8b.cat</td>\n",
       "      <td>ij8b.cat not found</td>\n",
       "      <td>-0.351561</td>\n",
       "    </tr>\n",
       "    <tr>\n",
       "      <th>36</th>\n",
       "      <td>ii1o.cat</td>\n",
       "      <td>catagories of Depression, 0= not present, else= 1</td>\n",
       "      <td>-0.351454</td>\n",
       "    </tr>\n",
       "    <tr>\n",
       "      <th>37</th>\n",
       "      <td>if5b.cat</td>\n",
       "      <td>if5b.cat not found</td>\n",
       "      <td>-0.351367</td>\n",
       "    </tr>\n",
       "    <tr>\n",
       "      <th>38</th>\n",
       "      <td>ia2</td>\n",
       "      <td>Gender</td>\n",
       "      <td>-0.351336</td>\n",
       "    </tr>\n",
       "    <tr>\n",
       "      <th>39</th>\n",
       "      <td>ie1c</td>\n",
       "      <td>Expressions, including nonverbal, of what appe...</td>\n",
       "      <td>-0.351296</td>\n",
       "    </tr>\n",
       "    <tr>\n",
       "      <th>40</th>\n",
       "      <td>ia12a</td>\n",
       "      <td>Living arrangement</td>\n",
       "      <td>-0.351116</td>\n",
       "    </tr>\n",
       "    <tr>\n",
       "      <th>41</th>\n",
       "      <td>ia4.cat</td>\n",
       "      <td>catagories of Marital Status, 1 = 2 or 3= (Mar...</td>\n",
       "      <td>-0.351047</td>\n",
       "    </tr>\n",
       "    <tr>\n",
       "      <th>42</th>\n",
       "      <td>ii1j.cat</td>\n",
       "      <td>ii1j.cat not found</td>\n",
       "      <td>-0.350596</td>\n",
       "    </tr>\n",
       "    <tr>\n",
       "      <th>43</th>\n",
       "      <td>id3a</td>\n",
       "      <td>Hearing: ability to hear (with hearing applian...</td>\n",
       "      <td>-0.349669</td>\n",
       "    </tr>\n",
       "  </tbody>\n",
       "</table>\n",
       "</div>"
      ],
      "text/plain": [
       "       icodes                                           meanings  \\\n",
       "0   treatment                                treatment not found   \n",
       "1    if5a.cat                                 if5a.cat not found   \n",
       "2          ps                                       ps not found   \n",
       "3    ii1m.cat                                 ii1m.cat not found   \n",
       "4    ii1l.cat                                 ii1l.cat not found   \n",
       "5    sage_cat                                      Age structure   \n",
       "6        if1d       Loneliness: indicates feelings of loneliness   \n",
       "7   outcomet0                                OutcomeT0 not found   \n",
       "8       in3fc       Occupational therapy in minutes in last week   \n",
       "9        ie1f         Sad, pained, or worried facial expressions   \n",
       "10       ie1d                       Repetitive health complaints   \n",
       "11       ie1e  Repetitive anxious complaints or concerns (non...   \n",
       "12       ib5c                                     ib5c not found   \n",
       "13   ij8a.cat                                 ij8a.cat not found   \n",
       "14       ie1b               Persistent anger with self or others   \n",
       "15   ii1s.cat                                 ii1s.cat not found   \n",
       "16      ig8a2                                    iG8a2 not found   \n",
       "17       ig2h                                    ADL: Toilet use   \n",
       "18       ie1g                                Crying, tearfulness   \n",
       "19       ib5e  5 Year History-Mental health residence psychia...   \n",
       "20   ii1c.cat  catagories of Alzheimers disease, 0= not prese...   \n",
       "21       id4a  Ability to see in adequate light (with glasses...   \n",
       "22       ig2b                              ADL: Personal hygiene   \n",
       "23   if5e.cat                                 if5e.cat not found   \n",
       "24   if5d.cat                                 if5d.cat not found   \n",
       "25       ig2f                                    ADL: Locomotion   \n",
       "26       ig6a  Total hours of exercise or physical activity i...   \n",
       "27   if1c.cat                                 if1c.cat not found   \n",
       "28   ie1k.cat                                 ie1k.cat not found   \n",
       "29   ii1t.cat                                 ii1t.cat not found   \n",
       "30   ii1k.cat  catagories of Coronary heart disease,0= not pr...   \n",
       "31   ii1d.cat  catagories of Dementia other than Alzheimers d...   \n",
       "32       ie1a                           Made negative statements   \n",
       "33       ig2j                                        ADL: Eating   \n",
       "34   if5c.cat                                 if5c.cat not found   \n",
       "35   ij8b.cat                                 ij8b.cat not found   \n",
       "36   ii1o.cat  catagories of Depression, 0= not present, else= 1   \n",
       "37   if5b.cat                                 if5b.cat not found   \n",
       "38        ia2                                             Gender   \n",
       "39       ie1c  Expressions, including nonverbal, of what appe...   \n",
       "40      ia12a                                 Living arrangement   \n",
       "41    ia4.cat  catagories of Marital Status, 1 = 2 or 3= (Mar...   \n",
       "42   ii1j.cat                                 ii1j.cat not found   \n",
       "43       id3a  Hearing: ability to hear (with hearing applian...   \n",
       "\n",
       "    importance_values  \n",
       "0          -10.248621  \n",
       "1           -9.905164  \n",
       "2           -0.379670  \n",
       "3           -0.369834  \n",
       "4           -0.365180  \n",
       "5           -0.363515  \n",
       "6           -0.360418  \n",
       "7           -0.360272  \n",
       "8           -0.359524  \n",
       "9           -0.359352  \n",
       "10          -0.359174  \n",
       "11          -0.355674  \n",
       "12          -0.355574  \n",
       "13          -0.355139  \n",
       "14          -0.354184  \n",
       "15          -0.353704  \n",
       "16          -0.353698  \n",
       "17          -0.353485  \n",
       "18          -0.353358  \n",
       "19          -0.353348  \n",
       "20          -0.353301  \n",
       "21          -0.352803  \n",
       "22          -0.352802  \n",
       "23          -0.352762  \n",
       "24          -0.352574  \n",
       "25          -0.352564  \n",
       "26          -0.352552  \n",
       "27          -0.352536  \n",
       "28          -0.352337  \n",
       "29          -0.352331  \n",
       "30          -0.352301  \n",
       "31          -0.352210  \n",
       "32          -0.352061  \n",
       "33          -0.351827  \n",
       "34          -0.351565  \n",
       "35          -0.351561  \n",
       "36          -0.351454  \n",
       "37          -0.351367  \n",
       "38          -0.351336  \n",
       "39          -0.351296  \n",
       "40          -0.351116  \n",
       "41          -0.351047  \n",
       "42          -0.350596  \n",
       "43          -0.349669  "
      ]
     },
     "execution_count": 153,
     "metadata": {},
     "output_type": "execute_result"
    }
   ],
   "source": [
    "np.random.seed(42)\n",
    "\n",
    "# Calculate the baseline performance\n",
    "model.eval()  # Set the model to evaluation mode\n",
    "with torch.no_grad():  # Ensure no gradients are computed\n",
    "    output_t, output_c, _ = model(x)\n",
    "baseline_performance = mean_squared_error(output_t, y_t)\n",
    "print(baseline_performance)\n",
    "\n",
    "# Initialize a list to hold the feature importances\n",
    "feature_importances = []\n",
    "icodes = []\n",
    "meanings = []\n",
    "rank = []\n",
    "\n",
    "collist = X_train.columns\n",
    "\n",
    "# Calculate the importance for each feature\n",
    "for i in range(x.shape[1]):  # Iterate over each feature\n",
    "    # Save the original feature\n",
    "    original_feature = x[:, i].clone()\n",
    "    # Permute the feature\n",
    "    permuted_feature = original_feature[torch.randperm(original_feature.size(0))]\n",
    "    x[:, i] = permuted_feature\n",
    "    \n",
    "    # Calculate performance with the permuted data\n",
    "    with torch.no_grad():\n",
    "        output_t, output_c, _ = model(x)\n",
    "        \n",
    "    permuted_performance_t = mean_squared_error(output_t, y_t)\n",
    "    permuted_performance_c = mean_squared_error(output_c, y_c)\n",
    "    \n",
    "    permuted_performance = permuted_performance_t + permuted_performance_t\n",
    "    \n",
    "    # Calculate the importance as the change in performance\n",
    "    importance = baseline_performance - permuted_performance\n",
    "    feature_importances.append(importance)\n",
    "    \n",
    "    # Restore the original feature\n",
    "    x[:, i] = original_feature\n",
    "    \n",
    "# Rank the features by their importance\n",
    "sorted_features = np.argsort(feature_importances)[::-1]  # Indices of features, sorted by importance\n",
    "\n",
    "# Print the feature importances\n",
    "print(\"Feature importances:\")\n",
    "for i, feature_index in enumerate(sorted_features):\n",
    "    #print(f\"Feature {feature_index}: Importance {feature_importances[feature_index]}\")\n",
    "    icode = collist[feature_index]\n",
    "    icodes.append(icode.lower())\n",
    "    \n",
    "    try:\n",
    "        item = encoding[icode.lower()]\n",
    "        #print(item)\n",
    "        meanings.append(item)\n",
    "    except KeyError:\n",
    "        #print(f'{icode} not found')\n",
    "        meanings.append(f'{icode} not found')\n",
    "    #print(\"==================================================\")\n",
    "    \n",
    "rankings = pd.DataFrame(icodes, columns = ['icodes'])\n",
    "rankings['meanings'] = meanings\n",
    "rankings['importance_values'] = feature_importances\n",
    "\n",
    "rankings = rankings.sort_values(by = 'importance_values')\n",
    "rankings = rankings.reset_index().drop(columns = 'index')\n",
    "rankings"
   ]
  },
  {
   "cell_type": "markdown",
   "id": "c6ab57c9",
   "metadata": {},
   "source": [
    "## Save Model"
   ]
  },
  {
   "cell_type": "code",
   "execution_count": 154,
   "id": "3e48471f",
   "metadata": {},
   "outputs": [
    {
     "data": {
      "text/plain": [
       "TARnetICFR(\n",
       "  (phi): Sequential(\n",
       "    (0): Linear(in_features=44, out_features=128, bias=True)\n",
       "    (1): ELU(alpha=1.0)\n",
       "    (2): Linear(in_features=128, out_features=128, bias=True)\n",
       "    (3): ELU(alpha=1.0)\n",
       "    (4): Dropout(p=0.5, inplace=False)\n",
       "    (5): Linear(in_features=128, out_features=128, bias=True)\n",
       "    (6): ELU(alpha=1.0)\n",
       "    (7): Linear(in_features=128, out_features=128, bias=True)\n",
       "    (8): ELU(alpha=1.0)\n",
       "  )\n",
       "  (y0_hidden): Sequential(\n",
       "    (0): Linear(in_features=128, out_features=128, bias=True)\n",
       "    (1): ELU(alpha=1.0)\n",
       "    (2): Linear(in_features=128, out_features=128, bias=True)\n",
       "    (3): ELU(alpha=1.0)\n",
       "    (4): Linear(in_features=128, out_features=128, bias=True)\n",
       "    (5): ELU(alpha=1.0)\n",
       "    (6): Linear(in_features=128, out_features=128, bias=True)\n",
       "    (7): ELU(alpha=1.0)\n",
       "    (8): Linear(in_features=128, out_features=128, bias=True)\n",
       "    (9): ELU(alpha=1.0)\n",
       "    (10): Linear(in_features=128, out_features=1, bias=True)\n",
       "  )\n",
       "  (y1_hidden): Sequential(\n",
       "    (0): Linear(in_features=128, out_features=128, bias=True)\n",
       "    (1): ELU(alpha=1.0)\n",
       "    (2): Linear(in_features=128, out_features=128, bias=True)\n",
       "    (3): ELU(alpha=1.0)\n",
       "    (4): Dropout(p=0.5, inplace=False)\n",
       "    (5): Linear(in_features=128, out_features=128, bias=True)\n",
       "    (6): ELU(alpha=1.0)\n",
       "    (7): Linear(in_features=128, out_features=128, bias=True)\n",
       "    (8): ELU(alpha=1.0)\n",
       "    (9): Linear(in_features=128, out_features=128, bias=True)\n",
       "    (10): ELU(alpha=1.0)\n",
       "    (11): Linear(in_features=128, out_features=1, bias=True)\n",
       "  )\n",
       ")"
      ]
     },
     "execution_count": 154,
     "metadata": {},
     "output_type": "execute_result"
    }
   ],
   "source": [
    "model"
   ]
  },
  {
   "cell_type": "code",
   "execution_count": 155,
   "id": "3d0daa7a",
   "metadata": {},
   "outputs": [],
   "source": [
    "model = model\n",
    "location = 'storage'"
   ]
  },
  {
   "cell_type": "code",
   "execution_count": 156,
   "id": "3d01c68a",
   "metadata": {},
   "outputs": [],
   "source": [
    "# save model\n",
    "with open(f'storage/model_{TREATMENT}-{OUTCOME}.pkl', 'wb') as f:\n",
    "    pickle.dump(model, f)"
   ]
  },
  {
   "cell_type": "code",
   "execution_count": 157,
   "id": "361bc1a7",
   "metadata": {},
   "outputs": [],
   "source": [
    "# load model\n",
    "with open(f'storage/model_{TREATMENT}-{OUTCOME}.pkl', 'rb') as b:\n",
    "    loaded_model = pickle.load(b)"
   ]
  },
  {
   "cell_type": "code",
   "execution_count": 158,
   "id": "d1b9ab86",
   "metadata": {},
   "outputs": [
    {
     "data": {
      "text/plain": [
       "TARnetICFR(\n",
       "  (phi): Sequential(\n",
       "    (0): Linear(in_features=44, out_features=128, bias=True)\n",
       "    (1): ELU(alpha=1.0)\n",
       "    (2): Linear(in_features=128, out_features=128, bias=True)\n",
       "    (3): ELU(alpha=1.0)\n",
       "    (4): Dropout(p=0.5, inplace=False)\n",
       "    (5): Linear(in_features=128, out_features=128, bias=True)\n",
       "    (6): ELU(alpha=1.0)\n",
       "    (7): Linear(in_features=128, out_features=128, bias=True)\n",
       "    (8): ELU(alpha=1.0)\n",
       "  )\n",
       "  (y0_hidden): Sequential(\n",
       "    (0): Linear(in_features=128, out_features=128, bias=True)\n",
       "    (1): ELU(alpha=1.0)\n",
       "    (2): Linear(in_features=128, out_features=128, bias=True)\n",
       "    (3): ELU(alpha=1.0)\n",
       "    (4): Linear(in_features=128, out_features=128, bias=True)\n",
       "    (5): ELU(alpha=1.0)\n",
       "    (6): Linear(in_features=128, out_features=128, bias=True)\n",
       "    (7): ELU(alpha=1.0)\n",
       "    (8): Linear(in_features=128, out_features=128, bias=True)\n",
       "    (9): ELU(alpha=1.0)\n",
       "    (10): Linear(in_features=128, out_features=1, bias=True)\n",
       "  )\n",
       "  (y1_hidden): Sequential(\n",
       "    (0): Linear(in_features=128, out_features=128, bias=True)\n",
       "    (1): ELU(alpha=1.0)\n",
       "    (2): Linear(in_features=128, out_features=128, bias=True)\n",
       "    (3): ELU(alpha=1.0)\n",
       "    (4): Dropout(p=0.5, inplace=False)\n",
       "    (5): Linear(in_features=128, out_features=128, bias=True)\n",
       "    (6): ELU(alpha=1.0)\n",
       "    (7): Linear(in_features=128, out_features=128, bias=True)\n",
       "    (8): ELU(alpha=1.0)\n",
       "    (9): Linear(in_features=128, out_features=128, bias=True)\n",
       "    (10): ELU(alpha=1.0)\n",
       "    (11): Linear(in_features=128, out_features=1, bias=True)\n",
       "  )\n",
       ")"
      ]
     },
     "execution_count": 158,
     "metadata": {},
     "output_type": "execute_result"
    }
   ],
   "source": [
    "loaded_model"
   ]
  },
  {
   "cell_type": "code",
   "execution_count": null,
   "id": "db6285d7",
   "metadata": {},
   "outputs": [],
   "source": []
  }
 ],
 "metadata": {
  "kernelspec": {
   "display_name": "Python 3 (ipykernel)",
   "language": "python",
   "name": "python3"
  },
  "language_info": {
   "codemirror_mode": {
    "name": "ipython",
    "version": 3
   },
   "file_extension": ".py",
   "mimetype": "text/x-python",
   "name": "python",
   "nbconvert_exporter": "python",
   "pygments_lexer": "ipython3",
   "version": "3.9.7"
  }
 },
 "nbformat": 4,
 "nbformat_minor": 5
}
